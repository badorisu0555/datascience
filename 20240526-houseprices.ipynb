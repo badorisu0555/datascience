{
 "cells": [
  {
   "cell_type": "code",
   "execution_count": 1,
   "id": "93a577c6",
   "metadata": {
    "_cell_guid": "b1076dfc-b9ad-4769-8c92-a6c4dae69d19",
    "_uuid": "8f2839f25d086af736a60e9eeb907d3b93b6e0e5",
    "execution": {
     "iopub.execute_input": "2024-05-27T07:22:57.099505Z",
     "iopub.status.busy": "2024-05-27T07:22:57.098765Z",
     "iopub.status.idle": "2024-05-27T07:22:59.137862Z",
     "shell.execute_reply": "2024-05-27T07:22:59.137011Z"
    },
    "papermill": {
     "duration": 2.0525,
     "end_time": "2024-05-27T07:22:59.140200",
     "exception": false,
     "start_time": "2024-05-27T07:22:57.087700",
     "status": "completed"
    },
    "tags": []
   },
   "outputs": [
    {
     "name": "stdout",
     "output_type": "stream",
     "text": [
      "df_train.shape: (1460, 81)\n"
     ]
    },
    {
     "data": {
      "text/html": [
       "<div>\n",
       "<style scoped>\n",
       "    .dataframe tbody tr th:only-of-type {\n",
       "        vertical-align: middle;\n",
       "    }\n",
       "\n",
       "    .dataframe tbody tr th {\n",
       "        vertical-align: top;\n",
       "    }\n",
       "\n",
       "    .dataframe thead th {\n",
       "        text-align: right;\n",
       "    }\n",
       "</style>\n",
       "<table border=\"1\" class=\"dataframe\">\n",
       "  <thead>\n",
       "    <tr style=\"text-align: right;\">\n",
       "      <th></th>\n",
       "      <th>Id</th>\n",
       "      <th>MSSubClass</th>\n",
       "      <th>MSZoning</th>\n",
       "      <th>LotFrontage</th>\n",
       "      <th>LotArea</th>\n",
       "      <th>Street</th>\n",
       "      <th>Alley</th>\n",
       "      <th>LotShape</th>\n",
       "      <th>LandContour</th>\n",
       "      <th>Utilities</th>\n",
       "      <th>...</th>\n",
       "      <th>PoolArea</th>\n",
       "      <th>PoolQC</th>\n",
       "      <th>Fence</th>\n",
       "      <th>MiscFeature</th>\n",
       "      <th>MiscVal</th>\n",
       "      <th>MoSold</th>\n",
       "      <th>YrSold</th>\n",
       "      <th>SaleType</th>\n",
       "      <th>SaleCondition</th>\n",
       "      <th>SalePrice</th>\n",
       "    </tr>\n",
       "  </thead>\n",
       "  <tbody>\n",
       "    <tr>\n",
       "      <th>0</th>\n",
       "      <td>1</td>\n",
       "      <td>60</td>\n",
       "      <td>RL</td>\n",
       "      <td>65.0</td>\n",
       "      <td>8450</td>\n",
       "      <td>Pave</td>\n",
       "      <td>NaN</td>\n",
       "      <td>Reg</td>\n",
       "      <td>Lvl</td>\n",
       "      <td>AllPub</td>\n",
       "      <td>...</td>\n",
       "      <td>0</td>\n",
       "      <td>NaN</td>\n",
       "      <td>NaN</td>\n",
       "      <td>NaN</td>\n",
       "      <td>0</td>\n",
       "      <td>2</td>\n",
       "      <td>2008</td>\n",
       "      <td>WD</td>\n",
       "      <td>Normal</td>\n",
       "      <td>208500</td>\n",
       "    </tr>\n",
       "    <tr>\n",
       "      <th>1</th>\n",
       "      <td>2</td>\n",
       "      <td>20</td>\n",
       "      <td>RL</td>\n",
       "      <td>80.0</td>\n",
       "      <td>9600</td>\n",
       "      <td>Pave</td>\n",
       "      <td>NaN</td>\n",
       "      <td>Reg</td>\n",
       "      <td>Lvl</td>\n",
       "      <td>AllPub</td>\n",
       "      <td>...</td>\n",
       "      <td>0</td>\n",
       "      <td>NaN</td>\n",
       "      <td>NaN</td>\n",
       "      <td>NaN</td>\n",
       "      <td>0</td>\n",
       "      <td>5</td>\n",
       "      <td>2007</td>\n",
       "      <td>WD</td>\n",
       "      <td>Normal</td>\n",
       "      <td>181500</td>\n",
       "    </tr>\n",
       "    <tr>\n",
       "      <th>2</th>\n",
       "      <td>3</td>\n",
       "      <td>60</td>\n",
       "      <td>RL</td>\n",
       "      <td>68.0</td>\n",
       "      <td>11250</td>\n",
       "      <td>Pave</td>\n",
       "      <td>NaN</td>\n",
       "      <td>IR1</td>\n",
       "      <td>Lvl</td>\n",
       "      <td>AllPub</td>\n",
       "      <td>...</td>\n",
       "      <td>0</td>\n",
       "      <td>NaN</td>\n",
       "      <td>NaN</td>\n",
       "      <td>NaN</td>\n",
       "      <td>0</td>\n",
       "      <td>9</td>\n",
       "      <td>2008</td>\n",
       "      <td>WD</td>\n",
       "      <td>Normal</td>\n",
       "      <td>223500</td>\n",
       "    </tr>\n",
       "  </tbody>\n",
       "</table>\n",
       "<p>3 rows × 81 columns</p>\n",
       "</div>"
      ],
      "text/plain": [
       "   Id  MSSubClass MSZoning  LotFrontage  LotArea Street Alley LotShape  \\\n",
       "0   1          60       RL         65.0     8450   Pave   NaN      Reg   \n",
       "1   2          20       RL         80.0     9600   Pave   NaN      Reg   \n",
       "2   3          60       RL         68.0    11250   Pave   NaN      IR1   \n",
       "\n",
       "  LandContour Utilities  ... PoolArea PoolQC Fence MiscFeature MiscVal MoSold  \\\n",
       "0         Lvl    AllPub  ...        0    NaN   NaN         NaN       0      2   \n",
       "1         Lvl    AllPub  ...        0    NaN   NaN         NaN       0      5   \n",
       "2         Lvl    AllPub  ...        0    NaN   NaN         NaN       0      9   \n",
       "\n",
       "  YrSold  SaleType  SaleCondition  SalePrice  \n",
       "0   2008        WD         Normal     208500  \n",
       "1   2007        WD         Normal     181500  \n",
       "2   2008        WD         Normal     223500  \n",
       "\n",
       "[3 rows x 81 columns]"
      ]
     },
     "metadata": {},
     "output_type": "display_data"
    },
    {
     "name": "stdout",
     "output_type": "stream",
     "text": [
      "df_test.shape: (1459, 80)\n"
     ]
    },
    {
     "data": {
      "text/html": [
       "<div>\n",
       "<style scoped>\n",
       "    .dataframe tbody tr th:only-of-type {\n",
       "        vertical-align: middle;\n",
       "    }\n",
       "\n",
       "    .dataframe tbody tr th {\n",
       "        vertical-align: top;\n",
       "    }\n",
       "\n",
       "    .dataframe thead th {\n",
       "        text-align: right;\n",
       "    }\n",
       "</style>\n",
       "<table border=\"1\" class=\"dataframe\">\n",
       "  <thead>\n",
       "    <tr style=\"text-align: right;\">\n",
       "      <th></th>\n",
       "      <th>Id</th>\n",
       "      <th>MSSubClass</th>\n",
       "      <th>MSZoning</th>\n",
       "      <th>LotFrontage</th>\n",
       "      <th>LotArea</th>\n",
       "      <th>Street</th>\n",
       "      <th>Alley</th>\n",
       "      <th>LotShape</th>\n",
       "      <th>LandContour</th>\n",
       "      <th>Utilities</th>\n",
       "      <th>...</th>\n",
       "      <th>ScreenPorch</th>\n",
       "      <th>PoolArea</th>\n",
       "      <th>PoolQC</th>\n",
       "      <th>Fence</th>\n",
       "      <th>MiscFeature</th>\n",
       "      <th>MiscVal</th>\n",
       "      <th>MoSold</th>\n",
       "      <th>YrSold</th>\n",
       "      <th>SaleType</th>\n",
       "      <th>SaleCondition</th>\n",
       "    </tr>\n",
       "  </thead>\n",
       "  <tbody>\n",
       "    <tr>\n",
       "      <th>0</th>\n",
       "      <td>1461</td>\n",
       "      <td>20</td>\n",
       "      <td>RH</td>\n",
       "      <td>80.0</td>\n",
       "      <td>11622</td>\n",
       "      <td>Pave</td>\n",
       "      <td>NaN</td>\n",
       "      <td>Reg</td>\n",
       "      <td>Lvl</td>\n",
       "      <td>AllPub</td>\n",
       "      <td>...</td>\n",
       "      <td>120</td>\n",
       "      <td>0</td>\n",
       "      <td>NaN</td>\n",
       "      <td>MnPrv</td>\n",
       "      <td>NaN</td>\n",
       "      <td>0</td>\n",
       "      <td>6</td>\n",
       "      <td>2010</td>\n",
       "      <td>WD</td>\n",
       "      <td>Normal</td>\n",
       "    </tr>\n",
       "    <tr>\n",
       "      <th>1</th>\n",
       "      <td>1462</td>\n",
       "      <td>20</td>\n",
       "      <td>RL</td>\n",
       "      <td>81.0</td>\n",
       "      <td>14267</td>\n",
       "      <td>Pave</td>\n",
       "      <td>NaN</td>\n",
       "      <td>IR1</td>\n",
       "      <td>Lvl</td>\n",
       "      <td>AllPub</td>\n",
       "      <td>...</td>\n",
       "      <td>0</td>\n",
       "      <td>0</td>\n",
       "      <td>NaN</td>\n",
       "      <td>NaN</td>\n",
       "      <td>Gar2</td>\n",
       "      <td>12500</td>\n",
       "      <td>6</td>\n",
       "      <td>2010</td>\n",
       "      <td>WD</td>\n",
       "      <td>Normal</td>\n",
       "    </tr>\n",
       "    <tr>\n",
       "      <th>2</th>\n",
       "      <td>1463</td>\n",
       "      <td>60</td>\n",
       "      <td>RL</td>\n",
       "      <td>74.0</td>\n",
       "      <td>13830</td>\n",
       "      <td>Pave</td>\n",
       "      <td>NaN</td>\n",
       "      <td>IR1</td>\n",
       "      <td>Lvl</td>\n",
       "      <td>AllPub</td>\n",
       "      <td>...</td>\n",
       "      <td>0</td>\n",
       "      <td>0</td>\n",
       "      <td>NaN</td>\n",
       "      <td>MnPrv</td>\n",
       "      <td>NaN</td>\n",
       "      <td>0</td>\n",
       "      <td>3</td>\n",
       "      <td>2010</td>\n",
       "      <td>WD</td>\n",
       "      <td>Normal</td>\n",
       "    </tr>\n",
       "  </tbody>\n",
       "</table>\n",
       "<p>3 rows × 80 columns</p>\n",
       "</div>"
      ],
      "text/plain": [
       "     Id  MSSubClass MSZoning  LotFrontage  LotArea Street Alley LotShape  \\\n",
       "0  1461          20       RH         80.0    11622   Pave   NaN      Reg   \n",
       "1  1462          20       RL         81.0    14267   Pave   NaN      IR1   \n",
       "2  1463          60       RL         74.0    13830   Pave   NaN      IR1   \n",
       "\n",
       "  LandContour Utilities  ... ScreenPorch PoolArea PoolQC  Fence MiscFeature  \\\n",
       "0         Lvl    AllPub  ...         120        0    NaN  MnPrv         NaN   \n",
       "1         Lvl    AllPub  ...           0        0    NaN    NaN        Gar2   \n",
       "2         Lvl    AllPub  ...           0        0    NaN  MnPrv         NaN   \n",
       "\n",
       "  MiscVal MoSold  YrSold  SaleType  SaleCondition  \n",
       "0       0      6    2010        WD         Normal  \n",
       "1   12500      6    2010        WD         Normal  \n",
       "2       0      3    2010        WD         Normal  \n",
       "\n",
       "[3 rows x 80 columns]"
      ]
     },
     "metadata": {},
     "output_type": "display_data"
    }
   ],
   "source": [
    "# 各ライブラリのインポート\n",
    "import numpy as np                # 数値計算ライブラリのnumpyをインポート\n",
    "import pandas as pd               # データ操作ライブラリのpandasをインポート\n",
    "import matplotlib.pyplot as plt   # データ可視化ライブラリのmatplotlibをインポート\n",
    "import seaborn as sns             # データ可視化ライブラリのseabornをインポート\n",
    "import warnings\n",
    "warnings.simplefilter('ignore')\n",
    "\n",
    "# 訓練データとテストデータの読み込み\n",
    "df_train = pd.read_csv('/kaggle/input/house-prices-advanced-regression-techniques/train.csv')  # 訓練データのCSVファイルを読み込み\n",
    "df_test = pd.read_csv('/kaggle/input/house-prices-advanced-regression-techniques/test.csv')   # テストデータのCSVファイルを読み込み\n",
    "\n",
    "# 訓練データのサイズを表示し、最初の3行を表示\n",
    "print(f'df_train.shape: {df_train.shape}')      # 訓練データの行数と列数を表示\n",
    "display(df_train.head(3))                      # 訓練データの最初の3行を表示\n",
    "\n",
    "# テストデータのサイズを表示し、最初の3行を表示\n",
    "print(f'df_test.shape: {df_test.shape}')        # テストデータの行数と列数を表示\n",
    "display(df_test.head(3))                       # テストデータの最初の3行を表示\n",
    "\n",
    "data_origin=pd.concat([df_train,df_test])\n",
    "data_origin.index = np.arange(1,2920)\n",
    "data = data_origin"
   ]
  },
  {
   "cell_type": "code",
   "execution_count": 2,
   "id": "8185ef71",
   "metadata": {
    "collapsed": true,
    "execution": {
     "iopub.execute_input": "2024-05-27T07:22:59.161509Z",
     "iopub.status.busy": "2024-05-27T07:22:59.160741Z",
     "iopub.status.idle": "2024-05-27T07:22:59.170248Z",
     "shell.execute_reply": "2024-05-27T07:22:59.169349Z"
    },
    "jupyter": {
     "outputs_hidden": true
    },
    "papermill": {
     "duration": 0.022296,
     "end_time": "2024-05-27T07:22:59.172366",
     "exception": false,
     "start_time": "2024-05-27T07:22:59.150070",
     "status": "completed"
    },
    "tags": []
   },
   "outputs": [
    {
     "data": {
      "text/plain": [
       "'\\nfrom scipy.stats import norm       # SciPyライブラリから確率分布用のnormモジュールをインポート\\nfrom scipy import stats           # SciPyライブラリから統計関連の機能を提供するstatsモジュールをインポート\\n\\n# 分析対象のデータを抽出して変数\"data\"に格納\\n# data変数を用いることにより、変数の入れ替えを楽にできます\\ndata = df_train[\\'SalePrice\\']       \\n\\n# 目的変数（SalePrice）の基本統計量を表示\\nprint(\\'-\\'*10, \\'describe\\', \\'-\\'*10)\\nprint(round(data.describe(), 1))\\n\\n# 目的変数の歪度と尖度を計算して表示\\nskewness = data.skew()\\nkurtosis = data.kurtosis()\\nprint(f\\'歪度 (Skewness): {skewness:.2f}\\')\\nprint(f\\'尖度 (Kurtosis): {kurtosis:.2f}\\')\\n#歪度の絶対値がおおよそ0.5を超える場合、データが正規分布から歪んでいる可能性がある。\\n\\n# 2つのサブプロットを持つ図を作成\\nfig, ax = plt.subplots(1, 2, figsize=(10, 4))\\n\\n# ヒストグラムと正規分布を表示するサブプロット\\nsns.histplot(data, stat=\\'density\\', kde=True, ax=ax[0])\\nax[0].set_title(\\'histgram-seiki\\')\\n#histplotはヒストグラムを作成するときに使用される。\\n#stat=\\'density\\'でグラフを密度関数に設定できる。つまり、x=0軸の間の面積の合計が「1」になる。\\n#kde=Trueとは、カーネル密度推定をヒストグラムに重ねて表示することを指定している。ここでは青線のこと。\\n#カーネル密度推定とは、正規分布か分からない数値に対して有限の標本店から全体の分布を推定する手法のこと。\\n#詳しくはこちら、https://club.informatix.co.jp/?p=1176\\n#ax=ax[0]で最初のサブプロットに設定をする\\n\\n# x軸のラベルの文字サイズを調整\\nax[0].tick_params(axis=\\'x\\', labelsize=8)\\n\\nxmin, xmax = ax[0].get_xlim()  # ax[0]の最大値と最小値を取得\\nx = np.linspace(xmin, xmax, 100) #xminからxmaxの間を100個に均等に分ける\\np = norm.pdf(x, np.mean(data), np.std(data)) #norm.pdfで正規分布の確率密度関数（PDF）を計算。平均と標準偏差を使用して正規分布を作成\\nax[0].plot(x, p, \\'k\\', linewidth=1)\\n\\n# 正規確率プロットを表示するサブプロット\\nres = stats.probplot(data, plot=ax[1]) #probplotとはデータの分布が正規分布に従っているかどうかを調べるプロット。プロットが一直線であれば正規分布に従うと考えられる。\\nax[1].set_title(\\'seiki-plot\\')\\n\\nplt.tight_layout()  # グラフのレイアウトを調整\\n\\n# グラフを表示\\nplt.show()\\n'"
      ]
     },
     "execution_count": 2,
     "metadata": {},
     "output_type": "execute_result"
    }
   ],
   "source": [
    "\"\"\"\n",
    "from scipy.stats import norm       # SciPyライブラリから確率分布用のnormモジュールをインポート\n",
    "from scipy import stats           # SciPyライブラリから統計関連の機能を提供するstatsモジュールをインポート\n",
    "\n",
    "# 分析対象のデータを抽出して変数\"data\"に格納\n",
    "# data変数を用いることにより、変数の入れ替えを楽にできます\n",
    "data = df_train['SalePrice']       \n",
    "\n",
    "# 目的変数（SalePrice）の基本統計量を表示\n",
    "print('-'*10, 'describe', '-'*10)\n",
    "print(round(data.describe(), 1))\n",
    "\n",
    "# 目的変数の歪度と尖度を計算して表示\n",
    "skewness = data.skew()\n",
    "kurtosis = data.kurtosis()\n",
    "print(f'歪度 (Skewness): {skewness:.2f}')\n",
    "print(f'尖度 (Kurtosis): {kurtosis:.2f}')\n",
    "#歪度の絶対値がおおよそ0.5を超える場合、データが正規分布から歪んでいる可能性がある。\n",
    "\n",
    "# 2つのサブプロットを持つ図を作成\n",
    "fig, ax = plt.subplots(1, 2, figsize=(10, 4))\n",
    "\n",
    "# ヒストグラムと正規分布を表示するサブプロット\n",
    "sns.histplot(data, stat='density', kde=True, ax=ax[0])\n",
    "ax[0].set_title('histgram-seiki')\n",
    "#histplotはヒストグラムを作成するときに使用される。\n",
    "#stat='density'でグラフを密度関数に設定できる。つまり、x=0軸の間の面積の合計が「1」になる。\n",
    "#kde=Trueとは、カーネル密度推定をヒストグラムに重ねて表示することを指定している。ここでは青線のこと。\n",
    "#カーネル密度推定とは、正規分布か分からない数値に対して有限の標本店から全体の分布を推定する手法のこと。\n",
    "#詳しくはこちら、https://club.informatix.co.jp/?p=1176\n",
    "#ax=ax[0]で最初のサブプロットに設定をする\n",
    "\n",
    "# x軸のラベルの文字サイズを調整\n",
    "ax[0].tick_params(axis='x', labelsize=8)\n",
    "\n",
    "xmin, xmax = ax[0].get_xlim()  # ax[0]の最大値と最小値を取得\n",
    "x = np.linspace(xmin, xmax, 100) #xminからxmaxの間を100個に均等に分ける\n",
    "p = norm.pdf(x, np.mean(data), np.std(data)) #norm.pdfで正規分布の確率密度関数（PDF）を計算。平均と標準偏差を使用して正規分布を作成\n",
    "ax[0].plot(x, p, 'k', linewidth=1)\n",
    "\n",
    "# 正規確率プロットを表示するサブプロット\n",
    "res = stats.probplot(data, plot=ax[1]) #probplotとはデータの分布が正規分布に従っているかどうかを調べるプロット。プロットが一直線であれば正規分布に従うと考えられる。\n",
    "ax[1].set_title('seiki-plot')\n",
    "\n",
    "plt.tight_layout()  # グラフのレイアウトを調整\n",
    "\n",
    "# グラフを表示\n",
    "plt.show()\n",
    "\"\"\""
   ]
  },
  {
   "cell_type": "markdown",
   "id": "0be21ef9",
   "metadata": {
    "papermill": {
     "duration": 0.009874,
     "end_time": "2024-05-27T07:22:59.191811",
     "exception": false,
     "start_time": "2024-05-27T07:22:59.181937",
     "status": "completed"
    },
    "tags": []
   },
   "source": [
    "上記から以下のことが分かる\n",
    "* 歪度 (skewness) の絶対値が 1.88 と高い\n",
    "* ヒストグラムの正規分布線 (黒線) と KDE のズレが発生\n",
    "* QQプロット線 (青線) が正規分布線 (赤線) からズレが発生"
   ]
  },
  {
   "cell_type": "code",
   "execution_count": 3,
   "id": "c7f9ecfd",
   "metadata": {
    "collapsed": true,
    "execution": {
     "iopub.execute_input": "2024-05-27T07:22:59.214170Z",
     "iopub.status.busy": "2024-05-27T07:22:59.213385Z",
     "iopub.status.idle": "2024-05-27T07:22:59.220553Z",
     "shell.execute_reply": "2024-05-27T07:22:59.219777Z"
    },
    "jupyter": {
     "outputs_hidden": true
    },
    "papermill": {
     "duration": 0.020786,
     "end_time": "2024-05-27T07:22:59.222587",
     "exception": false,
     "start_time": "2024-05-27T07:22:59.201801",
     "status": "completed"
    },
    "tags": []
   },
   "outputs": [
    {
     "data": {
      "text/plain": [
       "\"\\n# 散布図グラフの描画\\nax = sns.scatterplot(data=df_train, x='GrLivArea', y='SalePrice')\\n\\n# 以下の部分は解析には不要 (説明のための矢印をつけています)\\n# 注釈を追加\\nfor i in range(2):\\n    idx = df_train['GrLivArea'].nlargest(2).index[i]\\n\\n    # x軸の最大値を見つける\\n    max_x_values = df_train.loc[idx,'GrLivArea']\\n    max_y_value = df_train.loc[idx,'SalePrice']\\n\\n    # 矢印を追加\\n    plt.annotate('', xy=(max_x_values, max_y_value), xytext=(max_x_values + 250, max_y_value + 100),\\n                 arrowprops=dict(color='red', arrowstyle='->'))\\n\\n# さらに注釈を追加\\nplt.annotate('', xy=(2000, 250000), xytext=(1000, 100000),\\n             arrowprops=dict(color='yellow', arrowstyle='->', alpha=0.8, linewidth=5))\\n\\nplt.show()\\n\""
      ]
     },
     "execution_count": 3,
     "metadata": {},
     "output_type": "execute_result"
    }
   ],
   "source": [
    "\"\"\"\n",
    "# 散布図グラフの描画\n",
    "ax = sns.scatterplot(data=df_train, x='GrLivArea', y='SalePrice')\n",
    "\n",
    "# 以下の部分は解析には不要 (説明のための矢印をつけています)\n",
    "# 注釈を追加\n",
    "for i in range(2):\n",
    "    idx = df_train['GrLivArea'].nlargest(2).index[i]\n",
    "\n",
    "    # x軸の最大値を見つける\n",
    "    max_x_values = df_train.loc[idx,'GrLivArea']\n",
    "    max_y_value = df_train.loc[idx,'SalePrice']\n",
    "\n",
    "    # 矢印を追加\n",
    "    plt.annotate('', xy=(max_x_values, max_y_value), xytext=(max_x_values + 250, max_y_value + 100),\n",
    "                 arrowprops=dict(color='red', arrowstyle='->'))\n",
    "\n",
    "# さらに注釈を追加\n",
    "plt.annotate('', xy=(2000, 250000), xytext=(1000, 100000),\n",
    "             arrowprops=dict(color='yellow', arrowstyle='->', alpha=0.8, linewidth=5))\n",
    "\n",
    "plt.show()\n",
    "\"\"\""
   ]
  },
  {
   "cell_type": "code",
   "execution_count": 4,
   "id": "65ad13a6",
   "metadata": {
    "collapsed": true,
    "execution": {
     "iopub.execute_input": "2024-05-27T07:22:59.244872Z",
     "iopub.status.busy": "2024-05-27T07:22:59.244325Z",
     "iopub.status.idle": "2024-05-27T07:22:59.251545Z",
     "shell.execute_reply": "2024-05-27T07:22:59.250398Z"
    },
    "jupyter": {
     "outputs_hidden": true
    },
    "papermill": {
     "duration": 0.021155,
     "end_time": "2024-05-27T07:22:59.253838",
     "exception": false,
     "start_time": "2024-05-27T07:22:59.232683",
     "status": "completed"
    },
    "tags": []
   },
   "outputs": [
    {
     "data": {
      "text/plain": [
       "\"\\n# Seabornのboxplotを作成\\nplt.figure(figsize=(16, 5))  # プロットのサイズを設定\\nsns.boxplot(data=df_train, x='YearBuilt', y='SalePrice')\\n\\n# x軸ラベルの回転とプロットの表示\\nplt.xticks(rotation=90)\\n\\n# グラフを表示\\nplt.show()\\n\""
      ]
     },
     "execution_count": 4,
     "metadata": {},
     "output_type": "execute_result"
    }
   ],
   "source": [
    "\"\"\"\n",
    "# Seabornのboxplotを作成\n",
    "plt.figure(figsize=(16, 5))  # プロットのサイズを設定\n",
    "sns.boxplot(data=df_train, x='YearBuilt', y='SalePrice')\n",
    "\n",
    "# x軸ラベルの回転とプロットの表示\n",
    "plt.xticks(rotation=90)\n",
    "\n",
    "# グラフを表示\n",
    "plt.show()\n",
    "\"\"\""
   ]
  },
  {
   "cell_type": "code",
   "execution_count": 5,
   "id": "4b38b6f0",
   "metadata": {
    "collapsed": true,
    "execution": {
     "iopub.execute_input": "2024-05-27T07:22:59.275895Z",
     "iopub.status.busy": "2024-05-27T07:22:59.275506Z",
     "iopub.status.idle": "2024-05-27T07:22:59.281185Z",
     "shell.execute_reply": "2024-05-27T07:22:59.280481Z"
    },
    "jupyter": {
     "outputs_hidden": true,
     "source_hidden": true
    },
    "papermill": {
     "duration": 0.019223,
     "end_time": "2024-05-27T07:22:59.283451",
     "exception": false,
     "start_time": "2024-05-27T07:22:59.264228",
     "status": "completed"
    },
    "tags": []
   },
   "outputs": [
    {
     "data": {
      "text/plain": [
       "\"\\n# Overall Qualityに基づく箱ひげ図を描画\\nsns.boxplot(data=df_train, x='OverallQual', y='SalePrice', fliersize=1)\\n\\n# グラフを表示\\nplt.show()\\n\""
      ]
     },
     "execution_count": 5,
     "metadata": {},
     "output_type": "execute_result"
    }
   ],
   "source": [
    "\"\"\"\n",
    "# Overall Qualityに基づく箱ひげ図を描画\n",
    "sns.boxplot(data=df_train, x='OverallQual', y='SalePrice', fliersize=1)\n",
    "\n",
    "# グラフを表示\n",
    "plt.show()\n",
    "\"\"\""
   ]
  },
  {
   "cell_type": "code",
   "execution_count": 6,
   "id": "c881d872",
   "metadata": {
    "collapsed": true,
    "execution": {
     "iopub.execute_input": "2024-05-27T07:22:59.307238Z",
     "iopub.status.busy": "2024-05-27T07:22:59.306676Z",
     "iopub.status.idle": "2024-05-27T07:22:59.312874Z",
     "shell.execute_reply": "2024-05-27T07:22:59.312108Z"
    },
    "jupyter": {
     "outputs_hidden": true
    },
    "papermill": {
     "duration": 0.019762,
     "end_time": "2024-05-27T07:22:59.314750",
     "exception": false,
     "start_time": "2024-05-27T07:22:59.294988",
     "status": "completed"
    },
    "tags": []
   },
   "outputs": [
    {
     "data": {
      "text/plain": [
       "'\\ndf_train_num = df_train.select_dtypes(include=\"number\")\\n\\n# ヒートマップの作成だけなら下記だけで描画可能\\nsns.heatmap(df_train_num.corr())\\nplt.show()\\n\\n# ----------------- 以下は見やすくする & 説明のための点線枠を追加した場合のコード ----------------\\n# 図（Figure）と軸（Axes）を作成\\nfig, ax = plt.subplots(figsize=(10, 8))\\n\\n# ヒートマップを作成\\nsns.heatmap(df_train_num.corr(), cmap=\\'viridis\\', annot=True, fmt=\\'.1f\\', annot_kws={\\'fontsize\\': 5})\\n\\n# 赤い点線の四角を追加\\nrect = plt.Rectangle((0.1, 36.9), 37.8, 0.9, edgecolor=\\'red\\', linewidth=2, fill=False, linestyle=\\'dashed\\')\\nax.add_patch(rect)\\n\\n# オレンジの点線の四角を追加\\nxy = [11.9, 25.9]\\nhw = [2.1, 2.1]\\n\\nfor i, v in enumerate(xy):\\n    x, y = xy[i], xy[i]\\n    height, width = hw[i], hw[i]\\n    rect = plt.Rectangle((x, y), height, width, edgecolor=\\'orange\\', linewidth=2, fill=False, linestyle=\\'dashed\\')\\n    ax.add_patch(rect)\\n\\n# グラフを表示\\nplt.show()\\n'"
      ]
     },
     "execution_count": 6,
     "metadata": {},
     "output_type": "execute_result"
    }
   ],
   "source": [
    "\"\"\"\n",
    "df_train_num = df_train.select_dtypes(include=\"number\")\n",
    "\n",
    "# ヒートマップの作成だけなら下記だけで描画可能\n",
    "sns.heatmap(df_train_num.corr())\n",
    "plt.show()\n",
    "\n",
    "# ----------------- 以下は見やすくする & 説明のための点線枠を追加した場合のコード ----------------\n",
    "# 図（Figure）と軸（Axes）を作成\n",
    "fig, ax = plt.subplots(figsize=(10, 8))\n",
    "\n",
    "# ヒートマップを作成\n",
    "sns.heatmap(df_train_num.corr(), cmap='viridis', annot=True, fmt='.1f', annot_kws={'fontsize': 5})\n",
    "\n",
    "# 赤い点線の四角を追加\n",
    "rect = plt.Rectangle((0.1, 36.9), 37.8, 0.9, edgecolor='red', linewidth=2, fill=False, linestyle='dashed')\n",
    "ax.add_patch(rect)\n",
    "\n",
    "# オレンジの点線の四角を追加\n",
    "xy = [11.9, 25.9]\n",
    "hw = [2.1, 2.1]\n",
    "\n",
    "for i, v in enumerate(xy):\n",
    "    x, y = xy[i], xy[i]\n",
    "    height, width = hw[i], hw[i]\n",
    "    rect = plt.Rectangle((x, y), height, width, edgecolor='orange', linewidth=2, fill=False, linestyle='dashed')\n",
    "    ax.add_patch(rect)\n",
    "\n",
    "# グラフを表示\n",
    "plt.show()\n",
    "\"\"\""
   ]
  },
  {
   "cell_type": "code",
   "execution_count": 7,
   "id": "6ad0f79d",
   "metadata": {
    "collapsed": true,
    "execution": {
     "iopub.execute_input": "2024-05-27T07:22:59.338193Z",
     "iopub.status.busy": "2024-05-27T07:22:59.337593Z",
     "iopub.status.idle": "2024-05-27T07:22:59.344276Z",
     "shell.execute_reply": "2024-05-27T07:22:59.343245Z"
    },
    "jupyter": {
     "outputs_hidden": true
    },
    "papermill": {
     "duration": 0.0209,
     "end_time": "2024-05-27T07:22:59.346483",
     "exception": false,
     "start_time": "2024-05-27T07:22:59.325583",
     "status": "completed"
    },
    "tags": []
   },
   "outputs": [
    {
     "data": {
      "text/plain": [
       "'\\n#上記は全体的な傾向性を確認するのには、見やすいのですが、SalePriceの相関関係を見るには細かくなり過ぎてしまいます。\\n#そのため、SalePriceと相関係数の絶対値0.4以上の特徴量だけ抜き出してヒートマップを作成します。\\n\\ndf_train_num = df_train.select_dtypes(include=\"number\")\\n\\nthreshold = 0.4  # 相関係数のしきい値\\n\\n# 相関係数が絶対値0.4以上の特徴量を抜き出し、スコアの高い順にソート\\nhigh_corr_cols = df_train_num.corr()[\\'SalePrice\\'][abs(df_train_num.corr()[\\'SalePrice\\']) >= threshold].sort_values(ascending=False).index\\n#これはブールインデックスを用いた条件抽出をしている。df[特定の条件]をコードとして入力すると、その条件にTrueとなった値だけがdfとして出力される\\n\\n# ヒートマップを作成\\nsns.heatmap(df_train_num[high_corr_cols].corr(), cmap=\\'viridis\\', annot=True, fmt=\\'.1f\\', annot_kws={\\'fontsize\\': 10})\\nplt.show()\\n'"
      ]
     },
     "execution_count": 7,
     "metadata": {},
     "output_type": "execute_result"
    }
   ],
   "source": [
    "\"\"\"\n",
    "#上記は全体的な傾向性を確認するのには、見やすいのですが、SalePriceの相関関係を見るには細かくなり過ぎてしまいます。\n",
    "#そのため、SalePriceと相関係数の絶対値0.4以上の特徴量だけ抜き出してヒートマップを作成します。\n",
    "\n",
    "df_train_num = df_train.select_dtypes(include=\"number\")\n",
    "\n",
    "threshold = 0.4  # 相関係数のしきい値\n",
    "\n",
    "# 相関係数が絶対値0.4以上の特徴量を抜き出し、スコアの高い順にソート\n",
    "high_corr_cols = df_train_num.corr()['SalePrice'][abs(df_train_num.corr()['SalePrice']) >= threshold].sort_values(ascending=False).index\n",
    "#これはブールインデックスを用いた条件抽出をしている。df[特定の条件]をコードとして入力すると、その条件にTrueとなった値だけがdfとして出力される\n",
    "\n",
    "# ヒートマップを作成\n",
    "sns.heatmap(df_train_num[high_corr_cols].corr(), cmap='viridis', annot=True, fmt='.1f', annot_kws={'fontsize': 10})\n",
    "plt.show()\n",
    "\"\"\""
   ]
  },
  {
   "cell_type": "markdown",
   "id": "60c90a17",
   "metadata": {
    "papermill": {
     "duration": 0.012021,
     "end_time": "2024-05-27T07:22:59.369697",
     "exception": false,
     "start_time": "2024-05-27T07:22:59.357676",
     "status": "completed"
    },
    "tags": []
   },
   "source": [
    "ここから言えること\n",
    "* SalePriceに対しては、14の特徴量が相関係数 0.4 以上\n",
    "* 特徴量同士で相関係数が高い項目に関しては、片方を除外、もしくは、別の特徴量を検討\n",
    "* GarageCarsが多ければ、GarageAreaが多いのも必然のためGarageAreaは除外\n",
    "* GrLivArea(地上の生活エリア)が広ければ、TotRmsAbvGrd(地上の部屋数)も多くなるのが一般的なので、TotRmsAbvGrdは除外\n",
    "* 車庫と建物が同時に建設されることが一般的なので、YearBuiltとGarageYrBitが相関が高くなっていると考えられるため、GarageYrBitは除外"
   ]
  },
  {
   "cell_type": "code",
   "execution_count": 8,
   "id": "8e632f1a",
   "metadata": {
    "collapsed": true,
    "execution": {
     "iopub.execute_input": "2024-05-27T07:22:59.392131Z",
     "iopub.status.busy": "2024-05-27T07:22:59.391756Z",
     "iopub.status.idle": "2024-05-27T07:22:59.398717Z",
     "shell.execute_reply": "2024-05-27T07:22:59.397789Z"
    },
    "jupyter": {
     "outputs_hidden": true
    },
    "papermill": {
     "duration": 0.02042,
     "end_time": "2024-05-27T07:22:59.400625",
     "exception": false,
     "start_time": "2024-05-27T07:22:59.380205",
     "status": "completed"
    },
    "tags": []
   },
   "outputs": [
    {
     "data": {
      "text/plain": [
       "\"\\n# DataFrameを結合\\nall_data = pd.concat([df_train, df_test])\\n\\n# 欠損値の数を計算\\nmissing_values_count = all_data.isnull().sum()\\n\\n# 欠損値の数とパーセンテージを表形式で表示するためのDataFrameを作成\\nmissing_values_table = pd.DataFrame({\\n    'Missing_total': missing_values_count,\\n    'Percent (%)': round((missing_values_count / len(all_data)) * 100, 1)\\n})\\n\\n# 欠損値がある列の情報を抽出して降順でソート\\ndf_missing = missing_values_table[missing_values_table['Missing_total'] > 0].sort_values(by='Missing_total', ascending=False)\\n    \\n# 欠損値がある列の情報を表示\\ndisplay(df_missing)\\n\""
      ]
     },
     "execution_count": 8,
     "metadata": {},
     "output_type": "execute_result"
    }
   ],
   "source": [
    "\"\"\"\n",
    "# DataFrameを結合\n",
    "all_data = pd.concat([df_train, df_test])\n",
    "\n",
    "# 欠損値の数を計算\n",
    "missing_values_count = all_data.isnull().sum()\n",
    "\n",
    "# 欠損値の数とパーセンテージを表形式で表示するためのDataFrameを作成\n",
    "missing_values_table = pd.DataFrame({\n",
    "    'Missing_total': missing_values_count,\n",
    "    'Percent (%)': round((missing_values_count / len(all_data)) * 100, 1)\n",
    "})\n",
    "\n",
    "# 欠損値がある列の情報を抽出して降順でソート\n",
    "df_missing = missing_values_table[missing_values_table['Missing_total'] > 0].sort_values(by='Missing_total', ascending=False)\n",
    "    \n",
    "# 欠損値がある列の情報を表示\n",
    "display(df_missing)\n",
    "\"\"\""
   ]
  },
  {
   "cell_type": "code",
   "execution_count": 9,
   "id": "ce2e31cc",
   "metadata": {
    "collapsed": true,
    "execution": {
     "iopub.execute_input": "2024-05-27T07:22:59.422668Z",
     "iopub.status.busy": "2024-05-27T07:22:59.421902Z",
     "iopub.status.idle": "2024-05-27T07:22:59.427560Z",
     "shell.execute_reply": "2024-05-27T07:22:59.426957Z"
    },
    "jupyter": {
     "outputs_hidden": true
    },
    "papermill": {
     "duration": 0.018575,
     "end_time": "2024-05-27T07:22:59.429413",
     "exception": false,
     "start_time": "2024-05-27T07:22:59.410838",
     "status": "completed"
    },
    "tags": []
   },
   "outputs": [
    {
     "data": {
      "text/plain": [
       "'\\n# 図（Figure）のサイズを設定\\nplt.figure(figsize=(20, 4))\\n\\n# Seabornを使用して箱ひげ図を作成\\n# x軸には \"Neighborhood\"、y軸には \"LotFrontage\" を設定\\nsns.boxplot(data=all_data, x=\\'Neighborhood\\', y=\\'LotFrontage\\')\\n\\n# グラフを表示\\nplt.show()\\n\\n#LotFrontage(通りに面している距離)は、地域差があると想定される\\n'"
      ]
     },
     "execution_count": 9,
     "metadata": {},
     "output_type": "execute_result"
    }
   ],
   "source": [
    "\"\"\"\n",
    "# 図（Figure）のサイズを設定\n",
    "plt.figure(figsize=(20, 4))\n",
    "\n",
    "# Seabornを使用して箱ひげ図を作成\n",
    "# x軸には \"Neighborhood\"、y軸には \"LotFrontage\" を設定\n",
    "sns.boxplot(data=all_data, x='Neighborhood', y='LotFrontage')\n",
    "\n",
    "# グラフを表示\n",
    "plt.show()\n",
    "\n",
    "#LotFrontage(通りに面している距離)は、地域差があると想定される\n",
    "\"\"\""
   ]
  },
  {
   "cell_type": "code",
   "execution_count": 10,
   "id": "6f96da8c",
   "metadata": {
    "execution": {
     "iopub.execute_input": "2024-05-27T07:22:59.452785Z",
     "iopub.status.busy": "2024-05-27T07:22:59.452143Z",
     "iopub.status.idle": "2024-05-27T07:22:59.458763Z",
     "shell.execute_reply": "2024-05-27T07:22:59.457799Z"
    },
    "papermill": {
     "duration": 0.020248,
     "end_time": "2024-05-27T07:22:59.460599",
     "exception": false,
     "start_time": "2024-05-27T07:22:59.440351",
     "status": "completed"
    },
    "tags": []
   },
   "outputs": [
    {
     "data": {
      "text/plain": [
       "'\\n# 各地域（Neighborhood）ごとの \"LotFrontage\" の中央値を計算し、新しいデータフレームに保存\\ndf_group = all_data.groupby(by=\\'Neighborhood\\')[\\'LotFrontage\\'].agg(\\'median\\')\\n\\n# 欠損値を埋めるための関数を定義\\ndef fillnaLot(row):\\n    # もし \"LotFrontage\" が欠損値（NaN）または空文字列の場合\\n    if pd.isna(row[\\'LotFrontage\\']) or row[\\'LotFrontage\\'] == \\'\\':\\n        # 対応する地域（Neighborhood）の中央値で欠損値を埋める\\n        return df_group[row[\\'Neighborhood\\']]\\n    else:\\n        # それ以外の場合、元の値を保持\\n        return row[\\'LotFrontage\\']\\n\\n# 訓練データとテストデータに対して \"LotFrontage\" の欠損値を埋める\\ndatasets = [df_train, df_test]\\nfor df in datasets:\\n    df[\\'LotFrontage\\'] = df.apply(fillnaLot, axis=1)\\n'"
      ]
     },
     "execution_count": 10,
     "metadata": {},
     "output_type": "execute_result"
    }
   ],
   "source": [
    "\"\"\"\n",
    "# 各地域（Neighborhood）ごとの \"LotFrontage\" の中央値を計算し、新しいデータフレームに保存\n",
    "df_group = all_data.groupby(by='Neighborhood')['LotFrontage'].agg('median')\n",
    "\n",
    "# 欠損値を埋めるための関数を定義\n",
    "def fillnaLot(row):\n",
    "    # もし \"LotFrontage\" が欠損値（NaN）または空文字列の場合\n",
    "    if pd.isna(row['LotFrontage']) or row['LotFrontage'] == '':\n",
    "        # 対応する地域（Neighborhood）の中央値で欠損値を埋める\n",
    "        return df_group[row['Neighborhood']]\n",
    "    else:\n",
    "        # それ以外の場合、元の値を保持\n",
    "        return row['LotFrontage']\n",
    "\n",
    "# 訓練データとテストデータに対して \"LotFrontage\" の欠損値を埋める\n",
    "datasets = [df_train, df_test]\n",
    "for df in datasets:\n",
    "    df['LotFrontage'] = df.apply(fillnaLot, axis=1)\n",
    "\"\"\""
   ]
  },
  {
   "cell_type": "code",
   "execution_count": 11,
   "id": "cdc5b1f0",
   "metadata": {
    "execution": {
     "iopub.execute_input": "2024-05-27T07:22:59.483695Z",
     "iopub.status.busy": "2024-05-27T07:22:59.483132Z",
     "iopub.status.idle": "2024-05-27T07:22:59.540577Z",
     "shell.execute_reply": "2024-05-27T07:22:59.539695Z"
    },
    "papermill": {
     "duration": 0.071527,
     "end_time": "2024-05-27T07:22:59.542942",
     "exception": false,
     "start_time": "2024-05-27T07:22:59.471415",
     "status": "completed"
    },
    "tags": []
   },
   "outputs": [],
   "source": [
    "data['LotFrontage'] = data.groupby('Neighborhood')['LotFrontage'].transform(lambda x: x.fillna(x.median()))\n",
    "\n",
    "# 欠損値を 'None' で置き換える列のリスト\n",
    "cols_none = ['PoolQC', 'MiscFeature', 'Alley', 'Fence', 'FireplaceQu', 'GarageCond', 'GarageQual', 'GarageFinish', 'GarageType',\n",
    "       'BsmtCond', 'BsmtExposure', 'BsmtQual', 'BsmtFinType1', 'BsmtFinType2']\n",
    "# 各データセットに対して、指定した列の欠損値を 'None' で置き換える\n",
    "data[cols_none] = data[cols_none].fillna(\"None\")\n",
    "\n",
    "# 欠損値を 0 で置き換える列のリスト\n",
    "cols_0 = ['GarageYrBlt', 'MasVnrArea', 'BsmtFullBath', 'BsmtHalfBath', 'GarageCars', 'GarageArea', 'TotalBsmtSF', 'BsmtUnfSF', 'BsmtFinSF2', 'BsmtFinSF1']\n",
    "# 各データセットに対して、指定した列の欠損値を 0 で置き換える\n",
    "data[cols_0] = data[cols_0].fillna(0)\n",
    "\n",
    "# 欠損値を最頻値で置き換える列のリスト\n",
    "cols_mode = ['MSZoning', 'Functional',  'Exterior2nd', 'Exterior1st', 'SaleType']\n",
    "# 各データセットに対して、指定した列の欠損値を最頻値で置き換える\n",
    "data[cols_mode] = data[cols_mode].fillna(data[cols_mode].mode())\n",
    "data['MasVnrType'] = data['MasVnrType'].fillna(\"BrkFace\")\n",
    "data['Electrical'] = data['Electrical'].fillna(\"SBrkr\")\n",
    "data[\"KitchenQual\"] = data[\"KitchenQual\"].fillna(\"TA\")\n",
    "\n",
    "# 'Utilities' 列を削除する（Utilitiesは99.9%がAllPubなので列を削除します。）\n",
    "data = data.drop('Utilities', axis=1)"
   ]
  },
  {
   "cell_type": "code",
   "execution_count": 12,
   "id": "535701d2",
   "metadata": {
    "collapsed": true,
    "execution": {
     "iopub.execute_input": "2024-05-27T07:22:59.566086Z",
     "iopub.status.busy": "2024-05-27T07:22:59.565783Z",
     "iopub.status.idle": "2024-05-27T07:22:59.574142Z",
     "shell.execute_reply": "2024-05-27T07:22:59.573218Z"
    },
    "jupyter": {
     "outputs_hidden": true
    },
    "papermill": {
     "duration": 0.021654,
     "end_time": "2024-05-27T07:22:59.576131",
     "exception": false,
     "start_time": "2024-05-27T07:22:59.554477",
     "status": "completed"
    },
    "tags": []
   },
   "outputs": [
    {
     "data": {
      "text/plain": [
       "\"\\n#順番が意味を成すデータ品質(*Qual)・状態(*Cond)等には、マップベースのカテゴリーエンコーディングを適用していきます。\\n\\n# データセットリストを作成\\ndatasets = [df_train, df_test]\\n\\n# ラベル付けの対応を定義\\nlabel_mapping = {'Ex': 5, 'Gd': 4, 'TA': 3, 'Fa': 2, 'Po': 1, 'None': 0}  # ラベル対応の辞書\\n\\n# ラベリングを行う列のリスト\\ncols = ['ExterQual', 'ExterCond', 'BsmtQual', 'BsmtCond', 'HeatingQC', 'KitchenQual',\\n       'FireplaceQu', 'GarageQual', 'GarageCond', 'PoolQC']\\n\\n# データセットごとにラベリングを適用\\nfor df in datasets:\\n    for col in cols:\\n        # 指定した辞書に基づいてラベルをマッピングし、整数型に変換\\n        df[col] = df[col].map(label_mapping).astype(int)\\n        #.mapはreplaceとほぼ同じ。ただ、速さを考えるとmapの方が高速。\\n\\n# データセットリストを作成\\ndatasets = [df_train, df_test]\\n\\n# ラベル付けの対応を定義\\nlabel_mapping = {'Gd': 4, 'Av': 3, 'Mn': 2, 'No': 1, 'None': 0}  # ラベル対応の辞書\\n\\n# ラベリングを行う列のリスト\\ncols = ['BsmtExposure']\\n\\n# データセットごとにラベリングを適用\\nfor df in datasets:\\n    for col in cols:\\n        # 指定した辞書に基づいてラベルをマッピングし、整数型に変換\\n        df[col] = df[col].map(label_mapping).astype(int)\\n\\n# データセットリストを作成\\ndatasets = [df_train, df_test]\\n\\n# ラベル付けの対応を定義\\nlabel_mapping = {'Fin': 3, 'RFn': 2, 'Unf': 1, 'None': 0}  # ラベル対応の辞書\\n\\n# ラベリングを行う列のリスト\\ncols = ['GarageFinish']\\n\\n# データセットごとにラベリングを適用\\nfor df in datasets:\\n    for col in cols:\\n        # 指定した辞書に基づいてラベルをマッピングし、整数型に変換\\n        df[col] = df[col].map(label_mapping).astype(int)\\n\\n# データセットリストを作成\\ndatasets = [df_train, df_test]\\n\\n# ラベル付けの対応を定義\\nlabel_mapping = {'GLQ': 6, 'ALQ': 5, 'BLQ': 4, 'Rec': 3, 'LwQ': 2, 'Unf': 1, 'None': 0}  # ラベル対応の辞書\\n\\n# ラベリングを行う列のリスト\\ncols = ['BsmtFinType1', 'BsmtFinType2']\\n\\n# データセットごとにラベリングを適用\\nfor df in datasets:\\n    for col in cols:\\n        # 指定した辞書に基づいてラベルをマッピングし、整数型に変換\\n        df[col] = df[col].map(label_mapping).astype(int)\\n\""
      ]
     },
     "execution_count": 12,
     "metadata": {},
     "output_type": "execute_result"
    }
   ],
   "source": [
    "\"\"\"\n",
    "#順番が意味を成すデータ品質(*Qual)・状態(*Cond)等には、マップベースのカテゴリーエンコーディングを適用していきます。\n",
    "\n",
    "# データセットリストを作成\n",
    "datasets = [df_train, df_test]\n",
    "\n",
    "# ラベル付けの対応を定義\n",
    "label_mapping = {'Ex': 5, 'Gd': 4, 'TA': 3, 'Fa': 2, 'Po': 1, 'None': 0}  # ラベル対応の辞書\n",
    "\n",
    "# ラベリングを行う列のリスト\n",
    "cols = ['ExterQual', 'ExterCond', 'BsmtQual', 'BsmtCond', 'HeatingQC', 'KitchenQual',\n",
    "       'FireplaceQu', 'GarageQual', 'GarageCond', 'PoolQC']\n",
    "\n",
    "# データセットごとにラベリングを適用\n",
    "for df in datasets:\n",
    "    for col in cols:\n",
    "        # 指定した辞書に基づいてラベルをマッピングし、整数型に変換\n",
    "        df[col] = df[col].map(label_mapping).astype(int)\n",
    "        #.mapはreplaceとほぼ同じ。ただ、速さを考えるとmapの方が高速。\n",
    "\n",
    "# データセットリストを作成\n",
    "datasets = [df_train, df_test]\n",
    "\n",
    "# ラベル付けの対応を定義\n",
    "label_mapping = {'Gd': 4, 'Av': 3, 'Mn': 2, 'No': 1, 'None': 0}  # ラベル対応の辞書\n",
    "\n",
    "# ラベリングを行う列のリスト\n",
    "cols = ['BsmtExposure']\n",
    "\n",
    "# データセットごとにラベリングを適用\n",
    "for df in datasets:\n",
    "    for col in cols:\n",
    "        # 指定した辞書に基づいてラベルをマッピングし、整数型に変換\n",
    "        df[col] = df[col].map(label_mapping).astype(int)\n",
    "\n",
    "# データセットリストを作成\n",
    "datasets = [df_train, df_test]\n",
    "\n",
    "# ラベル付けの対応を定義\n",
    "label_mapping = {'Fin': 3, 'RFn': 2, 'Unf': 1, 'None': 0}  # ラベル対応の辞書\n",
    "\n",
    "# ラベリングを行う列のリスト\n",
    "cols = ['GarageFinish']\n",
    "\n",
    "# データセットごとにラベリングを適用\n",
    "for df in datasets:\n",
    "    for col in cols:\n",
    "        # 指定した辞書に基づいてラベルをマッピングし、整数型に変換\n",
    "        df[col] = df[col].map(label_mapping).astype(int)\n",
    "\n",
    "# データセットリストを作成\n",
    "datasets = [df_train, df_test]\n",
    "\n",
    "# ラベル付けの対応を定義\n",
    "label_mapping = {'GLQ': 6, 'ALQ': 5, 'BLQ': 4, 'Rec': 3, 'LwQ': 2, 'Unf': 1, 'None': 0}  # ラベル対応の辞書\n",
    "\n",
    "# ラベリングを行う列のリスト\n",
    "cols = ['BsmtFinType1', 'BsmtFinType2']\n",
    "\n",
    "# データセットごとにラベリングを適用\n",
    "for df in datasets:\n",
    "    for col in cols:\n",
    "        # 指定した辞書に基づいてラベルをマッピングし、整数型に変換\n",
    "        df[col] = df[col].map(label_mapping).astype(int)\n",
    "\"\"\""
   ]
  },
  {
   "cell_type": "code",
   "execution_count": 13,
   "id": "472c968a",
   "metadata": {
    "execution": {
     "iopub.execute_input": "2024-05-27T07:22:59.599628Z",
     "iopub.status.busy": "2024-05-27T07:22:59.599084Z",
     "iopub.status.idle": "2024-05-27T07:22:59.647052Z",
     "shell.execute_reply": "2024-05-27T07:22:59.646145Z"
    },
    "papermill": {
     "duration": 0.062152,
     "end_time": "2024-05-27T07:22:59.649363",
     "exception": false,
     "start_time": "2024-05-27T07:22:59.587211",
     "status": "completed"
    },
    "tags": []
   },
   "outputs": [],
   "source": [
    "label_encode_list = ['ExterQual', 'ExterCond', 'BsmtQual', 'BsmtCond', 'HeatingQC', 'KitchenQual',\n",
    "                     'FireplaceQu', 'GarageQual', 'GarageCond', 'PoolQC']\n",
    "qal_object = [\"Ex\",\"Gd\",\"TA\",\"Fa\",\"Po\",\"No\"]\n",
    "qal_float = [5,4,3,2,1,0]\n",
    "data[label_encode_list] = data[label_encode_list].replace(qal_object,qal_float)\n",
    "\n",
    "qal_object_garage = [\"Fin\",\"RFn\",\"Unf\",\"No\"]\n",
    "qal_float_garage = [3,2,1,0]\n",
    "data[\"GarageFinish\"] = data[\"GarageFinish\"].replace(qal_object_garage,qal_float_garage)\n",
    "\n",
    "qal_object_bsmt = [\"GLQ\",\"ALQ\",\"BLQ\",\"Rec\",\"LwQ\",\"Unf\",\"No\"]\n",
    "qal_float_bsmt = [6,5,4,3,2,1,0]\n",
    "data[[\"BsmtFinType1\",\"BsmtFinType2\"]] = data[[\"BsmtFinType1\",\"BsmtFinType2\"]].replace(qal_object_bsmt,qal_float_bsmt)\n",
    "\n",
    "qal_object_expo = [\"Gd\",\"Av\",\"Mn\",\"No\",\"None\"]\n",
    "qal_float_expo = [4,3,2,1,0]\n",
    "data[\"BsmtExposure\"] = data[\"BsmtExposure\"].replace(qal_object_expo,qal_float_expo)\n"
   ]
  },
  {
   "cell_type": "code",
   "execution_count": 14,
   "id": "104921b7",
   "metadata": {
    "execution": {
     "iopub.execute_input": "2024-05-27T07:22:59.673052Z",
     "iopub.status.busy": "2024-05-27T07:22:59.672092Z",
     "iopub.status.idle": "2024-05-27T07:23:00.482530Z",
     "shell.execute_reply": "2024-05-27T07:23:00.481739Z"
    },
    "papermill": {
     "duration": 0.824821,
     "end_time": "2024-05-27T07:23:00.485311",
     "exception": false,
     "start_time": "2024-05-27T07:22:59.660490",
     "status": "completed"
    },
    "tags": []
   },
   "outputs": [
    {
     "name": "stdout",
     "output_type": "stream",
     "text": [
      "skew: 0.12\n",
      "kurt: 0.81\n"
     ]
    },
    {
     "data": {
      "image/png": "[encoded data removed]",
      "text/plain": [
       "<Figure size 1000x400 with 2 Axes>"
      ]
     },
     "metadata": {},
     "output_type": "display_data"
    }
   ],
   "source": [
    "from scipy.stats import norm       # SciPyライブラリから確率分布用のnormモジュールをインポート\n",
    "from scipy import stats           # SciPyライブラリから統計関連の機能を提供するstatsモジュールをインポート\n",
    "\n",
    "#分布の歪みがある場合は、対数変換などの方法を検討してデータを正規化することで、モデルの学習や予測の精度向上が期待できます。\n",
    "#SalePriceに対数変換を適用し、歪度・ヒストグラム・QQプロットを確認します。\n",
    "\n",
    "# SalePriceの対数変換\n",
    "df_train['SalePrice'] = np.log(df_train['SalePrice'])\n",
    "\n",
    "# 分析対象のデータを抽出して変数\"data\"に格納\n",
    "data_price = df_train['SalePrice']\n",
    "\n",
    "# サブプロットを作成\n",
    "fig, ax = plt.subplots(1, 2, figsize=(10, 4))\n",
    "\n",
    "# 歪度と尖度を計算して表示\n",
    "skewness = data_price.skew()\n",
    "kurtosis = data_price.kurtosis()\n",
    "print(f'skew: {skewness:.2f}')  # 歪度を表示\n",
    "print(f'kurt: {kurtosis:.2f}')  # 尖度を表示\n",
    "\n",
    "# ヒストグラムと正規分布曲線の表示\n",
    "sns.histplot(data_price, stat='density', kde=True, ax=ax[0])\n",
    "ax[0].set_title('Histogram and Normal Distribution')\n",
    "\n",
    "xmin, xmax = ax[0].get_xlim()  # ax[0]の最大値と最小値を取得\n",
    "x = np.linspace(xmin, xmax, 100)\n",
    "p = stats.norm.pdf(x, np.mean(data_price), np.std(data_price))\n",
    "ax[0].plot(x, p, 'k', linewidth=1)\n",
    "\n",
    "# 正規確率プロットの表示\n",
    "res = stats.probplot(data_price, plot=ax[1])\n",
    "ax[1].set_title('Normal Probability Plot')\n",
    "\n",
    "plt.tight_layout()  # グラフのレイアウトを調整\n",
    "plt.show()"
   ]
  },
  {
   "cell_type": "markdown",
   "id": "9fdca495",
   "metadata": {
    "papermill": {
     "duration": 0.011371,
     "end_time": "2024-05-27T07:23:00.508666",
     "exception": false,
     "start_time": "2024-05-27T07:23:00.497295",
     "status": "completed"
    },
    "tags": []
   },
   "source": [
    "すると、以下3項目全て改善しています。\n",
    "\n",
    "* 歪度がほぼ０\n",
    "* ヒストグラムのKDEと正規分布線がほぼ重なる\n",
    "* QQプロットの青線が正規分布線 (赤線) 上"
   ]
  },
  {
   "cell_type": "code",
   "execution_count": 15,
   "id": "dd450f21",
   "metadata": {
    "execution": {
     "iopub.execute_input": "2024-05-27T07:23:00.534472Z",
     "iopub.status.busy": "2024-05-27T07:23:00.533579Z",
     "iopub.status.idle": "2024-05-27T07:23:00.540396Z",
     "shell.execute_reply": "2024-05-27T07:23:00.539645Z"
    },
    "papermill": {
     "duration": 0.022008,
     "end_time": "2024-05-27T07:23:00.542372",
     "exception": false,
     "start_time": "2024-05-27T07:23:00.520364",
     "status": "completed"
    },
    "tags": []
   },
   "outputs": [
    {
     "name": "stdout",
     "output_type": "stream",
     "text": [
      "Before making: (2919, 80)\n",
      "After making: (2919, 81)\n"
     ]
    }
   ],
   "source": [
    "\n",
    "#住宅価格には、住居の総面積が関係するため、地下・１階・２階の面積を合計した新たな特徴量を作成します。\n",
    "\n",
    "print(f\"Before making: {data.shape}\")\n",
    "\n",
    "# 新しい特徴量 'TotalSF' を追加し、'TotalBsmtSF'、'1stFlrSF'、'2ndFlrSF' を合計して代入\n",
    "data['TotalSF'] = data['TotalBsmtSF'] + data['1stFlrSF'] + data['2ndFlrSF']\n",
    "\n",
    "# 変更後のデータフレームの形状を表示\n",
    "print(f\"After making: {data.shape}\")\n"
   ]
  },
  {
   "cell_type": "code",
   "execution_count": 16,
   "id": "d10f8019",
   "metadata": {
    "execution": {
     "iopub.execute_input": "2024-05-27T07:23:00.567337Z",
     "iopub.status.busy": "2024-05-27T07:23:00.567033Z",
     "iopub.status.idle": "2024-05-27T07:23:00.629650Z",
     "shell.execute_reply": "2024-05-27T07:23:00.628692Z"
    },
    "papermill": {
     "duration": 0.077271,
     "end_time": "2024-05-27T07:23:00.631658",
     "exception": false,
     "start_time": "2024-05-27T07:23:00.554387",
     "status": "completed"
    },
    "tags": []
   },
   "outputs": [
    {
     "data": {
      "text/html": [
       "<div>\n",
       "<style scoped>\n",
       "    .dataframe tbody tr th:only-of-type {\n",
       "        vertical-align: middle;\n",
       "    }\n",
       "\n",
       "    .dataframe tbody tr th {\n",
       "        vertical-align: top;\n",
       "    }\n",
       "\n",
       "    .dataframe thead th {\n",
       "        text-align: right;\n",
       "    }\n",
       "</style>\n",
       "<table border=\"1\" class=\"dataframe\">\n",
       "  <thead>\n",
       "    <tr style=\"text-align: right;\">\n",
       "      <th></th>\n",
       "      <th>Skew</th>\n",
       "    </tr>\n",
       "  </thead>\n",
       "  <tbody>\n",
       "    <tr>\n",
       "      <th>MiscVal</th>\n",
       "      <td>21.947195</td>\n",
       "    </tr>\n",
       "    <tr>\n",
       "      <th>PoolArea</th>\n",
       "      <td>16.898328</td>\n",
       "    </tr>\n",
       "    <tr>\n",
       "      <th>LotArea</th>\n",
       "      <td>12.822431</td>\n",
       "    </tr>\n",
       "    <tr>\n",
       "      <th>LowQualFinSF</th>\n",
       "      <td>12.088761</td>\n",
       "    </tr>\n",
       "    <tr>\n",
       "      <th>3SsnPorch</th>\n",
       "      <td>11.376065</td>\n",
       "    </tr>\n",
       "    <tr>\n",
       "      <th>KitchenAbvGr</th>\n",
       "      <td>4.302254</td>\n",
       "    </tr>\n",
       "    <tr>\n",
       "      <th>BsmtFinSF2</th>\n",
       "      <td>4.146143</td>\n",
       "    </tr>\n",
       "    <tr>\n",
       "      <th>EnclosedPorch</th>\n",
       "      <td>4.003891</td>\n",
       "    </tr>\n",
       "    <tr>\n",
       "      <th>ScreenPorch</th>\n",
       "      <td>3.946694</td>\n",
       "    </tr>\n",
       "    <tr>\n",
       "      <th>BsmtHalfBath</th>\n",
       "      <td>3.931594</td>\n",
       "    </tr>\n",
       "  </tbody>\n",
       "</table>\n",
       "</div>"
      ],
      "text/plain": [
       "                    Skew\n",
       "MiscVal        21.947195\n",
       "PoolArea       16.898328\n",
       "LotArea        12.822431\n",
       "LowQualFinSF   12.088761\n",
       "3SsnPorch      11.376065\n",
       "KitchenAbvGr    4.302254\n",
       "BsmtFinSF2      4.146143\n",
       "EnclosedPorch   4.003891\n",
       "ScreenPorch     3.946694\n",
       "BsmtHalfBath    3.931594"
      ]
     },
     "metadata": {},
     "output_type": "display_data"
    },
    {
     "name": "stdout",
     "output_type": "stream",
     "text": [
      "There are 28 skewed numerical features to Box Cox transform\n"
     ]
    }
   ],
   "source": [
    "\n",
    "#歪度の削減の手法を用いていきます。そのため、まずは現状の歪度が高いもの (0.75以上) を抽出します。\n",
    "\n",
    "from scipy.stats import skew\n",
    "\n",
    "# 数値変数を特定\n",
    "numeric_feats = data.dtypes[data.dtypes != \"object\"].index\n",
    "\n",
    "# 各数値変数の歪度を計算し、降順にソート\n",
    "skewed_feats = data[numeric_feats].apply(lambda x: skew(x.dropna())).sort_values(ascending=False)\n",
    "\n",
    "# 歪度を含むデータフレームの作成\n",
    "skewness = pd.DataFrame({'Skew' :skewed_feats})\n",
    "\n",
    "# 最も歪んでいる数値変数の上位10件を表示\n",
    "display(skewness.head(10))\n",
    "\n",
    "# 歪度の絶対値が0.75より大きい特徴量を選択\n",
    "skewness = skewness[abs(skewness) > 0.75]\n",
    "\n",
    "# 歪度が0.75より小さい特徴量を削除\n",
    "skewness = skewness.dropna(axis=0)\n",
    "\n",
    "# Box-Cox変換が必要な歪んだ数値特徴量の数を表示\n",
    "print(f\"There are {skewness.shape[0]} skewed numerical features to Box Cox transform\")\n"
   ]
  },
  {
   "cell_type": "code",
   "execution_count": 17,
   "id": "b091c207",
   "metadata": {
    "execution": {
     "iopub.execute_input": "2024-05-27T07:23:00.657384Z",
     "iopub.status.busy": "2024-05-27T07:23:00.657070Z",
     "iopub.status.idle": "2024-05-27T07:23:00.703182Z",
     "shell.execute_reply": "2024-05-27T07:23:00.702068Z"
    },
    "papermill": {
     "duration": 0.060845,
     "end_time": "2024-05-27T07:23:00.705037",
     "exception": false,
     "start_time": "2024-05-27T07:23:00.644192",
     "status": "completed"
    },
    "tags": []
   },
   "outputs": [
    {
     "data": {
      "text/html": [
       "<div>\n",
       "<style scoped>\n",
       "    .dataframe tbody tr th:only-of-type {\n",
       "        vertical-align: middle;\n",
       "    }\n",
       "\n",
       "    .dataframe tbody tr th {\n",
       "        vertical-align: top;\n",
       "    }\n",
       "\n",
       "    .dataframe thead th {\n",
       "        text-align: right;\n",
       "    }\n",
       "</style>\n",
       "<table border=\"1\" class=\"dataframe\">\n",
       "  <thead>\n",
       "    <tr style=\"text-align: right;\">\n",
       "      <th></th>\n",
       "      <th>Skew</th>\n",
       "      <th>Skew_BoxCox</th>\n",
       "    </tr>\n",
       "  </thead>\n",
       "  <tbody>\n",
       "    <tr>\n",
       "      <th>MiscVal</th>\n",
       "      <td>21.947195</td>\n",
       "      <td>5.597060</td>\n",
       "    </tr>\n",
       "    <tr>\n",
       "      <th>PoolArea</th>\n",
       "      <td>16.898328</td>\n",
       "      <td>15.119426</td>\n",
       "    </tr>\n",
       "    <tr>\n",
       "      <th>LotArea</th>\n",
       "      <td>12.822431</td>\n",
       "      <td>0.210453</td>\n",
       "    </tr>\n",
       "    <tr>\n",
       "      <th>LowQualFinSF</th>\n",
       "      <td>12.088761</td>\n",
       "      <td>8.744143</td>\n",
       "    </tr>\n",
       "    <tr>\n",
       "      <th>3SsnPorch</th>\n",
       "      <td>11.376065</td>\n",
       "      <td>8.924822</td>\n",
       "    </tr>\n",
       "    <tr>\n",
       "      <th>KitchenAbvGr</th>\n",
       "      <td>4.302254</td>\n",
       "      <td>3.698825</td>\n",
       "    </tr>\n",
       "    <tr>\n",
       "      <th>BsmtFinSF2</th>\n",
       "      <td>4.146143</td>\n",
       "      <td>2.564481</td>\n",
       "    </tr>\n",
       "    <tr>\n",
       "      <th>EnclosedPorch</th>\n",
       "      <td>4.003891</td>\n",
       "      <td>2.025461</td>\n",
       "    </tr>\n",
       "    <tr>\n",
       "      <th>ScreenPorch</th>\n",
       "      <td>3.946694</td>\n",
       "      <td>2.978396</td>\n",
       "    </tr>\n",
       "    <tr>\n",
       "      <th>BsmtHalfBath</th>\n",
       "      <td>3.931594</td>\n",
       "      <td>3.788243</td>\n",
       "    </tr>\n",
       "  </tbody>\n",
       "</table>\n",
       "</div>"
      ],
      "text/plain": [
       "                    Skew  Skew_BoxCox\n",
       "MiscVal        21.947195     5.597060\n",
       "PoolArea       16.898328    15.119426\n",
       "LotArea        12.822431     0.210453\n",
       "LowQualFinSF   12.088761     8.744143\n",
       "3SsnPorch      11.376065     8.924822\n",
       "KitchenAbvGr    4.302254     3.698825\n",
       "BsmtFinSF2      4.146143     2.564481\n",
       "EnclosedPorch   4.003891     2.025461\n",
       "ScreenPorch     3.946694     2.978396\n",
       "BsmtHalfBath    3.931594     3.788243"
      ]
     },
     "metadata": {},
     "output_type": "display_data"
    }
   ],
   "source": [
    "\n",
    "#歪度の絶対値が0.75以上のものに対してBox-Cox変換を適用していきます\n",
    "from scipy.special import boxcox1p\n",
    "\n",
    "# Box-Cox変換を適用する数値変数の列を特定\n",
    "indices = skewness.index\n",
    "\n",
    "# 新しい列を格納するための空のリストを作成\n",
    "skewness_after_boxcox = []\n",
    "\n",
    "# Box-Cox変換のパラメータ（ラムダ）を設定\n",
    "lam = 0.15\n",
    "\n",
    "# 各数値変数に対してBox-Cox変換を適用し、新しい列として追加\n",
    "for idx in indices:\n",
    "    transformed_values = boxcox1p(data[idx], lam)\n",
    "    data[idx] = transformed_values\n",
    "    # Box-Cox変換後の歪度を計算し、リストに追加\n",
    "    skewness_after_boxcox.append(skew(transformed_values))\n",
    "\n",
    "# skewnessデータフレームにBox-Cox変換後の歪度を追加\n",
    "skewness['Skew_BoxCox'] = skewness_after_boxcox\n",
    "\n",
    "# Box-Cox変換後の歪度を表示\n",
    "display(skewness.head(10))"
   ]
  },
  {
   "cell_type": "code",
   "execution_count": 18,
   "id": "0ca23283",
   "metadata": {
    "execution": {
     "iopub.execute_input": "2024-05-27T07:23:00.731225Z",
     "iopub.status.busy": "2024-05-27T07:23:00.730319Z",
     "iopub.status.idle": "2024-05-27T07:23:00.808774Z",
     "shell.execute_reply": "2024-05-27T07:23:00.807682Z"
    },
    "papermill": {
     "duration": 0.094458,
     "end_time": "2024-05-27T07:23:00.811365",
     "exception": false,
     "start_time": "2024-05-27T07:23:00.716907",
     "status": "completed"
    },
    "tags": []
   },
   "outputs": [],
   "source": [
    "data_price=data[\"SalePrice\"]\n",
    "\n",
    "data_obj = data.select_dtypes(include=object)\n",
    "data_obj_dummy = pd.get_dummies(data_obj,dtype=int)\n",
    "\n",
    "data_number = data.select_dtypes(include=\"number\")\n",
    "data_number = data_number.drop(\"SalePrice\",axis=1)\n",
    "\n",
    "data_train = data_obj_dummy.join(data_price)\n",
    "data = data_train.join(data_number)\n",
    "\n",
    "df_train = data.loc[data[\"SalePrice\"].notna()]\n",
    "df_test = data.loc[data[\"SalePrice\"].isna()]"
   ]
  },
  {
   "cell_type": "code",
   "execution_count": 19,
   "id": "01cfeef8",
   "metadata": {
    "execution": {
     "iopub.execute_input": "2024-05-27T07:23:00.838960Z",
     "iopub.status.busy": "2024-05-27T07:23:00.838280Z",
     "iopub.status.idle": "2024-05-27T07:23:00.845518Z",
     "shell.execute_reply": "2024-05-27T07:23:00.844492Z"
    },
    "papermill": {
     "duration": 0.022751,
     "end_time": "2024-05-27T07:23:00.847461",
     "exception": false,
     "start_time": "2024-05-27T07:23:00.824710",
     "status": "completed"
    },
    "tags": []
   },
   "outputs": [
    {
     "data": {
      "text/plain": [
       "\"\\n#One-Hot Encodingを適用していきます。カテゴラル変数のエンコーディングのところで、列数膨大化のため後回しにした対応\\n# トレーニングデータの行数を取得\\nntrain = len(df_train)\\n\\n# ワンホットエンコーディングを実行\\nall_data = pd.get_dummies(all_data)\\n\\n# トレーニングデータとテストデータに分割\\ndf_train = all_data[:ntrain]  # 最初のntrain行はトレーニングデータ\\ndf_test = all_data[ntrain:]   # 残りはテストデータ\\n\\n# テストデータから 'SalePrice' 列を削除\\ndf_test = df_test.drop(['SalePrice'], axis=1)\\n\\n# トレーニングデータの形状を表示\\nprint(f'df_train.shape: {df_train.shape}')  # テストデータの行数と列数を表示\\ndisplay(df_train.head(3))  # テストデータの最初の3行を表示\\n\\n# テストデータの形状を表示\\nprint(f'df_test.shape: {df_test.shape}')  # テストデータの行数と列数を表示\\ndisplay(df_test.head(3))  # テストデータの最初の3行を表示\\n\""
      ]
     },
     "execution_count": 19,
     "metadata": {},
     "output_type": "execute_result"
    }
   ],
   "source": [
    "\"\"\"\n",
    "#One-Hot Encodingを適用していきます。カテゴラル変数のエンコーディングのところで、列数膨大化のため後回しにした対応\n",
    "# トレーニングデータの行数を取得\n",
    "ntrain = len(df_train)\n",
    "\n",
    "# ワンホットエンコーディングを実行\n",
    "all_data = pd.get_dummies(all_data)\n",
    "\n",
    "# トレーニングデータとテストデータに分割\n",
    "df_train = all_data[:ntrain]  # 最初のntrain行はトレーニングデータ\n",
    "df_test = all_data[ntrain:]   # 残りはテストデータ\n",
    "\n",
    "# テストデータから 'SalePrice' 列を削除\n",
    "df_test = df_test.drop(['SalePrice'], axis=1)\n",
    "\n",
    "# トレーニングデータの形状を表示\n",
    "print(f'df_train.shape: {df_train.shape}')  # テストデータの行数と列数を表示\n",
    "display(df_train.head(3))  # テストデータの最初の3行を表示\n",
    "\n",
    "# テストデータの形状を表示\n",
    "print(f'df_test.shape: {df_test.shape}')  # テストデータの行数と列数を表示\n",
    "display(df_test.head(3))  # テストデータの最初の3行を表示\n",
    "\"\"\""
   ]
  },
  {
   "cell_type": "code",
   "execution_count": 20,
   "id": "1d337911",
   "metadata": {
    "execution": {
     "iopub.execute_input": "2024-05-27T07:23:00.875251Z",
     "iopub.status.busy": "2024-05-27T07:23:00.874940Z",
     "iopub.status.idle": "2024-05-27T07:23:06.887000Z",
     "shell.execute_reply": "2024-05-27T07:23:06.885869Z"
    },
    "papermill": {
     "duration": 6.028371,
     "end_time": "2024-05-27T07:23:06.889087",
     "exception": false,
     "start_time": "2024-05-27T07:23:00.860716",
     "status": "completed"
    },
    "tags": []
   },
   "outputs": [
    {
     "name": "stdout",
     "output_type": "stream",
     "text": [
      "[LightGBM] [Warning] Found whitespace in feature_names, replace with underlines\n",
      "[LightGBM] [Info] Auto-choosing row-wise multi-threading, the overhead of testing was 0.004426 seconds.\n",
      "You can set `force_row_wise=true` to remove the overhead.\n",
      "And if memory is not enough, you can set `force_col_wise=true`.\n",
      "[LightGBM] [Info] Total Bins 3460\n",
      "[LightGBM] [Info] Number of data points in the train set: 1168, number of used features: 179\n",
      "[LightGBM] [Info] Start training from score 33.919944\n"
     ]
    },
    {
     "data": {
      "text/html": [
       "<div>\n",
       "<style scoped>\n",
       "    .dataframe tbody tr th:only-of-type {\n",
       "        vertical-align: middle;\n",
       "    }\n",
       "\n",
       "    .dataframe tbody tr th {\n",
       "        vertical-align: top;\n",
       "    }\n",
       "\n",
       "    .dataframe thead th {\n",
       "        text-align: right;\n",
       "    }\n",
       "</style>\n",
       "<table border=\"1\" class=\"dataframe\">\n",
       "  <thead>\n",
       "    <tr style=\"text-align: right;\">\n",
       "      <th></th>\n",
       "      <th>Model</th>\n",
       "      <th>MSE</th>\n",
       "    </tr>\n",
       "  </thead>\n",
       "  <tbody>\n",
       "    <tr>\n",
       "      <th>1</th>\n",
       "      <td>Ridge</td>\n",
       "      <td>5.956994e-01</td>\n",
       "    </tr>\n",
       "    <tr>\n",
       "      <th>6</th>\n",
       "      <td>LGBMRegressor</td>\n",
       "      <td>6.787816e-01</td>\n",
       "    </tr>\n",
       "    <tr>\n",
       "      <th>5</th>\n",
       "      <td>XGBRegressor</td>\n",
       "      <td>7.099704e-01</td>\n",
       "    </tr>\n",
       "    <tr>\n",
       "      <th>4</th>\n",
       "      <td>RandomForestRegressor</td>\n",
       "      <td>7.589941e-01</td>\n",
       "    </tr>\n",
       "    <tr>\n",
       "      <th>3</th>\n",
       "      <td>DecisionTreeRegressor</td>\n",
       "      <td>1.521143e+00</td>\n",
       "    </tr>\n",
       "    <tr>\n",
       "      <th>2</th>\n",
       "      <td>Lasso</td>\n",
       "      <td>2.658552e+00</td>\n",
       "    </tr>\n",
       "    <tr>\n",
       "      <th>0</th>\n",
       "      <td>LinearRegression</td>\n",
       "      <td>9.502469e+13</td>\n",
       "    </tr>\n",
       "  </tbody>\n",
       "</table>\n",
       "</div>"
      ],
      "text/plain": [
       "                   Model           MSE\n",
       "1                  Ridge  5.956994e-01\n",
       "6          LGBMRegressor  6.787816e-01\n",
       "5           XGBRegressor  7.099704e-01\n",
       "4  RandomForestRegressor  7.589941e-01\n",
       "3  DecisionTreeRegressor  1.521143e+00\n",
       "2                  Lasso  2.658552e+00\n",
       "0       LinearRegression  9.502469e+13"
      ]
     },
     "metadata": {},
     "output_type": "display_data"
    }
   ],
   "source": [
    "# 必要なライブラリをインポート\n",
    "from sklearn.model_selection import train_test_split\n",
    "from sklearn.linear_model import LinearRegression, Ridge, Lasso\n",
    "from sklearn.tree import DecisionTreeRegressor\n",
    "from sklearn.ensemble import RandomForestRegressor\n",
    "from xgboost import XGBRegressor\n",
    "from lightgbm import LGBMRegressor\n",
    "from sklearn.metrics import mean_squared_error\n",
    "\n",
    "# 説明変数と目的変数を選択\n",
    "X = df_train.drop(['Id', 'SalePrice'], axis=1)\n",
    "y = df_train['SalePrice']\n",
    "\n",
    "# データの分割\n",
    "X_train, X_test, y_train, y_test = train_test_split(X, y, test_size=0.2, random_state=42)\n",
    "\n",
    "# モデルの構築と学習\n",
    "models = [\n",
    "    LinearRegression(),\n",
    "    Ridge(alpha=1.0),\n",
    "    Lasso(alpha=1.0),\n",
    "    DecisionTreeRegressor(),\n",
    "    RandomForestRegressor(),\n",
    "    XGBRegressor(),\n",
    "    LGBMRegressor()\n",
    "]\n",
    "\n",
    "# 結果を保存するためのデータフレームを作成\n",
    "results = pd.DataFrame(columns=['Model', 'MSE'])\n",
    "\n",
    "# 各モデルに対して学習と評価を行うループ\n",
    "for model in models:\n",
    "    model_name = model.__class__.__name__  # モデルの名前を取得\n",
    "    model.fit(X_train, y_train)  # モデルの学習\n",
    "    y_pred = model.predict(X_test)  # 予測\n",
    "    \n",
    "    mse = mean_squared_error(y_test, y_pred)  # 平均二乗誤差を計算\n",
    "    \n",
    "    # 結果をデータフレームに登録\n",
    "    results = pd.concat([results, pd.DataFrame({'Model': [model_name], 'MSE': [mse]})], ignore_index=True)\n",
    "\n",
    "# MSEによって結果をソート\n",
    "results = results.sort_values(by='MSE')\n",
    "\n",
    "# 結果を出力\n",
    "display(results)"
   ]
  },
  {
   "cell_type": "code",
   "execution_count": 21,
   "id": "e871b2a6",
   "metadata": {
    "execution": {
     "iopub.execute_input": "2024-05-27T07:23:06.916885Z",
     "iopub.status.busy": "2024-05-27T07:23:06.916339Z",
     "iopub.status.idle": "2024-05-27T07:23:11.026754Z",
     "shell.execute_reply": "2024-05-27T07:23:11.025228Z"
    },
    "papermill": {
     "duration": 4.12767,
     "end_time": "2024-05-27T07:23:11.030307",
     "exception": false,
     "start_time": "2024-05-27T07:23:06.902637",
     "status": "completed"
    },
    "tags": []
   },
   "outputs": [
    {
     "name": "stdout",
     "output_type": "stream",
     "text": [
      "Best alpha: 14.38449888287663\n"
     ]
    }
   ],
   "source": [
    "from sklearn.model_selection import GridSearchCV\n",
    "\n",
    "# 開始値（最小値）と終了値（最大値）を指定\n",
    "start_alpha = 0.01\n",
    "end_alpha = 100\n",
    "\n",
    "# 生成する値の個数を指定\n",
    "num_values = 20\n",
    "\n",
    "# 対数スケールでalphaの値を生成\n",
    "alphas = np.logspace(np.log10(start_alpha), np.log10(end_alpha), num=num_values)\n",
    "\n",
    "# Ridge回帰モデルを作成\n",
    "ridge = Ridge()\n",
    "\n",
    "# グリッドサーチのパラメータグリッドを定義\n",
    "param_grid = {'alpha': alphas}\n",
    "\n",
    "# クロスバリデーションとグリッドサーチを組み合わせて最適なalphaを探索\n",
    "grid_search = GridSearchCV(ridge, param_grid, cv=5, scoring='neg_mean_squared_error')\n",
    "grid_search.fit(X_train, y_train)\n",
    "\n",
    "# 最適なalphaを表示\n",
    "best_alpha = grid_search.best_params_['alpha']\n",
    "print(f\"Best alpha: {best_alpha}\")"
   ]
  },
  {
   "cell_type": "code",
   "execution_count": 22,
   "id": "1c54b1bd",
   "metadata": {
    "execution": {
     "iopub.execute_input": "2024-05-27T07:23:11.145247Z",
     "iopub.status.busy": "2024-05-27T07:23:11.144870Z",
     "iopub.status.idle": "2024-05-27T07:23:11.216768Z",
     "shell.execute_reply": "2024-05-27T07:23:11.215750Z"
    },
    "papermill": {
     "duration": 0.123572,
     "end_time": "2024-05-27T07:23:11.219925",
     "exception": false,
     "start_time": "2024-05-27T07:23:11.096353",
     "status": "completed"
    },
    "tags": []
   },
   "outputs": [
    {
     "data": {
      "text/html": [
       "<div>\n",
       "<style scoped>\n",
       "    .dataframe tbody tr th:only-of-type {\n",
       "        vertical-align: middle;\n",
       "    }\n",
       "\n",
       "    .dataframe tbody tr th {\n",
       "        vertical-align: top;\n",
       "    }\n",
       "\n",
       "    .dataframe thead th {\n",
       "        text-align: right;\n",
       "    }\n",
       "</style>\n",
       "<table border=\"1\" class=\"dataframe\">\n",
       "  <thead>\n",
       "    <tr style=\"text-align: right;\">\n",
       "      <th></th>\n",
       "      <th>Id</th>\n",
       "      <th>SalePrice</th>\n",
       "    </tr>\n",
       "  </thead>\n",
       "  <tbody>\n",
       "    <tr>\n",
       "      <th>1461</th>\n",
       "      <td>1461</td>\n",
       "      <td>5.506319e+13</td>\n",
       "    </tr>\n",
       "    <tr>\n",
       "      <th>1462</th>\n",
       "      <td>1462</td>\n",
       "      <td>3.782724e+14</td>\n",
       "    </tr>\n",
       "    <tr>\n",
       "      <th>1463</th>\n",
       "      <td>1463</td>\n",
       "      <td>9.017333e+14</td>\n",
       "    </tr>\n",
       "    <tr>\n",
       "      <th>1464</th>\n",
       "      <td>1464</td>\n",
       "      <td>1.466994e+15</td>\n",
       "    </tr>\n",
       "    <tr>\n",
       "      <th>1465</th>\n",
       "      <td>1465</td>\n",
       "      <td>1.381450e+15</td>\n",
       "    </tr>\n",
       "    <tr>\n",
       "      <th>...</th>\n",
       "      <td>...</td>\n",
       "      <td>...</td>\n",
       "    </tr>\n",
       "    <tr>\n",
       "      <th>2915</th>\n",
       "      <td>2915</td>\n",
       "      <td>1.263816e+13</td>\n",
       "    </tr>\n",
       "    <tr>\n",
       "      <th>2916</th>\n",
       "      <td>2916</td>\n",
       "      <td>8.165171e+12</td>\n",
       "    </tr>\n",
       "    <tr>\n",
       "      <th>2917</th>\n",
       "      <td>2917</td>\n",
       "      <td>5.487399e+14</td>\n",
       "    </tr>\n",
       "    <tr>\n",
       "      <th>2918</th>\n",
       "      <td>2918</td>\n",
       "      <td>6.141482e+13</td>\n",
       "    </tr>\n",
       "    <tr>\n",
       "      <th>2919</th>\n",
       "      <td>2919</td>\n",
       "      <td>3.149968e+15</td>\n",
       "    </tr>\n",
       "  </tbody>\n",
       "</table>\n",
       "<p>1459 rows × 2 columns</p>\n",
       "</div>"
      ],
      "text/plain": [
       "        Id     SalePrice\n",
       "1461  1461  5.506319e+13\n",
       "1462  1462  3.782724e+14\n",
       "1463  1463  9.017333e+14\n",
       "1464  1464  1.466994e+15\n",
       "1465  1465  1.381450e+15\n",
       "...    ...           ...\n",
       "2915  2915  1.263816e+13\n",
       "2916  2916  8.165171e+12\n",
       "2917  2917  5.487399e+14\n",
       "2918  2918  6.141482e+13\n",
       "2919  2919  3.149968e+15\n",
       "\n",
       "[1459 rows x 2 columns]"
      ]
     },
     "execution_count": 22,
     "metadata": {},
     "output_type": "execute_result"
    }
   ],
   "source": [
    "# 最適なalphaでRidge回帰モデルを再訓練\n",
    "model = Ridge(alpha=best_alpha).fit(X, y)\n",
    "id_test = df_test[\"Id\"]\n",
    "df_test = df_test.drop(['Id', 'SalePrice'], axis=1)\n",
    "\n",
    "# テストデータに対して予測を行い、exp(x) - 1を適用して元のスケールに戻す\n",
    "sub_pred = np.expm1(model.predict(df_test))\n",
    "\n",
    "# 提出用のデータフレームを作成\n",
    "submission = pd.DataFrame({'Id': id_test, 'SalePrice': sub_pred})\n",
    "submission"
   ]
  },
  {
   "cell_type": "code",
   "execution_count": 23,
   "id": "5de45ec8",
   "metadata": {
    "execution": {
     "iopub.execute_input": "2024-05-27T07:23:11.313202Z",
     "iopub.status.busy": "2024-05-27T07:23:11.312557Z",
     "iopub.status.idle": "2024-05-27T07:23:11.325497Z",
     "shell.execute_reply": "2024-05-27T07:23:11.324840Z"
    },
    "papermill": {
     "duration": 0.056494,
     "end_time": "2024-05-27T07:23:11.327640",
     "exception": false,
     "start_time": "2024-05-27T07:23:11.271146",
     "status": "completed"
    },
    "tags": []
   },
   "outputs": [],
   "source": [
    "submission.to_csv(\"submission.csv\", index=False)"
   ]
  },
  {
   "cell_type": "code",
   "execution_count": null,
   "id": "ce693ffc",
   "metadata": {
    "papermill": {
     "duration": 0.013722,
     "end_time": "2024-05-27T07:23:11.354498",
     "exception": false,
     "start_time": "2024-05-27T07:23:11.340776",
     "status": "completed"
    },
    "tags": []
   },
   "outputs": [],
   "source": []
  }
 ],
 "metadata": {
  "kaggle": {
   "accelerator": "none",
   "dataSources": [
    {
     "databundleVersionId": 868283,
     "sourceId": 5407,
     "sourceType": "competition"
    }
   ],
   "dockerImageVersionId": 30698,
   "isGpuEnabled": false,
   "isInternetEnabled": true,
   "language": "python",
   "sourceType": "notebook"
  },
  "kernelspec": {
   "display_name": "Python 3",
   "language": "python",
   "name": "python3"
  },
  "language_info": {
   "codemirror_mode": {
    "name": "ipython",
    "version": 3
   },
   "file_extension": ".py",
   "mimetype": "text/x-python",
   "name": "python",
   "nbconvert_exporter": "python",
   "pygments_lexer": "ipython3",
   "version": "3.10.13"
  },
  "papermill": {
   "default_parameters": {},
   "duration": 17.50432,
   "end_time": "2024-05-27T07:23:11.988338",
   "environment_variables": {},
   "exception": null,
   "input_path": "__notebook__.ipynb",
   "output_path": "__notebook__.ipynb",
   "parameters": {},
   "start_time": "2024-05-27T07:22:54.484018",
   "version": "2.5.0"
  }
 },
 "nbformat": 4,
 "nbformat_minor": 5
}
