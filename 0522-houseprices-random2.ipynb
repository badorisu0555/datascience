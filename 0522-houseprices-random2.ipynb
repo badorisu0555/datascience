{
 "cells": [
  {
   "cell_type": "code",
   "execution_count": 1,
   "id": "e08ac8ec",
   "metadata": {
    "_cell_guid": "b1076dfc-b9ad-4769-8c92-a6c4dae69d19",
    "_uuid": "8f2839f25d086af736a60e9eeb907d3b93b6e0e5",
    "execution": {
     "iopub.execute_input": "2024-05-25T03:52:15.188990Z",
     "iopub.status.busy": "2024-05-25T03:52:15.188367Z",
     "iopub.status.idle": "2024-05-25T03:52:19.705574Z",
     "shell.execute_reply": "2024-05-25T03:52:19.704335Z"
    },
    "papermill": {
     "duration": 4.542105,
     "end_time": "2024-05-25T03:52:19.708973",
     "exception": false,
     "start_time": "2024-05-25T03:52:15.166868",
     "status": "completed"
    },
    "tags": []
   },
   "outputs": [],
   "source": [
    "import pandas as pd\n",
    "import numpy as np\n",
    "import matplotlib.pyplot as plt\n",
    "import seaborn as sns\n",
    "from sklearn.linear_model import LogisticRegression, LinearRegression, Ridge, Lasso\n",
    "from sklearn.preprocessing import StandardScaler\n",
    "from sklearn.model_selection import train_test_split\n",
    "from sklearn.ensemble import RandomForestClassifier\n",
    "from sklearn.ensemble import RandomForestRegressor\n",
    "\n",
    "from sklearn.metrics import accuracy_score\n",
    "import lightgbm as lgb\n",
    "from sklearn.model_selection import train_test_split\n",
    "import optuna\n",
    "from sklearn.metrics import log_loss\n",
    "from sklearn.pipeline import Pipeline,make_pipeline\n",
    "from sklearn.model_selection import GridSearchCV\n",
    "from sklearn.neighbors import KNeighborsClassifier\n",
    "from sklearn.svm import SVC\n",
    "from sklearn.metrics import log_loss\n",
    "from sklearn.metrics import make_scorer, mean_squared_error\n",
    "import xgboost as xgb\n",
    "\n",
    "import warnings\n",
    "warnings.simplefilter('ignore')\n",
    "#赤背景になっている警告を非表示に"
   ]
  },
  {
   "cell_type": "markdown",
   "id": "5a98fca2",
   "metadata": {
    "papermill": {
     "duration": 0.021254,
     "end_time": "2024-05-25T03:52:19.749344",
     "exception": false,
     "start_time": "2024-05-25T03:52:19.728090",
     "status": "completed"
    },
    "tags": []
   },
   "source": [
    "効果がなかったこと\n",
    "* 正規化、歪度の調整\n",
    "* poachと部屋面積の特徴量を追加\n",
    "* 外れ値を削除\n",
    "* nullのボリュームが多い特徴量をNoにする\n",
    "* A:1階/2階と地下の総面積と、地下室の舗装された面積と1階/2階の面積を足した特徴量を追加\n",
    "* Aに加えて、areaの特徴量を削除\n",
    "* streetとutilitiesの特徴量を削除"
   ]
  },
  {
   "cell_type": "markdown",
   "id": "a16dd8bc",
   "metadata": {
    "papermill": {
     "duration": 0.021007,
     "end_time": "2024-05-25T03:52:19.789205",
     "exception": false,
     "start_time": "2024-05-25T03:52:19.768198",
     "status": "completed"
    },
    "tags": []
   },
   "source": [
    "こちらの前処理のほうが効果が出るモデル\n",
    "* randomforest：0.15102\n",
    "* xgboost：0.14278\n"
   ]
  },
  {
   "cell_type": "code",
   "execution_count": 2,
   "id": "846f6bca",
   "metadata": {
    "execution": {
     "iopub.execute_input": "2024-05-25T03:52:19.828842Z",
     "iopub.status.busy": "2024-05-25T03:52:19.828283Z",
     "iopub.status.idle": "2024-05-25T03:52:19.936406Z",
     "shell.execute_reply": "2024-05-25T03:52:19.935353Z"
    },
    "papermill": {
     "duration": 0.131068,
     "end_time": "2024-05-25T03:52:19.939073",
     "exception": false,
     "start_time": "2024-05-25T03:52:19.808005",
     "status": "completed"
    },
    "tags": []
   },
   "outputs": [],
   "source": [
    "sample_submission = pd.read_csv(\"/kaggle/input/house-prices-advanced-regression-techniques/sample_submission.csv\")\n",
    "test_original = pd.read_csv(\"/kaggle/input/house-prices-advanced-regression-techniques/test.csv\")\n",
    "train_original = pd.read_csv(\"/kaggle/input/house-prices-advanced-regression-techniques/train.csv\")\n",
    "train = train_original\n",
    "test = test_original\n",
    "y_train = train_original[\"SalePrice\"]\n",
    "\n",
    "data_origin=pd.concat([train,test])\n",
    "data_origin.index = np.arange(1,2920)\n",
    "data = data_origin"
   ]
  },
  {
   "cell_type": "code",
   "execution_count": 3,
   "id": "9cc51129",
   "metadata": {
    "execution": {
     "iopub.execute_input": "2024-05-25T03:52:19.978319Z",
     "iopub.status.busy": "2024-05-25T03:52:19.977903Z",
     "iopub.status.idle": "2024-05-25T03:52:19.986353Z",
     "shell.execute_reply": "2024-05-25T03:52:19.985099Z"
    },
    "papermill": {
     "duration": 0.031235,
     "end_time": "2024-05-25T03:52:19.988809",
     "exception": false,
     "start_time": "2024-05-25T03:52:19.957574",
     "status": "completed"
    },
    "tags": []
   },
   "outputs": [
    {
     "data": {
      "text/plain": [
       "'\\nprint(len(data))\\ndata.isnull().sum().sort_values(ascending=False).head(40)\\ndata[\"GarageCars\"].dtypes\\n'"
      ]
     },
     "execution_count": 3,
     "metadata": {},
     "output_type": "execute_result"
    }
   ],
   "source": [
    "\"\"\"\n",
    "print(len(data))\n",
    "data.isnull().sum().sort_values(ascending=False).head(40)\n",
    "data[\"GarageCars\"].dtypes\n",
    "\"\"\""
   ]
  },
  {
   "cell_type": "code",
   "execution_count": 4,
   "id": "7aedb1dd",
   "metadata": {
    "execution": {
     "iopub.execute_input": "2024-05-25T03:52:20.028933Z",
     "iopub.status.busy": "2024-05-25T03:52:20.028557Z",
     "iopub.status.idle": "2024-05-25T03:52:20.049365Z",
     "shell.execute_reply": "2024-05-25T03:52:20.048236Z"
    },
    "papermill": {
     "duration": 0.043907,
     "end_time": "2024-05-25T03:52:20.051902",
     "exception": false,
     "start_time": "2024-05-25T03:52:20.007995",
     "status": "completed"
    },
    "tags": []
   },
   "outputs": [],
   "source": [
    "drop_columns = [\"PoolQC\",\"MiscFeature\",\"Alley\",\"Fence\",\"MasVnrType\",\"FireplaceQu\"]\n",
    "data = data.drop(drop_columns,axis=1)"
   ]
  },
  {
   "cell_type": "code",
   "execution_count": 5,
   "id": "d8ace391",
   "metadata": {
    "execution": {
     "iopub.execute_input": "2024-05-25T03:52:20.093883Z",
     "iopub.status.busy": "2024-05-25T03:52:20.093466Z",
     "iopub.status.idle": "2024-05-25T03:52:20.255595Z",
     "shell.execute_reply": "2024-05-25T03:52:20.254461Z"
    },
    "papermill": {
     "duration": 0.187441,
     "end_time": "2024-05-25T03:52:20.258116",
     "exception": false,
     "start_time": "2024-05-25T03:52:20.070675",
     "status": "completed"
    },
    "tags": []
   },
   "outputs": [
    {
     "data": {
      "text/html": [
       "<div>\n",
       "<style scoped>\n",
       "    .dataframe tbody tr th:only-of-type {\n",
       "        vertical-align: middle;\n",
       "    }\n",
       "\n",
       "    .dataframe tbody tr th {\n",
       "        vertical-align: top;\n",
       "    }\n",
       "\n",
       "    .dataframe thead th {\n",
       "        text-align: right;\n",
       "    }\n",
       "</style>\n",
       "<table border=\"1\" class=\"dataframe\">\n",
       "  <thead>\n",
       "    <tr style=\"text-align: right;\">\n",
       "      <th></th>\n",
       "      <th>Id</th>\n",
       "      <th>MSSubClass</th>\n",
       "      <th>MSZoning</th>\n",
       "      <th>LotFrontage</th>\n",
       "      <th>LotArea</th>\n",
       "      <th>Street</th>\n",
       "      <th>LotShape</th>\n",
       "      <th>LandContour</th>\n",
       "      <th>Utilities</th>\n",
       "      <th>LotConfig</th>\n",
       "      <th>...</th>\n",
       "      <th>EnclosedPorch</th>\n",
       "      <th>3SsnPorch</th>\n",
       "      <th>ScreenPorch</th>\n",
       "      <th>PoolArea</th>\n",
       "      <th>MiscVal</th>\n",
       "      <th>MoSold</th>\n",
       "      <th>YrSold</th>\n",
       "      <th>SaleType</th>\n",
       "      <th>SaleCondition</th>\n",
       "      <th>SalePrice</th>\n",
       "    </tr>\n",
       "  </thead>\n",
       "  <tbody>\n",
       "    <tr>\n",
       "      <th>1</th>\n",
       "      <td>1</td>\n",
       "      <td>60</td>\n",
       "      <td>RL</td>\n",
       "      <td>65.0</td>\n",
       "      <td>8450</td>\n",
       "      <td>Pave</td>\n",
       "      <td>Reg</td>\n",
       "      <td>Lvl</td>\n",
       "      <td>AllPub</td>\n",
       "      <td>Inside</td>\n",
       "      <td>...</td>\n",
       "      <td>0</td>\n",
       "      <td>0</td>\n",
       "      <td>0</td>\n",
       "      <td>0</td>\n",
       "      <td>0</td>\n",
       "      <td>2</td>\n",
       "      <td>2008</td>\n",
       "      <td>WD</td>\n",
       "      <td>Normal</td>\n",
       "      <td>208500.0</td>\n",
       "    </tr>\n",
       "    <tr>\n",
       "      <th>2</th>\n",
       "      <td>2</td>\n",
       "      <td>20</td>\n",
       "      <td>RL</td>\n",
       "      <td>80.0</td>\n",
       "      <td>9600</td>\n",
       "      <td>Pave</td>\n",
       "      <td>Reg</td>\n",
       "      <td>Lvl</td>\n",
       "      <td>AllPub</td>\n",
       "      <td>FR2</td>\n",
       "      <td>...</td>\n",
       "      <td>0</td>\n",
       "      <td>0</td>\n",
       "      <td>0</td>\n",
       "      <td>0</td>\n",
       "      <td>0</td>\n",
       "      <td>5</td>\n",
       "      <td>2007</td>\n",
       "      <td>WD</td>\n",
       "      <td>Normal</td>\n",
       "      <td>181500.0</td>\n",
       "    </tr>\n",
       "    <tr>\n",
       "      <th>3</th>\n",
       "      <td>3</td>\n",
       "      <td>60</td>\n",
       "      <td>RL</td>\n",
       "      <td>68.0</td>\n",
       "      <td>11250</td>\n",
       "      <td>Pave</td>\n",
       "      <td>IR1</td>\n",
       "      <td>Lvl</td>\n",
       "      <td>AllPub</td>\n",
       "      <td>Inside</td>\n",
       "      <td>...</td>\n",
       "      <td>0</td>\n",
       "      <td>0</td>\n",
       "      <td>0</td>\n",
       "      <td>0</td>\n",
       "      <td>0</td>\n",
       "      <td>9</td>\n",
       "      <td>2008</td>\n",
       "      <td>WD</td>\n",
       "      <td>Normal</td>\n",
       "      <td>223500.0</td>\n",
       "    </tr>\n",
       "    <tr>\n",
       "      <th>4</th>\n",
       "      <td>4</td>\n",
       "      <td>70</td>\n",
       "      <td>RL</td>\n",
       "      <td>60.0</td>\n",
       "      <td>9550</td>\n",
       "      <td>Pave</td>\n",
       "      <td>IR1</td>\n",
       "      <td>Lvl</td>\n",
       "      <td>AllPub</td>\n",
       "      <td>Corner</td>\n",
       "      <td>...</td>\n",
       "      <td>272</td>\n",
       "      <td>0</td>\n",
       "      <td>0</td>\n",
       "      <td>0</td>\n",
       "      <td>0</td>\n",
       "      <td>2</td>\n",
       "      <td>2006</td>\n",
       "      <td>WD</td>\n",
       "      <td>Abnorml</td>\n",
       "      <td>140000.0</td>\n",
       "    </tr>\n",
       "    <tr>\n",
       "      <th>5</th>\n",
       "      <td>5</td>\n",
       "      <td>60</td>\n",
       "      <td>RL</td>\n",
       "      <td>84.0</td>\n",
       "      <td>14260</td>\n",
       "      <td>Pave</td>\n",
       "      <td>IR1</td>\n",
       "      <td>Lvl</td>\n",
       "      <td>AllPub</td>\n",
       "      <td>FR2</td>\n",
       "      <td>...</td>\n",
       "      <td>0</td>\n",
       "      <td>0</td>\n",
       "      <td>0</td>\n",
       "      <td>0</td>\n",
       "      <td>0</td>\n",
       "      <td>12</td>\n",
       "      <td>2008</td>\n",
       "      <td>WD</td>\n",
       "      <td>Normal</td>\n",
       "      <td>250000.0</td>\n",
       "    </tr>\n",
       "    <tr>\n",
       "      <th>...</th>\n",
       "      <td>...</td>\n",
       "      <td>...</td>\n",
       "      <td>...</td>\n",
       "      <td>...</td>\n",
       "      <td>...</td>\n",
       "      <td>...</td>\n",
       "      <td>...</td>\n",
       "      <td>...</td>\n",
       "      <td>...</td>\n",
       "      <td>...</td>\n",
       "      <td>...</td>\n",
       "      <td>...</td>\n",
       "      <td>...</td>\n",
       "      <td>...</td>\n",
       "      <td>...</td>\n",
       "      <td>...</td>\n",
       "      <td>...</td>\n",
       "      <td>...</td>\n",
       "      <td>...</td>\n",
       "      <td>...</td>\n",
       "      <td>...</td>\n",
       "    </tr>\n",
       "    <tr>\n",
       "      <th>2915</th>\n",
       "      <td>2915</td>\n",
       "      <td>160</td>\n",
       "      <td>RM</td>\n",
       "      <td>21.0</td>\n",
       "      <td>1936</td>\n",
       "      <td>Pave</td>\n",
       "      <td>Reg</td>\n",
       "      <td>Lvl</td>\n",
       "      <td>AllPub</td>\n",
       "      <td>Inside</td>\n",
       "      <td>...</td>\n",
       "      <td>0</td>\n",
       "      <td>0</td>\n",
       "      <td>0</td>\n",
       "      <td>0</td>\n",
       "      <td>0</td>\n",
       "      <td>6</td>\n",
       "      <td>2006</td>\n",
       "      <td>WD</td>\n",
       "      <td>Normal</td>\n",
       "      <td>NaN</td>\n",
       "    </tr>\n",
       "    <tr>\n",
       "      <th>2916</th>\n",
       "      <td>2916</td>\n",
       "      <td>160</td>\n",
       "      <td>RM</td>\n",
       "      <td>21.0</td>\n",
       "      <td>1894</td>\n",
       "      <td>Pave</td>\n",
       "      <td>Reg</td>\n",
       "      <td>Lvl</td>\n",
       "      <td>AllPub</td>\n",
       "      <td>Inside</td>\n",
       "      <td>...</td>\n",
       "      <td>0</td>\n",
       "      <td>0</td>\n",
       "      <td>0</td>\n",
       "      <td>0</td>\n",
       "      <td>0</td>\n",
       "      <td>4</td>\n",
       "      <td>2006</td>\n",
       "      <td>WD</td>\n",
       "      <td>Abnorml</td>\n",
       "      <td>NaN</td>\n",
       "    </tr>\n",
       "    <tr>\n",
       "      <th>2917</th>\n",
       "      <td>2917</td>\n",
       "      <td>20</td>\n",
       "      <td>RL</td>\n",
       "      <td>160.0</td>\n",
       "      <td>20000</td>\n",
       "      <td>Pave</td>\n",
       "      <td>Reg</td>\n",
       "      <td>Lvl</td>\n",
       "      <td>AllPub</td>\n",
       "      <td>Inside</td>\n",
       "      <td>...</td>\n",
       "      <td>0</td>\n",
       "      <td>0</td>\n",
       "      <td>0</td>\n",
       "      <td>0</td>\n",
       "      <td>0</td>\n",
       "      <td>9</td>\n",
       "      <td>2006</td>\n",
       "      <td>WD</td>\n",
       "      <td>Abnorml</td>\n",
       "      <td>NaN</td>\n",
       "    </tr>\n",
       "    <tr>\n",
       "      <th>2918</th>\n",
       "      <td>2918</td>\n",
       "      <td>85</td>\n",
       "      <td>RL</td>\n",
       "      <td>62.0</td>\n",
       "      <td>10441</td>\n",
       "      <td>Pave</td>\n",
       "      <td>Reg</td>\n",
       "      <td>Lvl</td>\n",
       "      <td>AllPub</td>\n",
       "      <td>Inside</td>\n",
       "      <td>...</td>\n",
       "      <td>0</td>\n",
       "      <td>0</td>\n",
       "      <td>0</td>\n",
       "      <td>0</td>\n",
       "      <td>700</td>\n",
       "      <td>7</td>\n",
       "      <td>2006</td>\n",
       "      <td>WD</td>\n",
       "      <td>Normal</td>\n",
       "      <td>NaN</td>\n",
       "    </tr>\n",
       "    <tr>\n",
       "      <th>2919</th>\n",
       "      <td>2919</td>\n",
       "      <td>60</td>\n",
       "      <td>RL</td>\n",
       "      <td>74.0</td>\n",
       "      <td>9627</td>\n",
       "      <td>Pave</td>\n",
       "      <td>Reg</td>\n",
       "      <td>Lvl</td>\n",
       "      <td>AllPub</td>\n",
       "      <td>Inside</td>\n",
       "      <td>...</td>\n",
       "      <td>0</td>\n",
       "      <td>0</td>\n",
       "      <td>0</td>\n",
       "      <td>0</td>\n",
       "      <td>0</td>\n",
       "      <td>11</td>\n",
       "      <td>2006</td>\n",
       "      <td>WD</td>\n",
       "      <td>Normal</td>\n",
       "      <td>NaN</td>\n",
       "    </tr>\n",
       "  </tbody>\n",
       "</table>\n",
       "<p>2919 rows × 75 columns</p>\n",
       "</div>"
      ],
      "text/plain": [
       "        Id  MSSubClass MSZoning  LotFrontage  LotArea Street LotShape  \\\n",
       "1        1          60       RL         65.0     8450   Pave      Reg   \n",
       "2        2          20       RL         80.0     9600   Pave      Reg   \n",
       "3        3          60       RL         68.0    11250   Pave      IR1   \n",
       "4        4          70       RL         60.0     9550   Pave      IR1   \n",
       "5        5          60       RL         84.0    14260   Pave      IR1   \n",
       "...    ...         ...      ...          ...      ...    ...      ...   \n",
       "2915  2915         160       RM         21.0     1936   Pave      Reg   \n",
       "2916  2916         160       RM         21.0     1894   Pave      Reg   \n",
       "2917  2917          20       RL        160.0    20000   Pave      Reg   \n",
       "2918  2918          85       RL         62.0    10441   Pave      Reg   \n",
       "2919  2919          60       RL         74.0     9627   Pave      Reg   \n",
       "\n",
       "     LandContour Utilities LotConfig  ... EnclosedPorch 3SsnPorch ScreenPorch  \\\n",
       "1            Lvl    AllPub    Inside  ...             0         0           0   \n",
       "2            Lvl    AllPub       FR2  ...             0         0           0   \n",
       "3            Lvl    AllPub    Inside  ...             0         0           0   \n",
       "4            Lvl    AllPub    Corner  ...           272         0           0   \n",
       "5            Lvl    AllPub       FR2  ...             0         0           0   \n",
       "...          ...       ...       ...  ...           ...       ...         ...   \n",
       "2915         Lvl    AllPub    Inside  ...             0         0           0   \n",
       "2916         Lvl    AllPub    Inside  ...             0         0           0   \n",
       "2917         Lvl    AllPub    Inside  ...             0         0           0   \n",
       "2918         Lvl    AllPub    Inside  ...             0         0           0   \n",
       "2919         Lvl    AllPub    Inside  ...             0         0           0   \n",
       "\n",
       "     PoolArea MiscVal MoSold  YrSold  SaleType  SaleCondition  SalePrice  \n",
       "1           0       0      2    2008        WD         Normal   208500.0  \n",
       "2           0       0      5    2007        WD         Normal   181500.0  \n",
       "3           0       0      9    2008        WD         Normal   223500.0  \n",
       "4           0       0      2    2006        WD        Abnorml   140000.0  \n",
       "5           0       0     12    2008        WD         Normal   250000.0  \n",
       "...       ...     ...    ...     ...       ...            ...        ...  \n",
       "2915        0       0      6    2006        WD         Normal        NaN  \n",
       "2916        0       0      4    2006        WD        Abnorml        NaN  \n",
       "2917        0       0      9    2006        WD        Abnorml        NaN  \n",
       "2918        0     700      7    2006        WD         Normal        NaN  \n",
       "2919        0       0     11    2006        WD         Normal        NaN  \n",
       "\n",
       "[2919 rows x 75 columns]"
      ]
     },
     "execution_count": 5,
     "metadata": {},
     "output_type": "execute_result"
    }
   ],
   "source": [
    "null_No_list=['BsmtQual', 'BsmtCond', 'BsmtExposure','BsmtFinType1', 'BsmtFinType2',\n",
    "              'GarageType','GarageFinish', 'GarageQual', 'GarageCond']\n",
    "data[null_No_list] = data[null_No_list].fillna(\"No\")\n",
    "\n",
    "null_category_list = [\"MSZoning\",\"Utilities\",\"Exterior1st\",\"Exterior2nd\", 'Electrical',\n",
    "                      'KitchenQual', 'Functional', \"SaleType\"]\n",
    "data[null_category_list] = data[null_category_list].fillna(data.mode().iloc[0])\n",
    "\n",
    "null_float_list = ['MasVnrArea']\n",
    "data[null_float_list] = data[null_float_list].fillna(data.median(numeric_only=True))\n",
    "\n",
    "data['LotFrontage'] = data.groupby('Neighborhood')['LotFrontage'].transform(lambda x: x.fillna(x.median()))\n",
    "\n",
    "data[['GarageCars','GarageArea',\"GarageYrBlt\"]] = data[['GarageCars','GarageArea',\"GarageYrBlt\"]].fillna(float(0))\n",
    "data[['BsmtFullBath','BsmtHalfBath','TotalBsmtSF','BsmtFinSF1','BsmtFinSF2','BsmtUnfSF']] = data[['BsmtFullBath','BsmtHalfBath','TotalBsmtSF','BsmtFinSF1','BsmtFinSF2','BsmtUnfSF']].fillna(float(0))\n",
    "\n",
    "#transform関数とは、欠損値をカテゴリー別に補完したいときに使う関数のこと\n",
    "#df['新しい列'] = df.groupby('グループ化したい列')['操作したい列'].transform(適用したい関数)\n",
    "\n",
    "#data[\"GarageYrBlt\"] = data['GarageYrBlt'].fillna(data['YearBuilt'])\n",
    "data"
   ]
  },
  {
   "cell_type": "code",
   "execution_count": 6,
   "id": "522b820f",
   "metadata": {
    "execution": {
     "iopub.execute_input": "2024-05-25T03:52:20.298974Z",
     "iopub.status.busy": "2024-05-25T03:52:20.297926Z",
     "iopub.status.idle": "2024-05-25T03:52:20.350329Z",
     "shell.execute_reply": "2024-05-25T03:52:20.349403Z"
    },
    "papermill": {
     "duration": 0.075341,
     "end_time": "2024-05-25T03:52:20.352851",
     "exception": false,
     "start_time": "2024-05-25T03:52:20.277510",
     "status": "completed"
    },
    "tags": []
   },
   "outputs": [],
   "source": [
    "label_encode_list = [\"ExterQual\",\"ExterCond\",\"BsmtQual\",\"BsmtCond\",\"HeatingQC\",\"KitchenQual\",\"GarageQual\",\"GarageCond\"]\n",
    "qal_object = [\"Ex\",\"Gd\",\"TA\",\"Fa\",\"Po\",\"No\"]\n",
    "qal_float = [5,4,3,2,1,0]\n",
    "data[label_encode_list] = data[label_encode_list].replace(qal_object,qal_float)\n",
    "\n",
    "qal_object_garage = [\"Fin\",\"RFn\",\"Unf\",\"No\"]\n",
    "qal_float_garage = [3,2,1,0]\n",
    "data[\"GarageFinish\"] = data[\"GarageFinish\"].replace(qal_object_garage,qal_float_garage)\n",
    "\n",
    "qal_object_bsmt = [\"GLQ\",\"ALQ\",\"BLQ\",\"Rec\",\"LwQ\",\"Unf\",\"No\"]\n",
    "qal_float_bsmt = [6,5,4,3,2,1,0]\n",
    "data[[\"BsmtFinType1\",\"BsmtFinType2\"]] = data[[\"BsmtFinType1\",\"BsmtFinType2\"]].replace(qal_object_bsmt,qal_float_bsmt)"
   ]
  },
  {
   "cell_type": "code",
   "execution_count": 7,
   "id": "05275281",
   "metadata": {
    "execution": {
     "iopub.execute_input": "2024-05-25T03:52:20.392859Z",
     "iopub.status.busy": "2024-05-25T03:52:20.392177Z",
     "iopub.status.idle": "2024-05-25T03:52:20.403079Z",
     "shell.execute_reply": "2024-05-25T03:52:20.402313Z"
    },
    "papermill": {
     "duration": 0.033517,
     "end_time": "2024-05-25T03:52:20.405283",
     "exception": false,
     "start_time": "2024-05-25T03:52:20.371766",
     "status": "completed"
    },
    "tags": []
   },
   "outputs": [],
   "source": [
    "data[\"YrPsdBlt\"] = 2024 - data[\"YearBuilt\"]\n",
    "data[\"YrPsdRmd\"] = 2024 - data[\"YearRemodAdd\"]\n",
    "data = data.drop([\"YearBuilt\",\"YearRemodAdd\"],axis=1)"
   ]
  },
  {
   "cell_type": "code",
   "execution_count": 8,
   "id": "89062a59",
   "metadata": {
    "execution": {
     "iopub.execute_input": "2024-05-25T03:52:20.449474Z",
     "iopub.status.busy": "2024-05-25T03:52:20.448893Z",
     "iopub.status.idle": "2024-05-25T03:52:20.527658Z",
     "shell.execute_reply": "2024-05-25T03:52:20.526233Z"
    },
    "papermill": {
     "duration": 0.105736,
     "end_time": "2024-05-25T03:52:20.530168",
     "exception": false,
     "start_time": "2024-05-25T03:52:20.424432",
     "status": "completed"
    },
    "tags": []
   },
   "outputs": [
    {
     "data": {
      "text/html": [
       "<div>\n",
       "<style scoped>\n",
       "    .dataframe tbody tr th:only-of-type {\n",
       "        vertical-align: middle;\n",
       "    }\n",
       "\n",
       "    .dataframe tbody tr th {\n",
       "        vertical-align: top;\n",
       "    }\n",
       "\n",
       "    .dataframe thead th {\n",
       "        text-align: right;\n",
       "    }\n",
       "</style>\n",
       "<table border=\"1\" class=\"dataframe\">\n",
       "  <thead>\n",
       "    <tr style=\"text-align: right;\">\n",
       "      <th></th>\n",
       "      <th>MSZoning_C (all)</th>\n",
       "      <th>MSZoning_FV</th>\n",
       "      <th>MSZoning_RH</th>\n",
       "      <th>MSZoning_RL</th>\n",
       "      <th>MSZoning_RM</th>\n",
       "      <th>Street_Grvl</th>\n",
       "      <th>Street_Pave</th>\n",
       "      <th>LotShape_IR1</th>\n",
       "      <th>LotShape_IR2</th>\n",
       "      <th>LotShape_IR3</th>\n",
       "      <th>...</th>\n",
       "      <th>OpenPorchSF</th>\n",
       "      <th>EnclosedPorch</th>\n",
       "      <th>3SsnPorch</th>\n",
       "      <th>ScreenPorch</th>\n",
       "      <th>PoolArea</th>\n",
       "      <th>MiscVal</th>\n",
       "      <th>MoSold</th>\n",
       "      <th>YrSold</th>\n",
       "      <th>YrPsdBlt</th>\n",
       "      <th>YrPsdRmd</th>\n",
       "    </tr>\n",
       "  </thead>\n",
       "  <tbody>\n",
       "    <tr>\n",
       "      <th>1</th>\n",
       "      <td>0</td>\n",
       "      <td>0</td>\n",
       "      <td>0</td>\n",
       "      <td>1</td>\n",
       "      <td>0</td>\n",
       "      <td>0</td>\n",
       "      <td>1</td>\n",
       "      <td>0</td>\n",
       "      <td>0</td>\n",
       "      <td>0</td>\n",
       "      <td>...</td>\n",
       "      <td>61</td>\n",
       "      <td>0</td>\n",
       "      <td>0</td>\n",
       "      <td>0</td>\n",
       "      <td>0</td>\n",
       "      <td>0</td>\n",
       "      <td>2</td>\n",
       "      <td>2008</td>\n",
       "      <td>21</td>\n",
       "      <td>21</td>\n",
       "    </tr>\n",
       "    <tr>\n",
       "      <th>2</th>\n",
       "      <td>0</td>\n",
       "      <td>0</td>\n",
       "      <td>0</td>\n",
       "      <td>1</td>\n",
       "      <td>0</td>\n",
       "      <td>0</td>\n",
       "      <td>1</td>\n",
       "      <td>0</td>\n",
       "      <td>0</td>\n",
       "      <td>0</td>\n",
       "      <td>...</td>\n",
       "      <td>0</td>\n",
       "      <td>0</td>\n",
       "      <td>0</td>\n",
       "      <td>0</td>\n",
       "      <td>0</td>\n",
       "      <td>0</td>\n",
       "      <td>5</td>\n",
       "      <td>2007</td>\n",
       "      <td>48</td>\n",
       "      <td>48</td>\n",
       "    </tr>\n",
       "    <tr>\n",
       "      <th>3</th>\n",
       "      <td>0</td>\n",
       "      <td>0</td>\n",
       "      <td>0</td>\n",
       "      <td>1</td>\n",
       "      <td>0</td>\n",
       "      <td>0</td>\n",
       "      <td>1</td>\n",
       "      <td>1</td>\n",
       "      <td>0</td>\n",
       "      <td>0</td>\n",
       "      <td>...</td>\n",
       "      <td>42</td>\n",
       "      <td>0</td>\n",
       "      <td>0</td>\n",
       "      <td>0</td>\n",
       "      <td>0</td>\n",
       "      <td>0</td>\n",
       "      <td>9</td>\n",
       "      <td>2008</td>\n",
       "      <td>23</td>\n",
       "      <td>22</td>\n",
       "    </tr>\n",
       "    <tr>\n",
       "      <th>4</th>\n",
       "      <td>0</td>\n",
       "      <td>0</td>\n",
       "      <td>0</td>\n",
       "      <td>1</td>\n",
       "      <td>0</td>\n",
       "      <td>0</td>\n",
       "      <td>1</td>\n",
       "      <td>1</td>\n",
       "      <td>0</td>\n",
       "      <td>0</td>\n",
       "      <td>...</td>\n",
       "      <td>35</td>\n",
       "      <td>272</td>\n",
       "      <td>0</td>\n",
       "      <td>0</td>\n",
       "      <td>0</td>\n",
       "      <td>0</td>\n",
       "      <td>2</td>\n",
       "      <td>2006</td>\n",
       "      <td>109</td>\n",
       "      <td>54</td>\n",
       "    </tr>\n",
       "    <tr>\n",
       "      <th>5</th>\n",
       "      <td>0</td>\n",
       "      <td>0</td>\n",
       "      <td>0</td>\n",
       "      <td>1</td>\n",
       "      <td>0</td>\n",
       "      <td>0</td>\n",
       "      <td>1</td>\n",
       "      <td>1</td>\n",
       "      <td>0</td>\n",
       "      <td>0</td>\n",
       "      <td>...</td>\n",
       "      <td>84</td>\n",
       "      <td>0</td>\n",
       "      <td>0</td>\n",
       "      <td>0</td>\n",
       "      <td>0</td>\n",
       "      <td>0</td>\n",
       "      <td>12</td>\n",
       "      <td>2008</td>\n",
       "      <td>24</td>\n",
       "      <td>24</td>\n",
       "    </tr>\n",
       "    <tr>\n",
       "      <th>...</th>\n",
       "      <td>...</td>\n",
       "      <td>...</td>\n",
       "      <td>...</td>\n",
       "      <td>...</td>\n",
       "      <td>...</td>\n",
       "      <td>...</td>\n",
       "      <td>...</td>\n",
       "      <td>...</td>\n",
       "      <td>...</td>\n",
       "      <td>...</td>\n",
       "      <td>...</td>\n",
       "      <td>...</td>\n",
       "      <td>...</td>\n",
       "      <td>...</td>\n",
       "      <td>...</td>\n",
       "      <td>...</td>\n",
       "      <td>...</td>\n",
       "      <td>...</td>\n",
       "      <td>...</td>\n",
       "      <td>...</td>\n",
       "      <td>...</td>\n",
       "    </tr>\n",
       "    <tr>\n",
       "      <th>2915</th>\n",
       "      <td>0</td>\n",
       "      <td>0</td>\n",
       "      <td>0</td>\n",
       "      <td>0</td>\n",
       "      <td>1</td>\n",
       "      <td>0</td>\n",
       "      <td>1</td>\n",
       "      <td>0</td>\n",
       "      <td>0</td>\n",
       "      <td>0</td>\n",
       "      <td>...</td>\n",
       "      <td>0</td>\n",
       "      <td>0</td>\n",
       "      <td>0</td>\n",
       "      <td>0</td>\n",
       "      <td>0</td>\n",
       "      <td>0</td>\n",
       "      <td>6</td>\n",
       "      <td>2006</td>\n",
       "      <td>54</td>\n",
       "      <td>54</td>\n",
       "    </tr>\n",
       "    <tr>\n",
       "      <th>2916</th>\n",
       "      <td>0</td>\n",
       "      <td>0</td>\n",
       "      <td>0</td>\n",
       "      <td>0</td>\n",
       "      <td>1</td>\n",
       "      <td>0</td>\n",
       "      <td>1</td>\n",
       "      <td>0</td>\n",
       "      <td>0</td>\n",
       "      <td>0</td>\n",
       "      <td>...</td>\n",
       "      <td>24</td>\n",
       "      <td>0</td>\n",
       "      <td>0</td>\n",
       "      <td>0</td>\n",
       "      <td>0</td>\n",
       "      <td>0</td>\n",
       "      <td>4</td>\n",
       "      <td>2006</td>\n",
       "      <td>54</td>\n",
       "      <td>54</td>\n",
       "    </tr>\n",
       "    <tr>\n",
       "      <th>2917</th>\n",
       "      <td>0</td>\n",
       "      <td>0</td>\n",
       "      <td>0</td>\n",
       "      <td>1</td>\n",
       "      <td>0</td>\n",
       "      <td>0</td>\n",
       "      <td>1</td>\n",
       "      <td>0</td>\n",
       "      <td>0</td>\n",
       "      <td>0</td>\n",
       "      <td>...</td>\n",
       "      <td>0</td>\n",
       "      <td>0</td>\n",
       "      <td>0</td>\n",
       "      <td>0</td>\n",
       "      <td>0</td>\n",
       "      <td>0</td>\n",
       "      <td>9</td>\n",
       "      <td>2006</td>\n",
       "      <td>64</td>\n",
       "      <td>28</td>\n",
       "    </tr>\n",
       "    <tr>\n",
       "      <th>2918</th>\n",
       "      <td>0</td>\n",
       "      <td>0</td>\n",
       "      <td>0</td>\n",
       "      <td>1</td>\n",
       "      <td>0</td>\n",
       "      <td>0</td>\n",
       "      <td>1</td>\n",
       "      <td>0</td>\n",
       "      <td>0</td>\n",
       "      <td>0</td>\n",
       "      <td>...</td>\n",
       "      <td>32</td>\n",
       "      <td>0</td>\n",
       "      <td>0</td>\n",
       "      <td>0</td>\n",
       "      <td>0</td>\n",
       "      <td>700</td>\n",
       "      <td>7</td>\n",
       "      <td>2006</td>\n",
       "      <td>32</td>\n",
       "      <td>32</td>\n",
       "    </tr>\n",
       "    <tr>\n",
       "      <th>2919</th>\n",
       "      <td>0</td>\n",
       "      <td>0</td>\n",
       "      <td>0</td>\n",
       "      <td>1</td>\n",
       "      <td>0</td>\n",
       "      <td>0</td>\n",
       "      <td>1</td>\n",
       "      <td>0</td>\n",
       "      <td>0</td>\n",
       "      <td>0</td>\n",
       "      <td>...</td>\n",
       "      <td>48</td>\n",
       "      <td>0</td>\n",
       "      <td>0</td>\n",
       "      <td>0</td>\n",
       "      <td>0</td>\n",
       "      <td>0</td>\n",
       "      <td>11</td>\n",
       "      <td>2006</td>\n",
       "      <td>31</td>\n",
       "      <td>30</td>\n",
       "    </tr>\n",
       "  </tbody>\n",
       "</table>\n",
       "<p>2919 rows × 229 columns</p>\n",
       "</div>"
      ],
      "text/plain": [
       "      MSZoning_C (all)  MSZoning_FV  MSZoning_RH  MSZoning_RL  MSZoning_RM  \\\n",
       "1                    0            0            0            1            0   \n",
       "2                    0            0            0            1            0   \n",
       "3                    0            0            0            1            0   \n",
       "4                    0            0            0            1            0   \n",
       "5                    0            0            0            1            0   \n",
       "...                ...          ...          ...          ...          ...   \n",
       "2915                 0            0            0            0            1   \n",
       "2916                 0            0            0            0            1   \n",
       "2917                 0            0            0            1            0   \n",
       "2918                 0            0            0            1            0   \n",
       "2919                 0            0            0            1            0   \n",
       "\n",
       "      Street_Grvl  Street_Pave  LotShape_IR1  LotShape_IR2  LotShape_IR3  ...  \\\n",
       "1               0            1             0             0             0  ...   \n",
       "2               0            1             0             0             0  ...   \n",
       "3               0            1             1             0             0  ...   \n",
       "4               0            1             1             0             0  ...   \n",
       "5               0            1             1             0             0  ...   \n",
       "...           ...          ...           ...           ...           ...  ...   \n",
       "2915            0            1             0             0             0  ...   \n",
       "2916            0            1             0             0             0  ...   \n",
       "2917            0            1             0             0             0  ...   \n",
       "2918            0            1             0             0             0  ...   \n",
       "2919            0            1             0             0             0  ...   \n",
       "\n",
       "      OpenPorchSF  EnclosedPorch  3SsnPorch  ScreenPorch  PoolArea  MiscVal  \\\n",
       "1              61              0          0            0         0        0   \n",
       "2               0              0          0            0         0        0   \n",
       "3              42              0          0            0         0        0   \n",
       "4              35            272          0            0         0        0   \n",
       "5              84              0          0            0         0        0   \n",
       "...           ...            ...        ...          ...       ...      ...   \n",
       "2915            0              0          0            0         0        0   \n",
       "2916           24              0          0            0         0        0   \n",
       "2917            0              0          0            0         0        0   \n",
       "2918           32              0          0            0         0      700   \n",
       "2919           48              0          0            0         0        0   \n",
       "\n",
       "      MoSold  YrSold  YrPsdBlt  YrPsdRmd  \n",
       "1          2    2008        21        21  \n",
       "2          5    2007        48        48  \n",
       "3          9    2008        23        22  \n",
       "4          2    2006       109        54  \n",
       "5         12    2008        24        24  \n",
       "...      ...     ...       ...       ...  \n",
       "2915       6    2006        54        54  \n",
       "2916       4    2006        54        54  \n",
       "2917       9    2006        64        28  \n",
       "2918       7    2006        32        32  \n",
       "2919      11    2006        31        30  \n",
       "\n",
       "[2919 rows x 229 columns]"
      ]
     },
     "execution_count": 8,
     "metadata": {},
     "output_type": "execute_result"
    }
   ],
   "source": [
    "data_price=data[\"SalePrice\"]\n",
    "\n",
    "data_obj = data.select_dtypes(include=object)\n",
    "data_obj_dummy = pd.get_dummies(data_obj,dtype=int)\n",
    "data_obj_dummy\n",
    "\n",
    "data_number = data.select_dtypes(include=\"number\")\n",
    "data_number = data_number.drop(\"SalePrice\",axis=1)\n",
    "\n",
    "data_train = data_obj_dummy.join(data_price)\n",
    "data_train = data_train.join(data_number)\n",
    "data_train"
   ]
  },
  {
   "cell_type": "code",
   "execution_count": 9,
   "id": "58c298c4",
   "metadata": {
    "execution": {
     "iopub.execute_input": "2024-05-25T03:52:20.572818Z",
     "iopub.status.busy": "2024-05-25T03:52:20.572307Z",
     "iopub.status.idle": "2024-05-25T03:52:20.592526Z",
     "shell.execute_reply": "2024-05-25T03:52:20.591728Z"
    },
    "papermill": {
     "duration": 0.044296,
     "end_time": "2024-05-25T03:52:20.594832",
     "exception": false,
     "start_time": "2024-05-25T03:52:20.550536",
     "status": "completed"
    },
    "tags": []
   },
   "outputs": [],
   "source": [
    "area_list = [\"TotalBsmtSF\",\"GrLivArea\",\"GarageArea\",\"WoodDeckSF\",\"OpenPorchSF\",\"EnclosedPorch\",\"3SsnPorch\",\"ScreenPorch\",\"PoolArea\"]\n",
    "data_train[\"area\"] = data_train[area_list].sum(axis=1)\n",
    "\n",
    "qual_list = [\"BsmtQual\",\"ExterQual\",\"KitchenQual\",\"GarageQual\"]\n",
    "data_train[\"qual\"] = data_train[qual_list].sum(axis=1)\n",
    "\n",
    "bath_count = [\"FullBath\",\"HalfBath\",\"BsmtFullBath\",\"BsmtHalfBath\"]\n",
    "data_train[\"bath_count\"] = data_train[bath_count].sum(axis=1)\n",
    "\n",
    "year_count = [\"YrPsdBlt\",\"YrPsdRmd\"]\n",
    "data_train[\"year_count\"] = data_train[year_count].sum(axis=1)"
   ]
  },
  {
   "cell_type": "code",
   "execution_count": 10,
   "id": "1cb46f58",
   "metadata": {
    "execution": {
     "iopub.execute_input": "2024-05-25T03:52:20.637473Z",
     "iopub.status.busy": "2024-05-25T03:52:20.636362Z",
     "iopub.status.idle": "2024-05-25T03:52:20.677994Z",
     "shell.execute_reply": "2024-05-25T03:52:20.676953Z"
    },
    "papermill": {
     "duration": 0.065764,
     "end_time": "2024-05-25T03:52:20.680332",
     "exception": false,
     "start_time": "2024-05-25T03:52:20.614568",
     "status": "completed"
    },
    "tags": []
   },
   "outputs": [
    {
     "data": {
      "text/html": [
       "<div>\n",
       "<style scoped>\n",
       "    .dataframe tbody tr th:only-of-type {\n",
       "        vertical-align: middle;\n",
       "    }\n",
       "\n",
       "    .dataframe tbody tr th {\n",
       "        vertical-align: top;\n",
       "    }\n",
       "\n",
       "    .dataframe thead th {\n",
       "        text-align: right;\n",
       "    }\n",
       "</style>\n",
       "<table border=\"1\" class=\"dataframe\">\n",
       "  <thead>\n",
       "    <tr style=\"text-align: right;\">\n",
       "      <th></th>\n",
       "      <th>MSZoning_FV</th>\n",
       "      <th>MSZoning_RL</th>\n",
       "      <th>MSZoning_RM</th>\n",
       "      <th>Street_Pave</th>\n",
       "      <th>LotShape_IR1</th>\n",
       "      <th>LotShape_IR3</th>\n",
       "      <th>LotShape_Reg</th>\n",
       "      <th>LandContour_Bnk</th>\n",
       "      <th>LandContour_HLS</th>\n",
       "      <th>LandContour_Low</th>\n",
       "      <th>...</th>\n",
       "      <th>EnclosedPorch</th>\n",
       "      <th>ScreenPorch</th>\n",
       "      <th>MoSold</th>\n",
       "      <th>YrSold</th>\n",
       "      <th>YrPsdBlt</th>\n",
       "      <th>YrPsdRmd</th>\n",
       "      <th>area</th>\n",
       "      <th>qual</th>\n",
       "      <th>bath_count</th>\n",
       "      <th>year_count</th>\n",
       "    </tr>\n",
       "  </thead>\n",
       "  <tbody>\n",
       "    <tr>\n",
       "      <th>1</th>\n",
       "      <td>0</td>\n",
       "      <td>1</td>\n",
       "      <td>0</td>\n",
       "      <td>1</td>\n",
       "      <td>0</td>\n",
       "      <td>0</td>\n",
       "      <td>1</td>\n",
       "      <td>0</td>\n",
       "      <td>0</td>\n",
       "      <td>0</td>\n",
       "      <td>...</td>\n",
       "      <td>0</td>\n",
       "      <td>0</td>\n",
       "      <td>2</td>\n",
       "      <td>2008</td>\n",
       "      <td>21</td>\n",
       "      <td>21</td>\n",
       "      <td>3175.0</td>\n",
       "      <td>15</td>\n",
       "      <td>4.0</td>\n",
       "      <td>42</td>\n",
       "    </tr>\n",
       "    <tr>\n",
       "      <th>2</th>\n",
       "      <td>0</td>\n",
       "      <td>1</td>\n",
       "      <td>0</td>\n",
       "      <td>1</td>\n",
       "      <td>0</td>\n",
       "      <td>0</td>\n",
       "      <td>1</td>\n",
       "      <td>0</td>\n",
       "      <td>0</td>\n",
       "      <td>0</td>\n",
       "      <td>...</td>\n",
       "      <td>0</td>\n",
       "      <td>0</td>\n",
       "      <td>5</td>\n",
       "      <td>2007</td>\n",
       "      <td>48</td>\n",
       "      <td>48</td>\n",
       "      <td>3282.0</td>\n",
       "      <td>13</td>\n",
       "      <td>3.0</td>\n",
       "      <td>96</td>\n",
       "    </tr>\n",
       "    <tr>\n",
       "      <th>3</th>\n",
       "      <td>0</td>\n",
       "      <td>1</td>\n",
       "      <td>0</td>\n",
       "      <td>1</td>\n",
       "      <td>1</td>\n",
       "      <td>0</td>\n",
       "      <td>0</td>\n",
       "      <td>0</td>\n",
       "      <td>0</td>\n",
       "      <td>0</td>\n",
       "      <td>...</td>\n",
       "      <td>0</td>\n",
       "      <td>0</td>\n",
       "      <td>9</td>\n",
       "      <td>2008</td>\n",
       "      <td>23</td>\n",
       "      <td>22</td>\n",
       "      <td>3356.0</td>\n",
       "      <td>15</td>\n",
       "      <td>4.0</td>\n",
       "      <td>45</td>\n",
       "    </tr>\n",
       "    <tr>\n",
       "      <th>4</th>\n",
       "      <td>0</td>\n",
       "      <td>1</td>\n",
       "      <td>0</td>\n",
       "      <td>1</td>\n",
       "      <td>1</td>\n",
       "      <td>0</td>\n",
       "      <td>0</td>\n",
       "      <td>0</td>\n",
       "      <td>0</td>\n",
       "      <td>0</td>\n",
       "      <td>...</td>\n",
       "      <td>272</td>\n",
       "      <td>0</td>\n",
       "      <td>2</td>\n",
       "      <td>2006</td>\n",
       "      <td>109</td>\n",
       "      <td>54</td>\n",
       "      <td>3422.0</td>\n",
       "      <td>13</td>\n",
       "      <td>2.0</td>\n",
       "      <td>163</td>\n",
       "    </tr>\n",
       "    <tr>\n",
       "      <th>5</th>\n",
       "      <td>0</td>\n",
       "      <td>1</td>\n",
       "      <td>0</td>\n",
       "      <td>1</td>\n",
       "      <td>1</td>\n",
       "      <td>0</td>\n",
       "      <td>0</td>\n",
       "      <td>0</td>\n",
       "      <td>0</td>\n",
       "      <td>0</td>\n",
       "      <td>...</td>\n",
       "      <td>0</td>\n",
       "      <td>0</td>\n",
       "      <td>12</td>\n",
       "      <td>2008</td>\n",
       "      <td>24</td>\n",
       "      <td>24</td>\n",
       "      <td>4455.0</td>\n",
       "      <td>15</td>\n",
       "      <td>4.0</td>\n",
       "      <td>48</td>\n",
       "    </tr>\n",
       "    <tr>\n",
       "      <th>...</th>\n",
       "      <td>...</td>\n",
       "      <td>...</td>\n",
       "      <td>...</td>\n",
       "      <td>...</td>\n",
       "      <td>...</td>\n",
       "      <td>...</td>\n",
       "      <td>...</td>\n",
       "      <td>...</td>\n",
       "      <td>...</td>\n",
       "      <td>...</td>\n",
       "      <td>...</td>\n",
       "      <td>...</td>\n",
       "      <td>...</td>\n",
       "      <td>...</td>\n",
       "      <td>...</td>\n",
       "      <td>...</td>\n",
       "      <td>...</td>\n",
       "      <td>...</td>\n",
       "      <td>...</td>\n",
       "      <td>...</td>\n",
       "      <td>...</td>\n",
       "    </tr>\n",
       "    <tr>\n",
       "      <th>2915</th>\n",
       "      <td>0</td>\n",
       "      <td>0</td>\n",
       "      <td>1</td>\n",
       "      <td>1</td>\n",
       "      <td>0</td>\n",
       "      <td>0</td>\n",
       "      <td>1</td>\n",
       "      <td>0</td>\n",
       "      <td>0</td>\n",
       "      <td>0</td>\n",
       "      <td>...</td>\n",
       "      <td>0</td>\n",
       "      <td>0</td>\n",
       "      <td>6</td>\n",
       "      <td>2006</td>\n",
       "      <td>54</td>\n",
       "      <td>54</td>\n",
       "      <td>1638.0</td>\n",
       "      <td>9</td>\n",
       "      <td>2.0</td>\n",
       "      <td>108</td>\n",
       "    </tr>\n",
       "    <tr>\n",
       "      <th>2916</th>\n",
       "      <td>0</td>\n",
       "      <td>0</td>\n",
       "      <td>1</td>\n",
       "      <td>1</td>\n",
       "      <td>0</td>\n",
       "      <td>0</td>\n",
       "      <td>1</td>\n",
       "      <td>0</td>\n",
       "      <td>0</td>\n",
       "      <td>0</td>\n",
       "      <td>...</td>\n",
       "      <td>0</td>\n",
       "      <td>0</td>\n",
       "      <td>4</td>\n",
       "      <td>2006</td>\n",
       "      <td>54</td>\n",
       "      <td>54</td>\n",
       "      <td>1948.0</td>\n",
       "      <td>12</td>\n",
       "      <td>2.0</td>\n",
       "      <td>108</td>\n",
       "    </tr>\n",
       "    <tr>\n",
       "      <th>2917</th>\n",
       "      <td>0</td>\n",
       "      <td>1</td>\n",
       "      <td>0</td>\n",
       "      <td>1</td>\n",
       "      <td>0</td>\n",
       "      <td>0</td>\n",
       "      <td>1</td>\n",
       "      <td>0</td>\n",
       "      <td>0</td>\n",
       "      <td>0</td>\n",
       "      <td>...</td>\n",
       "      <td>0</td>\n",
       "      <td>0</td>\n",
       "      <td>9</td>\n",
       "      <td>2006</td>\n",
       "      <td>64</td>\n",
       "      <td>28</td>\n",
       "      <td>3498.0</td>\n",
       "      <td>12</td>\n",
       "      <td>2.0</td>\n",
       "      <td>92</td>\n",
       "    </tr>\n",
       "    <tr>\n",
       "      <th>2918</th>\n",
       "      <td>0</td>\n",
       "      <td>1</td>\n",
       "      <td>0</td>\n",
       "      <td>1</td>\n",
       "      <td>0</td>\n",
       "      <td>0</td>\n",
       "      <td>1</td>\n",
       "      <td>0</td>\n",
       "      <td>0</td>\n",
       "      <td>0</td>\n",
       "      <td>...</td>\n",
       "      <td>0</td>\n",
       "      <td>0</td>\n",
       "      <td>7</td>\n",
       "      <td>2006</td>\n",
       "      <td>32</td>\n",
       "      <td>32</td>\n",
       "      <td>1994.0</td>\n",
       "      <td>10</td>\n",
       "      <td>2.0</td>\n",
       "      <td>64</td>\n",
       "    </tr>\n",
       "    <tr>\n",
       "      <th>2919</th>\n",
       "      <td>0</td>\n",
       "      <td>1</td>\n",
       "      <td>0</td>\n",
       "      <td>1</td>\n",
       "      <td>0</td>\n",
       "      <td>0</td>\n",
       "      <td>1</td>\n",
       "      <td>0</td>\n",
       "      <td>0</td>\n",
       "      <td>0</td>\n",
       "      <td>...</td>\n",
       "      <td>0</td>\n",
       "      <td>0</td>\n",
       "      <td>11</td>\n",
       "      <td>2006</td>\n",
       "      <td>31</td>\n",
       "      <td>30</td>\n",
       "      <td>3884.0</td>\n",
       "      <td>13</td>\n",
       "      <td>3.0</td>\n",
       "      <td>61</td>\n",
       "    </tr>\n",
       "  </tbody>\n",
       "</table>\n",
       "<p>2919 rows × 133 columns</p>\n",
       "</div>"
      ],
      "text/plain": [
       "      MSZoning_FV  MSZoning_RL  MSZoning_RM  Street_Pave  LotShape_IR1  \\\n",
       "1               0            1            0            1             0   \n",
       "2               0            1            0            1             0   \n",
       "3               0            1            0            1             1   \n",
       "4               0            1            0            1             1   \n",
       "5               0            1            0            1             1   \n",
       "...           ...          ...          ...          ...           ...   \n",
       "2915            0            0            1            1             0   \n",
       "2916            0            0            1            1             0   \n",
       "2917            0            1            0            1             0   \n",
       "2918            0            1            0            1             0   \n",
       "2919            0            1            0            1             0   \n",
       "\n",
       "      LotShape_IR3  LotShape_Reg  LandContour_Bnk  LandContour_HLS  \\\n",
       "1                0             1                0                0   \n",
       "2                0             1                0                0   \n",
       "3                0             0                0                0   \n",
       "4                0             0                0                0   \n",
       "5                0             0                0                0   \n",
       "...            ...           ...              ...              ...   \n",
       "2915             0             1                0                0   \n",
       "2916             0             1                0                0   \n",
       "2917             0             1                0                0   \n",
       "2918             0             1                0                0   \n",
       "2919             0             1                0                0   \n",
       "\n",
       "      LandContour_Low  ...  EnclosedPorch  ScreenPorch  MoSold  YrSold  \\\n",
       "1                   0  ...              0            0       2    2008   \n",
       "2                   0  ...              0            0       5    2007   \n",
       "3                   0  ...              0            0       9    2008   \n",
       "4                   0  ...            272            0       2    2006   \n",
       "5                   0  ...              0            0      12    2008   \n",
       "...               ...  ...            ...          ...     ...     ...   \n",
       "2915                0  ...              0            0       6    2006   \n",
       "2916                0  ...              0            0       4    2006   \n",
       "2917                0  ...              0            0       9    2006   \n",
       "2918                0  ...              0            0       7    2006   \n",
       "2919                0  ...              0            0      11    2006   \n",
       "\n",
       "      YrPsdBlt  YrPsdRmd    area  qual  bath_count  year_count  \n",
       "1           21        21  3175.0    15         4.0          42  \n",
       "2           48        48  3282.0    13         3.0          96  \n",
       "3           23        22  3356.0    15         4.0          45  \n",
       "4          109        54  3422.0    13         2.0         163  \n",
       "5           24        24  4455.0    15         4.0          48  \n",
       "...        ...       ...     ...   ...         ...         ...  \n",
       "2915        54        54  1638.0     9         2.0         108  \n",
       "2916        54        54  1948.0    12         2.0         108  \n",
       "2917        64        28  3498.0    12         2.0          92  \n",
       "2918        32        32  1994.0    10         2.0          64  \n",
       "2919        31        30  3884.0    13         3.0          61  \n",
       "\n",
       "[2919 rows x 133 columns]"
      ]
     },
     "execution_count": 10,
     "metadata": {},
     "output_type": "execute_result"
    }
   ],
   "source": [
    "del_list = ['MSZoning_C (all)', 'Exterior2nd_AsbShng', 'Exterior2nd_AsphShn',\n",
    "       'Exterior2nd_Brk Cmn', 'Exterior2nd_BrkFace', 'Exterior2nd_CBlock',\n",
    "       'Exterior2nd_CmentBd', 'Exterior2nd_ImStucc', 'Exterior2nd_MetalSd',\n",
    "       'Exterior2nd_Other', 'Exterior2nd_Stone', 'Exterior2nd_Stucco',\n",
    "       'Exterior2nd_Wd Sdng', 'Exterior2nd_Wd Shng', 'Foundation_CBlock',\n",
    "       'Foundation_Slab', 'Foundation_Stone', 'Foundation_Wood',\n",
    "       'Exterior1st_WdShing', 'BsmtExposure_Mn', 'Exterior1st_Wd Sdng',\n",
    "       'Exterior1st_Stone', 'RoofStyle_Shed', 'RoofMatl_ClyTile',\n",
    "       'RoofMatl_CompShg', 'RoofMatl_Membran', 'RoofMatl_Metal',\n",
    "       'RoofMatl_Roll', 'RoofMatl_Tar&Grv', 'RoofMatl_WdShake',\n",
    "       'RoofMatl_WdShngl', 'Exterior1st_AsbShng', 'Exterior1st_AsphShn',\n",
    "       'Exterior1st_BrkComm', 'Exterior1st_CBlock', 'Exterior1st_CemntBd',\n",
    "       'Exterior1st_HdBoard', 'Exterior1st_ImStucc', 'Exterior1st_Plywood',\n",
    "       'Exterior1st_Stucco', 'RoofStyle_Mansard', 'Heating_Floor',\n",
    "       'Heating_GasW', 'PavedDrive_Y', 'SaleType_COD', 'SaleType_CWD',\n",
    "       'SaleType_Con', 'SaleType_ConLD', 'SaleType_ConLI', 'SaleType_ConLw',\n",
    "       'SaleType_Oth', 'SaleCondition_AdjLand', 'SaleCondition_Alloca',\n",
    "       'SaleCondition_Family', 'SaleCondition_Partial', 'BsmtFinType2',\n",
    "       'BsmtHalfBath', '3SsnPorch', 'PoolArea', 'MiscVal', 'PavedDrive_P',\n",
    "       'Heating_GasA', 'PavedDrive_N', 'GarageType_CarPort', 'Heating_Grav',\n",
    "       'Heating_OthW', 'Heating_Wall', 'CentralAir_Y', 'Electrical_FuseA',\n",
    "       'Electrical_FuseF', 'Electrical_FuseP', 'Electrical_Mix',\n",
    "       'Functional_Maj1', 'Functional_Maj2', 'Functional_Min1',\n",
    "       'Functional_Min2', 'Functional_Mod', 'Functional_Sev',\n",
    "       'GarageType_2Types', 'GarageType_Basment', 'GarageType_BuiltIn',\n",
    "       'GarageType_No', 'RoofStyle_Hip', 'Exterior2nd_HdBoard',\n",
    "       'LandSlope_Mod', 'MSZoning_RH', 'Condition1_PosA',\n",
    "       'Neighborhood_Veenker', 'Neighborhood_Timber', 'Neighborhood_SawyerW',\n",
    "       'Neighborhood_Sawyer', 'Neighborhood_SWISU', 'Street_Grvl',\n",
    "       'Neighborhood_NWAmes', 'Neighborhood_NPkVill', 'Neighborhood_Mitchel',\n",
    "       'Neighborhood_MeadowV', 'Condition1_PosN', 'Neighborhood_Gilbert',\n",
    "       'LotShape_IR2']\n",
    "\n",
    "data_train = data_train.drop(del_list,axis=1)\n",
    "data_train"
   ]
  },
  {
   "cell_type": "code",
   "execution_count": 11,
   "id": "08c2591d",
   "metadata": {
    "execution": {
     "iopub.execute_input": "2024-05-25T03:52:20.724274Z",
     "iopub.status.busy": "2024-05-25T03:52:20.723463Z",
     "iopub.status.idle": "2024-05-25T03:52:20.730311Z",
     "shell.execute_reply": "2024-05-25T03:52:20.729322Z"
    },
    "papermill": {
     "duration": 0.031472,
     "end_time": "2024-05-25T03:52:20.732528",
     "exception": false,
     "start_time": "2024-05-25T03:52:20.701056",
     "status": "completed"
    },
    "tags": []
   },
   "outputs": [
    {
     "data": {
      "text/plain": [
       "'\\ndel_list2 = [\"FullBath\",\"HalfBath\",\"BsmtFullBath\",\\n             \"OpenPorchSF\",\"EnclosedPorch\",\"ScreenPorch\",\\n             \"GarageCars\",\"GarageYrBlt\",\"WoodDeckSF\"]\\n\\ndata_train = data_train.drop(del_list2,axis=1)\\n'"
      ]
     },
     "execution_count": 11,
     "metadata": {},
     "output_type": "execute_result"
    }
   ],
   "source": [
    "\"\"\"\n",
    "del_list2 = [\"FullBath\",\"HalfBath\",\"BsmtFullBath\",\n",
    "             \"OpenPorchSF\",\"EnclosedPorch\",\"ScreenPorch\",\n",
    "             \"GarageCars\",\"GarageYrBlt\",\"WoodDeckSF\"]\n",
    "\n",
    "data_train = data_train.drop(del_list2,axis=1)\n",
    "\"\"\""
   ]
  },
  {
   "cell_type": "code",
   "execution_count": 12,
   "id": "31c31f95",
   "metadata": {
    "execution": {
     "iopub.execute_input": "2024-05-25T03:52:20.775770Z",
     "iopub.status.busy": "2024-05-25T03:52:20.775393Z",
     "iopub.status.idle": "2024-05-25T03:52:20.780043Z",
     "shell.execute_reply": "2024-05-25T03:52:20.778924Z"
    },
    "papermill": {
     "duration": 0.029199,
     "end_time": "2024-05-25T03:52:20.782421",
     "exception": false,
     "start_time": "2024-05-25T03:52:20.753222",
     "status": "completed"
    },
    "tags": []
   },
   "outputs": [],
   "source": [
    "#data_train = data_train.drop(area_list,axis=1)"
   ]
  },
  {
   "cell_type": "code",
   "execution_count": 13,
   "id": "30526a4b",
   "metadata": {
    "execution": {
     "iopub.execute_input": "2024-05-25T03:52:20.828918Z",
     "iopub.status.busy": "2024-05-25T03:52:20.828527Z",
     "iopub.status.idle": "2024-05-25T03:52:20.836663Z",
     "shell.execute_reply": "2024-05-25T03:52:20.835859Z"
    },
    "papermill": {
     "duration": 0.033017,
     "end_time": "2024-05-25T03:52:20.838741",
     "exception": false,
     "start_time": "2024-05-25T03:52:20.805724",
     "status": "completed"
    },
    "tags": []
   },
   "outputs": [
    {
     "data": {
      "text/plain": [
       "'\\ndata_front = data_train\\nfront_train = data_front.loc[data_front[\"LotFrontage\"].notna()]\\nfront_test = data_front.loc[data_front[\"LotFrontage\"].isna()]\\nfront_train_y = front_train[\"LotFrontage\"]\\nfront_test_y = front_test[[\"LotFrontage\"]]\\n\\nfront_train = front_train.drop([\"LotFrontage\",\"SalePrice\"],axis=1)\\nfront_test = front_test.drop([\"LotFrontage\",\"SalePrice\"],axis=1)\\n\\nx_train_f, x_valid_f, y_train_f, y_valid_f = train_test_split(front_train, front_train_y, test_size=0.2, random_state=0)\\n#traintestsplitで0.5対0.95の割合で分割をする。\\n\\nparams = {\\'objective\\': \\'regression\\',\\n          \\'metric\\': \\'rmse\\',\\n          \\'boosting\\': \\'gbdt\\',\\n          \\'verbosity\\': -1,\\n          \\'random_state\\': 1}\\n\\nf_train = lgb.Dataset(x_train_f,y_train_f)\\nf_valid = lgb.Dataset(x_valid_f,y_valid_f)\\n\\ngbm=lgb.train(\\n    params,\\n    f_train,\\n    valid_sets=[f_train, f_valid],\\n    valid_names=[\\'train\\', \\'valid\\'],\\n    num_boost_round=5000,\\n    callbacks=[lgb.early_stopping(200),lgb.log_evaluation(period=100)])\\n\\ny_prob = gbm.predict(x_valid_f)\\nmse = mean_squared_error(y_valid_f,y_prob)\\nrmse = np.sqrt(mse)\\nprint(mse)\\n\\nsubmit_f = gbm.predict(front_test)\\n\\ndata_front_l = data_front[\"LotFrontage\"]\\ndata_front_l.loc[data_front_l.isnull()]=submit_f\\ndata_train[\"LotFrontage_N\"]=data_front_l\\ndata_train = data_train.drop(\"LotFrontage\",axis=1)\\ndata_train\\n'"
      ]
     },
     "execution_count": 13,
     "metadata": {},
     "output_type": "execute_result"
    }
   ],
   "source": [
    "#LotFrontageの欠損値処理\n",
    "\"\"\"\n",
    "data_front = data_train\n",
    "front_train = data_front.loc[data_front[\"LotFrontage\"].notna()]\n",
    "front_test = data_front.loc[data_front[\"LotFrontage\"].isna()]\n",
    "front_train_y = front_train[\"LotFrontage\"]\n",
    "front_test_y = front_test[[\"LotFrontage\"]]\n",
    "\n",
    "front_train = front_train.drop([\"LotFrontage\",\"SalePrice\"],axis=1)\n",
    "front_test = front_test.drop([\"LotFrontage\",\"SalePrice\"],axis=1)\n",
    "\n",
    "x_train_f, x_valid_f, y_train_f, y_valid_f = train_test_split(front_train, front_train_y, test_size=0.2, random_state=0)\n",
    "#traintestsplitで0.5対0.95の割合で分割をする。\n",
    "\n",
    "params = {'objective': 'regression',\n",
    "          'metric': 'rmse',\n",
    "          'boosting': 'gbdt',\n",
    "          'verbosity': -1,\n",
    "          'random_state': 1}\n",
    "\n",
    "f_train = lgb.Dataset(x_train_f,y_train_f)\n",
    "f_valid = lgb.Dataset(x_valid_f,y_valid_f)\n",
    "\n",
    "gbm=lgb.train(\n",
    "    params,\n",
    "    f_train,\n",
    "    valid_sets=[f_train, f_valid],\n",
    "    valid_names=['train', 'valid'],\n",
    "    num_boost_round=5000,\n",
    "    callbacks=[lgb.early_stopping(200),lgb.log_evaluation(period=100)])\n",
    "\n",
    "y_prob = gbm.predict(x_valid_f)\n",
    "mse = mean_squared_error(y_valid_f,y_prob)\n",
    "rmse = np.sqrt(mse)\n",
    "print(mse)\n",
    "\n",
    "submit_f = gbm.predict(front_test)\n",
    "\n",
    "data_front_l = data_front[\"LotFrontage\"]\n",
    "data_front_l.loc[data_front_l.isnull()]=submit_f\n",
    "data_train[\"LotFrontage_N\"]=data_front_l\n",
    "data_train = data_train.drop(\"LotFrontage\",axis=1)\n",
    "data_train\n",
    "\"\"\""
   ]
  },
  {
   "cell_type": "code",
   "execution_count": 14,
   "id": "1675274a",
   "metadata": {
    "execution": {
     "iopub.execute_input": "2024-05-25T03:52:20.882421Z",
     "iopub.status.busy": "2024-05-25T03:52:20.881605Z",
     "iopub.status.idle": "2024-05-25T03:52:20.888688Z",
     "shell.execute_reply": "2024-05-25T03:52:20.887597Z"
    },
    "papermill": {
     "duration": 0.03165,
     "end_time": "2024-05-25T03:52:20.891110",
     "exception": false,
     "start_time": "2024-05-25T03:52:20.859460",
     "status": "completed"
    },
    "tags": []
   },
   "outputs": [
    {
     "data": {
      "text/plain": [
       "'\\nqual_list_gd = [\"ExterQual_Gd\",\"KitchenQual_Gd\",\"BsmtExposure_Gd\",\"FireplaceQu_Gd\"]\\ndata_train[\"qual_gd\"] = data_train[qual_list_gd].sum(axis=1)\\n\\nno_count = [\"FireplaceQu_No\",\"MasVnrType_No\",\"BsmtExposure_No\",\"GarageType_No\",\"BsmtCond_No\",\"BsmtFinType2_No\"]\\ndata_train[\"no_count\"] = data_train[no_count].sum(axis=1)\\n\\nbath_count = [\"FullBath\",\"HalfBath\",\"BsmtFullBath\",\"BsmtHalfBath\"]\\ndata_train[\"bath_count\"] = data_train[bath_count].sum(axis=1)\\n'"
      ]
     },
     "execution_count": 14,
     "metadata": {},
     "output_type": "execute_result"
    }
   ],
   "source": [
    "#特徴量の追加\n",
    "\"\"\"\n",
    "qual_list_gd = [\"ExterQual_Gd\",\"KitchenQual_Gd\",\"BsmtExposure_Gd\",\"FireplaceQu_Gd\"]\n",
    "data_train[\"qual_gd\"] = data_train[qual_list_gd].sum(axis=1)\n",
    "\n",
    "no_count = [\"FireplaceQu_No\",\"MasVnrType_No\",\"BsmtExposure_No\",\"GarageType_No\",\"BsmtCond_No\",\"BsmtFinType2_No\"]\n",
    "data_train[\"no_count\"] = data_train[no_count].sum(axis=1)\n",
    "\n",
    "bath_count = [\"FullBath\",\"HalfBath\",\"BsmtFullBath\",\"BsmtHalfBath\"]\n",
    "data_train[\"bath_count\"] = data_train[bath_count].sum(axis=1)\n",
    "\"\"\""
   ]
  },
  {
   "cell_type": "code",
   "execution_count": 15,
   "id": "b52bab05",
   "metadata": {
    "execution": {
     "iopub.execute_input": "2024-05-25T03:52:20.934825Z",
     "iopub.status.busy": "2024-05-25T03:52:20.934445Z",
     "iopub.status.idle": "2024-05-25T03:52:20.940888Z",
     "shell.execute_reply": "2024-05-25T03:52:20.939700Z"
    },
    "papermill": {
     "duration": 0.03104,
     "end_time": "2024-05-25T03:52:20.943236",
     "exception": false,
     "start_time": "2024-05-25T03:52:20.912196",
     "status": "completed"
    },
    "tags": []
   },
   "outputs": [
    {
     "data": {
      "text/plain": [
       "'\\nsur = data_train.corr()[\"SalePrice\"].abs()\\ndel_i = sur.loc[sur.sort_values()<0.02]\\ndel_i = del_i.index\\ndata = data.drop(del_i,axis=1)\\n'"
      ]
     },
     "execution_count": 15,
     "metadata": {},
     "output_type": "execute_result"
    }
   ],
   "source": [
    "\"\"\"\n",
    "sur = data_train.corr()[\"SalePrice\"].abs()\n",
    "del_i = sur.loc[sur.sort_values()<0.02]\n",
    "del_i = del_i.index\n",
    "data = data.drop(del_i,axis=1)\n",
    "\"\"\""
   ]
  },
  {
   "cell_type": "code",
   "execution_count": 16,
   "id": "50f9589d",
   "metadata": {
    "execution": {
     "iopub.execute_input": "2024-05-25T03:52:20.987054Z",
     "iopub.status.busy": "2024-05-25T03:52:20.986692Z",
     "iopub.status.idle": "2024-05-25T03:52:20.999853Z",
     "shell.execute_reply": "2024-05-25T03:52:20.998936Z"
    },
    "papermill": {
     "duration": 0.038526,
     "end_time": "2024-05-25T03:52:21.002484",
     "exception": false,
     "start_time": "2024-05-25T03:52:20.963958",
     "status": "completed"
    },
    "tags": []
   },
   "outputs": [],
   "source": [
    "x_train = data_train.loc[data_train[\"SalePrice\"].notna()]\n",
    "x_train = x_train.drop(\"SalePrice\",axis=1)\n",
    "x_test = data_train.loc[data_train[\"SalePrice\"].isna()]\n",
    "x_test = x_test.drop(\"SalePrice\",axis=1)"
   ]
  },
  {
   "cell_type": "code",
   "execution_count": 17,
   "id": "afcdcf2d",
   "metadata": {
    "execution": {
     "iopub.execute_input": "2024-05-25T03:52:21.046755Z",
     "iopub.status.busy": "2024-05-25T03:52:21.046386Z",
     "iopub.status.idle": "2024-05-25T03:52:21.053737Z",
     "shell.execute_reply": "2024-05-25T03:52:21.052974Z"
    },
    "papermill": {
     "duration": 0.032127,
     "end_time": "2024-05-25T03:52:21.055882",
     "exception": false,
     "start_time": "2024-05-25T03:52:21.023755",
     "status": "completed"
    },
    "tags": []
   },
   "outputs": [
    {
     "data": {
      "text/plain": [
       "'\\n#categorical featureなし\\n\\ndf_submit = pd.DataFrame()\\ndf_submit.to_csv(\"/kaggle/working/submission.csv\",index=False)\\n\\nx_train_lgb, x_valid_lgb, y_train_lgb, y_valid_lgb = train_test_split(x_train, y_train, test_size=0.05, random_state=0)\\n#traintestsplitで0.5対0.95の割合で分割をする。\\n\\nparams = {\\'objective\\': \\'regression\\',\\n          \\'metric\\': \\'rmse\\',\\n          \\'boosting\\': \\'gbdt\\',\\n          \\'verbosity\\': -1,\\n          \\'random_state\\': 1}\\n\\nlgb_train = lgb.Dataset(x_train_lgb,y_train_lgb)\\nlgb_valid = lgb.Dataset(x_valid_lgb,y_valid_lgb)\\n\\ngbm=lgb.train(\\n    params,\\n    lgb_train,\\n    valid_sets=[lgb_train, lgb_valid],\\n    valid_names=[\\'train\\', \\'valid\\'],\\n    num_boost_round=5000,\\n    callbacks=[lgb.early_stopping(200),lgb.log_evaluation(period=100)])\\n\\ny_prob = gbm.predict(x_valid_lgb)\\nmse = mean_squared_error(y_valid_lgb,y_prob)\\nrmse = np.sqrt(mse)\\nprint(mse)\\n\\nsubmit = gbm.predict(x_test)\\nprint(submit)\\nsample_submission[\"SalePrice\"]=submit\\n\\ndf_submit = sample_submission\\ndf_submit.to_csv(\"/kaggle/working/submission.csv\",index=False)\\n\\n#lgb = sample_submission\\n'"
      ]
     },
     "execution_count": 17,
     "metadata": {},
     "output_type": "execute_result"
    }
   ],
   "source": [
    "\"\"\"\n",
    "#categorical featureなし\n",
    "\n",
    "df_submit = pd.DataFrame()\n",
    "df_submit.to_csv(\"/kaggle/working/submission.csv\",index=False)\n",
    "\n",
    "x_train_lgb, x_valid_lgb, y_train_lgb, y_valid_lgb = train_test_split(x_train, y_train, test_size=0.05, random_state=0)\n",
    "#traintestsplitで0.5対0.95の割合で分割をする。\n",
    "\n",
    "params = {'objective': 'regression',\n",
    "          'metric': 'rmse',\n",
    "          'boosting': 'gbdt',\n",
    "          'verbosity': -1,\n",
    "          'random_state': 1}\n",
    "\n",
    "lgb_train = lgb.Dataset(x_train_lgb,y_train_lgb)\n",
    "lgb_valid = lgb.Dataset(x_valid_lgb,y_valid_lgb)\n",
    "\n",
    "gbm=lgb.train(\n",
    "    params,\n",
    "    lgb_train,\n",
    "    valid_sets=[lgb_train, lgb_valid],\n",
    "    valid_names=['train', 'valid'],\n",
    "    num_boost_round=5000,\n",
    "    callbacks=[lgb.early_stopping(200),lgb.log_evaluation(period=100)])\n",
    "\n",
    "y_prob = gbm.predict(x_valid_lgb)\n",
    "mse = mean_squared_error(y_valid_lgb,y_prob)\n",
    "rmse = np.sqrt(mse)\n",
    "print(mse)\n",
    "\n",
    "submit = gbm.predict(x_test)\n",
    "print(submit)\n",
    "sample_submission[\"SalePrice\"]=submit\n",
    "\n",
    "df_submit = sample_submission\n",
    "df_submit.to_csv(\"/kaggle/working/submission.csv\",index=False)\n",
    "\n",
    "#lgb = sample_submission\n",
    "\"\"\""
   ]
  },
  {
   "cell_type": "markdown",
   "id": "2b06291d",
   "metadata": {
    "papermill": {
     "duration": 0.020627,
     "end_time": "2024-05-25T03:52:21.098026",
     "exception": false,
     "start_time": "2024-05-25T03:52:21.077399",
     "status": "completed"
    },
    "tags": []
   },
   "source": [
    "<h3>目標</h3>\n",
    "<strong>0.12437</strong>\n",
    "<h3>lightgbm</h3>\n",
    "886119260.0036006　:　0.13921<br>\n",
    "893909754.9908885　：　0.13950<br>\n",
    "1132178287.9169395　：　0.13770<br>\n",
    "1095363254.1501348　：　0.13434（広さとクオリティーの特徴量を追加）<br>\n",
    "759103312.6288346　：　0.14005（testsizeを0.4に）<br>\n",
    "849124077.1035788　：　0.13403（testsizeを0.1に）<br>\n",
    "1161676490.4071314　：　0.13275（testsizeを0.05に）<br>\n",
    "4117822698.11737　：　0.13423（testsizeを0.01に）<br>\n",
    "1264008630.0203445　：　0.13446（No / 風呂の数 / Gdの数の特徴量を追加）<br>\n",
    "1130424889.4157186　：　0.13423（クオリティーのTAとEXの種類を追加）<br>\n",
    "1212035297.1493454　：　0.13527（クオリティーのEXの種類を追加）<br>\n",
    "1163454385.9609742　：　0.13391（garageとLotFrontageの欠損値を追加処理）<br>\n",
    "1092838199.0245917　：　0.13394（garageの欠損値を追加処理）<br>\n",
    "1061246695.9633745　：　0.13547（LotFrontageの欠損値を追加処理）<br>\n",
    "1112683662.0306122　：　0.13365（HeatingQCの特徴量を追加）<br>\n",
    "1200477521.1618218　：　0.13411（地下室の欠損値を0に）<br>\n",
    "1131419328.9506612　：　0.13396（Gdの値を追加）<br>\n",
    "1196290116.160546　：　0.13537（風呂の数の値を追加）<br>\n",
    "1164945010.634817　：　0.13286（欠損値が多いカラムを削除）<br>\n",
    "<br>\n",
    "<h3>lightgbm 方針変更</h3>\n",
    "1201872135.0661528　：　0.13352（方向転換）<br>\n",
    "1201872135.0661528　：　0.13352（重要度の低いカラムを削除）<br>\n",
    "<br>\n",
    "<h3>other　model</h3>\n",
    "888336369.6521956　：　0.13973（gbm,相関関係が0.01以下）<br>\n",
    "56608.718734138645　： 0.29793（knn）<br>\n",
    "56608.718734138645　： 0.16891（randomforest）<br>\n",
    "1222086473.3063476　： 0.14805（xgboost）<br>\n",
    "56170.05372242699　：　0.26823（lgb optuna）<br>\n"
   ]
  },
  {
   "cell_type": "markdown",
   "id": "dcc34c9b",
   "metadata": {
    "papermill": {
     "duration": 0.020609,
     "end_time": "2024-05-25T03:52:21.139566",
     "exception": false,
     "start_time": "2024-05-25T03:52:21.118957",
     "status": "completed"
    },
    "tags": []
   },
   "source": [
    "<li>garageの設立年をそろえる</li>\n",
    "<li>MasVnrAreaの欠損値調整</li>\n",
    "<li>アンサンブル</li>\n",
    "<li>その他の特徴量追加による変化の観察</li>"
   ]
  },
  {
   "cell_type": "markdown",
   "id": "6029b646",
   "metadata": {
    "papermill": {
     "duration": 0.02081,
     "end_time": "2024-05-25T03:52:21.235256",
     "exception": false,
     "start_time": "2024-05-25T03:52:21.214446",
     "status": "completed"
    },
    "tags": []
   },
   "source": []
  },
  {
   "cell_type": "code",
   "execution_count": 18,
   "id": "b92c7061",
   "metadata": {
    "execution": {
     "iopub.execute_input": "2024-05-25T03:52:21.278938Z",
     "iopub.status.busy": "2024-05-25T03:52:21.278549Z",
     "iopub.status.idle": "2024-05-25T03:52:21.285222Z",
     "shell.execute_reply": "2024-05-25T03:52:21.284079Z"
    },
    "papermill": {
     "duration": 0.031021,
     "end_time": "2024-05-25T03:52:21.287315",
     "exception": false,
     "start_time": "2024-05-25T03:52:21.256294",
     "status": "completed"
    },
    "tags": []
   },
   "outputs": [
    {
     "data": {
      "text/plain": [
       "'\\nlgb.plot_importance(gbm, figsize=(8,8), max_num_features=20, importance_type=\\'gain\\')\\nimportance = pd.DataFrame(gbm.feature_importance(), index=x_train.columns, columns=[\\'importance\\'])\\nimportance[\"importance\"].sort_values().head(100).index\\n'"
      ]
     },
     "execution_count": 18,
     "metadata": {},
     "output_type": "execute_result"
    }
   ],
   "source": [
    "\"\"\"\n",
    "lgb.plot_importance(gbm, figsize=(8,8), max_num_features=20, importance_type='gain')\n",
    "importance = pd.DataFrame(gbm.feature_importance(), index=x_train.columns, columns=['importance'])\n",
    "importance[\"importance\"].sort_values().head(100).index\n",
    "\"\"\""
   ]
  },
  {
   "cell_type": "code",
   "execution_count": 19,
   "id": "78c10c04",
   "metadata": {
    "execution": {
     "iopub.execute_input": "2024-05-25T03:52:21.331885Z",
     "iopub.status.busy": "2024-05-25T03:52:21.331492Z",
     "iopub.status.idle": "2024-05-25T03:52:21.494326Z",
     "shell.execute_reply": "2024-05-25T03:52:21.493241Z"
    },
    "papermill": {
     "duration": 0.188023,
     "end_time": "2024-05-25T03:52:21.496565",
     "exception": false,
     "start_time": "2024-05-25T03:52:21.308542",
     "status": "completed"
    },
    "tags": []
   },
   "outputs": [
    {
     "data": {
      "text/plain": [
       "year_count              -0.576144\n",
       "YrPsdBlt                -0.522897\n",
       "YrPsdRmd                -0.507101\n",
       "GarageType_Detchd       -0.354141\n",
       "BsmtExposure_No         -0.319990\n",
       "MSZoning_RM             -0.288065\n",
       "LotShape_Reg            -0.267672\n",
       "CentralAir_N            -0.251328\n",
       "SaleType_WD             -0.242598\n",
       "RoofStyle_Gable         -0.224744\n",
       "Foundation_BrkTil       -0.204117\n",
       "Neighborhood_OldTown    -0.192189\n",
       "Neighborhood_NAmes      -0.188513\n",
       "Neighborhood_Edwards    -0.179949\n",
       "Exterior1st_MetalSd     -0.167068\n",
       "Neighborhood_IDOTRR     -0.164056\n",
       "HouseStyle_1.5Fin       -0.163466\n",
       "SaleCondition_Normal    -0.153990\n",
       "Neighborhood_BrkSide    -0.143648\n",
       "KitchenAbvGr            -0.135907\n",
       "EnclosedPorch           -0.128578\n",
       "SaleCondition_Abnorml   -0.118069\n",
       "Condition1_Feedr        -0.117329\n",
       "BldgType_Duplex         -0.114655\n",
       "Condition1_Artery       -0.106401\n",
       "Neighborhood_BrDale     -0.101303\n",
       "LandContour_Bnk         -0.101124\n",
       "BldgType_Twnhs          -0.098730\n",
       "BldgType_2fmCon         -0.097348\n",
       "HouseStyle_SFoyer       -0.093090\n",
       "HouseStyle_1.5Unf       -0.087686\n",
       "MSSubClass              -0.084284\n",
       "LotConfig_Inside        -0.080538\n",
       "OverallCond             -0.077856\n",
       "HouseStyle_1Story       -0.061811\n",
       "Exterior2nd_Plywood     -0.052941\n",
       "LandSlope_Gtl           -0.051116\n",
       "Condition2_Feedr        -0.048335\n",
       "Condition1_RRAe         -0.046651\n",
       "Condition2_RRNn         -0.039255\n",
       "HouseStyle_SLvl         -0.038645\n",
       "RoofStyle_Gambrel       -0.035121\n",
       "Condition2_Artery       -0.034708\n",
       "YrSold                  -0.028923\n",
       "LandContour_Lvl         -0.027545\n",
       "HouseStyle_2.5Unf       -0.025856\n",
       "LowQualFinSF            -0.025606\n",
       "Id                      -0.021917\n",
       "Neighborhood_Blueste    -0.020250\n",
       "Condition2_RRAn         -0.014510\n",
       "Name: SalePrice, dtype: float64"
      ]
     },
     "execution_count": 19,
     "metadata": {},
     "output_type": "execute_result"
    }
   ],
   "source": [
    "sur = data_train.corr()[\"SalePrice\"]\n",
    "sur.sort_values(ascending=True).head(50)"
   ]
  },
  {
   "cell_type": "code",
   "execution_count": 20,
   "id": "5d4fbf80",
   "metadata": {
    "execution": {
     "iopub.execute_input": "2024-05-25T03:52:21.548117Z",
     "iopub.status.busy": "2024-05-25T03:52:21.547536Z",
     "iopub.status.idle": "2024-05-25T03:52:21.708375Z",
     "shell.execute_reply": "2024-05-25T03:52:21.707241Z"
    },
    "papermill": {
     "duration": 0.190113,
     "end_time": "2024-05-25T03:52:21.711321",
     "exception": false,
     "start_time": "2024-05-25T03:52:21.521208",
     "status": "completed"
    },
    "tags": []
   },
   "outputs": [
    {
     "data": {
      "text/plain": [
       "SalePrice               1.000000\n",
       "area                    0.807704\n",
       "OverallQual             0.790982\n",
       "qual                    0.733486\n",
       "GrLivArea               0.708624\n",
       "ExterQual               0.682639\n",
       "KitchenQual             0.659600\n",
       "GarageCars              0.640409\n",
       "GarageArea              0.623431\n",
       "TotalBsmtSF             0.613581\n",
       "bath_count              0.613005\n",
       "1stFlrSF                0.605852\n",
       "BsmtQual                0.585207\n",
       "FullBath                0.560664\n",
       "GarageFinish            0.549247\n",
       "TotRmsAbvGrd            0.533723\n",
       "Foundation_PConc        0.497734\n",
       "MasVnrArea              0.472614\n",
       "Fireplaces              0.466929\n",
       "HeatingQC               0.427649\n",
       "Neighborhood_NridgHt    0.402149\n",
       "BsmtFinSF1              0.386420\n",
       "SaleType_New            0.357509\n",
       "LotFrontage             0.347806\n",
       "GarageType_Attchd       0.335961\n",
       "Neighborhood_NoRidge    0.330424\n",
       "WoodDeckSF              0.324413\n",
       "2ndFlrSF                0.319334\n",
       "OpenPorchSF             0.315856\n",
       "BsmtExposure_Gd         0.307298\n",
       "Exterior2nd_VinylSd     0.306389\n",
       "Exterior1st_VinylSd     0.305009\n",
       "BsmtFinType1            0.304908\n",
       "HalfBath                0.284108\n",
       "GarageQual              0.273839\n",
       "LotArea                 0.263843\n",
       "GarageCond              0.263191\n",
       "GarageYrBlt             0.261366\n",
       "MSZoning_RL             0.245063\n",
       "HouseStyle_2Story       0.242880\n",
       "Electrical_SBrkr        0.242357\n",
       "BsmtFullBath            0.227122\n",
       "LotShape_IR1            0.223284\n",
       "Neighborhood_StoneBr    0.215363\n",
       "BsmtUnfSF               0.214479\n",
       "BsmtCond                0.212607\n",
       "BedroomAbvGr            0.168213\n",
       "LotConfig_CulDSac       0.141818\n",
       "Neighborhood_Somerst    0.140058\n",
       "BldgType_1Fam           0.137483\n",
       "Name: SalePrice, dtype: float64"
      ]
     },
     "execution_count": 20,
     "metadata": {},
     "output_type": "execute_result"
    }
   ],
   "source": [
    "sur = data_train.corr()[\"SalePrice\"]\n",
    "sur.sort_values(ascending=False).head(50)"
   ]
  },
  {
   "cell_type": "code",
   "execution_count": 21,
   "id": "3d0b79c2",
   "metadata": {
    "execution": {
     "iopub.execute_input": "2024-05-25T03:52:21.759872Z",
     "iopub.status.busy": "2024-05-25T03:52:21.758653Z",
     "iopub.status.idle": "2024-05-25T03:52:21.782510Z",
     "shell.execute_reply": "2024-05-25T03:52:21.781238Z"
    },
    "papermill": {
     "duration": 0.050491,
     "end_time": "2024-05-25T03:52:21.784959",
     "exception": false,
     "start_time": "2024-05-25T03:52:21.734468",
     "status": "completed"
    },
    "tags": []
   },
   "outputs": [
    {
     "data": {
      "text/plain": [
       "SalePrice        1459\n",
       "Id                  0\n",
       "BedroomAbvGr        0\n",
       "GarageYrBlt         0\n",
       "GarageType          0\n",
       "Fireplaces          0\n",
       "Functional          0\n",
       "TotRmsAbvGrd        0\n",
       "KitchenQual         0\n",
       "KitchenAbvGr        0\n",
       "HalfBath            0\n",
       "GarageCars          0\n",
       "FullBath            0\n",
       "BsmtHalfBath        0\n",
       "BsmtFullBath        0\n",
       "GrLivArea           0\n",
       "LowQualFinSF        0\n",
       "2ndFlrSF            0\n",
       "GarageFinish        0\n",
       "GarageArea          0\n",
       "Electrical          0\n",
       "PoolArea            0\n",
       "YrPsdBlt            0\n",
       "SaleCondition       0\n",
       "SaleType            0\n",
       "YrSold              0\n",
       "MoSold              0\n",
       "MiscVal             0\n",
       "ScreenPorch         0\n",
       "GarageQual          0\n",
       "3SsnPorch           0\n",
       "EnclosedPorch       0\n",
       "OpenPorchSF         0\n",
       "WoodDeckSF          0\n",
       "PavedDrive          0\n",
       "GarageCond          0\n",
       "1stFlrSF            0\n",
       "CentralAir          0\n",
       "MSSubClass          0\n",
       "RoofStyle           0\n",
       "OverallQual         0\n",
       "HouseStyle          0\n",
       "BldgType            0\n",
       "Condition2          0\n",
       "Condition1          0\n",
       "Neighborhood        0\n",
       "LandSlope           0\n",
       "LotConfig           0\n",
       "Utilities           0\n",
       "LandContour         0\n",
       "dtype: int64"
      ]
     },
     "execution_count": 21,
     "metadata": {},
     "output_type": "execute_result"
    }
   ],
   "source": [
    "data.isnull().sum().sort_values(ascending=False).head(50)"
   ]
  },
  {
   "cell_type": "code",
   "execution_count": 22,
   "id": "5da0a574",
   "metadata": {
    "execution": {
     "iopub.execute_input": "2024-05-25T03:52:21.832389Z",
     "iopub.status.busy": "2024-05-25T03:52:21.831384Z",
     "iopub.status.idle": "2024-05-25T03:52:21.839588Z",
     "shell.execute_reply": "2024-05-25T03:52:21.838470Z"
    },
    "papermill": {
     "duration": 0.034306,
     "end_time": "2024-05-25T03:52:21.841840",
     "exception": false,
     "start_time": "2024-05-25T03:52:21.807534",
     "status": "completed"
    },
    "tags": []
   },
   "outputs": [
    {
     "data": {
      "text/plain": [
       "'\\n#K近傍法：求めたい点の周辺の何個かの点を取る。その点が0か1のどちらかを特定する。0か1のどちらが多いか多数決で決めるモデル\\n\\ndf_submit = pd.DataFrame()\\ndf_submit.to_csv(\"/kaggle/working/submission.csv\",index=False)\\n\\nknn = KNeighborsClassifier()\\n#K-nnの手法。これは求めたい値から周辺にいくつかの点をリストアップする。その周辺にある点が0か1のどちらかを推定し、多い方を利用する\\nparam_test = {\\'n_neighbors\\':list(range(1, 10, 1))} \\n#n_neighborsは周辺の何個の点を取得するかを表したもの。今回は1~50個のうち、どれが適切かをgridsearchで特定している\\n\\ndef rmse(y_true, y_pred):\\n    return np.sqrt(mean_squared_error(y_true, y_pred))\\nrmse_scorer = make_scorer(rmse, greater_is_better=False)\\n\\ngrid = GridSearchCV(estimator = knn, param_grid = param_test, scoring=rmse_scorer, cv=10)\\ngrid.fit(x_train, y_train)\\nscore = grid.best_score_\\nscore = np.abs(score)\\nprint(grid.best_params_, score, sep=\"\\n\")\\n\\nsubmit = grid.predict(x_test)\\nprint(submit)\\n\\nsample_submission[\"SalePrice\"]=submit\\ndf_submit = sample_submission\\ndf_submit.to_csv(\"/kaggle/working/submission.csv\",index=False)\\n#df_submit.to_csv(\"/kaggle/working/0504knn.csv\",index=False)\\n'"
      ]
     },
     "execution_count": 22,
     "metadata": {},
     "output_type": "execute_result"
    }
   ],
   "source": [
    "\"\"\"\n",
    "#K近傍法：求めたい点の周辺の何個かの点を取る。その点が0か1のどちらかを特定する。0か1のどちらが多いか多数決で決めるモデル\n",
    "\n",
    "df_submit = pd.DataFrame()\n",
    "df_submit.to_csv(\"/kaggle/working/submission.csv\",index=False)\n",
    "\n",
    "knn = KNeighborsClassifier()\n",
    "#K-nnの手法。これは求めたい値から周辺にいくつかの点をリストアップする。その周辺にある点が0か1のどちらかを推定し、多い方を利用する\n",
    "param_test = {'n_neighbors':list(range(1, 10, 1))} \n",
    "#n_neighborsは周辺の何個の点を取得するかを表したもの。今回は1~50個のうち、どれが適切かをgridsearchで特定している\n",
    "\n",
    "def rmse(y_true, y_pred):\n",
    "    return np.sqrt(mean_squared_error(y_true, y_pred))\n",
    "rmse_scorer = make_scorer(rmse, greater_is_better=False)\n",
    "\n",
    "grid = GridSearchCV(estimator = knn, param_grid = param_test, scoring=rmse_scorer, cv=10)\n",
    "grid.fit(x_train, y_train)\n",
    "score = grid.best_score_\n",
    "score = np.abs(score)\n",
    "print(grid.best_params_, score, sep=\"\\n\")\n",
    "\n",
    "submit = grid.predict(x_test)\n",
    "print(submit)\n",
    "\n",
    "sample_submission[\"SalePrice\"]=submit\n",
    "df_submit = sample_submission\n",
    "df_submit.to_csv(\"/kaggle/working/submission.csv\",index=False)\n",
    "#df_submit.to_csv(\"/kaggle/working/0504knn.csv\",index=False)\n",
    "\"\"\""
   ]
  },
  {
   "cell_type": "code",
   "execution_count": 23,
   "id": "10fcf946",
   "metadata": {
    "execution": {
     "iopub.execute_input": "2024-05-25T03:52:21.891262Z",
     "iopub.status.busy": "2024-05-25T03:52:21.890825Z",
     "iopub.status.idle": "2024-05-25T03:53:22.831420Z",
     "shell.execute_reply": "2024-05-25T03:53:22.830253Z"
    },
    "papermill": {
     "duration": 60.991336,
     "end_time": "2024-05-25T03:53:22.857230",
     "exception": false,
     "start_time": "2024-05-25T03:52:21.865894",
     "status": "completed"
    },
    "tags": []
   },
   "outputs": [
    {
     "name": "stdout",
     "output_type": "stream",
     "text": [
      "{'max_depth': 9, 'n_estimators': 25}\n",
      "28678.748072006438\n",
      "[128592.4505604  162778.11691333 176624.94374792 ... 156588.0759185\n",
      " 117431.00993973 221197.29281413]\n"
     ]
    }
   ],
   "source": [
    "\n",
    "#ランダムフォレスト：決定木を複数作成をして、どちらに該当するかモデルを作ること。\n",
    "#決定木と異なるのは、複数のサンプルをリストアップしてその複数の決定木を作り、その平均/多数決で決めること\n",
    "\n",
    "\n",
    "df_submit = pd.DataFrame()\n",
    "df_submit.to_csv(\"/kaggle/working/submission.csv\",index=False)\n",
    "\n",
    "rfr = RandomForestRegressor(random_state = 100, max_features='sqrt')\n",
    "param_test = {'n_estimators':list(range(20, 30, 1)), #20～30を１刻みずつ試す\n",
    "              'max_depth':list(range(3, 10, 1))} #3～10を１刻みずつ試す\n",
    "\n",
    "def rmse(y_true, y_pred):\n",
    "    return np.sqrt(mean_squared_error(y_true, y_pred))\n",
    "rmse_scorer = make_scorer(rmse, greater_is_better=False)\n",
    "\n",
    "grid = GridSearchCV(estimator = rfr, param_grid = param_test, scoring=rmse_scorer, cv=10)\n",
    "grid.fit(x_train, y_train)\n",
    "score = grid.best_score_\n",
    "score = np.abs(score)\n",
    "print(grid.best_params_, score, sep=\"\\n\")\n",
    "\n",
    "submit = grid.predict(x_test)\n",
    "print(submit)\n",
    "\n",
    "sample_submission[\"SalePrice\"]=submit\n",
    "df_submit = sample_submission\n",
    "df_submit.to_csv(\"/kaggle/working/submission.csv\",index=False)\n",
    "\n",
    "rand0525 = sample_submission"
   ]
  },
  {
   "cell_type": "code",
   "execution_count": 24,
   "id": "0df2a4b0",
   "metadata": {
    "execution": {
     "iopub.execute_input": "2024-05-25T03:53:22.905494Z",
     "iopub.status.busy": "2024-05-25T03:53:22.903850Z",
     "iopub.status.idle": "2024-05-25T03:53:24.869468Z",
     "shell.execute_reply": "2024-05-25T03:53:24.868505Z"
    },
    "papermill": {
     "duration": 1.992482,
     "end_time": "2024-05-25T03:53:24.872097",
     "exception": false,
     "start_time": "2024-05-25T03:53:22.879615",
     "status": "completed"
    },
    "tags": []
   },
   "outputs": [
    {
     "name": "stdout",
     "output_type": "stream",
     "text": [
      "[0]\ttrain-rmse:58473.50213\tvalid-rmse:62811.20837\n",
      "[100]\ttrain-rmse:870.98511\tvalid-rmse:25418.72398\n",
      "[200]\ttrain-rmse:66.48424\tvalid-rmse:25440.23286\n",
      "647205453.7361925\n",
      "[136673.81  177574.69  178829.31  ... 163260.83  110897.414 219162.78 ]\n"
     ]
    }
   ],
   "source": [
    "\n",
    "#xgboost\n",
    "\n",
    "df_submit = pd.DataFrame()\n",
    "df_submit.to_csv(\"/kaggle/working/submission.csv\",index=False)\n",
    "\n",
    "x_train_xgb, x_valid_xgb, y_train_xgb, y_valid_xgb = train_test_split(x_train, y_train, test_size=0.2, random_state=0)\n",
    "#traintestsplitで2対8の割合で分割をする。\n",
    "\n",
    "params = {'objective': 'reg:squarederror',\n",
    "          'metric': 'eval_metric',\n",
    "          'booster': 'gbtree',\n",
    "          'verbosity': 1,\n",
    "          'seed': 1}\n",
    "\n",
    "xgb_train = xgb.DMatrix(data = x_train_xgb,label = y_train_xgb)\n",
    "xgb_valid = xgb.DMatrix(data = x_valid_xgb,label = y_valid_xgb)\n",
    "\n",
    "model = xgb.train(\n",
    "    params=params,\n",
    "    dtrain=xgb_train,\n",
    "    num_boost_round=1000,\n",
    "    evals=[(xgb_train, 'train'), (xgb_valid, 'valid')],\n",
    "    early_stopping_rounds=100,\n",
    "    verbose_eval=100)\n",
    "\n",
    "x_valid_for_pred = xgb.DMatrix(data=x_valid_xgb)\n",
    "y_prob = model.predict(x_valid_for_pred)\n",
    "\n",
    "mse = mean_squared_error(y_valid_xgb,y_prob)\n",
    "rmse = np.sqrt(mse)\n",
    "print(mse)\n",
    "\n",
    "x_test_pred = xgb.DMatrix(data=x_test)\n",
    "submit = model.predict(x_test_pred)\n",
    "print(submit)\n",
    "sample_submission[\"SalePrice\"]=submit\n",
    "\n",
    "df_submit = sample_submission\n",
    "df_submit.to_csv(\"/kaggle/working/submission.csv\",index=False)\n",
    "\n",
    "xgboost0525 = sample_submission\n"
   ]
  },
  {
   "cell_type": "code",
   "execution_count": 25,
   "id": "b8dbd427",
   "metadata": {
    "execution": {
     "iopub.execute_input": "2024-05-25T03:53:24.920694Z",
     "iopub.status.busy": "2024-05-25T03:53:24.920067Z",
     "iopub.status.idle": "2024-05-25T03:53:24.929598Z",
     "shell.execute_reply": "2024-05-25T03:53:24.928472Z"
    },
    "papermill": {
     "duration": 0.035833,
     "end_time": "2024-05-25T03:53:24.931949",
     "exception": false,
     "start_time": "2024-05-25T03:53:24.896116",
     "status": "completed"
    },
    "tags": []
   },
   "outputs": [
    {
     "data": {
      "text/plain": [
       "'\\n#categorical featureなし / optunaあり\\n\\ndf_submit = pd.DataFrame()\\ndf_submit.to_csv(\"/kaggle/working/submission.csv\",index=False)\\n\\nx_train_lgb, x_valid_lgb, y_train_lgb, y_valid_lgb = train_test_split(x_train, y_train, test_size=0.2, random_state=42)\\n\\ndef objective(trial):\\n\\n    params = {\\n        \\'objective\\': \\'regression\\',\\n        \\'metric\\': \\'rmse\\',\\n        \\'boosting\\': \\'gbdt\\',\\n        \\'max_depth\\':trial.suggest_int(\\'max_depth\\', 1, 10),\\n        \\'min_data_in_leaf\\':trial.suggest_int(\\'min_data_in_leaf\\', 1, 80),\\n        \\'learning_rate\\':trial.suggest_loguniform(\\'learning_rate\\', 0.001, 0.1),\\n        \\'lambda_l1\\': trial.suggest_loguniform(\\'lambda_l1\\', 1e-8, 10.0),\\n        \\'lambda_l2\\': trial.suggest_loguniform(\\'lambda_l2\\', 1e-8, 10.0),\\n        \\'num_leaves\\': trial.suggest_int(\\'num_leaves\\', 2, 512),\\n        \\'feature_fraction\\': trial.suggest_uniform(\\'feature_fraction\\', 0.4, 1.0),\\n        \\'bagging_fraction\\': trial.suggest_uniform(\\'bagging_fraction\\', 0.4, 1.0),\\n        \\'bagging_freq\\': trial.suggest_int(\\'bagging_freq\\', 0, 10),\\n        \\'min_child_samples\\': trial.suggest_int(\\'min_child_samples\\', 5, 100),\\n        \\'verbosity\\': -1,\\n        \\'random_state\\': 0,\\n    }\\n\\n\\n    lgb_train = lgb.Dataset(x_train_lgb,y_train_lgb)\\n    lgb_valid = lgb.Dataset(x_valid_lgb,y_valid_lgb)\\n\\n    gbm=lgb.train(\\n        params,\\n        lgb_train,\\n        valid_sets=[lgb_train, lgb_valid],\\n        valid_names=[\\'train\\', \\'valid\\'],\\n        num_boost_round=1000,\\n        callbacks=[lgb.early_stopping(100),lgb.log_evaluation(period=100)])\\n    \\n    y_prob = gbm.predict(x_valid_lgb)\\n    mse = mean_squared_error(y_valid_lgb,y_prob)\\n    rmse = np.sqrt(mse)\\n    return rmse\\n\\nstudy = optuna.create_study(direction=\"maximize\",sampler=optuna.samplers.TPESampler(seed=42))\\nstudy.optimize(objective, n_trials=100)\\nstudy.best_params\\n'"
      ]
     },
     "execution_count": 25,
     "metadata": {},
     "output_type": "execute_result"
    }
   ],
   "source": [
    "\"\"\"\n",
    "#categorical featureなし / optunaあり\n",
    "\n",
    "df_submit = pd.DataFrame()\n",
    "df_submit.to_csv(\"/kaggle/working/submission.csv\",index=False)\n",
    "\n",
    "x_train_lgb, x_valid_lgb, y_train_lgb, y_valid_lgb = train_test_split(x_train, y_train, test_size=0.2, random_state=42)\n",
    "\n",
    "def objective(trial):\n",
    "\n",
    "    params = {\n",
    "        'objective': 'regression',\n",
    "        'metric': 'rmse',\n",
    "        'boosting': 'gbdt',\n",
    "        'max_depth':trial.suggest_int('max_depth', 1, 10),\n",
    "        'min_data_in_leaf':trial.suggest_int('min_data_in_leaf', 1, 80),\n",
    "        'learning_rate':trial.suggest_loguniform('learning_rate', 0.001, 0.1),\n",
    "        'lambda_l1': trial.suggest_loguniform('lambda_l1', 1e-8, 10.0),\n",
    "        'lambda_l2': trial.suggest_loguniform('lambda_l2', 1e-8, 10.0),\n",
    "        'num_leaves': trial.suggest_int('num_leaves', 2, 512),\n",
    "        'feature_fraction': trial.suggest_uniform('feature_fraction', 0.4, 1.0),\n",
    "        'bagging_fraction': trial.suggest_uniform('bagging_fraction', 0.4, 1.0),\n",
    "        'bagging_freq': trial.suggest_int('bagging_freq', 0, 10),\n",
    "        'min_child_samples': trial.suggest_int('min_child_samples', 5, 100),\n",
    "        'verbosity': -1,\n",
    "        'random_state': 0,\n",
    "    }\n",
    "\n",
    "\n",
    "    lgb_train = lgb.Dataset(x_train_lgb,y_train_lgb)\n",
    "    lgb_valid = lgb.Dataset(x_valid_lgb,y_valid_lgb)\n",
    "\n",
    "    gbm=lgb.train(\n",
    "        params,\n",
    "        lgb_train,\n",
    "        valid_sets=[lgb_train, lgb_valid],\n",
    "        valid_names=['train', 'valid'],\n",
    "        num_boost_round=1000,\n",
    "        callbacks=[lgb.early_stopping(100),lgb.log_evaluation(period=100)])\n",
    "    \n",
    "    y_prob = gbm.predict(x_valid_lgb)\n",
    "    mse = mean_squared_error(y_valid_lgb,y_prob)\n",
    "    rmse = np.sqrt(mse)\n",
    "    return rmse\n",
    "\n",
    "study = optuna.create_study(direction=\"maximize\",sampler=optuna.samplers.TPESampler(seed=42))\n",
    "study.optimize(objective, n_trials=100)\n",
    "study.best_params\n",
    "\"\"\""
   ]
  },
  {
   "cell_type": "code",
   "execution_count": 26,
   "id": "8d58ce67",
   "metadata": {
    "execution": {
     "iopub.execute_input": "2024-05-25T03:53:24.979114Z",
     "iopub.status.busy": "2024-05-25T03:53:24.978697Z",
     "iopub.status.idle": "2024-05-25T03:53:24.986696Z",
     "shell.execute_reply": "2024-05-25T03:53:24.985659Z"
    },
    "papermill": {
     "duration": 0.034612,
     "end_time": "2024-05-25T03:53:24.989116",
     "exception": false,
     "start_time": "2024-05-25T03:53:24.954504",
     "status": "completed"
    },
    "tags": []
   },
   "outputs": [
    {
     "data": {
      "text/plain": [
       "'\\n#optuna続き\\n\\ndf_submit = pd.DataFrame()\\ndf_submit.to_csv(\"/kaggle/working/submission.csv\",index=False)\\n\\nx_train_lgb, x_valid_lgb, y_train_lgb, y_valid_lgb = train_test_split(x_train, y_train, test_size=0.2, random_state=42)\\n\\nparams = {\\n    \\'objective\\': \\'regression\\',\\n    \\'metric\\': \\'rmse\\',\\n    \\'boosting\\': \\'gbdt\\',\\n    \\'max_depth\\':study.best_params[\"max_depth\"],\\n    \\'min_data_in_leaf\\':study.best_params[\"min_data_in_leaf\"],\\n    \\'learning_rate\\':study.best_params[\"learning_rate\"],\\n    \\'lambda_l1\\': study.best_params[\"lambda_l1\"],\\n    \\'lambda_l2\\': study.best_params[\"lambda_l2\"],\\n    \\'num_leaves\\': study.best_params[\"num_leaves\"],\\n    \\'feature_fraction\\': study.best_params[\"feature_fraction\"],\\n    \\'bagging_fraction\\': study.best_params[\"bagging_fraction\"],\\n    \\'bagging_freq\\': study.best_params[\"bagging_freq\"],\\n    \\'min_child_samples\\': study.best_params[\"min_child_samples\"],\\n    \\'verbosity\\': -1,\\n    \\'random_state\\': 0,\\n}\\n\\n\\nlgb_train = lgb.Dataset(x_train_lgb,y_train_lgb)\\nlgb_valid = lgb.Dataset(x_valid_lgb,y_valid_lgb)\\n\\ngbm=lgb.train(\\n    params,\\n    lgb_train,\\n    valid_sets=[lgb_train, lgb_valid],\\n    valid_names=[\\'train\\', \\'valid\\'],\\n    num_boost_round=1000,\\n    callbacks=[lgb.early_stopping(100),lgb.log_evaluation(period=100)])\\n\\ny_prob = gbm.predict(x_valid_lgb)\\nmse = mean_squared_error(y_valid_lgb,y_prob)\\nrmse = np.sqrt(mse)\\nprint(rmse)\\n\\nsubmit = gbm.predict(x_test)\\nprint(submit)\\nsample_submission[\"SalePrice\"]=submit\\ndf_submit = sample_submission\\ndf_submit.to_csv(\"/kaggle/working/submission.csv\",index=False)\\n'"
      ]
     },
     "execution_count": 26,
     "metadata": {},
     "output_type": "execute_result"
    }
   ],
   "source": [
    "\"\"\"\n",
    "#optuna続き\n",
    "\n",
    "df_submit = pd.DataFrame()\n",
    "df_submit.to_csv(\"/kaggle/working/submission.csv\",index=False)\n",
    "\n",
    "x_train_lgb, x_valid_lgb, y_train_lgb, y_valid_lgb = train_test_split(x_train, y_train, test_size=0.2, random_state=42)\n",
    "\n",
    "params = {\n",
    "    'objective': 'regression',\n",
    "    'metric': 'rmse',\n",
    "    'boosting': 'gbdt',\n",
    "    'max_depth':study.best_params[\"max_depth\"],\n",
    "    'min_data_in_leaf':study.best_params[\"min_data_in_leaf\"],\n",
    "    'learning_rate':study.best_params[\"learning_rate\"],\n",
    "    'lambda_l1': study.best_params[\"lambda_l1\"],\n",
    "    'lambda_l2': study.best_params[\"lambda_l2\"],\n",
    "    'num_leaves': study.best_params[\"num_leaves\"],\n",
    "    'feature_fraction': study.best_params[\"feature_fraction\"],\n",
    "    'bagging_fraction': study.best_params[\"bagging_fraction\"],\n",
    "    'bagging_freq': study.best_params[\"bagging_freq\"],\n",
    "    'min_child_samples': study.best_params[\"min_child_samples\"],\n",
    "    'verbosity': -1,\n",
    "    'random_state': 0,\n",
    "}\n",
    "\n",
    "\n",
    "lgb_train = lgb.Dataset(x_train_lgb,y_train_lgb)\n",
    "lgb_valid = lgb.Dataset(x_valid_lgb,y_valid_lgb)\n",
    "\n",
    "gbm=lgb.train(\n",
    "    params,\n",
    "    lgb_train,\n",
    "    valid_sets=[lgb_train, lgb_valid],\n",
    "    valid_names=['train', 'valid'],\n",
    "    num_boost_round=1000,\n",
    "    callbacks=[lgb.early_stopping(100),lgb.log_evaluation(period=100)])\n",
    "\n",
    "y_prob = gbm.predict(x_valid_lgb)\n",
    "mse = mean_squared_error(y_valid_lgb,y_prob)\n",
    "rmse = np.sqrt(mse)\n",
    "print(rmse)\n",
    "\n",
    "submit = gbm.predict(x_test)\n",
    "print(submit)\n",
    "sample_submission[\"SalePrice\"]=submit\n",
    "df_submit = sample_submission\n",
    "df_submit.to_csv(\"/kaggle/working/submission.csv\",index=False)\n",
    "\"\"\""
   ]
  },
  {
   "cell_type": "code",
   "execution_count": 27,
   "id": "3bfe2565",
   "metadata": {
    "execution": {
     "iopub.execute_input": "2024-05-25T03:53:25.037934Z",
     "iopub.status.busy": "2024-05-25T03:53:25.037288Z",
     "iopub.status.idle": "2024-05-25T03:53:25.084283Z",
     "shell.execute_reply": "2024-05-25T03:53:25.083146Z"
    },
    "papermill": {
     "duration": 0.074223,
     "end_time": "2024-05-25T03:53:25.086575",
     "exception": false,
     "start_time": "2024-05-25T03:53:25.012352",
     "status": "completed"
    },
    "tags": []
   },
   "outputs": [
    {
     "data": {
      "text/html": [
       "<div>\n",
       "<style scoped>\n",
       "    .dataframe tbody tr th:only-of-type {\n",
       "        vertical-align: middle;\n",
       "    }\n",
       "\n",
       "    .dataframe tbody tr th {\n",
       "        vertical-align: top;\n",
       "    }\n",
       "\n",
       "    .dataframe thead th {\n",
       "        text-align: right;\n",
       "    }\n",
       "</style>\n",
       "<table border=\"1\" class=\"dataframe\">\n",
       "  <thead>\n",
       "    <tr style=\"text-align: right;\">\n",
       "      <th></th>\n",
       "      <th>Id</th>\n",
       "      <th>SalePrice</th>\n",
       "    </tr>\n",
       "  </thead>\n",
       "  <tbody>\n",
       "    <tr>\n",
       "      <th>0</th>\n",
       "      <td>1461</td>\n",
       "      <td>129878.287889</td>\n",
       "    </tr>\n",
       "    <tr>\n",
       "      <th>1</th>\n",
       "      <td>1462</td>\n",
       "      <td>171262.748219</td>\n",
       "    </tr>\n",
       "    <tr>\n",
       "      <th>2</th>\n",
       "      <td>1463</td>\n",
       "      <td>182104.054174</td>\n",
       "    </tr>\n",
       "    <tr>\n",
       "      <th>3</th>\n",
       "      <td>1464</td>\n",
       "      <td>186559.727421</td>\n",
       "    </tr>\n",
       "    <tr>\n",
       "      <th>4</th>\n",
       "      <td>1465</td>\n",
       "      <td>188415.761144</td>\n",
       "    </tr>\n",
       "    <tr>\n",
       "      <th>...</th>\n",
       "      <td>...</td>\n",
       "      <td>...</td>\n",
       "    </tr>\n",
       "    <tr>\n",
       "      <th>1454</th>\n",
       "      <td>2915</td>\n",
       "      <td>83043.459204</td>\n",
       "    </tr>\n",
       "    <tr>\n",
       "      <th>1455</th>\n",
       "      <td>2916</td>\n",
       "      <td>85412.117495</td>\n",
       "    </tr>\n",
       "    <tr>\n",
       "      <th>1456</th>\n",
       "      <td>2917</td>\n",
       "      <td>167208.363130</td>\n",
       "    </tr>\n",
       "    <tr>\n",
       "      <th>1457</th>\n",
       "      <td>2918</td>\n",
       "      <td>114361.623916</td>\n",
       "    </tr>\n",
       "    <tr>\n",
       "      <th>1458</th>\n",
       "      <td>2919</td>\n",
       "      <td>220694.988812</td>\n",
       "    </tr>\n",
       "  </tbody>\n",
       "</table>\n",
       "<p>1459 rows × 2 columns</p>\n",
       "</div>"
      ],
      "text/plain": [
       "        Id      SalePrice\n",
       "0     1461  129878.287889\n",
       "1     1462  171262.748219\n",
       "2     1463  182104.054174\n",
       "3     1464  186559.727421\n",
       "4     1465  188415.761144\n",
       "...    ...            ...\n",
       "1454  2915   83043.459204\n",
       "1455  2916   85412.117495\n",
       "1456  2917  167208.363130\n",
       "1457  2918  114361.623916\n",
       "1458  2919  220694.988812\n",
       "\n",
       "[1459 rows x 2 columns]"
      ]
     },
     "execution_count": 27,
     "metadata": {},
     "output_type": "execute_result"
    }
   ],
   "source": [
    "lasso0525 = pd.read_csv(\"/kaggle/input/data0525/lasso0525.csv\")\n",
    "lgb0525 = pd.read_csv(\"/kaggle/input/data0525/lgb0525.csv\")\n",
    "lidge0525 = pd.read_csv(\"/kaggle/input/data0525/lidge0525.csv\")\n",
    "sample_submission = pd.read_csv(\"/kaggle/input/house-prices-advanced-regression-techniques/sample_submission.csv\")\n",
    "\n",
    "df_submit = pd.DataFrame()\n",
    "df_submit.to_csv(\"/kaggle/working/submission.csv\",index=False)\n",
    "\n",
    "sample_submission[\"SalePrice\"]=(rand0525[\"SalePrice\"]*0.2+xgboost0525[\"SalePrice\"]*0.25+lgb0525[\"SalePrice\"]*0.3+lidge0525[\"SalePrice\"]*0.1+lasso0525[\"SalePrice\"]*0.15)\n",
    "df_submit=sample_submission\n",
    "\n",
    "df_submit.to_csv(\"/kaggle/working/submission.csv\",index=False)\n",
    "\n",
    "df_submit"
   ]
  },
  {
   "cell_type": "code",
   "execution_count": 28,
   "id": "94035132",
   "metadata": {
    "execution": {
     "iopub.execute_input": "2024-05-25T03:53:25.136227Z",
     "iopub.status.busy": "2024-05-25T03:53:25.135579Z",
     "iopub.status.idle": "2024-05-25T03:53:25.143840Z",
     "shell.execute_reply": "2024-05-25T03:53:25.142777Z"
    },
    "papermill": {
     "duration": 0.03571,
     "end_time": "2024-05-25T03:53:25.145946",
     "exception": false,
     "start_time": "2024-05-25T03:53:25.110236",
     "status": "completed"
    },
    "tags": []
   },
   "outputs": [
    {
     "data": {
      "text/plain": [
       "'\\n#Lasso回帰\\ndf_submit = pd.DataFrame()\\ndf_submit.to_csv(\"/kaggle/working/submission.csv\",index=False)\\n\\n# 開始値（最小値）と終了値（最大値）を指定\\nstart_alpha = 0.000001\\nend_alpha = 100\\n\\n# 生成する値の個数を指定\\nnum_values = 20\\n\\n# 対数スケールでalphaの値を生成\\nalphas = np.logspace(np.log10(start_alpha), np.log10(end_alpha), num=num_values)\\n\\n# Ridge回帰モデルを作成\\nridge = Ridge()\\n\\n# グリッドサーチのパラメータグリッドを定義\\nparam_grid = {\\'alpha\\': alphas}\\n\\ndef rmse(y_true,y_pred):\\n    #RMSEを算出\\n    rmse = np.sqrt(mean_squared_error(y_true,y_pred))\\n    print(\\'rmse\\',rmse)\\n    return rmse\\n\\n# クロスバリデーションとグリッドサーチを組み合わせて最適なalphaを探索\\ngrid_search = GridSearchCV(ridge, param_grid, cv=5, scoring=rmse)\\ngrid_search.fit(x_train, y_train)\\n\\n# 最適なalphaを表示\\nbest_alpha = grid_search.best_params_[\\'alpha\\']\\nprint(f\"Best alpha: {best_alpha}\")\\n\\n# 最適なalphaでRidge回帰モデルを再訓練\\nmodel = Ridge(alpha=best_alpha).fit(x_train, y_train)\\n\\n# テストデータに対して予測を行い、exp(x) - 1を適用して元のスケールに戻す\\nsubmit = model.predict(x_test)\\nprint(submit)\\nsample_submission[\"SalePrice\"]=submit\\ndf_submit = sample_submission\\ndf_submit.to_csv(\"/kaggle/working/submission.csv\",index=False)\\n'"
      ]
     },
     "execution_count": 28,
     "metadata": {},
     "output_type": "execute_result"
    }
   ],
   "source": [
    "\"\"\"\n",
    "#Lasso回帰\n",
    "df_submit = pd.DataFrame()\n",
    "df_submit.to_csv(\"/kaggle/working/submission.csv\",index=False)\n",
    "\n",
    "# 開始値（最小値）と終了値（最大値）を指定\n",
    "start_alpha = 0.000001\n",
    "end_alpha = 100\n",
    "\n",
    "# 生成する値の個数を指定\n",
    "num_values = 20\n",
    "\n",
    "# 対数スケールでalphaの値を生成\n",
    "alphas = np.logspace(np.log10(start_alpha), np.log10(end_alpha), num=num_values)\n",
    "\n",
    "# Ridge回帰モデルを作成\n",
    "ridge = Ridge()\n",
    "\n",
    "# グリッドサーチのパラメータグリッドを定義\n",
    "param_grid = {'alpha': alphas}\n",
    "\n",
    "def rmse(y_true,y_pred):\n",
    "    #RMSEを算出\n",
    "    rmse = np.sqrt(mean_squared_error(y_true,y_pred))\n",
    "    print('rmse',rmse)\n",
    "    return rmse\n",
    "\n",
    "# クロスバリデーションとグリッドサーチを組み合わせて最適なalphaを探索\n",
    "grid_search = GridSearchCV(ridge, param_grid, cv=5, scoring=rmse)\n",
    "grid_search.fit(x_train, y_train)\n",
    "\n",
    "# 最適なalphaを表示\n",
    "best_alpha = grid_search.best_params_['alpha']\n",
    "print(f\"Best alpha: {best_alpha}\")\n",
    "\n",
    "# 最適なalphaでRidge回帰モデルを再訓練\n",
    "model = Ridge(alpha=best_alpha).fit(x_train, y_train)\n",
    "\n",
    "# テストデータに対して予測を行い、exp(x) - 1を適用して元のスケールに戻す\n",
    "submit = model.predict(x_test)\n",
    "print(submit)\n",
    "sample_submission[\"SalePrice\"]=submit\n",
    "df_submit = sample_submission\n",
    "df_submit.to_csv(\"/kaggle/working/submission.csv\",index=False)\n",
    "\"\"\""
   ]
  },
  {
   "cell_type": "code",
   "execution_count": 29,
   "id": "3345b265",
   "metadata": {
    "execution": {
     "iopub.execute_input": "2024-05-25T03:53:25.194897Z",
     "iopub.status.busy": "2024-05-25T03:53:25.194270Z",
     "iopub.status.idle": "2024-05-25T03:53:25.202231Z",
     "shell.execute_reply": "2024-05-25T03:53:25.201237Z"
    },
    "papermill": {
     "duration": 0.034942,
     "end_time": "2024-05-25T03:53:25.204291",
     "exception": false,
     "start_time": "2024-05-25T03:53:25.169349",
     "status": "completed"
    },
    "tags": []
   },
   "outputs": [
    {
     "data": {
      "text/plain": [
       "'\\n#Lidge回帰\\n\\n# 開始値（最小値）と終了値（最大値）を指定\\nstart_alpha = 0.000001\\nend_alpha = 100\\n\\n# 生成する値の個数を指定\\nnum_values = 20\\n\\n# 対数スケールでalphaの値を生成\\nalphas = np.logspace(np.log10(start_alpha), np.log10(end_alpha), num=num_values)\\n\\n# Ridge回帰モデルを作成\\nridge = Ridge()\\n\\n# グリッドサーチのパラメータグリッドを定義\\nparam_grid = {\\'alpha\\': alphas}\\n\\ndef rmse(y_true,y_pred):\\n    #RMSEを算出\\n    rmse = np.sqrt(mean_squared_error(y_true,y_pred))\\n    print(\\'rmse\\',rmse)\\n    return rmse\\n\\n# クロスバリデーションとグリッドサーチを組み合わせて最適なalphaを探索\\ngrid_search = GridSearchCV(ridge, param_grid, cv=5, scoring=rmse)\\ngrid_search.fit(x_train, y_train)\\n\\n# 最適なalphaを表示\\nbest_alpha = grid_search.best_params_[\\'alpha\\']\\nprint(f\"Best alpha: {best_alpha}\")\\n\\n# 最適なalphaでRidge回帰モデルを再訓練\\nmodel = Ridge(alpha=best_alpha).fit(x_train, y_train)\\n\\n# テストデータに対して予測を行い、exp(x) - 1を適用して元のスケールに戻す\\nsubmit = model.predict(x_test)\\nprint(submit)\\nsample_submission[\"SalePrice\"]=submit\\ndf_submit = sample_submission\\ndf_submit.to_csv(\"/kaggle/working/submission.csv\",index=False)\\n'"
      ]
     },
     "execution_count": 29,
     "metadata": {},
     "output_type": "execute_result"
    }
   ],
   "source": [
    "\"\"\"\n",
    "#Lidge回帰\n",
    "\n",
    "# 開始値（最小値）と終了値（最大値）を指定\n",
    "start_alpha = 0.000001\n",
    "end_alpha = 100\n",
    "\n",
    "# 生成する値の個数を指定\n",
    "num_values = 20\n",
    "\n",
    "# 対数スケールでalphaの値を生成\n",
    "alphas = np.logspace(np.log10(start_alpha), np.log10(end_alpha), num=num_values)\n",
    "\n",
    "# Ridge回帰モデルを作成\n",
    "ridge = Ridge()\n",
    "\n",
    "# グリッドサーチのパラメータグリッドを定義\n",
    "param_grid = {'alpha': alphas}\n",
    "\n",
    "def rmse(y_true,y_pred):\n",
    "    #RMSEを算出\n",
    "    rmse = np.sqrt(mean_squared_error(y_true,y_pred))\n",
    "    print('rmse',rmse)\n",
    "    return rmse\n",
    "\n",
    "# クロスバリデーションとグリッドサーチを組み合わせて最適なalphaを探索\n",
    "grid_search = GridSearchCV(ridge, param_grid, cv=5, scoring=rmse)\n",
    "grid_search.fit(x_train, y_train)\n",
    "\n",
    "# 最適なalphaを表示\n",
    "best_alpha = grid_search.best_params_['alpha']\n",
    "print(f\"Best alpha: {best_alpha}\")\n",
    "\n",
    "# 最適なalphaでRidge回帰モデルを再訓練\n",
    "model = Ridge(alpha=best_alpha).fit(x_train, y_train)\n",
    "\n",
    "# テストデータに対して予測を行い、exp(x) - 1を適用して元のスケールに戻す\n",
    "submit = model.predict(x_test)\n",
    "print(submit)\n",
    "sample_submission[\"SalePrice\"]=submit\n",
    "df_submit = sample_submission\n",
    "df_submit.to_csv(\"/kaggle/working/submission.csv\",index=False)\n",
    "\"\"\""
   ]
  },
  {
   "cell_type": "code",
   "execution_count": null,
   "id": "5722bfce",
   "metadata": {
    "papermill": {
     "duration": 0.023771,
     "end_time": "2024-05-25T03:53:25.251602",
     "exception": false,
     "start_time": "2024-05-25T03:53:25.227831",
     "status": "completed"
    },
    "tags": []
   },
   "outputs": [],
   "source": []
  },
  {
   "cell_type": "code",
   "execution_count": null,
   "id": "66544ea6",
   "metadata": {
    "papermill": {
     "duration": 0.023214,
     "end_time": "2024-05-25T03:53:25.298993",
     "exception": false,
     "start_time": "2024-05-25T03:53:25.275779",
     "status": "completed"
    },
    "tags": []
   },
   "outputs": [],
   "source": []
  },
  {
   "cell_type": "code",
   "execution_count": null,
   "id": "ae9c2dbd",
   "metadata": {
    "papermill": {
     "duration": 0.023663,
     "end_time": "2024-05-25T03:53:25.346351",
     "exception": false,
     "start_time": "2024-05-25T03:53:25.322688",
     "status": "completed"
    },
    "tags": []
   },
   "outputs": [],
   "source": []
  },
  {
   "cell_type": "code",
   "execution_count": null,
   "id": "1a1e35bc",
   "metadata": {
    "papermill": {
     "duration": 0.023385,
     "end_time": "2024-05-25T03:53:25.394045",
     "exception": false,
     "start_time": "2024-05-25T03:53:25.370660",
     "status": "completed"
    },
    "tags": []
   },
   "outputs": [],
   "source": []
  },
  {
   "cell_type": "code",
   "execution_count": null,
   "id": "891914ab",
   "metadata": {
    "papermill": {
     "duration": 0.023694,
     "end_time": "2024-05-25T03:53:25.441093",
     "exception": false,
     "start_time": "2024-05-25T03:53:25.417399",
     "status": "completed"
    },
    "tags": []
   },
   "outputs": [],
   "source": []
  },
  {
   "cell_type": "code",
   "execution_count": null,
   "id": "410ff070",
   "metadata": {
    "papermill": {
     "duration": 0.02338,
     "end_time": "2024-05-25T03:53:25.488048",
     "exception": false,
     "start_time": "2024-05-25T03:53:25.464668",
     "status": "completed"
    },
    "tags": []
   },
   "outputs": [],
   "source": []
  },
  {
   "cell_type": "code",
   "execution_count": null,
   "id": "f19ddefb",
   "metadata": {
    "papermill": {
     "duration": 0.024173,
     "end_time": "2024-05-25T03:53:25.537009",
     "exception": false,
     "start_time": "2024-05-25T03:53:25.512836",
     "status": "completed"
    },
    "tags": []
   },
   "outputs": [],
   "source": []
  },
  {
   "cell_type": "code",
   "execution_count": null,
   "id": "c144a8af",
   "metadata": {
    "papermill": {
     "duration": 0.023274,
     "end_time": "2024-05-25T03:53:25.583924",
     "exception": false,
     "start_time": "2024-05-25T03:53:25.560650",
     "status": "completed"
    },
    "tags": []
   },
   "outputs": [],
   "source": []
  },
  {
   "cell_type": "code",
   "execution_count": null,
   "id": "b3de63b9",
   "metadata": {
    "papermill": {
     "duration": 0.022887,
     "end_time": "2024-05-25T03:53:25.630028",
     "exception": false,
     "start_time": "2024-05-25T03:53:25.607141",
     "status": "completed"
    },
    "tags": []
   },
   "outputs": [],
   "source": []
  },
  {
   "cell_type": "code",
   "execution_count": 30,
   "id": "70003052",
   "metadata": {
    "execution": {
     "iopub.execute_input": "2024-05-25T03:53:25.680123Z",
     "iopub.status.busy": "2024-05-25T03:53:25.679758Z",
     "iopub.status.idle": "2024-05-25T03:53:26.068056Z",
     "shell.execute_reply": "2024-05-25T03:53:26.066947Z"
    },
    "papermill": {
     "duration": 0.416042,
     "end_time": "2024-05-25T03:53:26.070471",
     "exception": false,
     "start_time": "2024-05-25T03:53:25.654429",
     "status": "completed"
    },
    "tags": []
   },
   "outputs": [
    {
     "data": {
      "text/plain": [
       "<Axes: xlabel='Exterior2nd', ylabel='count'>"
      ]
     },
     "execution_count": 30,
     "metadata": {},
     "output_type": "execute_result"
    },
    {
     "data": {
      "image/png": "[encoded data removed]",
      "text/plain": [
       "<Figure size 640x480 with 1 Axes>"
      ]
     },
     "metadata": {},
     "output_type": "display_data"
    }
   ],
   "source": [
    "sns.countplot(x=\"Exterior2nd\",data=data)"
   ]
  },
  {
   "cell_type": "code",
   "execution_count": null,
   "id": "702b44ba",
   "metadata": {
    "papermill": {
     "duration": 0.023873,
     "end_time": "2024-05-25T03:53:26.118671",
     "exception": false,
     "start_time": "2024-05-25T03:53:26.094798",
     "status": "completed"
    },
    "tags": []
   },
   "outputs": [],
   "source": []
  },
  {
   "cell_type": "code",
   "execution_count": null,
   "id": "58ce1835",
   "metadata": {
    "papermill": {
     "duration": 0.024086,
     "end_time": "2024-05-25T03:53:26.167194",
     "exception": false,
     "start_time": "2024-05-25T03:53:26.143108",
     "status": "completed"
    },
    "tags": []
   },
   "outputs": [],
   "source": []
  },
  {
   "cell_type": "code",
   "execution_count": null,
   "id": "63ace23b",
   "metadata": {
    "papermill": {
     "duration": 0.024091,
     "end_time": "2024-05-25T03:53:26.215696",
     "exception": false,
     "start_time": "2024-05-25T03:53:26.191605",
     "status": "completed"
    },
    "tags": []
   },
   "outputs": [],
   "source": []
  },
  {
   "cell_type": "code",
   "execution_count": null,
   "id": "0b9e6fdb",
   "metadata": {
    "papermill": {
     "duration": 0.023991,
     "end_time": "2024-05-25T03:53:26.264407",
     "exception": false,
     "start_time": "2024-05-25T03:53:26.240416",
     "status": "completed"
    },
    "tags": []
   },
   "outputs": [],
   "source": []
  },
  {
   "cell_type": "code",
   "execution_count": null,
   "id": "9c24b4ab",
   "metadata": {
    "papermill": {
     "duration": 0.024004,
     "end_time": "2024-05-25T03:53:26.312870",
     "exception": false,
     "start_time": "2024-05-25T03:53:26.288866",
     "status": "completed"
    },
    "tags": []
   },
   "outputs": [],
   "source": []
  },
  {
   "cell_type": "code",
   "execution_count": null,
   "id": "6218f509",
   "metadata": {
    "papermill": {
     "duration": 0.024093,
     "end_time": "2024-05-25T03:53:26.361140",
     "exception": false,
     "start_time": "2024-05-25T03:53:26.337047",
     "status": "completed"
    },
    "tags": []
   },
   "outputs": [],
   "source": []
  },
  {
   "cell_type": "code",
   "execution_count": null,
   "id": "3169c4fb",
   "metadata": {
    "papermill": {
     "duration": 0.024118,
     "end_time": "2024-05-25T03:53:26.410041",
     "exception": false,
     "start_time": "2024-05-25T03:53:26.385923",
     "status": "completed"
    },
    "tags": []
   },
   "outputs": [],
   "source": []
  },
  {
   "cell_type": "code",
   "execution_count": null,
   "id": "2da49b7a",
   "metadata": {
    "papermill": {
     "duration": 0.024212,
     "end_time": "2024-05-25T03:53:26.458647",
     "exception": false,
     "start_time": "2024-05-25T03:53:26.434435",
     "status": "completed"
    },
    "tags": []
   },
   "outputs": [],
   "source": []
  },
  {
   "cell_type": "code",
   "execution_count": null,
   "id": "5d928461",
   "metadata": {
    "papermill": {
     "duration": 0.024064,
     "end_time": "2024-05-25T03:53:26.507259",
     "exception": false,
     "start_time": "2024-05-25T03:53:26.483195",
     "status": "completed"
    },
    "tags": []
   },
   "outputs": [],
   "source": []
  },
  {
   "cell_type": "code",
   "execution_count": null,
   "id": "10d2cef3",
   "metadata": {
    "papermill": {
     "duration": 0.024183,
     "end_time": "2024-05-25T03:53:26.555862",
     "exception": false,
     "start_time": "2024-05-25T03:53:26.531679",
     "status": "completed"
    },
    "tags": []
   },
   "outputs": [],
   "source": []
  },
  {
   "cell_type": "code",
   "execution_count": null,
   "id": "3567b7b2",
   "metadata": {
    "papermill": {
     "duration": 0.024038,
     "end_time": "2024-05-25T03:53:26.604034",
     "exception": false,
     "start_time": "2024-05-25T03:53:26.579996",
     "status": "completed"
    },
    "tags": []
   },
   "outputs": [],
   "source": []
  },
  {
   "cell_type": "code",
   "execution_count": null,
   "id": "f5550a8b",
   "metadata": {
    "papermill": {
     "duration": 0.023805,
     "end_time": "2024-05-25T03:53:26.651547",
     "exception": false,
     "start_time": "2024-05-25T03:53:26.627742",
     "status": "completed"
    },
    "tags": []
   },
   "outputs": [],
   "source": []
  },
  {
   "cell_type": "code",
   "execution_count": null,
   "id": "961170f7",
   "metadata": {
    "papermill": {
     "duration": 0.024061,
     "end_time": "2024-05-25T03:53:26.699526",
     "exception": false,
     "start_time": "2024-05-25T03:53:26.675465",
     "status": "completed"
    },
    "tags": []
   },
   "outputs": [],
   "source": []
  },
  {
   "cell_type": "code",
   "execution_count": null,
   "id": "f1a2e9ba",
   "metadata": {
    "papermill": {
     "duration": 0.023566,
     "end_time": "2024-05-25T03:53:26.748470",
     "exception": false,
     "start_time": "2024-05-25T03:53:26.724904",
     "status": "completed"
    },
    "tags": []
   },
   "outputs": [],
   "source": []
  },
  {
   "cell_type": "code",
   "execution_count": null,
   "id": "c7021be5",
   "metadata": {
    "papermill": {
     "duration": 0.023894,
     "end_time": "2024-05-25T03:53:26.796399",
     "exception": false,
     "start_time": "2024-05-25T03:53:26.772505",
     "status": "completed"
    },
    "tags": []
   },
   "outputs": [],
   "source": []
  },
  {
   "cell_type": "code",
   "execution_count": null,
   "id": "dfb714b3",
   "metadata": {
    "papermill": {
     "duration": 0.023509,
     "end_time": "2024-05-25T03:53:26.844085",
     "exception": false,
     "start_time": "2024-05-25T03:53:26.820576",
     "status": "completed"
    },
    "tags": []
   },
   "outputs": [],
   "source": []
  },
  {
   "cell_type": "code",
   "execution_count": null,
   "id": "77891f1c",
   "metadata": {
    "papermill": {
     "duration": 0.023431,
     "end_time": "2024-05-25T03:53:26.892444",
     "exception": false,
     "start_time": "2024-05-25T03:53:26.869013",
     "status": "completed"
    },
    "tags": []
   },
   "outputs": [],
   "source": []
  },
  {
   "cell_type": "code",
   "execution_count": null,
   "id": "d71ba7ba",
   "metadata": {
    "papermill": {
     "duration": 0.024002,
     "end_time": "2024-05-25T03:53:26.940590",
     "exception": false,
     "start_time": "2024-05-25T03:53:26.916588",
     "status": "completed"
    },
    "tags": []
   },
   "outputs": [],
   "source": []
  },
  {
   "cell_type": "code",
   "execution_count": null,
   "id": "fde23b61",
   "metadata": {
    "papermill": {
     "duration": 0.023848,
     "end_time": "2024-05-25T03:53:26.988126",
     "exception": false,
     "start_time": "2024-05-25T03:53:26.964278",
     "status": "completed"
    },
    "tags": []
   },
   "outputs": [],
   "source": []
  },
  {
   "cell_type": "code",
   "execution_count": null,
   "id": "d0ea3e41",
   "metadata": {
    "papermill": {
     "duration": 0.023736,
     "end_time": "2024-05-25T03:53:27.036266",
     "exception": false,
     "start_time": "2024-05-25T03:53:27.012530",
     "status": "completed"
    },
    "tags": []
   },
   "outputs": [],
   "source": []
  },
  {
   "cell_type": "code",
   "execution_count": null,
   "id": "2db99e05",
   "metadata": {
    "papermill": {
     "duration": 0.023491,
     "end_time": "2024-05-25T03:53:27.083282",
     "exception": false,
     "start_time": "2024-05-25T03:53:27.059791",
     "status": "completed"
    },
    "tags": []
   },
   "outputs": [],
   "source": []
  },
  {
   "cell_type": "code",
   "execution_count": null,
   "id": "906218e6",
   "metadata": {
    "papermill": {
     "duration": 0.0235,
     "end_time": "2024-05-25T03:53:27.130642",
     "exception": false,
     "start_time": "2024-05-25T03:53:27.107142",
     "status": "completed"
    },
    "tags": []
   },
   "outputs": [],
   "source": []
  },
  {
   "cell_type": "code",
   "execution_count": null,
   "id": "f632d37b",
   "metadata": {
    "papermill": {
     "duration": 0.023511,
     "end_time": "2024-05-25T03:53:27.178432",
     "exception": false,
     "start_time": "2024-05-25T03:53:27.154921",
     "status": "completed"
    },
    "tags": []
   },
   "outputs": [],
   "source": []
  },
  {
   "cell_type": "code",
   "execution_count": null,
   "id": "bda32823",
   "metadata": {
    "papermill": {
     "duration": 0.024004,
     "end_time": "2024-05-25T03:53:27.226388",
     "exception": false,
     "start_time": "2024-05-25T03:53:27.202384",
     "status": "completed"
    },
    "tags": []
   },
   "outputs": [],
   "source": []
  },
  {
   "cell_type": "code",
   "execution_count": null,
   "id": "4cd9538a",
   "metadata": {
    "papermill": {
     "duration": 0.023958,
     "end_time": "2024-05-25T03:53:27.274814",
     "exception": false,
     "start_time": "2024-05-25T03:53:27.250856",
     "status": "completed"
    },
    "tags": []
   },
   "outputs": [],
   "source": []
  },
  {
   "cell_type": "code",
   "execution_count": null,
   "id": "ea56df66",
   "metadata": {
    "papermill": {
     "duration": 0.024193,
     "end_time": "2024-05-25T03:53:27.322992",
     "exception": false,
     "start_time": "2024-05-25T03:53:27.298799",
     "status": "completed"
    },
    "tags": []
   },
   "outputs": [],
   "source": []
  },
  {
   "cell_type": "code",
   "execution_count": null,
   "id": "a8e9f365",
   "metadata": {
    "papermill": {
     "duration": 0.024026,
     "end_time": "2024-05-25T03:53:27.371231",
     "exception": false,
     "start_time": "2024-05-25T03:53:27.347205",
     "status": "completed"
    },
    "tags": []
   },
   "outputs": [],
   "source": []
  }
 ],
 "metadata": {
  "kaggle": {
   "accelerator": "none",
   "dataSources": [
    {
     "databundleVersionId": 868283,
     "sourceId": 5407,
     "sourceType": "competition"
    },
    {
     "datasetId": 5080518,
     "sourceId": 8511022,
     "sourceType": "datasetVersion"
    }
   ],
   "dockerImageVersionId": 30698,
   "isGpuEnabled": false,
   "isInternetEnabled": true,
   "language": "python",
   "sourceType": "notebook"
  },
  "kernelspec": {
   "display_name": "Python 3",
   "language": "python",
   "name": "python3"
  },
  "language_info": {
   "codemirror_mode": {
    "name": "ipython",
    "version": 3
   },
   "file_extension": ".py",
   "mimetype": "text/x-python",
   "name": "python",
   "nbconvert_exporter": "python",
   "pygments_lexer": "ipython3",
   "version": "3.10.13"
  },
  "papermill": {
   "default_parameters": {},
   "duration": 75.867924,
   "end_time": "2024-05-25T03:53:28.119040",
   "environment_variables": {},
   "exception": null,
   "input_path": "__notebook__.ipynb",
   "output_path": "__notebook__.ipynb",
   "parameters": {},
   "start_time": "2024-05-25T03:52:12.251116",
   "version": "2.5.0"
  }
 },
 "nbformat": 4,
 "nbformat_minor": 5
}
