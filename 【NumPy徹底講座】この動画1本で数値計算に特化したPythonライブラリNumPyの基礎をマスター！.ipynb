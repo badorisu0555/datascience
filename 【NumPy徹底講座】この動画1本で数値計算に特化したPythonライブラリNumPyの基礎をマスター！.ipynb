{
 "cells": [
  {
   "cell_type": "code",
   "execution_count": 1,
   "id": "3471febd",
   "metadata": {},
   "outputs": [],
   "source": [
    "import numpy as np"
   ]
  },
  {
   "cell_type": "code",
   "execution_count": 2,
   "id": "ffb18f8d",
   "metadata": {},
   "outputs": [],
   "source": [
    "a = np.array([1,2,3,4])\n",
    "b = np.array([[4],[-1],[6]])"
   ]
  },
  {
   "cell_type": "code",
   "execution_count": 4,
   "id": "c753068d",
   "metadata": {},
   "outputs": [],
   "source": [
    "C = np.array([[3,-2],\n",
    "             [7,1]])\n",
    "D = np.array([[3,-2,0,1],\n",
    "              [7,1,-1,2],\n",
    "             [4,-5,1,3]])"
   ]
  },
  {
   "cell_type": "code",
   "execution_count": 9,
   "id": "7297d44f",
   "metadata": {},
   "outputs": [
    {
     "data": {
      "text/plain": [
       "array([0., 0.])"
      ]
     },
     "execution_count": 9,
     "metadata": {},
     "output_type": "execute_result"
    }
   ],
   "source": [
    "a = np.zeros(2)\n",
    "a"
   ]
  },
  {
   "cell_type": "code",
   "execution_count": 13,
   "id": "9f3fa27a",
   "metadata": {},
   "outputs": [
    {
     "data": {
      "text/plain": [
       "array([[1.],\n",
       "       [1.],\n",
       "       [1.],\n",
       "       [1.]])"
      ]
     },
     "execution_count": 13,
     "metadata": {},
     "output_type": "execute_result"
    }
   ],
   "source": [
    "b = np.ones((4,1))\n",
    "b"
   ]
  },
  {
   "cell_type": "code",
   "execution_count": 15,
   "id": "0dd1c8e1",
   "metadata": {},
   "outputs": [
    {
     "data": {
      "text/plain": [
       "array([[1., 0., 0.],\n",
       "       [0., 1., 0.],\n",
       "       [0., 0., 1.]])"
      ]
     },
     "execution_count": 15,
     "metadata": {},
     "output_type": "execute_result"
    }
   ],
   "source": [
    "C = np.identity(3)\n",
    "C"
   ]
  },
  {
   "cell_type": "code",
   "execution_count": 18,
   "id": "7ba4365d",
   "metadata": {},
   "outputs": [
    {
     "data": {
      "text/plain": [
       "array([[1., 0., 0., 0.],\n",
       "       [0., 1., 0., 0.],\n",
       "       [0., 0., 1., 0.]])"
      ]
     },
     "execution_count": 18,
     "metadata": {},
     "output_type": "execute_result"
    }
   ],
   "source": [
    "D = np.eye(3,4)\n",
    "D"
   ]
  },
  {
   "cell_type": "code",
   "execution_count": 20,
   "id": "3d46c3fb",
   "metadata": {},
   "outputs": [],
   "source": [
    "a = np.array([2,3,4])\n",
    "b = np.array([[1.2,3.5,5.1],\n",
    "              [-0.3,1.1,-4.5]])"
   ]
  },
  {
   "cell_type": "code",
   "execution_count": 24,
   "id": "dd9b56ab",
   "metadata": {},
   "outputs": [
    {
     "data": {
      "text/plain": [
       "dtype('int32')"
      ]
     },
     "execution_count": 24,
     "metadata": {},
     "output_type": "execute_result"
    }
   ],
   "source": [
    "a.dtype"
   ]
  },
  {
   "cell_type": "code",
   "execution_count": 25,
   "id": "ee4a342c",
   "metadata": {},
   "outputs": [
    {
     "data": {
      "text/plain": [
       "dtype('float64')"
      ]
     },
     "execution_count": 25,
     "metadata": {},
     "output_type": "execute_result"
    }
   ],
   "source": [
    "b.dtype"
   ]
  },
  {
   "cell_type": "code",
   "execution_count": 26,
   "id": "18619f5b",
   "metadata": {},
   "outputs": [
    {
     "data": {
      "text/plain": [
       "<memory at 0x000001FF651EB340>"
      ]
     },
     "execution_count": 26,
     "metadata": {},
     "output_type": "execute_result"
    }
   ],
   "source": [
    "a.data"
   ]
  },
  {
   "cell_type": "code",
   "execution_count": 27,
   "id": "41380e19",
   "metadata": {},
   "outputs": [
    {
     "data": {
      "text/plain": [
       "<memory at 0x000001FF651D8EE0>"
      ]
     },
     "execution_count": 27,
     "metadata": {},
     "output_type": "execute_result"
    }
   ],
   "source": [
    "b.data"
   ]
  },
  {
   "cell_type": "code",
   "execution_count": 29,
   "id": "f09d4447",
   "metadata": {},
   "outputs": [
    {
     "data": {
      "text/plain": [
       "(3,)"
      ]
     },
     "execution_count": 29,
     "metadata": {},
     "output_type": "execute_result"
    }
   ],
   "source": [
    "a.shape"
   ]
  },
  {
   "cell_type": "code",
   "execution_count": 30,
   "id": "8b4e40c9",
   "metadata": {},
   "outputs": [
    {
     "data": {
      "text/plain": [
       "1"
      ]
     },
     "execution_count": 30,
     "metadata": {},
     "output_type": "execute_result"
    }
   ],
   "source": [
    "a.ndim"
   ]
  },
  {
   "cell_type": "code",
   "execution_count": 32,
   "id": "ca86fded",
   "metadata": {},
   "outputs": [
    {
     "data": {
      "text/plain": [
       "6"
      ]
     },
     "execution_count": 32,
     "metadata": {},
     "output_type": "execute_result"
    }
   ],
   "source": [
    "b.size"
   ]
  },
  {
   "cell_type": "code",
   "execution_count": 33,
   "id": "194d19f9",
   "metadata": {},
   "outputs": [],
   "source": [
    "a = np.array([1,3,5,7,9,11])\n",
    "b = np.array([[2,4,6],\n",
    "             [-1,5,-3],\n",
    "             [0,-2,3]])"
   ]
  },
  {
   "cell_type": "code",
   "execution_count": 35,
   "id": "1b6c423e",
   "metadata": {},
   "outputs": [
    {
     "data": {
      "text/plain": [
       "array([5, 7, 9])"
      ]
     },
     "execution_count": 35,
     "metadata": {},
     "output_type": "execute_result"
    }
   ],
   "source": [
    "a[2:-1]"
   ]
  },
  {
   "cell_type": "code",
   "execution_count": 36,
   "id": "ee720214",
   "metadata": {},
   "outputs": [
    {
     "data": {
      "text/plain": [
       "array([11,  9,  7,  5,  3,  1])"
      ]
     },
     "execution_count": 36,
     "metadata": {},
     "output_type": "execute_result"
    }
   ],
   "source": [
    "a[::-1]"
   ]
  },
  {
   "cell_type": "code",
   "execution_count": 37,
   "id": "7250f981",
   "metadata": {},
   "outputs": [
    {
     "data": {
      "text/plain": [
       "array([2, 4, 6])"
      ]
     },
     "execution_count": 37,
     "metadata": {},
     "output_type": "execute_result"
    }
   ],
   "source": [
    "b[0]"
   ]
  },
  {
   "cell_type": "code",
   "execution_count": 38,
   "id": "403c5433",
   "metadata": {},
   "outputs": [
    {
     "data": {
      "text/plain": [
       "0"
      ]
     },
     "execution_count": 38,
     "metadata": {},
     "output_type": "execute_result"
    }
   ],
   "source": [
    "b[2,0]"
   ]
  },
  {
   "cell_type": "code",
   "execution_count": 40,
   "id": "1ea2ec47",
   "metadata": {},
   "outputs": [
    {
     "data": {
      "text/plain": [
       "array([[ 5, -3],\n",
       "       [-2,  3]])"
      ]
     },
     "execution_count": 40,
     "metadata": {},
     "output_type": "execute_result"
    }
   ],
   "source": [
    "b[1:,1:]"
   ]
  },
  {
   "cell_type": "code",
   "execution_count": 41,
   "id": "d0d29c26",
   "metadata": {},
   "outputs": [],
   "source": [
    "a = np.array([[1,3],\n",
    "             [-2,4]])\n",
    "b = np.array([[2,-1],\n",
    "            [3,0]])\n",
    "c = np.array([[-2,-5],\n",
    "             [1,3]])\n",
    "d = np.array([[3,0],\n",
    "             [6,-2]])\n",
    "e = np.array([[3,5],\n",
    "             [4,-1]])\n",
    "f = np.array([[-2,1],\n",
    "             [0,-3]])"
   ]
  },
  {
   "cell_type": "code",
   "execution_count": 42,
   "id": "2ee0f234",
   "metadata": {},
   "outputs": [
    {
     "data": {
      "text/plain": [
       "array([[3, 2],\n",
       "       [1, 4]])"
      ]
     },
     "execution_count": 42,
     "metadata": {},
     "output_type": "execute_result"
    }
   ],
   "source": [
    "np.add(a,b)"
   ]
  },
  {
   "cell_type": "code",
   "execution_count": 43,
   "id": "a844d597",
   "metadata": {},
   "outputs": [
    {
     "data": {
      "text/plain": [
       "array([[-1,  4],\n",
       "       [-5,  4]])"
      ]
     },
     "execution_count": 43,
     "metadata": {},
     "output_type": "execute_result"
    }
   ],
   "source": [
    "np.subtract(a,b)"
   ]
  },
  {
   "cell_type": "code",
   "execution_count": 44,
   "id": "141c0718",
   "metadata": {},
   "outputs": [
    {
     "data": {
      "text/plain": [
       "array([[-6,  0],\n",
       "       [ 6, -6]])"
      ]
     },
     "execution_count": 44,
     "metadata": {},
     "output_type": "execute_result"
    }
   ],
   "source": [
    "np.multiply(c,d)"
   ]
  },
  {
   "cell_type": "code",
   "execution_count": 46,
   "id": "688874f8",
   "metadata": {},
   "outputs": [
    {
     "data": {
      "text/plain": [
       "array([[-6,  5],\n",
       "       [ 0,  3]])"
      ]
     },
     "execution_count": 46,
     "metadata": {},
     "output_type": "execute_result"
    }
   ],
   "source": [
    "np.multiply(e,f)"
   ]
  },
  {
   "cell_type": "code",
   "execution_count": 58,
   "id": "0e3fae57",
   "metadata": {},
   "outputs": [],
   "source": [
    "a = np.array([[2,3,4]])\n",
    "b = np.array([[1.2,3.5,5.1],\n",
    "             [-0.3,1.1,-4.5]])"
   ]
  },
  {
   "cell_type": "code",
   "execution_count": 53,
   "id": "fe440498",
   "metadata": {},
   "outputs": [
    {
     "data": {
      "text/plain": [
       "array([[ 1.2, -0.3],\n",
       "       [ 3.5,  1.1],\n",
       "       [ 5.1, -4.5]])"
      ]
     },
     "execution_count": 53,
     "metadata": {},
     "output_type": "execute_result"
    }
   ],
   "source": [
    "np.transpose(b)"
   ]
  },
  {
   "cell_type": "code",
   "execution_count": 59,
   "id": "67215f82",
   "metadata": {},
   "outputs": [
    {
     "data": {
      "text/plain": [
       "array([[2],\n",
       "       [3],\n",
       "       [4]])"
      ]
     },
     "execution_count": 59,
     "metadata": {},
     "output_type": "execute_result"
    }
   ],
   "source": [
    "a.T"
   ]
  },
  {
   "cell_type": "code",
   "execution_count": 61,
   "id": "b9d1a13c",
   "metadata": {},
   "outputs": [
    {
     "data": {
      "text/plain": [
       "(2, 3)"
      ]
     },
     "execution_count": 61,
     "metadata": {},
     "output_type": "execute_result"
    }
   ],
   "source": [
    "b.shape"
   ]
  },
  {
   "cell_type": "code",
   "execution_count": 67,
   "id": "27fc52c6",
   "metadata": {},
   "outputs": [],
   "source": [
    "a = np.array([[4,-2],[1,0]])"
   ]
  },
  {
   "cell_type": "code",
   "execution_count": 63,
   "id": "0f5c1403",
   "metadata": {},
   "outputs": [
    {
     "data": {
      "text/plain": [
       "2.0"
      ]
     },
     "execution_count": 63,
     "metadata": {},
     "output_type": "execute_result"
    }
   ],
   "source": [
    "det = np.linalg.det(a)\n",
    "det"
   ]
  },
  {
   "cell_type": "code",
   "execution_count": 65,
   "id": "16ceb593",
   "metadata": {},
   "outputs": [],
   "source": [
    "aniv = np.linalg.inv(a)"
   ]
  },
  {
   "cell_type": "code",
   "execution_count": 66,
   "id": "375adbaa",
   "metadata": {},
   "outputs": [
    {
     "data": {
      "text/plain": [
       "array([[1., 0.],\n",
       "       [0., 1.]])"
      ]
     },
     "execution_count": 66,
     "metadata": {},
     "output_type": "execute_result"
    }
   ],
   "source": [
    "a @ aniv"
   ]
  },
  {
   "cell_type": "code",
   "execution_count": 69,
   "id": "07681f38",
   "metadata": {},
   "outputs": [],
   "source": [
    "b = np.array([[8,1,5],[-3,0,-7]])"
   ]
  },
  {
   "cell_type": "code",
   "execution_count": 70,
   "id": "0918ac53",
   "metadata": {},
   "outputs": [
    {
     "data": {
      "text/plain": [
       "array([[ 2. , -1. ],\n",
       "       [ 0.5,  0. ]])"
      ]
     },
     "execution_count": 70,
     "metadata": {},
     "output_type": "execute_result"
    }
   ],
   "source": [
    "a * 0.5"
   ]
  },
  {
   "cell_type": "code",
   "execution_count": 71,
   "id": "bad575ae",
   "metadata": {},
   "outputs": [
    {
     "data": {
      "text/plain": [
       "array([[ 16,   2,  10],\n",
       "       [ -6,   0, -14]])"
      ]
     },
     "execution_count": 71,
     "metadata": {},
     "output_type": "execute_result"
    }
   ],
   "source": [
    "b * 2"
   ]
  },
  {
   "cell_type": "code",
   "execution_count": 73,
   "id": "47b5ad8e",
   "metadata": {},
   "outputs": [],
   "source": [
    "d = np.arange(12)"
   ]
  },
  {
   "cell_type": "code",
   "execution_count": 75,
   "id": "207b3dc9",
   "metadata": {},
   "outputs": [
    {
     "data": {
      "text/plain": [
       "array([[ 0,  1,  2,  3],\n",
       "       [ 4,  5,  6,  7],\n",
       "       [ 8,  9, 10, 11]])"
      ]
     },
     "execution_count": 75,
     "metadata": {},
     "output_type": "execute_result"
    }
   ],
   "source": [
    "d.reshape(3,4)"
   ]
  },
  {
   "cell_type": "code",
   "execution_count": 76,
   "id": "50ce30d2",
   "metadata": {},
   "outputs": [],
   "source": [
    "b = np.array([[2,4,6],[-1,5,-3],[0,-2,3]])"
   ]
  },
  {
   "cell_type": "code",
   "execution_count": 77,
   "id": "61c462c1",
   "metadata": {},
   "outputs": [
    {
     "data": {
      "text/plain": [
       "-3"
      ]
     },
     "execution_count": 77,
     "metadata": {},
     "output_type": "execute_result"
    }
   ],
   "source": [
    "b.min()"
   ]
  },
  {
   "cell_type": "code",
   "execution_count": 79,
   "id": "58793f17",
   "metadata": {},
   "outputs": [
    {
     "data": {
      "text/plain": [
       "6"
      ]
     },
     "execution_count": 79,
     "metadata": {},
     "output_type": "execute_result"
    }
   ],
   "source": [
    "b.max()"
   ]
  },
  {
   "cell_type": "code",
   "execution_count": 80,
   "id": "da45a9cd",
   "metadata": {},
   "outputs": [
    {
     "data": {
      "text/plain": [
       "1.5555555555555556"
      ]
     },
     "execution_count": 80,
     "metadata": {},
     "output_type": "execute_result"
    }
   ],
   "source": [
    "b.mean()"
   ]
  },
  {
   "cell_type": "code",
   "execution_count": 85,
   "id": "c6d4e6c2",
   "metadata": {},
   "outputs": [
    {
     "data": {
      "text/plain": [
       "14"
      ]
     },
     "execution_count": 85,
     "metadata": {},
     "output_type": "execute_result"
    }
   ],
   "source": [
    "b.sum()"
   ]
  },
  {
   "cell_type": "code",
   "execution_count": 86,
   "id": "4917f23a",
   "metadata": {},
   "outputs": [
    {
     "data": {
      "text/plain": [
       "3.0225490019412096"
      ]
     },
     "execution_count": 86,
     "metadata": {},
     "output_type": "execute_result"
    }
   ],
   "source": [
    "b.std()"
   ]
  },
  {
   "cell_type": "code",
   "execution_count": 88,
   "id": "443eb3cc",
   "metadata": {},
   "outputs": [
    {
     "data": {
      "text/plain": [
       "9.135802469135802"
      ]
     },
     "execution_count": 88,
     "metadata": {},
     "output_type": "execute_result"
    }
   ],
   "source": [
    "b.var()"
   ]
  },
  {
   "cell_type": "code",
   "execution_count": 89,
   "id": "c2be1563",
   "metadata": {},
   "outputs": [
    {
     "data": {
      "text/plain": [
       "array([[0, 1],\n",
       "       [2, 4]])"
      ]
     },
     "execution_count": 89,
     "metadata": {},
     "output_type": "execute_result"
    }
   ],
   "source": [
    "a = np.array([0,1,2,4]).reshape(2,-1)\n",
    "a"
   ]
  },
  {
   "cell_type": "code",
   "execution_count": 90,
   "id": "c3d3207f",
   "metadata": {},
   "outputs": [
    {
     "data": {
      "text/plain": [
       "array([[0.        , 1.        ],\n",
       "       [1.41421356, 2.        ]])"
      ]
     },
     "execution_count": 90,
     "metadata": {},
     "output_type": "execute_result"
    }
   ],
   "source": [
    "np.sqrt(a)"
   ]
  },
  {
   "cell_type": "code",
   "execution_count": 92,
   "id": "d732455a",
   "metadata": {},
   "outputs": [
    {
     "data": {
      "text/plain": [
       "array([[ 1.        ,  2.71828183],\n",
       "       [ 7.3890561 , 54.59815003]])"
      ]
     },
     "execution_count": 92,
     "metadata": {},
     "output_type": "execute_result"
    }
   ],
   "source": [
    "np.exp(a)"
   ]
  },
  {
   "cell_type": "code",
   "execution_count": 93,
   "id": "af7a43dc",
   "metadata": {},
   "outputs": [
    {
     "data": {
      "text/plain": [
       "array([[ 0.        ,  3.14159265],\n",
       "       [ 1.57079633, -0.78539816]])"
      ]
     },
     "execution_count": 93,
     "metadata": {},
     "output_type": "execute_result"
    }
   ],
   "source": [
    "a = np.array([0,np.pi,np.pi/2,-np.pi/4]).reshape(2,-1)\n",
    "a"
   ]
  },
  {
   "cell_type": "code",
   "execution_count": 94,
   "id": "34f003d3",
   "metadata": {},
   "outputs": [
    {
     "data": {
      "text/plain": [
       "array([[ 0.00000000e+00,  1.22464680e-16],\n",
       "       [ 1.00000000e+00, -7.07106781e-01]])"
      ]
     },
     "execution_count": 94,
     "metadata": {},
     "output_type": "execute_result"
    }
   ],
   "source": [
    "np.sin(a)"
   ]
  },
  {
   "cell_type": "code",
   "execution_count": 95,
   "id": "91792b9f",
   "metadata": {},
   "outputs": [
    {
     "data": {
      "text/plain": [
       "array([[ 1.00000000e+00, -1.00000000e+00],\n",
       "       [ 6.12323400e-17,  7.07106781e-01]])"
      ]
     },
     "execution_count": 95,
     "metadata": {},
     "output_type": "execute_result"
    }
   ],
   "source": [
    "np.cos(a)"
   ]
  },
  {
   "cell_type": "code",
   "execution_count": 96,
   "id": "d773d5e9",
   "metadata": {},
   "outputs": [],
   "source": [
    "c = np.array([[0,1,-1],[2,4,-3],[5,-2,7]])\n",
    "d = np.array([[-2,0,1],[5,-1,2],[-6,3,4]])\n",
    "C = np.block([[c],[d]])\n",
    "C"
   ]
  },
  {
   "cell_type": "code",
   "execution_count": 98,
   "id": "3ba3b394",
   "metadata": {},
   "outputs": [
    {
     "data": {
      "text/plain": [
       "array([[ 0,  1, -1],\n",
       "       [ 2,  4, -3],\n",
       "       [ 5, -2,  7],\n",
       "       [-2,  0,  1],\n",
       "       [ 5, -1,  2],\n",
       "       [-6,  3,  4]])"
      ]
     },
     "execution_count": 98,
     "metadata": {},
     "output_type": "execute_result"
    }
   ],
   "source": [
    "C = np.block([[c],[d]])\n",
    "C"
   ]
  },
  {
   "cell_type": "code",
   "execution_count": 100,
   "id": "1e4abe3c",
   "metadata": {},
   "outputs": [
    {
     "data": {
      "text/plain": [
       "array([[ 0,  1, -1, -2,  0,  1],\n",
       "       [ 2,  4, -3,  5, -1,  2],\n",
       "       [ 5, -2,  7, -6,  3,  4]])"
      ]
     },
     "execution_count": 100,
     "metadata": {},
     "output_type": "execute_result"
    }
   ],
   "source": [
    "D = np.block([c,d])\n",
    "D"
   ]
  },
  {
   "cell_type": "code",
   "execution_count": 104,
   "id": "1aa9bbf9",
   "metadata": {},
   "outputs": [
    {
     "data": {
      "text/plain": [
       "[array([[ 0,  1, -1],\n",
       "        [ 2,  4, -3]]),\n",
       " array([[ 5, -2,  7],\n",
       "        [-2,  0,  1]]),\n",
       " array([[ 5, -1,  2],\n",
       "        [-6,  3,  4]])]"
      ]
     },
     "execution_count": 104,
     "metadata": {},
     "output_type": "execute_result"
    }
   ],
   "source": [
    "np.vsplit(C,3)"
   ]
  },
  {
   "cell_type": "code",
   "execution_count": 106,
   "id": "a6945d13",
   "metadata": {},
   "outputs": [
    {
     "data": {
      "text/plain": [
       "[array([[ 0,  1, -1],\n",
       "        [ 2,  4, -3],\n",
       "        [ 5, -2,  7]]),\n",
       " array([[-2,  0,  1],\n",
       "        [ 5, -1,  2],\n",
       "        [-6,  3,  4]])]"
      ]
     },
     "execution_count": 106,
     "metadata": {},
     "output_type": "execute_result"
    }
   ],
   "source": [
    "np.hsplit(D,2)"
   ]
  },
  {
   "cell_type": "code",
   "execution_count": 107,
   "id": "31150b80",
   "metadata": {},
   "outputs": [],
   "source": [
    "import matplotlib.pyplot as plt"
   ]
  },
  {
   "cell_type": "code",
   "execution_count": 112,
   "id": "293f42c2",
   "metadata": {},
   "outputs": [
    {
     "data": {
      "text/plain": [
       "array([0.        , 0.01259155, 0.02518311, 0.03777466, 0.05036621,\n",
       "       0.06295777, 0.07554932, 0.08814088, 0.10073243, 0.11332398,\n",
       "       0.12591554, 0.13850709, 0.15109864, 0.1636902 , 0.17628175,\n",
       "       0.18887331, 0.20146486, 0.21405641, 0.22664797, 0.23923952,\n",
       "       0.25183107, 0.26442263, 0.27701418, 0.28960574, 0.30219729,\n",
       "       0.31478884, 0.3273804 , 0.33997195, 0.3525635 , 0.36515506,\n",
       "       0.37774661, 0.39033817, 0.40292972, 0.41552127, 0.42811283,\n",
       "       0.44070438, 0.45329593, 0.46588749, 0.47847904, 0.4910706 ,\n",
       "       0.50366215, 0.5162537 , 0.52884526, 0.54143681, 0.55402836,\n",
       "       0.56661992, 0.57921147, 0.59180302, 0.60439458, 0.61698613,\n",
       "       0.62957769, 0.64216924, 0.65476079, 0.66735235, 0.6799439 ,\n",
       "       0.69253545, 0.70512701, 0.71771856, 0.73031012, 0.74290167,\n",
       "       0.75549322, 0.76808478, 0.78067633, 0.79326788, 0.80585944,\n",
       "       0.81845099, 0.83104255, 0.8436341 , 0.85622565, 0.86881721,\n",
       "       0.88140876, 0.89400031, 0.90659187, 0.91918342, 0.93177498,\n",
       "       0.94436653, 0.95695808, 0.96954964, 0.98214119, 0.99473274,\n",
       "       1.0073243 , 1.01991585, 1.03250741, 1.04509896, 1.05769051,\n",
       "       1.07028207, 1.08287362, 1.09546517, 1.10805673, 1.12064828,\n",
       "       1.13323983, 1.14583139, 1.15842294, 1.1710145 , 1.18360605,\n",
       "       1.1961976 , 1.20878916, 1.22138071, 1.23397226, 1.24656382,\n",
       "       1.25915537, 1.27174693, 1.28433848, 1.29693003, 1.30952159,\n",
       "       1.32211314, 1.33470469, 1.34729625, 1.3598878 , 1.37247936,\n",
       "       1.38507091, 1.39766246, 1.41025402, 1.42284557, 1.43543712,\n",
       "       1.44802868, 1.46062023, 1.47321179, 1.48580334, 1.49839489,\n",
       "       1.51098645, 1.523578  , 1.53616955, 1.54876111, 1.56135266,\n",
       "       1.57394422, 1.58653577, 1.59912732, 1.61171888, 1.62431043,\n",
       "       1.63690198, 1.64949354, 1.66208509, 1.67467664, 1.6872682 ,\n",
       "       1.69985975, 1.71245131, 1.72504286, 1.73763441, 1.75022597,\n",
       "       1.76281752, 1.77540907, 1.78800063, 1.80059218, 1.81318374,\n",
       "       1.82577529, 1.83836684, 1.8509584 , 1.86354995, 1.8761415 ,\n",
       "       1.88873306, 1.90132461, 1.91391617, 1.92650772, 1.93909927,\n",
       "       1.95169083, 1.96428238, 1.97687393, 1.98946549, 2.00205704,\n",
       "       2.0146486 , 2.02724015, 2.0398317 , 2.05242326, 2.06501481,\n",
       "       2.07760636, 2.09019792, 2.10278947, 2.11538103, 2.12797258,\n",
       "       2.14056413, 2.15315569, 2.16574724, 2.17833879, 2.19093035,\n",
       "       2.2035219 , 2.21611346, 2.22870501, 2.24129656, 2.25388812,\n",
       "       2.26647967, 2.27907122, 2.29166278, 2.30425433, 2.31684588,\n",
       "       2.32943744, 2.34202899, 2.35462055, 2.3672121 , 2.37980365,\n",
       "       2.39239521, 2.40498676, 2.41757831, 2.43016987, 2.44276142,\n",
       "       2.45535298, 2.46794453, 2.48053608, 2.49312764, 2.50571919,\n",
       "       2.51831074, 2.5309023 , 2.54349385, 2.55608541, 2.56867696,\n",
       "       2.58126851, 2.59386007, 2.60645162, 2.61904317, 2.63163473,\n",
       "       2.64422628, 2.65681784, 2.66940939, 2.68200094, 2.6945925 ,\n",
       "       2.70718405, 2.7197756 , 2.73236716, 2.74495871, 2.75755027,\n",
       "       2.77014182, 2.78273337, 2.79532493, 2.80791648, 2.82050803,\n",
       "       2.83309959, 2.84569114, 2.85828269, 2.87087425, 2.8834658 ,\n",
       "       2.89605736, 2.90864891, 2.92124046, 2.93383202, 2.94642357,\n",
       "       2.95901512, 2.97160668, 2.98419823, 2.99678979, 3.00938134,\n",
       "       3.02197289, 3.03456445, 3.047156  , 3.05974755, 3.07233911,\n",
       "       3.08493066, 3.09752222, 3.11011377, 3.12270532, 3.13529688,\n",
       "       3.14788843, 3.16047998, 3.17307154, 3.18566309, 3.19825465,\n",
       "       3.2108462 , 3.22343775, 3.23602931, 3.24862086, 3.26121241,\n",
       "       3.27380397, 3.28639552, 3.29898708, 3.31157863, 3.32417018,\n",
       "       3.33676174, 3.34935329, 3.36194484, 3.3745364 , 3.38712795,\n",
       "       3.3997195 , 3.41231106, 3.42490261, 3.43749417, 3.45008572,\n",
       "       3.46267727, 3.47526883, 3.48786038, 3.50045193, 3.51304349,\n",
       "       3.52563504, 3.5382266 , 3.55081815, 3.5634097 , 3.57600126,\n",
       "       3.58859281, 3.60118436, 3.61377592, 3.62636747, 3.63895903,\n",
       "       3.65155058, 3.66414213, 3.67673369, 3.68932524, 3.70191679,\n",
       "       3.71450835, 3.7270999 , 3.73969146, 3.75228301, 3.76487456,\n",
       "       3.77746612, 3.79005767, 3.80264922, 3.81524078, 3.82783233,\n",
       "       3.84042389, 3.85301544, 3.86560699, 3.87819855, 3.8907901 ,\n",
       "       3.90338165, 3.91597321, 3.92856476, 3.94115631, 3.95374787,\n",
       "       3.96633942, 3.97893098, 3.99152253, 4.00411408, 4.01670564,\n",
       "       4.02929719, 4.04188874, 4.0544803 , 4.06707185, 4.07966341,\n",
       "       4.09225496, 4.10484651, 4.11743807, 4.13002962, 4.14262117,\n",
       "       4.15521273, 4.16780428, 4.18039584, 4.19298739, 4.20557894,\n",
       "       4.2181705 , 4.23076205, 4.2433536 , 4.25594516, 4.26853671,\n",
       "       4.28112827, 4.29371982, 4.30631137, 4.31890293, 4.33149448,\n",
       "       4.34408603, 4.35667759, 4.36926914, 4.3818607 , 4.39445225,\n",
       "       4.4070438 , 4.41963536, 4.43222691, 4.44481846, 4.45741002,\n",
       "       4.47000157, 4.48259312, 4.49518468, 4.50777623, 4.52036779,\n",
       "       4.53295934, 4.54555089, 4.55814245, 4.570734  , 4.58332555,\n",
       "       4.59591711, 4.60850866, 4.62110022, 4.63369177, 4.64628332,\n",
       "       4.65887488, 4.67146643, 4.68405798, 4.69664954, 4.70924109,\n",
       "       4.72183265, 4.7344242 , 4.74701575, 4.75960731, 4.77219886,\n",
       "       4.78479041, 4.79738197, 4.80997352, 4.82256508, 4.83515663,\n",
       "       4.84774818, 4.86033974, 4.87293129, 4.88552284, 4.8981144 ,\n",
       "       4.91070595, 4.92329751, 4.93588906, 4.94848061, 4.96107217,\n",
       "       4.97366372, 4.98625527, 4.99884683, 5.01143838, 5.02402993,\n",
       "       5.03662149, 5.04921304, 5.0618046 , 5.07439615, 5.0869877 ,\n",
       "       5.09957926, 5.11217081, 5.12476236, 5.13735392, 5.14994547,\n",
       "       5.16253703, 5.17512858, 5.18772013, 5.20031169, 5.21290324,\n",
       "       5.22549479, 5.23808635, 5.2506779 , 5.26326946, 5.27586101,\n",
       "       5.28845256, 5.30104412, 5.31363567, 5.32622722, 5.33881878,\n",
       "       5.35141033, 5.36400189, 5.37659344, 5.38918499, 5.40177655,\n",
       "       5.4143681 , 5.42695965, 5.43955121, 5.45214276, 5.46473432,\n",
       "       5.47732587, 5.48991742, 5.50250898, 5.51510053, 5.52769208,\n",
       "       5.54028364, 5.55287519, 5.56546675, 5.5780583 , 5.59064985,\n",
       "       5.60324141, 5.61583296, 5.62842451, 5.64101607, 5.65360762,\n",
       "       5.66619917, 5.67879073, 5.69138228, 5.70397384, 5.71656539,\n",
       "       5.72915694, 5.7417485 , 5.75434005, 5.7669316 , 5.77952316,\n",
       "       5.79211471, 5.80470627, 5.81729782, 5.82988937, 5.84248093,\n",
       "       5.85507248, 5.86766403, 5.88025559, 5.89284714, 5.9054387 ,\n",
       "       5.91803025, 5.9306218 , 5.94321336, 5.95580491, 5.96839646,\n",
       "       5.98098802, 5.99357957, 6.00617113, 6.01876268, 6.03135423,\n",
       "       6.04394579, 6.05653734, 6.06912889, 6.08172045, 6.094312  ,\n",
       "       6.10690356, 6.11949511, 6.13208666, 6.14467822, 6.15726977,\n",
       "       6.16986132, 6.18245288, 6.19504443, 6.20763598, 6.22022754,\n",
       "       6.23281909, 6.24541065, 6.2580022 , 6.27059375, 6.28318531])"
      ]
     },
     "execution_count": 112,
     "metadata": {},
     "output_type": "execute_result"
    }
   ],
   "source": [
    "X = np.linspace(0,2*np.pi,500)\n",
    "X"
   ]
  },
  {
   "cell_type": "code",
   "execution_count": 116,
   "id": "c6f00c2b",
   "metadata": {},
   "outputs": [
    {
     "data": {
      "image/png": "[encoded data removed]",
      "text/plain": [
       "<Figure size 640x480 with 1 Axes>"
      ]
     },
     "metadata": {},
     "output_type": "display_data"
    }
   ],
   "source": [
    "plt.plot(X,np.sin(X))\n",
    "plt.plot(X,np.cos(X))\n",
    "plt.show()"
   ]
  },
  {
   "cell_type": "code",
   "execution_count": 122,
   "id": "fefc240d",
   "metadata": {},
   "outputs": [
    {
     "data": {
      "text/plain": [
       "(array([ 5.,  8., 10.,  8., 12., 11., 14.,  8., 14., 10.]),\n",
       " array([ 0. ,  2.9,  5.8,  8.7, 11.6, 14.5, 17.4, 20.3, 23.2, 26.1, 29. ]),\n",
       " <BarContainer object of 10 artists>)"
      ]
     },
     "execution_count": 122,
     "metadata": {},
     "output_type": "execute_result"
    },
    {
     "data": {
      "image/png": "[encoded data removed]",
      "text/plain": [
       "<Figure size 640x480 with 1 Axes>"
      ]
     },
     "metadata": {},
     "output_type": "display_data"
    }
   ],
   "source": [
    "data = np.random.randint(0,30,100)\n",
    "plt.hist(data)"
   ]
  },
  {
   "cell_type": "code",
   "execution_count": 125,
   "id": "5b389f29",
   "metadata": {},
   "outputs": [],
   "source": [
    "a = np.array([[-10,-8,-6],[-4,-2,0],[2,4,6],[8,10,12]])\n",
    "b = np.array([[-1,-2,-2,-2],[-2,-1,-2,-2],[-2,-2,-1,-2]])"
   ]
  },
  {
   "cell_type": "code",
   "execution_count": 126,
   "id": "bf10aa74",
   "metadata": {},
   "outputs": [
    {
     "data": {
      "text/plain": [
       "array([[-10,  -8,  -6],\n",
       "       [ -4,  -2,   0],\n",
       "       [  2,   4,   6],\n",
       "       [  8,  10,  12]])"
      ]
     },
     "execution_count": 126,
     "metadata": {},
     "output_type": "execute_result"
    }
   ],
   "source": [
    "a"
   ]
  },
  {
   "cell_type": "code",
   "execution_count": 127,
   "id": "96514004",
   "metadata": {},
   "outputs": [
    {
     "data": {
      "text/plain": [
       "array([[-1, -2, -2, -2],\n",
       "       [-2, -1, -2, -2],\n",
       "       [-2, -2, -1, -2]])"
      ]
     },
     "execution_count": 127,
     "metadata": {},
     "output_type": "execute_result"
    }
   ],
   "source": [
    "b"
   ]
  },
  {
   "cell_type": "code",
   "execution_count": 132,
   "id": "6fe38f79",
   "metadata": {},
   "outputs": [
    {
     "data": {
      "text/plain": [
       "array([[ 38,  40,  42,  48],\n",
       "       [  8,  10,  12,  12],\n",
       "       [-22, -20, -18, -24],\n",
       "       [-52, -50, -48, -60]])"
      ]
     },
     "execution_count": 132,
     "metadata": {},
     "output_type": "execute_result"
    }
   ],
   "source": [
    "C = a@b\n",
    "C"
   ]
  },
  {
   "cell_type": "code",
   "execution_count": 134,
   "id": "c3ad6cad",
   "metadata": {},
   "outputs": [
    {
     "data": {
      "text/plain": [
       "array([[38, 40],\n",
       "       [ 8, 10]])"
      ]
     },
     "execution_count": 134,
     "metadata": {},
     "output_type": "execute_result"
    }
   ],
   "source": [
    "D = C[:2,:2]\n",
    "D"
   ]
  },
  {
   "cell_type": "code",
   "execution_count": 137,
   "id": "bdfc42f4",
   "metadata": {},
   "outputs": [
    {
     "data": {
      "text/plain": [
       "array([[ 0.16666667, -0.13333333],\n",
       "       [-0.66666667,  0.63333333]])"
      ]
     },
     "execution_count": 137,
     "metadata": {},
     "output_type": "execute_result"
    }
   ],
   "source": [
    "np.linalg.inv(D.T)"
   ]
  },
  {
   "cell_type": "code",
   "execution_count": 142,
   "id": "864bc23d",
   "metadata": {},
   "outputs": [],
   "source": [
    "a = np.random.randint(-100,100,300)\n",
    "b = np.random.randint(-100,100,300)"
   ]
  },
  {
   "cell_type": "code",
   "execution_count": 143,
   "id": "f64da341",
   "metadata": {},
   "outputs": [
    {
     "data": {
      "text/plain": [
       "(array([ -68,   56,   61,  -94,   25,  -69,   68,  -92,   57,    7,  -16,\n",
       "         -17,   -4,  -35,   60,   77,   51,  -85,   99,  -54,   98,  -69,\n",
       "         -39,  -87,  -85,   23,   87,  -69,  -16,  -98,  -85,   69,  -51,\n",
       "         -47,  -72,  -40,   -5,  -68,  -57,   -1,   -5,   88,  -88,    5,\n",
       "         -25,   64,   16,  -49,   36,  -48,   97,   -3,  -42,  -92,  -40,\n",
       "          14,   82,  -49,  -14,   82,   61,   14,   54,  -41,  -23,  -26,\n",
       "          65,  -83,  -10,  -30,   96,   35,  -76,   88,  -88,   54,  -36,\n",
       "         -82,    3,   62,   96,  -79,  -15,   39,  -76,  -78,   10,   96,\n",
       "          91,  -92,   30,   69,  -48,   67,   94,  -45,   82,   22,  -77,\n",
       "         -95,  -56,   62,  -74,  -48,   60,  -21,   79,   21,  -72,  -95,\n",
       "         -19,    1,  -41,   77,   99,   27,    7,   -2,  -52,   30,   66,\n",
       "         -23,   20,   38,   22,   -3,   70,  -32,  -99,    8,   69,  -70,\n",
       "         -71,   32,   33,    1,   97,   92,  -53,  -81,   -4,   92,  -52,\n",
       "          40,   24,   46,   -2,   68,  -53,  -34,    7,  -40,   50,   53,\n",
       "         -79,  -93,   67,  -68,   -3,   26,   84,  -32,  -10,  -20,   75,\n",
       "          87,   54,  -92,  -39,  -97,   20,  -39,   54,   60,  -70,   -9,\n",
       "          54,   75,  -63,   29,   65,   79,   89,    9,  -88,  -76,   63,\n",
       "         -85,   -6,   42,   99,  -14,  -86,    9,   64,  -71,  -51,   -8,\n",
       "          72,   96,   25,   92,  -46,    3,  -80,  -95,  -36,   25,   80,\n",
       "         -60,    9,   47,   79,  -64,   50,   52,  -53,   -5,  -32,  -23,\n",
       "         -33,  -17,   84,   93,   50,   -7,  -98,   -1,   -7,   15,  -10,\n",
       "          16,  -78,    8,  -55,  -70,  -93,  -17,  -13,  -97,   23,   11,\n",
       "         -10,  -88,  -35,  -95,   75,   -2,  -96,   68,   28,  -14,    1,\n",
       "          11,   52,   77,   95,    9,   74,  -35,   32,   58,    1,   55,\n",
       "          36,   15,  -86,  -60,  -44,   16,  -23,  -86,  -89,  -48,   81,\n",
       "          -3,    3,  -10,   48,   65,  -60,   47,   10,   60,  -48,   18,\n",
       "          65,   31,  -30,  -37, -100,  -32,  -12,   36,    2,  -91,    7,\n",
       "         -32,   45,  -94]),\n",
       " array([ -44,  -13,  -97,   11,  -57,   26,   49,    9,  -56,    8,   50,\n",
       "          54,  -26,   61,   -5,  -73,   66,  -98,   24,   26,   93,  -80,\n",
       "          78,  -26,   28,   52,   74,   98,  -80,   75,   78,   37,  -43,\n",
       "         -54,   69,  -23,   50,   83,   -4,  -64,    6,   25,    2,   54,\n",
       "           4,   -2,  -59,   66,   86,  -94,  -54,  -57,   94,   79,  -31,\n",
       "         -78,  -25,   85,  -62,  -79,  -24,   84,    7,  -16,   68,   46,\n",
       "         -34,   41,  -89,   64,  -55,  -80,  -54,  -24,   60,  -90,  -71,\n",
       "          84,    8,   38,   45,   62,   34,  -85,   34,  -80,  -23,  -29,\n",
       "         -36,  -68,  -23,    7,   14,   30,  -32,  -68,  -63,   69,   70,\n",
       "          78,  -55,  -21,   27, -100,   55,  -50,   39,  -12,   89,   19,\n",
       "          80,   26,   -6,   52,   78,    8,   22,  -26,   86,  -64,  -22,\n",
       "          -5,   51,   22,  -52,  -72,   17,   28,   -5,  -84,   34,   26,\n",
       "         -90,   70,   59,   29,   -7,  -42,  -19,    1,   -3,   66,  -71,\n",
       "           1,  -22,   47,   37,  -57,   22,  -42,  -19,  -25,  -88,  -95,\n",
       "         -19,  -86,  -90,   15,   50,   27,  -95,   34,   44,    4,  -48,\n",
       "         -97,  -82,  -88,  -27,  -50,  -54,  -20,   48,   92,    3,   45,\n",
       "         -43,   96,   40,   22,   74,   60,  -83,  -17, -100,   58,   35,\n",
       "          33,  -46,    0,  -11,  -22,   78,   48,   -3,   46,  -62,  -28,\n",
       "         -31,  -63,  -60,  -43,  -36,   78,   -7,   83,   -5,   48,   -6,\n",
       "         -75,  -99,    3,   45,   67,  -55,   -5,   86,   52,  -84,  -21,\n",
       "          97,  -29,  -51,   27,  -66,   91,   10,  -45,   95,   72,  -25,\n",
       "          82,  -42,  -98,  -37,   -4,   35,   72,   66,  -13,   96,  -35,\n",
       "         -58,  -32,   14,   33,   29,  -87,   -3,  -36,    4,   58,   -3,\n",
       "         -94,  -65,   62,   40,   27,  -35,  -39,   40,   22,   -3,   35,\n",
       "         -20,  -80,   93,  -43,  -99,   49,   92,  -46,   37,  -51,  -35,\n",
       "          31,   59,  -10,  -33,  -91,   60,  -73,  -77,  -51,   77,   51,\n",
       "          17,  -88,  -20,  -66,    3,  -68,   68,   33,  -70,  -50,   14,\n",
       "          -2,   79,  -26]))"
      ]
     },
     "execution_count": 143,
     "metadata": {},
     "output_type": "execute_result"
    }
   ],
   "source": [
    "a,b"
   ]
  },
  {
   "cell_type": "code",
   "execution_count": 144,
   "id": "3e32e599",
   "metadata": {},
   "outputs": [
    {
     "data": {
      "text/plain": [
       "<matplotlib.collections.PathCollection at 0x1ff66b9dac0>"
      ]
     },
     "execution_count": 144,
     "metadata": {},
     "output_type": "execute_result"
    },
    {
     "data": {
      "image/png": "[encoded data removed]",
      "text/plain": [
       "<Figure size 640x480 with 1 Axes>"
      ]
     },
     "metadata": {},
     "output_type": "display_data"
    }
   ],
   "source": [
    "plt.scatter(a,b)"
   ]
  },
  {
   "cell_type": "code",
   "execution_count": 146,
   "id": "21003897",
   "metadata": {},
   "outputs": [
    {
     "data": {
      "text/plain": [
       "array([0., 0.])"
      ]
     },
     "execution_count": 146,
     "metadata": {},
     "output_type": "execute_result"
    }
   ],
   "source": [
    "a = np.zeros(2)\n",
    "a"
   ]
  },
  {
   "cell_type": "code",
   "execution_count": 149,
   "id": "f2c92087",
   "metadata": {},
   "outputs": [
    {
     "data": {
      "text/plain": [
       "array([[1.],\n",
       "       [1.],\n",
       "       [1.],\n",
       "       [1.]])"
      ]
     },
     "execution_count": 149,
     "metadata": {},
     "output_type": "execute_result"
    }
   ],
   "source": [
    "b = np.ones((4,1))\n",
    "b"
   ]
  },
  {
   "cell_type": "code",
   "execution_count": 151,
   "id": "f37c76f9",
   "metadata": {},
   "outputs": [
    {
     "data": {
      "text/plain": [
       "array([[1., 0., 0.],\n",
       "       [0., 1., 0.],\n",
       "       [0., 0., 1.]])"
      ]
     },
     "execution_count": 151,
     "metadata": {},
     "output_type": "execute_result"
    }
   ],
   "source": [
    "c = np.eye(3)\n",
    "c"
   ]
  },
  {
   "cell_type": "code",
   "execution_count": 153,
   "id": "530ef456",
   "metadata": {},
   "outputs": [
    {
     "data": {
      "text/plain": [
       "array([[1., 0., 0., 0.],\n",
       "       [0., 1., 0., 0.],\n",
       "       [0., 0., 1., 0.]])"
      ]
     },
     "execution_count": 153,
     "metadata": {},
     "output_type": "execute_result"
    }
   ],
   "source": [
    "d = np.eye(3,4)\n",
    "d"
   ]
  },
  {
   "cell_type": "code",
   "execution_count": 154,
   "id": "bd4604d3",
   "metadata": {},
   "outputs": [],
   "source": [
    "a = np.array([2,3,4])\n",
    "b = np.array([[1.2,3.5,5.1],[-0.3,1.1,-4.5]])"
   ]
  },
  {
   "cell_type": "code",
   "execution_count": 155,
   "id": "edd64708",
   "metadata": {},
   "outputs": [
    {
     "data": {
      "text/plain": [
       "((3,), 3, <memory at 0x000001FF66A42640>, dtype('int32'))"
      ]
     },
     "execution_count": 155,
     "metadata": {},
     "output_type": "execute_result"
    }
   ],
   "source": [
    "a.shape,a.size,a.data,a.dtype"
   ]
  },
  {
   "cell_type": "code",
   "execution_count": 157,
   "id": "0a426964",
   "metadata": {},
   "outputs": [
    {
     "data": {
      "text/plain": [
       "((2, 3), 6, <memory at 0x000001FF667296C0>, dtype('float64'))"
      ]
     },
     "execution_count": 157,
     "metadata": {},
     "output_type": "execute_result"
    }
   ],
   "source": [
    "b.shape,b.size,b.data,b.dtype"
   ]
  },
  {
   "cell_type": "code",
   "execution_count": 158,
   "id": "764a8dbc",
   "metadata": {},
   "outputs": [
    {
     "data": {
      "text/plain": [
       "array([ 1,  3,  5,  7,  9, 11])"
      ]
     },
     "execution_count": 158,
     "metadata": {},
     "output_type": "execute_result"
    }
   ],
   "source": [
    "a = np.arange(1,13,2)\n",
    "a"
   ]
  },
  {
   "cell_type": "code",
   "execution_count": 160,
   "id": "d245491f",
   "metadata": {},
   "outputs": [
    {
     "data": {
      "text/plain": [
       "array([[ 2,  4,  6],\n",
       "       [-1,  5, -3],\n",
       "       [ 0, -2,  3]])"
      ]
     },
     "execution_count": 160,
     "metadata": {},
     "output_type": "execute_result"
    }
   ],
   "source": [
    "b = np.array([[2,4,6],[-1,5,-3],[0,-2,3]])\n",
    "b"
   ]
  },
  {
   "cell_type": "code",
   "execution_count": 172,
   "id": "f1089cbe",
   "metadata": {},
   "outputs": [
    {
     "data": {
      "text/plain": [
       "array([5, 7, 9])"
      ]
     },
     "execution_count": 172,
     "metadata": {},
     "output_type": "execute_result"
    }
   ],
   "source": [
    "a[2:-1]"
   ]
  },
  {
   "cell_type": "code",
   "execution_count": 173,
   "id": "51648348",
   "metadata": {},
   "outputs": [
    {
     "data": {
      "text/plain": [
       "array([11,  9,  7,  5,  3,  1])"
      ]
     },
     "execution_count": 173,
     "metadata": {},
     "output_type": "execute_result"
    }
   ],
   "source": [
    "a[::-1]"
   ]
  },
  {
   "cell_type": "code",
   "execution_count": 167,
   "id": "50f4fd86",
   "metadata": {},
   "outputs": [
    {
     "data": {
      "text/plain": [
       "array([-1,  5, -3])"
      ]
     },
     "execution_count": 167,
     "metadata": {},
     "output_type": "execute_result"
    }
   ],
   "source": [
    "b[1]"
   ]
  },
  {
   "cell_type": "code",
   "execution_count": 170,
   "id": "8248a507",
   "metadata": {},
   "outputs": [
    {
     "data": {
      "text/plain": [
       "0"
      ]
     },
     "execution_count": 170,
     "metadata": {},
     "output_type": "execute_result"
    }
   ],
   "source": [
    "b[2,0]"
   ]
  },
  {
   "cell_type": "code",
   "execution_count": 171,
   "id": "1a20d779",
   "metadata": {},
   "outputs": [
    {
     "data": {
      "text/plain": [
       "array([[ 5, -3],\n",
       "       [-2,  3]])"
      ]
     },
     "execution_count": 171,
     "metadata": {},
     "output_type": "execute_result"
    }
   ],
   "source": [
    "b[1:,1:]"
   ]
  },
  {
   "cell_type": "code",
   "execution_count": 174,
   "id": "8bf9cbb8",
   "metadata": {},
   "outputs": [],
   "source": [
    "a = np.array([[1,3],\n",
    "             [-2,4]])\n",
    "b = np.array([[2,-1],\n",
    "            [3,0]])\n",
    "c = np.array([[-2,-5],\n",
    "             [1,3]])\n",
    "d = np.array([[3,0],\n",
    "             [6,-2]])\n",
    "e = np.array([[3,5],\n",
    "             [4,-1]])\n",
    "f = np.array([[-2,1],\n",
    "             [0,-3]])"
   ]
  },
  {
   "cell_type": "code",
   "execution_count": 175,
   "id": "e96f4456",
   "metadata": {},
   "outputs": [
    {
     "data": {
      "text/plain": [
       "array([[3, 2],\n",
       "       [1, 4]])"
      ]
     },
     "execution_count": 175,
     "metadata": {},
     "output_type": "execute_result"
    }
   ],
   "source": [
    "a+b"
   ]
  },
  {
   "cell_type": "code",
   "execution_count": 176,
   "id": "3ed68ee1",
   "metadata": {},
   "outputs": [
    {
     "data": {
      "text/plain": [
       "array([[-1,  4],\n",
       "       [-5,  4]])"
      ]
     },
     "execution_count": 176,
     "metadata": {},
     "output_type": "execute_result"
    }
   ],
   "source": [
    "a-b"
   ]
  },
  {
   "cell_type": "code",
   "execution_count": 181,
   "id": "a97f5668",
   "metadata": {},
   "outputs": [
    {
     "data": {
      "text/plain": [
       "array([[-36,  10],\n",
       "       [ 21,  -6]])"
      ]
     },
     "execution_count": 181,
     "metadata": {},
     "output_type": "execute_result"
    }
   ],
   "source": [
    "c@d"
   ]
  },
  {
   "cell_type": "code",
   "execution_count": 180,
   "id": "0f83c3b7",
   "metadata": {},
   "outputs": [
    {
     "data": {
      "text/plain": [
       "array([[-6,  5],\n",
       "       [ 0,  3]])"
      ]
     },
     "execution_count": 180,
     "metadata": {},
     "output_type": "execute_result"
    }
   ],
   "source": [
    "e*f"
   ]
  },
  {
   "cell_type": "code",
   "execution_count": 182,
   "id": "c66d5396",
   "metadata": {},
   "outputs": [
    {
     "name": "stdout",
     "output_type": "stream",
     "text": [
      "[[2 3 4]]\n"
     ]
    },
    {
     "data": {
      "text/plain": [
       "array([[2],\n",
       "       [3],\n",
       "       [4]])"
      ]
     },
     "execution_count": 182,
     "metadata": {},
     "output_type": "execute_result"
    }
   ],
   "source": [
    "a = np.array([[2,3,4]])\n",
    "print(a)\n",
    "a.T"
   ]
  },
  {
   "cell_type": "code",
   "execution_count": 184,
   "id": "8ca47b0f",
   "metadata": {},
   "outputs": [
    {
     "name": "stdout",
     "output_type": "stream",
     "text": [
      "[[ 1.2  3.5  5.1]\n",
      " [-0.3  1.1 -4.5]]\n"
     ]
    },
    {
     "data": {
      "text/plain": [
       "array([[ 1.2, -0.3],\n",
       "       [ 3.5,  1.1],\n",
       "       [ 5.1, -4.5]])"
      ]
     },
     "execution_count": 184,
     "metadata": {},
     "output_type": "execute_result"
    }
   ],
   "source": [
    "b = np.array([[1.2,3.5,5.1],[-0.3,1.1,-4.5]])\n",
    "print(b)\n",
    "b.T"
   ]
  },
  {
   "cell_type": "code",
   "execution_count": 186,
   "id": "eb56febb",
   "metadata": {},
   "outputs": [
    {
     "data": {
      "text/plain": [
       "array([[1., 0.],\n",
       "       [0., 1.]])"
      ]
     },
     "execution_count": 186,
     "metadata": {},
     "output_type": "execute_result"
    }
   ],
   "source": [
    "a = np.array([[4,-2],[1,0]])\n",
    "b = np.linalg.inv(a)\n",
    "a@b"
   ]
  },
  {
   "cell_type": "code",
   "execution_count": 187,
   "id": "2dae368a",
   "metadata": {},
   "outputs": [
    {
     "data": {
      "text/plain": [
       "array([[ 2. , -1. ],\n",
       "       [ 0.5,  0. ]])"
      ]
     },
     "execution_count": 187,
     "metadata": {},
     "output_type": "execute_result"
    }
   ],
   "source": [
    "a = np.array([[4,-2],[1,0]])\n",
    "a * 0.5"
   ]
  },
  {
   "cell_type": "code",
   "execution_count": 188,
   "id": "64636340",
   "metadata": {},
   "outputs": [
    {
     "data": {
      "text/plain": [
       "2.165063509461097"
      ]
     },
     "execution_count": 188,
     "metadata": {},
     "output_type": "execute_result"
    }
   ],
   "source": [
    "a.std()"
   ]
  },
  {
   "cell_type": "code",
   "execution_count": 190,
   "id": "5eb11da7",
   "metadata": {},
   "outputs": [
    {
     "data": {
      "text/plain": [
       "4.6875"
      ]
     },
     "execution_count": 190,
     "metadata": {},
     "output_type": "execute_result"
    }
   ],
   "source": [
    "a.var()"
   ]
  },
  {
   "cell_type": "code",
   "execution_count": 195,
   "id": "9d6db5ec",
   "metadata": {},
   "outputs": [
    {
     "data": {
      "text/plain": [
       "array([[ 1.        ,  2.71828183],\n",
       "       [ 7.3890561 , 54.59815003]])"
      ]
     },
     "execution_count": 195,
     "metadata": {},
     "output_type": "execute_result"
    }
   ],
   "source": [
    "a = np.array([[0,1],[2,4]])\n",
    "np.sqrt(a)\n",
    "np.exp(a)"
   ]
  },
  {
   "cell_type": "code",
   "execution_count": 198,
   "id": "4285ffab",
   "metadata": {},
   "outputs": [],
   "source": [
    "a = np.array([[0,np.pi],[np.pi/2,-np.pi/4]])"
   ]
  },
  {
   "cell_type": "code",
   "execution_count": 200,
   "id": "85fe7d63",
   "metadata": {},
   "outputs": [
    {
     "data": {
      "text/plain": [
       "(array([[ 0.00000000e+00,  1.22464680e-16],\n",
       "        [ 1.00000000e+00, -7.07106781e-01]]),\n",
       " array([[ 1.00000000e+00, -1.00000000e+00],\n",
       "        [ 6.12323400e-17,  7.07106781e-01]]))"
      ]
     },
     "execution_count": 200,
     "metadata": {},
     "output_type": "execute_result"
    }
   ],
   "source": [
    "np.sin(a),np.cos(a)"
   ]
  },
  {
   "cell_type": "code",
   "execution_count": 201,
   "id": "0cc0aa44",
   "metadata": {},
   "outputs": [
    {
     "data": {
      "text/plain": [
       "array([[ 0,  1, -1],\n",
       "       [ 2,  4, -3],\n",
       "       [ 5, -2,  7],\n",
       "       [-2,  0,  1],\n",
       "       [ 5, -1,  2],\n",
       "       [-6,  3,  4]])"
      ]
     },
     "execution_count": 201,
     "metadata": {},
     "output_type": "execute_result"
    }
   ],
   "source": [
    "c = np.array([[0,1,-1],[2,4,-3],[5,-2,7]])\n",
    "d = np.array([[-2,0,1],[5,-1,2],[-6,3,4]])\n",
    "C = np.block([[c],[d]])\n",
    "C"
   ]
  },
  {
   "cell_type": "code",
   "execution_count": 208,
   "id": "3911fed1",
   "metadata": {},
   "outputs": [
    {
     "data": {
      "text/plain": [
       "[array([[ 0],\n",
       "        [ 2],\n",
       "        [ 5],\n",
       "        [-2],\n",
       "        [ 5],\n",
       "        [-6]]),\n",
       " array([[ 1],\n",
       "        [ 4],\n",
       "        [-2],\n",
       "        [ 0],\n",
       "        [-1],\n",
       "        [ 3]]),\n",
       " array([[-1],\n",
       "        [-3],\n",
       "        [ 7],\n",
       "        [ 1],\n",
       "        [ 2],\n",
       "        [ 4]])]"
      ]
     },
     "execution_count": 208,
     "metadata": {},
     "output_type": "execute_result"
    }
   ],
   "source": [
    "np.hsplit(C,3)"
   ]
  },
  {
   "cell_type": "code",
   "execution_count": 212,
   "id": "705296fa",
   "metadata": {},
   "outputs": [
    {
     "name": "stdout",
     "output_type": "stream",
     "text": [
      "[0.         0.01259155 0.02518311 0.03777466 0.05036621 0.06295777\n",
      " 0.07554932 0.08814088 0.10073243 0.11332398 0.12591554 0.13850709\n",
      " 0.15109864 0.1636902  0.17628175 0.18887331 0.20146486 0.21405641\n",
      " 0.22664797 0.23923952 0.25183107 0.26442263 0.27701418 0.28960574\n",
      " 0.30219729 0.31478884 0.3273804  0.33997195 0.3525635  0.36515506\n",
      " 0.37774661 0.39033817 0.40292972 0.41552127 0.42811283 0.44070438\n",
      " 0.45329593 0.46588749 0.47847904 0.4910706  0.50366215 0.5162537\n",
      " 0.52884526 0.54143681 0.55402836 0.56661992 0.57921147 0.59180302\n",
      " 0.60439458 0.61698613 0.62957769 0.64216924 0.65476079 0.66735235\n",
      " 0.6799439  0.69253545 0.70512701 0.71771856 0.73031012 0.74290167\n",
      " 0.75549322 0.76808478 0.78067633 0.79326788 0.80585944 0.81845099\n",
      " 0.83104255 0.8436341  0.85622565 0.86881721 0.88140876 0.89400031\n",
      " 0.90659187 0.91918342 0.93177498 0.94436653 0.95695808 0.96954964\n",
      " 0.98214119 0.99473274 1.0073243  1.01991585 1.03250741 1.04509896\n",
      " 1.05769051 1.07028207 1.08287362 1.09546517 1.10805673 1.12064828\n",
      " 1.13323983 1.14583139 1.15842294 1.1710145  1.18360605 1.1961976\n",
      " 1.20878916 1.22138071 1.23397226 1.24656382 1.25915537 1.27174693\n",
      " 1.28433848 1.29693003 1.30952159 1.32211314 1.33470469 1.34729625\n",
      " 1.3598878  1.37247936 1.38507091 1.39766246 1.41025402 1.42284557\n",
      " 1.43543712 1.44802868 1.46062023 1.47321179 1.48580334 1.49839489\n",
      " 1.51098645 1.523578   1.53616955 1.54876111 1.56135266 1.57394422\n",
      " 1.58653577 1.59912732 1.61171888 1.62431043 1.63690198 1.64949354\n",
      " 1.66208509 1.67467664 1.6872682  1.69985975 1.71245131 1.72504286\n",
      " 1.73763441 1.75022597 1.76281752 1.77540907 1.78800063 1.80059218\n",
      " 1.81318374 1.82577529 1.83836684 1.8509584  1.86354995 1.8761415\n",
      " 1.88873306 1.90132461 1.91391617 1.92650772 1.93909927 1.95169083\n",
      " 1.96428238 1.97687393 1.98946549 2.00205704 2.0146486  2.02724015\n",
      " 2.0398317  2.05242326 2.06501481 2.07760636 2.09019792 2.10278947\n",
      " 2.11538103 2.12797258 2.14056413 2.15315569 2.16574724 2.17833879\n",
      " 2.19093035 2.2035219  2.21611346 2.22870501 2.24129656 2.25388812\n",
      " 2.26647967 2.27907122 2.29166278 2.30425433 2.31684588 2.32943744\n",
      " 2.34202899 2.35462055 2.3672121  2.37980365 2.39239521 2.40498676\n",
      " 2.41757831 2.43016987 2.44276142 2.45535298 2.46794453 2.48053608\n",
      " 2.49312764 2.50571919 2.51831074 2.5309023  2.54349385 2.55608541\n",
      " 2.56867696 2.58126851 2.59386007 2.60645162 2.61904317 2.63163473\n",
      " 2.64422628 2.65681784 2.66940939 2.68200094 2.6945925  2.70718405\n",
      " 2.7197756  2.73236716 2.74495871 2.75755027 2.77014182 2.78273337\n",
      " 2.79532493 2.80791648 2.82050803 2.83309959 2.84569114 2.85828269\n",
      " 2.87087425 2.8834658  2.89605736 2.90864891 2.92124046 2.93383202\n",
      " 2.94642357 2.95901512 2.97160668 2.98419823 2.99678979 3.00938134\n",
      " 3.02197289 3.03456445 3.047156   3.05974755 3.07233911 3.08493066\n",
      " 3.09752222 3.11011377 3.12270532 3.13529688 3.14788843 3.16047998\n",
      " 3.17307154 3.18566309 3.19825465 3.2108462  3.22343775 3.23602931\n",
      " 3.24862086 3.26121241 3.27380397 3.28639552 3.29898708 3.31157863\n",
      " 3.32417018 3.33676174 3.34935329 3.36194484 3.3745364  3.38712795\n",
      " 3.3997195  3.41231106 3.42490261 3.43749417 3.45008572 3.46267727\n",
      " 3.47526883 3.48786038 3.50045193 3.51304349 3.52563504 3.5382266\n",
      " 3.55081815 3.5634097  3.57600126 3.58859281 3.60118436 3.61377592\n",
      " 3.62636747 3.63895903 3.65155058 3.66414213 3.67673369 3.68932524\n",
      " 3.70191679 3.71450835 3.7270999  3.73969146 3.75228301 3.76487456\n",
      " 3.77746612 3.79005767 3.80264922 3.81524078 3.82783233 3.84042389\n",
      " 3.85301544 3.86560699 3.87819855 3.8907901  3.90338165 3.91597321\n",
      " 3.92856476 3.94115631 3.95374787 3.96633942 3.97893098 3.99152253\n",
      " 4.00411408 4.01670564 4.02929719 4.04188874 4.0544803  4.06707185\n",
      " 4.07966341 4.09225496 4.10484651 4.11743807 4.13002962 4.14262117\n",
      " 4.15521273 4.16780428 4.18039584 4.19298739 4.20557894 4.2181705\n",
      " 4.23076205 4.2433536  4.25594516 4.26853671 4.28112827 4.29371982\n",
      " 4.30631137 4.31890293 4.33149448 4.34408603 4.35667759 4.36926914\n",
      " 4.3818607  4.39445225 4.4070438  4.41963536 4.43222691 4.44481846\n",
      " 4.45741002 4.47000157 4.48259312 4.49518468 4.50777623 4.52036779\n",
      " 4.53295934 4.54555089 4.55814245 4.570734   4.58332555 4.59591711\n",
      " 4.60850866 4.62110022 4.63369177 4.64628332 4.65887488 4.67146643\n",
      " 4.68405798 4.69664954 4.70924109 4.72183265 4.7344242  4.74701575\n",
      " 4.75960731 4.77219886 4.78479041 4.79738197 4.80997352 4.82256508\n",
      " 4.83515663 4.84774818 4.86033974 4.87293129 4.88552284 4.8981144\n",
      " 4.91070595 4.92329751 4.93588906 4.94848061 4.96107217 4.97366372\n",
      " 4.98625527 4.99884683 5.01143838 5.02402993 5.03662149 5.04921304\n",
      " 5.0618046  5.07439615 5.0869877  5.09957926 5.11217081 5.12476236\n",
      " 5.13735392 5.14994547 5.16253703 5.17512858 5.18772013 5.20031169\n",
      " 5.21290324 5.22549479 5.23808635 5.2506779  5.26326946 5.27586101\n",
      " 5.28845256 5.30104412 5.31363567 5.32622722 5.33881878 5.35141033\n",
      " 5.36400189 5.37659344 5.38918499 5.40177655 5.4143681  5.42695965\n",
      " 5.43955121 5.45214276 5.46473432 5.47732587 5.48991742 5.50250898\n",
      " 5.51510053 5.52769208 5.54028364 5.55287519 5.56546675 5.5780583\n",
      " 5.59064985 5.60324141 5.61583296 5.62842451 5.64101607 5.65360762\n",
      " 5.66619917 5.67879073 5.69138228 5.70397384 5.71656539 5.72915694\n",
      " 5.7417485  5.75434005 5.7669316  5.77952316 5.79211471 5.80470627\n",
      " 5.81729782 5.82988937 5.84248093 5.85507248 5.86766403 5.88025559\n",
      " 5.89284714 5.9054387  5.91803025 5.9306218  5.94321336 5.95580491\n",
      " 5.96839646 5.98098802 5.99357957 6.00617113 6.01876268 6.03135423\n",
      " 6.04394579 6.05653734 6.06912889 6.08172045 6.094312   6.10690356\n",
      " 6.11949511 6.13208666 6.14467822 6.15726977 6.16986132 6.18245288\n",
      " 6.19504443 6.20763598 6.22022754 6.23281909 6.24541065 6.2580022\n",
      " 6.27059375 6.28318531]\n",
      "[ 6  5 18 24  3 17 22  4 20  4 22  9 23  9  0 12  0 18  1  7 19 14  8 23\n",
      "  3 20  8  3  5 22 23  8 23 28 14  8 22  4 27 19 24  4 24  5  3 23  8 11\n",
      "  1 22 20 16  5 13 21  0  8  4 14  4  9 29 19 20  0 21 16  1 26 13 20 21\n",
      "  0 15  7 27 14  1 21  6 26 25 15  7  1 17 25  2  0 16  7  9 27 21 14  6\n",
      "  1 29  9 15]\n"
     ]
    }
   ],
   "source": [
    "a = np.linspace(0,np.pi*2,500)\n",
    "print(a)\n",
    "b = np.random.randint(0,30,100)\n",
    "print(b)"
   ]
  },
  {
   "cell_type": "code",
   "execution_count": 216,
   "id": "0c15b1cc",
   "metadata": {},
   "outputs": [
    {
     "data": {
      "text/plain": [
       "[<matplotlib.lines.Line2D at 0x1ff66cb9df0>]"
      ]
     },
     "execution_count": 216,
     "metadata": {},
     "output_type": "execute_result"
    },
    {
     "data": {
      "image/png": "[encoded data removed]",
      "text/plain": [
       "<Figure size 640x480 with 1 Axes>"
      ]
     },
     "metadata": {},
     "output_type": "display_data"
    }
   ],
   "source": [
    "plt.plot(a,np.sin(a))\n",
    "plt.plot(a,np.cos(a))"
   ]
  },
  {
   "cell_type": "code",
   "execution_count": 217,
   "id": "f1dc057d",
   "metadata": {},
   "outputs": [
    {
     "data": {
      "text/plain": [
       "(array([13., 14., 13.,  6.,  8.,  8., 10., 15.,  7.,  6.]),\n",
       " array([ 0. ,  2.9,  5.8,  8.7, 11.6, 14.5, 17.4, 20.3, 23.2, 26.1, 29. ]),\n",
       " <BarContainer object of 10 artists>)"
      ]
     },
     "execution_count": 217,
     "metadata": {},
     "output_type": "execute_result"
    },
    {
     "data": {
      "image/png": "[encoded data removed]",
      "text/plain": [
       "<Figure size 640x480 with 1 Axes>"
      ]
     },
     "metadata": {},
     "output_type": "display_data"
    }
   ],
   "source": [
    "plt.hist(b)"
   ]
  },
  {
   "cell_type": "code",
   "execution_count": 218,
   "id": "4b876398",
   "metadata": {},
   "outputs": [],
   "source": [
    "a = np.array([[-10,-8,-6],[-4,-2,0],[2,4,6],[8,10,12]])\n",
    "b = np.array([[-1,-2,-2,-2],[-2,-1,-2,-2],[-2,-2,-1,-2]])"
   ]
  },
  {
   "cell_type": "code",
   "execution_count": 219,
   "id": "a6f9cc4e",
   "metadata": {},
   "outputs": [
    {
     "data": {
      "text/plain": [
       "((4, 3), (3, 4))"
      ]
     },
     "execution_count": 219,
     "metadata": {},
     "output_type": "execute_result"
    }
   ],
   "source": [
    "a.shape , b.shape"
   ]
  },
  {
   "cell_type": "code",
   "execution_count": 221,
   "id": "3487bbda",
   "metadata": {},
   "outputs": [],
   "source": [
    "c = a@b"
   ]
  },
  {
   "cell_type": "code",
   "execution_count": 223,
   "id": "1f55279c",
   "metadata": {},
   "outputs": [],
   "source": [
    "d = c[:2,:2]"
   ]
  },
  {
   "cell_type": "code",
   "execution_count": 225,
   "id": "d45a1b40",
   "metadata": {},
   "outputs": [
    {
     "data": {
      "text/plain": [
       "array([[ 0.16666667, -0.13333333],\n",
       "       [-0.66666667,  0.63333333]])"
      ]
     },
     "execution_count": 225,
     "metadata": {},
     "output_type": "execute_result"
    }
   ],
   "source": [
    "np.linalg.inv(D.T)"
   ]
  },
  {
   "cell_type": "code",
   "execution_count": 226,
   "id": "dfd0b515",
   "metadata": {},
   "outputs": [],
   "source": [
    "a = np.random.randint(-100,100,300)\n",
    "b = np.random.randint(-100,100,300)"
   ]
  },
  {
   "cell_type": "code",
   "execution_count": 228,
   "id": "cebb4440",
   "metadata": {},
   "outputs": [
    {
     "data": {
      "text/plain": [
       "<matplotlib.collections.PathCollection at 0x1ff67ef32e0>"
      ]
     },
     "execution_count": 228,
     "metadata": {},
     "output_type": "execute_result"
    },
    {
     "data": {
      "image/png": "[encoded data removed]",
      "text/plain": [
       "<Figure size 640x480 with 1 Axes>"
      ]
     },
     "metadata": {},
     "output_type": "display_data"
    }
   ],
   "source": [
    "plt.scatter(a,b)"
   ]
  },
  {
   "cell_type": "code",
   "execution_count": null,
   "id": "5371593e",
   "metadata": {},
   "outputs": [],
   "source": []
  },
  {
   "cell_type": "code",
   "execution_count": null,
   "id": "af5883d9",
   "metadata": {},
   "outputs": [],
   "source": []
  },
  {
   "cell_type": "code",
   "execution_count": null,
   "id": "f8a2eb9b",
   "metadata": {},
   "outputs": [],
   "source": []
  },
  {
   "cell_type": "code",
   "execution_count": null,
   "id": "480efd9d",
   "metadata": {},
   "outputs": [],
   "source": []
  },
  {
   "cell_type": "code",
   "execution_count": null,
   "id": "f5ff07b8",
   "metadata": {},
   "outputs": [],
   "source": []
  },
  {
   "cell_type": "code",
   "execution_count": null,
   "id": "7580b5fd",
   "metadata": {},
   "outputs": [],
   "source": []
  }
 ],
 "metadata": {
  "kernelspec": {
   "display_name": "Python 3 (ipykernel)",
   "language": "python",
   "name": "python3"
  },
  "language_info": {
   "codemirror_mode": {
    "name": "ipython",
    "version": 3
   },
   "file_extension": ".py",
   "mimetype": "text/x-python",
   "name": "python",
   "nbconvert_exporter": "python",
   "pygments_lexer": "ipython3",
   "version": "3.9.13"
  }
 },
 "nbformat": 4,
 "nbformat_minor": 5
}
