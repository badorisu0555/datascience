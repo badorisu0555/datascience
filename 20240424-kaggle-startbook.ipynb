{
 "cells": [
  {
   "cell_type": "code",
   "execution_count": 1,
   "id": "f1e4d806",
   "metadata": {
    "execution": {
     "iopub.execute_input": "2024-05-16T14:32:54.335844Z",
     "iopub.status.busy": "2024-05-16T14:32:54.335445Z",
     "iopub.status.idle": "2024-05-16T14:32:57.755556Z",
     "shell.execute_reply": "2024-05-16T14:32:57.754649Z"
    },
    "papermill": {
     "duration": 3.436298,
     "end_time": "2024-05-16T14:32:57.758135",
     "exception": false,
     "start_time": "2024-05-16T14:32:54.321837",
     "status": "completed"
    },
    "tags": []
   },
   "outputs": [],
   "source": [
    "import pandas as pd\n",
    "import numpy as np\n",
    "import matplotlib.pyplot as plt\n",
    "import seaborn as sns\n",
    "from sklearn.linear_model import LogisticRegression\n",
    "from sklearn.preprocessing import StandardScaler\n",
    "from sklearn.model_selection import train_test_split\n",
    "from sklearn.ensemble import RandomForestClassifier\n",
    "from sklearn.metrics import accuracy_score\n",
    "import lightgbm as lgb\n",
    "from sklearn.model_selection import train_test_split\n",
    "import optuna\n",
    "from sklearn.metrics import log_loss\n",
    "from sklearn.pipeline import Pipeline,make_pipeline\n",
    "from sklearn.model_selection import GridSearchCV\n",
    "from sklearn.neighbors import KNeighborsClassifier\n",
    "from sklearn.svm import SVC\n",
    "from sklearn.metrics import log_loss\n",
    "\n",
    "import warnings\n",
    "warnings.simplefilter('ignore')\n",
    "#赤背景になっている警告を非表示に"
   ]
  },
  {
   "cell_type": "markdown",
   "id": "d2dce2f8",
   "metadata": {
    "papermill": {
     "duration": 0.011431,
     "end_time": "2024-05-16T14:32:57.781764",
     "exception": false,
     "start_time": "2024-05-16T14:32:57.770333",
     "status": "completed"
    },
    "tags": []
   },
   "source": [
    "Survivedが0→死んでる　1→生きている"
   ]
  },
  {
   "cell_type": "code",
   "execution_count": 2,
   "id": "eb5500f1",
   "metadata": {
    "execution": {
     "iopub.execute_input": "2024-05-16T14:32:57.808972Z",
     "iopub.status.busy": "2024-05-16T14:32:57.808253Z",
     "iopub.status.idle": "2024-05-16T14:32:57.846073Z",
     "shell.execute_reply": "2024-05-16T14:32:57.845118Z"
    },
    "papermill": {
     "duration": 0.054765,
     "end_time": "2024-05-16T14:32:57.848751",
     "exception": false,
     "start_time": "2024-05-16T14:32:57.793986",
     "status": "completed"
    },
    "tags": []
   },
   "outputs": [],
   "source": [
    "train_original = pd.read_csv(\"../input/titanic/train.csv\")\n",
    "test_original = pd.read_csv(\"../input/titanic/test.csv\")\n",
    "gender_submission = pd.read_csv(\"../input/titanic/gender_submission.csv\")\n",
    "train = train_original\n",
    "test = test_original\n",
    "y_train = train[\"Survived\"]\n",
    "\n",
    "data_origin=pd.concat([train,test])\n",
    "data_origin.index = np.arange(0,1309)"
   ]
  },
  {
   "cell_type": "code",
   "execution_count": 3,
   "id": "fe7d8969",
   "metadata": {
    "execution": {
     "iopub.execute_input": "2024-05-16T14:32:57.874611Z",
     "iopub.status.busy": "2024-05-16T14:32:57.874224Z",
     "iopub.status.idle": "2024-05-16T14:32:57.948170Z",
     "shell.execute_reply": "2024-05-16T14:32:57.947255Z"
    },
    "papermill": {
     "duration": 0.089726,
     "end_time": "2024-05-16T14:32:57.950455",
     "exception": false,
     "start_time": "2024-05-16T14:32:57.860729",
     "status": "completed"
    },
    "tags": []
   },
   "outputs": [
    {
     "data": {
      "text/html": [
       "<div>\n",
       "<style scoped>\n",
       "    .dataframe tbody tr th:only-of-type {\n",
       "        vertical-align: middle;\n",
       "    }\n",
       "\n",
       "    .dataframe tbody tr th {\n",
       "        vertical-align: top;\n",
       "    }\n",
       "\n",
       "    .dataframe thead th {\n",
       "        text-align: right;\n",
       "    }\n",
       "</style>\n",
       "<table border=\"1\" class=\"dataframe\">\n",
       "  <thead>\n",
       "    <tr style=\"text-align: right;\">\n",
       "      <th></th>\n",
       "      <th>PassengerId</th>\n",
       "      <th>Survived</th>\n",
       "      <th>Pclass</th>\n",
       "      <th>Name</th>\n",
       "      <th>Sex</th>\n",
       "      <th>Age</th>\n",
       "      <th>SibSp</th>\n",
       "      <th>Parch</th>\n",
       "      <th>Ticket</th>\n",
       "      <th>Fare</th>\n",
       "      <th>...</th>\n",
       "      <th>Cabin_E</th>\n",
       "      <th>Cabin_F</th>\n",
       "      <th>Cabin_G</th>\n",
       "      <th>Cabin_T</th>\n",
       "      <th>Cabin_u</th>\n",
       "      <th>familysize</th>\n",
       "      <th>Alone</th>\n",
       "      <th>Family_name</th>\n",
       "      <th>Sex2</th>\n",
       "      <th>Family_name_size</th>\n",
       "    </tr>\n",
       "  </thead>\n",
       "  <tbody>\n",
       "    <tr>\n",
       "      <th>0</th>\n",
       "      <td>1</td>\n",
       "      <td>0.0</td>\n",
       "      <td>3</td>\n",
       "      <td>Braund, Mr. Owen Harris</td>\n",
       "      <td>0</td>\n",
       "      <td>22.0</td>\n",
       "      <td>1</td>\n",
       "      <td>0</td>\n",
       "      <td>A/5 21171</td>\n",
       "      <td>7.2500</td>\n",
       "      <td>...</td>\n",
       "      <td>0</td>\n",
       "      <td>0</td>\n",
       "      <td>0</td>\n",
       "      <td>0</td>\n",
       "      <td>1</td>\n",
       "      <td>2</td>\n",
       "      <td>0</td>\n",
       "      <td>Braund</td>\n",
       "      <td>Mr</td>\n",
       "      <td>Braund2</td>\n",
       "    </tr>\n",
       "    <tr>\n",
       "      <th>1</th>\n",
       "      <td>2</td>\n",
       "      <td>1.0</td>\n",
       "      <td>1</td>\n",
       "      <td>Cumings, Mrs. John Bradley (Florence Briggs Th...</td>\n",
       "      <td>1</td>\n",
       "      <td>38.0</td>\n",
       "      <td>1</td>\n",
       "      <td>0</td>\n",
       "      <td>PC 17599</td>\n",
       "      <td>71.2833</td>\n",
       "      <td>...</td>\n",
       "      <td>0</td>\n",
       "      <td>0</td>\n",
       "      <td>0</td>\n",
       "      <td>0</td>\n",
       "      <td>0</td>\n",
       "      <td>2</td>\n",
       "      <td>0</td>\n",
       "      <td>Cumings</td>\n",
       "      <td>Mrs</td>\n",
       "      <td>Cumings2</td>\n",
       "    </tr>\n",
       "    <tr>\n",
       "      <th>2</th>\n",
       "      <td>3</td>\n",
       "      <td>1.0</td>\n",
       "      <td>3</td>\n",
       "      <td>Heikkinen, Miss. Laina</td>\n",
       "      <td>1</td>\n",
       "      <td>26.0</td>\n",
       "      <td>0</td>\n",
       "      <td>0</td>\n",
       "      <td>STON/O2. 3101282</td>\n",
       "      <td>7.9250</td>\n",
       "      <td>...</td>\n",
       "      <td>0</td>\n",
       "      <td>0</td>\n",
       "      <td>0</td>\n",
       "      <td>0</td>\n",
       "      <td>1</td>\n",
       "      <td>1</td>\n",
       "      <td>1</td>\n",
       "      <td>Heikkinen</td>\n",
       "      <td>Miss</td>\n",
       "      <td>Heikkinen1</td>\n",
       "    </tr>\n",
       "    <tr>\n",
       "      <th>3</th>\n",
       "      <td>4</td>\n",
       "      <td>1.0</td>\n",
       "      <td>1</td>\n",
       "      <td>Futrelle, Mrs. Jacques Heath (Lily May Peel)</td>\n",
       "      <td>1</td>\n",
       "      <td>35.0</td>\n",
       "      <td>1</td>\n",
       "      <td>0</td>\n",
       "      <td>113803</td>\n",
       "      <td>53.1000</td>\n",
       "      <td>...</td>\n",
       "      <td>0</td>\n",
       "      <td>0</td>\n",
       "      <td>0</td>\n",
       "      <td>0</td>\n",
       "      <td>0</td>\n",
       "      <td>2</td>\n",
       "      <td>0</td>\n",
       "      <td>Futrelle</td>\n",
       "      <td>Mrs</td>\n",
       "      <td>Futrelle2</td>\n",
       "    </tr>\n",
       "    <tr>\n",
       "      <th>4</th>\n",
       "      <td>5</td>\n",
       "      <td>0.0</td>\n",
       "      <td>3</td>\n",
       "      <td>Allen, Mr. William Henry</td>\n",
       "      <td>0</td>\n",
       "      <td>35.0</td>\n",
       "      <td>0</td>\n",
       "      <td>0</td>\n",
       "      <td>373450</td>\n",
       "      <td>8.0500</td>\n",
       "      <td>...</td>\n",
       "      <td>0</td>\n",
       "      <td>0</td>\n",
       "      <td>0</td>\n",
       "      <td>0</td>\n",
       "      <td>1</td>\n",
       "      <td>1</td>\n",
       "      <td>1</td>\n",
       "      <td>Allen</td>\n",
       "      <td>Mr</td>\n",
       "      <td>Allen1</td>\n",
       "    </tr>\n",
       "    <tr>\n",
       "      <th>...</th>\n",
       "      <td>...</td>\n",
       "      <td>...</td>\n",
       "      <td>...</td>\n",
       "      <td>...</td>\n",
       "      <td>...</td>\n",
       "      <td>...</td>\n",
       "      <td>...</td>\n",
       "      <td>...</td>\n",
       "      <td>...</td>\n",
       "      <td>...</td>\n",
       "      <td>...</td>\n",
       "      <td>...</td>\n",
       "      <td>...</td>\n",
       "      <td>...</td>\n",
       "      <td>...</td>\n",
       "      <td>...</td>\n",
       "      <td>...</td>\n",
       "      <td>...</td>\n",
       "      <td>...</td>\n",
       "      <td>...</td>\n",
       "      <td>...</td>\n",
       "    </tr>\n",
       "    <tr>\n",
       "      <th>1304</th>\n",
       "      <td>1305</td>\n",
       "      <td>NaN</td>\n",
       "      <td>3</td>\n",
       "      <td>Spector, Mr. Woolf</td>\n",
       "      <td>0</td>\n",
       "      <td>28.0</td>\n",
       "      <td>0</td>\n",
       "      <td>0</td>\n",
       "      <td>A.5. 3236</td>\n",
       "      <td>8.0500</td>\n",
       "      <td>...</td>\n",
       "      <td>0</td>\n",
       "      <td>0</td>\n",
       "      <td>0</td>\n",
       "      <td>0</td>\n",
       "      <td>1</td>\n",
       "      <td>1</td>\n",
       "      <td>1</td>\n",
       "      <td>Spector</td>\n",
       "      <td>Mr</td>\n",
       "      <td>Spector1</td>\n",
       "    </tr>\n",
       "    <tr>\n",
       "      <th>1305</th>\n",
       "      <td>1306</td>\n",
       "      <td>NaN</td>\n",
       "      <td>1</td>\n",
       "      <td>Oliva y Ocana, Dona. Fermina</td>\n",
       "      <td>1</td>\n",
       "      <td>39.0</td>\n",
       "      <td>0</td>\n",
       "      <td>0</td>\n",
       "      <td>PC 17758</td>\n",
       "      <td>108.9000</td>\n",
       "      <td>...</td>\n",
       "      <td>0</td>\n",
       "      <td>0</td>\n",
       "      <td>0</td>\n",
       "      <td>0</td>\n",
       "      <td>0</td>\n",
       "      <td>1</td>\n",
       "      <td>1</td>\n",
       "      <td>Oliva y Ocana</td>\n",
       "      <td>Dona</td>\n",
       "      <td>Oliva y Ocana1</td>\n",
       "    </tr>\n",
       "    <tr>\n",
       "      <th>1306</th>\n",
       "      <td>1307</td>\n",
       "      <td>NaN</td>\n",
       "      <td>3</td>\n",
       "      <td>Saether, Mr. Simon Sivertsen</td>\n",
       "      <td>0</td>\n",
       "      <td>38.5</td>\n",
       "      <td>0</td>\n",
       "      <td>0</td>\n",
       "      <td>SOTON/O.Q. 3101262</td>\n",
       "      <td>7.2500</td>\n",
       "      <td>...</td>\n",
       "      <td>0</td>\n",
       "      <td>0</td>\n",
       "      <td>0</td>\n",
       "      <td>0</td>\n",
       "      <td>1</td>\n",
       "      <td>1</td>\n",
       "      <td>1</td>\n",
       "      <td>Saether</td>\n",
       "      <td>Mr</td>\n",
       "      <td>Saether1</td>\n",
       "    </tr>\n",
       "    <tr>\n",
       "      <th>1307</th>\n",
       "      <td>1308</td>\n",
       "      <td>NaN</td>\n",
       "      <td>3</td>\n",
       "      <td>Ware, Mr. Frederick</td>\n",
       "      <td>0</td>\n",
       "      <td>28.0</td>\n",
       "      <td>0</td>\n",
       "      <td>0</td>\n",
       "      <td>359309</td>\n",
       "      <td>8.0500</td>\n",
       "      <td>...</td>\n",
       "      <td>0</td>\n",
       "      <td>0</td>\n",
       "      <td>0</td>\n",
       "      <td>0</td>\n",
       "      <td>1</td>\n",
       "      <td>1</td>\n",
       "      <td>1</td>\n",
       "      <td>Ware</td>\n",
       "      <td>Mr</td>\n",
       "      <td>Ware1</td>\n",
       "    </tr>\n",
       "    <tr>\n",
       "      <th>1308</th>\n",
       "      <td>1309</td>\n",
       "      <td>NaN</td>\n",
       "      <td>3</td>\n",
       "      <td>Peter, Master. Michael J</td>\n",
       "      <td>0</td>\n",
       "      <td>28.0</td>\n",
       "      <td>1</td>\n",
       "      <td>1</td>\n",
       "      <td>2668</td>\n",
       "      <td>22.3583</td>\n",
       "      <td>...</td>\n",
       "      <td>0</td>\n",
       "      <td>0</td>\n",
       "      <td>0</td>\n",
       "      <td>0</td>\n",
       "      <td>1</td>\n",
       "      <td>3</td>\n",
       "      <td>0</td>\n",
       "      <td>Peter</td>\n",
       "      <td>Master</td>\n",
       "      <td>Peter3</td>\n",
       "    </tr>\n",
       "  </tbody>\n",
       "</table>\n",
       "<p>1309 rows × 43 columns</p>\n",
       "</div>"
      ],
      "text/plain": [
       "      PassengerId  Survived  Pclass  \\\n",
       "0               1       0.0       3   \n",
       "1               2       1.0       1   \n",
       "2               3       1.0       3   \n",
       "3               4       1.0       1   \n",
       "4               5       0.0       3   \n",
       "...           ...       ...     ...   \n",
       "1304         1305       NaN       3   \n",
       "1305         1306       NaN       1   \n",
       "1306         1307       NaN       3   \n",
       "1307         1308       NaN       3   \n",
       "1308         1309       NaN       3   \n",
       "\n",
       "                                                   Name  Sex   Age  SibSp  \\\n",
       "0                               Braund, Mr. Owen Harris    0  22.0      1   \n",
       "1     Cumings, Mrs. John Bradley (Florence Briggs Th...    1  38.0      1   \n",
       "2                                Heikkinen, Miss. Laina    1  26.0      0   \n",
       "3          Futrelle, Mrs. Jacques Heath (Lily May Peel)    1  35.0      1   \n",
       "4                              Allen, Mr. William Henry    0  35.0      0   \n",
       "...                                                 ...  ...   ...    ...   \n",
       "1304                                 Spector, Mr. Woolf    0  28.0      0   \n",
       "1305                       Oliva y Ocana, Dona. Fermina    1  39.0      0   \n",
       "1306                       Saether, Mr. Simon Sivertsen    0  38.5      0   \n",
       "1307                                Ware, Mr. Frederick    0  28.0      0   \n",
       "1308                           Peter, Master. Michael J    0  28.0      1   \n",
       "\n",
       "      Parch              Ticket      Fare  ...  Cabin_E  Cabin_F  Cabin_G  \\\n",
       "0         0           A/5 21171    7.2500  ...        0        0        0   \n",
       "1         0            PC 17599   71.2833  ...        0        0        0   \n",
       "2         0    STON/O2. 3101282    7.9250  ...        0        0        0   \n",
       "3         0              113803   53.1000  ...        0        0        0   \n",
       "4         0              373450    8.0500  ...        0        0        0   \n",
       "...     ...                 ...       ...  ...      ...      ...      ...   \n",
       "1304      0           A.5. 3236    8.0500  ...        0        0        0   \n",
       "1305      0            PC 17758  108.9000  ...        0        0        0   \n",
       "1306      0  SOTON/O.Q. 3101262    7.2500  ...        0        0        0   \n",
       "1307      0              359309    8.0500  ...        0        0        0   \n",
       "1308      1                2668   22.3583  ...        0        0        0   \n",
       "\n",
       "      Cabin_T  Cabin_u  familysize  Alone    Family_name     Sex2  \\\n",
       "0           0        1           2      0         Braund       Mr   \n",
       "1           0        0           2      0        Cumings      Mrs   \n",
       "2           0        1           1      1      Heikkinen     Miss   \n",
       "3           0        0           2      0       Futrelle      Mrs   \n",
       "4           0        1           1      1          Allen       Mr   \n",
       "...       ...      ...         ...    ...            ...      ...   \n",
       "1304        0        1           1      1        Spector       Mr   \n",
       "1305        0        0           1      1  Oliva y Ocana     Dona   \n",
       "1306        0        1           1      1        Saether       Mr   \n",
       "1307        0        1           1      1           Ware       Mr   \n",
       "1308        0        1           3      0          Peter   Master   \n",
       "\n",
       "      Family_name_size  \n",
       "0              Braund2  \n",
       "1             Cumings2  \n",
       "2           Heikkinen1  \n",
       "3            Futrelle2  \n",
       "4               Allen1  \n",
       "...                ...  \n",
       "1304          Spector1  \n",
       "1305    Oliva y Ocana1  \n",
       "1306          Saether1  \n",
       "1307             Ware1  \n",
       "1308            Peter3  \n",
       "\n",
       "[1309 rows x 43 columns]"
      ]
     },
     "execution_count": 3,
     "metadata": {},
     "output_type": "execute_result"
    }
   ],
   "source": [
    "data = data_origin\n",
    "\n",
    "data[\"Sex\"] = data[\"Sex\"].replace([\"male\",\"female\"],[0,1])\n",
    "data[\"Embarked\"] = data[\"Embarked\"].fillna(\"S\")\n",
    "\n",
    "data_em = pd.get_dummies(data[[\"Embarked\"]],dtype=int)\n",
    "data = data.join(data_em)\n",
    "data = data.drop(\"Embarked\",axis=1)\n",
    "\n",
    "ticket_first =[]\n",
    "for ticket_name in data[\"Ticket\"]:\n",
    "    ticket_first.append(ticket_name[0])\n",
    "data[\"ticket_first\"] = ticket_first\n",
    "data_em = pd.get_dummies(data[[\"ticket_first\"]],dtype=int)\n",
    "data = data.join(data_em)\n",
    "data = data.drop(\"ticket_first\",axis=1)\n",
    "\n",
    "data[\"Cabin\"] =data[\"Cabin\"].fillna(\"unknown\")\n",
    "data[\"Cabin\"] = data[\"Cabin\"].str[0]\n",
    "data_em = pd.get_dummies(data[[\"Cabin\"]],dtype=int)\n",
    "data = data.join(data_em)\n",
    "data = data.drop(\"Cabin\",axis=1)\n",
    "\n",
    "data[\"Age\"] = data[\"Age\"].fillna(data[\"Age\"].median())\n",
    "data[\"Fare\"] = data[\"Fare\"].fillna(data[\"Fare\"].median())\n",
    "\n",
    "data[\"familysize\"] = data[\"Parch\"]+data[\"SibSp\"]+1\n",
    "data[\"Alone\"]=0\n",
    "data.loc[data[\"familysize\"]==1,\"Alone\"]=1\n",
    "\n",
    "familylist = data[\"Name\"].str.split(\",\").to_list()\n",
    "#〇〇,Mr(Miss/Dr).△△.××：〇〇は姓、△△は名、××はミドルネームを表す\n",
    "familymap = map(lambda x: x[0],familylist)\n",
    "data[\"Family_name\"] = list(familymap)\n",
    "\n",
    "sex_list_origin = map(lambda x: x[1],familylist)\n",
    "data[\"Sex2\"] = list(sex_list_origin)\n",
    "Sex2_list = data[\"Sex2\"].str.split(\".\").to_list()\n",
    "Sex2 = map(lambda x: x[0],Sex2_list)\n",
    "data[\"Sex2\"] = list(Sex2)\n",
    "data[\"Family_name_size\"] = data[\"Family_name\"].str.cat(data[\"familysize\"].astype(str))\n",
    "data"
   ]
  },
  {
   "cell_type": "code",
   "execution_count": 4,
   "id": "78c6c3de",
   "metadata": {
    "execution": {
     "iopub.execute_input": "2024-05-16T14:32:57.976712Z",
     "iopub.status.busy": "2024-05-16T14:32:57.976327Z",
     "iopub.status.idle": "2024-05-16T14:32:57.992331Z",
     "shell.execute_reply": "2024-05-16T14:32:57.991493Z"
    },
    "papermill": {
     "duration": 0.03178,
     "end_time": "2024-05-16T14:32:57.994494",
     "exception": false,
     "start_time": "2024-05-16T14:32:57.962714",
     "status": "completed"
    },
    "tags": []
   },
   "outputs": [],
   "source": [
    "data[[\"high-woman\",\"center-woman\",\"low-woman\"]]=1\n",
    "data[\"high-woman\"] = data[\"high-woman\"].where((data[\"Pclass\"]==1) & (data[\"Sex\"]==1),0)\n",
    "data[\"center-woman\"] = data[\"center-woman\"].where((data[\"Pclass\"]==2) & (data[\"Sex\"]==1),0)\n",
    "data[\"low-woman\"] = data[\"low-woman\"].where((data[\"Pclass\"]==3) & (data[\"Sex\"]==1),0)\n",
    "\n",
    "data[[\"high-man\",\"center-man\",\"low-man\"]]=1\n",
    "data[\"high-man\"] = data[\"high-man\"].where((data[\"Pclass\"]==1) & (data[\"Sex\"]==0),0)\n",
    "data[\"center-man\"] = data[\"center-man\"].where((data[\"Pclass\"]==2) & (data[\"Sex\"]==0),0)\n",
    "data[\"low-man\"] = data[\"low-man\"].where((data[\"Pclass\"]==3) & (data[\"Sex\"]==0),0)"
   ]
  },
  {
   "cell_type": "code",
   "execution_count": 5,
   "id": "24a6d1da",
   "metadata": {
    "execution": {
     "iopub.execute_input": "2024-05-16T14:32:58.020634Z",
     "iopub.status.busy": "2024-05-16T14:32:58.020249Z",
     "iopub.status.idle": "2024-05-16T14:32:58.039905Z",
     "shell.execute_reply": "2024-05-16T14:32:58.038940Z"
    },
    "papermill": {
     "duration": 0.035373,
     "end_time": "2024-05-16T14:32:58.042183",
     "exception": false,
     "start_time": "2024-05-16T14:32:58.006810",
     "status": "completed"
    },
    "tags": []
   },
   "outputs": [],
   "source": [
    "Ticket_Count = dict(data['Ticket'].value_counts())\n",
    "data['TicketGroup'] = data['Ticket'].apply(lambda x:Ticket_Count[x]) # グループの振り分け\n",
    "def Ticket_Label(s):\n",
    "    if (s >= 2) & (s <= 4): # 文字数での生存率が高いグループ\n",
    "        return 2\n",
    "    elif ((s > 4) & (s <= 8)) | (s == 1): # 文字数での生存率が低いグループ\n",
    "        return 1\n",
    "    elif (s > 8):\n",
    "        return 0\n",
    "\n",
    "data['TicketGroup'] = data['TicketGroup'].apply(Ticket_Label)\n",
    "data = data.drop(\"Ticket\",axis=1)"
   ]
  },
  {
   "cell_type": "code",
   "execution_count": 6,
   "id": "23d714de",
   "metadata": {
    "execution": {
     "iopub.execute_input": "2024-05-16T14:32:58.068995Z",
     "iopub.status.busy": "2024-05-16T14:32:58.068600Z",
     "iopub.status.idle": "2024-05-16T14:32:58.085028Z",
     "shell.execute_reply": "2024-05-16T14:32:58.083989Z"
    },
    "papermill": {
     "duration": 0.032341,
     "end_time": "2024-05-16T14:32:58.087206",
     "exception": false,
     "start_time": "2024-05-16T14:32:58.054865",
     "status": "completed"
    },
    "tags": []
   },
   "outputs": [
    {
     "data": {
      "text/plain": [
       "'\\ndata[\"unknown-group0\"] = data[\"unknown-group0\"].where((data[\"Cabin_u\"]==1) & (data[\"TicketGroup\"]==0),0)\\ndata[\"unknown-group2\"] = data[\"unknown-group2\"].where((data[\"Cabin_u\"]==1) & (data[\"TicketGroup\"]==2),0)\\ndata[\"unknown-group1\"] = data[\"unknown-group1\"].where((data[\"Cabin_u\"]==1) & (data[\"TicketGroup\"]==1),0)\\n'"
      ]
     },
     "execution_count": 6,
     "metadata": {},
     "output_type": "execute_result"
    }
   ],
   "source": [
    "data[[\"unknown-woman\",\"unknown-man\",\"unknown-high\",\"unknown-middle\",\"unknown-low\",\"unknown-group0\",\"unknown-group1\",\"unknown-group2\"]]=1\n",
    "\n",
    "data[\"unknown-high\"] = data[\"unknown-high\"].where((data[\"Cabin_u\"]==1) & (data[\"Pclass\"]==3),0)\n",
    "data[\"unknown-middle\"] = data[\"unknown-middle\"].where((data[\"Cabin_u\"]==1) & (data[\"Pclass\"]==2),0)\n",
    "data[\"unknown-low\"] = data[\"unknown-low\"].where((data[\"Cabin_u\"]==1) & (data[\"Pclass\"]==1),0)\n",
    "\"\"\"\n",
    "data[\"unknown-group0\"] = data[\"unknown-group0\"].where((data[\"Cabin_u\"]==1) & (data[\"TicketGroup\"]==0),0)\n",
    "data[\"unknown-group2\"] = data[\"unknown-group2\"].where((data[\"Cabin_u\"]==1) & (data[\"TicketGroup\"]==2),0)\n",
    "data[\"unknown-group1\"] = data[\"unknown-group1\"].where((data[\"Cabin_u\"]==1) & (data[\"TicketGroup\"]==1),0)\n",
    "\"\"\""
   ]
  },
  {
   "cell_type": "code",
   "execution_count": 7,
   "id": "a4252675",
   "metadata": {
    "execution": {
     "iopub.execute_input": "2024-05-16T14:32:58.113984Z",
     "iopub.status.busy": "2024-05-16T14:32:58.113623Z",
     "iopub.status.idle": "2024-05-16T14:32:58.156811Z",
     "shell.execute_reply": "2024-05-16T14:32:58.155543Z"
    },
    "papermill": {
     "duration": 0.059449,
     "end_time": "2024-05-16T14:32:58.159280",
     "exception": false,
     "start_time": "2024-05-16T14:32:58.099831",
     "status": "completed"
    },
    "tags": []
   },
   "outputs": [
    {
     "name": "stdout",
     "output_type": "stream",
     "text": [
      "Dead_List\n",
      "{'Turpin', 'Canavan', 'Johnston', 'Olsson', 'Rosblom', 'Vander Planke', 'Palsson', 'Van Impe', 'Ilmakangas', 'Attalah', 'Barbara', 'Sage', 'Lobb', 'Zabour', 'Oreskovic', 'Arnold-Franchi', 'Boulos', 'Lefebre', 'Rice', 'Goodwin', 'Bourke', 'Strom', 'Panula', 'Lahtinen', 'Caram', 'Cacic', 'Danbom', 'Skoog', 'Robins', 'Ford', 'Jussila'}\n",
      "Survived_List\n",
      "{'Duff Gordon', 'Dick', 'Harder', 'Beckwith', 'McCoy', 'Daly', 'Cardeza', 'Chambers', 'Goldenberg', 'Moubarek', 'Frolicher-Stehli', 'Frauenthal', 'Jonsson', 'Taylor', 'Kimball', 'Bradley', 'Bishop', 'Nakid', 'Greenfield', 'Jussila', 'Beane'}\n"
     ]
    }
   ],
   "source": [
    "# 苗字による特徴を調べる\n",
    "Surname_Count = dict(data['Family_name'].value_counts()) # 苗字の個数を数える\n",
    "data['Surname_Count'] = data['Family_name'].apply(lambda x:Surname_Count[x]) # 苗字の個数を代入\n",
    "\n",
    "# 苗字にダブりがある人を、女・子供のグループと、大人で男性のグループに分ける\n",
    "Female_Child_Group=data.loc[(data['Surname_Count']>=2) & ((data['Age']<=12) | (data['Sex']==1))]\n",
    "Male_Adult_Group=data.loc[(data['Surname_Count']>=2) & (data['Age']>12) & (data['Sex']==0)]\n",
    "\n",
    "# 女・子供グループにおける苗字ごとの生存率平均の個数を比較\n",
    "Female_Child_mean = Female_Child_Group.groupby('Family_name')['Survived'].mean() # 苗字ごとの生存率平均\n",
    "Female_Child_mean_count = pd.DataFrame(Female_Child_mean.value_counts()) # 苗字ごとの生存率平均の数\n",
    "Female_Child_mean_count.columns=['GroupCount']\n",
    "\n",
    "# 男（大人）グループにおける苗字ごとの生存率平均の個数を比較\n",
    "Male_Adult_mean = Male_Adult_Group.groupby('Family_name')['Survived'].mean() # 苗字ごとの生存率平均\n",
    "Male_Adult_mean_count = pd.DataFrame(Male_Adult_mean.value_counts()) # 苗字ごとの生存率平均の数\n",
    "Male_Adult_mean_count.columns=['GroupCount']\n",
    "\n",
    "Dead_List = set(Female_Child_mean[Female_Child_mean.apply(lambda x:x==0)].index)\n",
    "print(\"Dead_List\", Dead_List, sep=\"\\n\")\n",
    "Survived_List = set(Male_Adult_mean[Male_Adult_mean.apply(lambda x:x==1)].index)\n",
    "print(\"Survived_List\", Survived_List, sep=\"\\n\")\n",
    "\n",
    "train = data.loc[data['Survived'].notnull()]\n",
    "test = data.loc[data['Survived'].isnull()]\n",
    "\n",
    "# 女・子供グループで全員死亡した苗字の人→６０歳の男性、敬称はMrに。\n",
    "# 男（大人）グループで全員生存した苗字の人→５才の女性、敬称はMissに。\n",
    "test.loc[(test['Family_name'].apply(lambda x:x in Dead_List)),'Sex'] = 0\n",
    "test.loc[(test['Family_name'].apply(lambda x:x in Dead_List)),'Age'] = 60\n",
    "test.loc[(test['Family_name'].apply(lambda x:x in Dead_List)),'Sex2'] = 'Mr'\n",
    "test.loc[(test['Family_name'].apply(lambda x:x in Survived_List)),'Sex'] = 1\n",
    "test.loc[(test['Family_name'].apply(lambda x:x in Survived_List)),'Age'] = 5\n",
    "test.loc[(test['Family_name'].apply(lambda x:x in Survived_List)),'Sex2'] = 'Miss'\n",
    "\n",
    "# 再びデータを結合\n",
    "data = pd.concat([train, test])\n",
    "data = data.drop(\"Surname_Count\",axis=1)"
   ]
  },
  {
   "cell_type": "code",
   "execution_count": 8,
   "id": "4972f211",
   "metadata": {
    "execution": {
     "iopub.execute_input": "2024-05-16T14:32:58.186252Z",
     "iopub.status.busy": "2024-05-16T14:32:58.185902Z",
     "iopub.status.idle": "2024-05-16T14:32:58.192514Z",
     "shell.execute_reply": "2024-05-16T14:32:58.191547Z"
    },
    "papermill": {
     "duration": 0.022467,
     "end_time": "2024-05-16T14:32:58.194494",
     "exception": false,
     "start_time": "2024-05-16T14:32:58.172027",
     "status": "completed"
    },
    "tags": []
   },
   "outputs": [
    {
     "data": {
      "text/plain": [
       "'\\ndata[\"Family_name_size\"] = data[\"Family_name\"].str.cat(data[\"familysize\"].astype(str))\\nfami_count = data.groupby(\"Family_name_size\").count().iloc[:,0]\\nfami = (fami_count.loc[fami_count>1].index).to_list()\\ndata[\"Family_name_size\"] = data[\"Family_name_size\"].where(data[\"Family_name_size\"].isin(fami))\\n\\nsex_count = data.groupby(\"Sex2\").count().iloc[:,0]\\nsex2 = (sex_count.loc[sex_count>1].index).to_list()\\ndata[\"Sex2\"] = data[\"Sex2\"].where(data[\"Sex2\"].isin(sex2))\\ndata\\n'"
      ]
     },
     "execution_count": 8,
     "metadata": {},
     "output_type": "execute_result"
    }
   ],
   "source": [
    "\"\"\"\n",
    "data[\"Family_name_size\"] = data[\"Family_name\"].str.cat(data[\"familysize\"].astype(str))\n",
    "fami_count = data.groupby(\"Family_name_size\").count().iloc[:,0]\n",
    "fami = (fami_count.loc[fami_count>1].index).to_list()\n",
    "data[\"Family_name_size\"] = data[\"Family_name_size\"].where(data[\"Family_name_size\"].isin(fami))\n",
    "\n",
    "sex_count = data.groupby(\"Sex2\").count().iloc[:,0]\n",
    "sex2 = (sex_count.loc[sex_count>1].index).to_list()\n",
    "data[\"Sex2\"] = data[\"Sex2\"].where(data[\"Sex2\"].isin(sex2))\n",
    "data\n",
    "\"\"\""
   ]
  },
  {
   "cell_type": "code",
   "execution_count": 9,
   "id": "8d82ee03",
   "metadata": {
    "execution": {
     "iopub.execute_input": "2024-05-16T14:32:58.221156Z",
     "iopub.status.busy": "2024-05-16T14:32:58.220799Z",
     "iopub.status.idle": "2024-05-16T14:32:58.299466Z",
     "shell.execute_reply": "2024-05-16T14:32:58.298520Z"
    },
    "papermill": {
     "duration": 0.094896,
     "end_time": "2024-05-16T14:32:58.302025",
     "exception": false,
     "start_time": "2024-05-16T14:32:58.207129",
     "status": "completed"
    },
    "tags": []
   },
   "outputs": [
    {
     "data": {
      "text/html": [
       "<div>\n",
       "<style scoped>\n",
       "    .dataframe tbody tr th:only-of-type {\n",
       "        vertical-align: middle;\n",
       "    }\n",
       "\n",
       "    .dataframe tbody tr th {\n",
       "        vertical-align: top;\n",
       "    }\n",
       "\n",
       "    .dataframe thead th {\n",
       "        text-align: right;\n",
       "    }\n",
       "</style>\n",
       "<table border=\"1\" class=\"dataframe\">\n",
       "  <thead>\n",
       "    <tr style=\"text-align: right;\">\n",
       "      <th></th>\n",
       "      <th>Survived</th>\n",
       "      <th>Pclass</th>\n",
       "      <th>Sex</th>\n",
       "      <th>Age</th>\n",
       "      <th>SibSp</th>\n",
       "      <th>Parch</th>\n",
       "      <th>Fare</th>\n",
       "      <th>Embarked_C</th>\n",
       "      <th>Embarked_Q</th>\n",
       "      <th>Embarked_S</th>\n",
       "      <th>...</th>\n",
       "      <th>Family_name_size_de Messemaeker2</th>\n",
       "      <th>Family_name_size_de Mulder1</th>\n",
       "      <th>Family_name_size_de Pelsmaeker1</th>\n",
       "      <th>Family_name_size_del Carlo2</th>\n",
       "      <th>Family_name_size_van Billiard3</th>\n",
       "      <th>Family_name_size_van Melkebeke1</th>\n",
       "      <th>Sex2_ Mr</th>\n",
       "      <th>Sex2_ Mrs</th>\n",
       "      <th>Sex2_ Miss</th>\n",
       "      <th>Sex2_ Master</th>\n",
       "    </tr>\n",
       "  </thead>\n",
       "  <tbody>\n",
       "    <tr>\n",
       "      <th>0</th>\n",
       "      <td>0.0</td>\n",
       "      <td>0.841916</td>\n",
       "      <td>0</td>\n",
       "      <td>-0.586313</td>\n",
       "      <td>1</td>\n",
       "      <td>0</td>\n",
       "      <td>-0.503291</td>\n",
       "      <td>0</td>\n",
       "      <td>0</td>\n",
       "      <td>1</td>\n",
       "      <td>...</td>\n",
       "      <td>0</td>\n",
       "      <td>0</td>\n",
       "      <td>0</td>\n",
       "      <td>0</td>\n",
       "      <td>0</td>\n",
       "      <td>0</td>\n",
       "      <td>1</td>\n",
       "      <td>0</td>\n",
       "      <td>0</td>\n",
       "      <td>0</td>\n",
       "    </tr>\n",
       "    <tr>\n",
       "      <th>1</th>\n",
       "      <td>1.0</td>\n",
       "      <td>-1.546098</td>\n",
       "      <td>1</td>\n",
       "      <td>0.589926</td>\n",
       "      <td>1</td>\n",
       "      <td>0</td>\n",
       "      <td>0.734744</td>\n",
       "      <td>1</td>\n",
       "      <td>0</td>\n",
       "      <td>0</td>\n",
       "      <td>...</td>\n",
       "      <td>0</td>\n",
       "      <td>0</td>\n",
       "      <td>0</td>\n",
       "      <td>0</td>\n",
       "      <td>0</td>\n",
       "      <td>0</td>\n",
       "      <td>0</td>\n",
       "      <td>1</td>\n",
       "      <td>0</td>\n",
       "      <td>0</td>\n",
       "    </tr>\n",
       "    <tr>\n",
       "      <th>2</th>\n",
       "      <td>1.0</td>\n",
       "      <td>0.841916</td>\n",
       "      <td>1</td>\n",
       "      <td>-0.292254</td>\n",
       "      <td>0</td>\n",
       "      <td>0</td>\n",
       "      <td>-0.490240</td>\n",
       "      <td>0</td>\n",
       "      <td>0</td>\n",
       "      <td>1</td>\n",
       "      <td>...</td>\n",
       "      <td>0</td>\n",
       "      <td>0</td>\n",
       "      <td>0</td>\n",
       "      <td>0</td>\n",
       "      <td>0</td>\n",
       "      <td>0</td>\n",
       "      <td>0</td>\n",
       "      <td>0</td>\n",
       "      <td>1</td>\n",
       "      <td>0</td>\n",
       "    </tr>\n",
       "    <tr>\n",
       "      <th>3</th>\n",
       "      <td>1.0</td>\n",
       "      <td>-1.546098</td>\n",
       "      <td>1</td>\n",
       "      <td>0.369381</td>\n",
       "      <td>1</td>\n",
       "      <td>0</td>\n",
       "      <td>0.383183</td>\n",
       "      <td>0</td>\n",
       "      <td>0</td>\n",
       "      <td>1</td>\n",
       "      <td>...</td>\n",
       "      <td>0</td>\n",
       "      <td>0</td>\n",
       "      <td>0</td>\n",
       "      <td>0</td>\n",
       "      <td>0</td>\n",
       "      <td>0</td>\n",
       "      <td>0</td>\n",
       "      <td>1</td>\n",
       "      <td>0</td>\n",
       "      <td>0</td>\n",
       "    </tr>\n",
       "    <tr>\n",
       "      <th>4</th>\n",
       "      <td>0.0</td>\n",
       "      <td>0.841916</td>\n",
       "      <td>0</td>\n",
       "      <td>0.369381</td>\n",
       "      <td>0</td>\n",
       "      <td>0</td>\n",
       "      <td>-0.487824</td>\n",
       "      <td>0</td>\n",
       "      <td>0</td>\n",
       "      <td>1</td>\n",
       "      <td>...</td>\n",
       "      <td>0</td>\n",
       "      <td>0</td>\n",
       "      <td>0</td>\n",
       "      <td>0</td>\n",
       "      <td>0</td>\n",
       "      <td>0</td>\n",
       "      <td>1</td>\n",
       "      <td>0</td>\n",
       "      <td>0</td>\n",
       "      <td>0</td>\n",
       "    </tr>\n",
       "    <tr>\n",
       "      <th>...</th>\n",
       "      <td>...</td>\n",
       "      <td>...</td>\n",
       "      <td>...</td>\n",
       "      <td>...</td>\n",
       "      <td>...</td>\n",
       "      <td>...</td>\n",
       "      <td>...</td>\n",
       "      <td>...</td>\n",
       "      <td>...</td>\n",
       "      <td>...</td>\n",
       "      <td>...</td>\n",
       "      <td>...</td>\n",
       "      <td>...</td>\n",
       "      <td>...</td>\n",
       "      <td>...</td>\n",
       "      <td>...</td>\n",
       "      <td>...</td>\n",
       "      <td>...</td>\n",
       "      <td>...</td>\n",
       "      <td>...</td>\n",
       "      <td>...</td>\n",
       "    </tr>\n",
       "    <tr>\n",
       "      <th>1304</th>\n",
       "      <td>NaN</td>\n",
       "      <td>0.841916</td>\n",
       "      <td>0</td>\n",
       "      <td>-0.145224</td>\n",
       "      <td>0</td>\n",
       "      <td>0</td>\n",
       "      <td>-0.487824</td>\n",
       "      <td>0</td>\n",
       "      <td>0</td>\n",
       "      <td>1</td>\n",
       "      <td>...</td>\n",
       "      <td>0</td>\n",
       "      <td>0</td>\n",
       "      <td>0</td>\n",
       "      <td>0</td>\n",
       "      <td>0</td>\n",
       "      <td>0</td>\n",
       "      <td>1</td>\n",
       "      <td>0</td>\n",
       "      <td>0</td>\n",
       "      <td>0</td>\n",
       "    </tr>\n",
       "    <tr>\n",
       "      <th>1305</th>\n",
       "      <td>NaN</td>\n",
       "      <td>-1.546098</td>\n",
       "      <td>1</td>\n",
       "      <td>0.663441</td>\n",
       "      <td>0</td>\n",
       "      <td>0</td>\n",
       "      <td>1.462034</td>\n",
       "      <td>1</td>\n",
       "      <td>0</td>\n",
       "      <td>0</td>\n",
       "      <td>...</td>\n",
       "      <td>0</td>\n",
       "      <td>0</td>\n",
       "      <td>0</td>\n",
       "      <td>0</td>\n",
       "      <td>0</td>\n",
       "      <td>0</td>\n",
       "      <td>0</td>\n",
       "      <td>0</td>\n",
       "      <td>0</td>\n",
       "      <td>0</td>\n",
       "    </tr>\n",
       "    <tr>\n",
       "      <th>1306</th>\n",
       "      <td>NaN</td>\n",
       "      <td>0.841916</td>\n",
       "      <td>0</td>\n",
       "      <td>0.626683</td>\n",
       "      <td>0</td>\n",
       "      <td>0</td>\n",
       "      <td>-0.503291</td>\n",
       "      <td>0</td>\n",
       "      <td>0</td>\n",
       "      <td>1</td>\n",
       "      <td>...</td>\n",
       "      <td>0</td>\n",
       "      <td>0</td>\n",
       "      <td>0</td>\n",
       "      <td>0</td>\n",
       "      <td>0</td>\n",
       "      <td>0</td>\n",
       "      <td>1</td>\n",
       "      <td>0</td>\n",
       "      <td>0</td>\n",
       "      <td>0</td>\n",
       "    </tr>\n",
       "    <tr>\n",
       "      <th>1307</th>\n",
       "      <td>NaN</td>\n",
       "      <td>0.841916</td>\n",
       "      <td>0</td>\n",
       "      <td>-0.145224</td>\n",
       "      <td>0</td>\n",
       "      <td>0</td>\n",
       "      <td>-0.487824</td>\n",
       "      <td>0</td>\n",
       "      <td>0</td>\n",
       "      <td>1</td>\n",
       "      <td>...</td>\n",
       "      <td>0</td>\n",
       "      <td>0</td>\n",
       "      <td>0</td>\n",
       "      <td>0</td>\n",
       "      <td>0</td>\n",
       "      <td>0</td>\n",
       "      <td>1</td>\n",
       "      <td>0</td>\n",
       "      <td>0</td>\n",
       "      <td>0</td>\n",
       "    </tr>\n",
       "    <tr>\n",
       "      <th>1308</th>\n",
       "      <td>NaN</td>\n",
       "      <td>0.841916</td>\n",
       "      <td>0</td>\n",
       "      <td>-0.145224</td>\n",
       "      <td>1</td>\n",
       "      <td>1</td>\n",
       "      <td>-0.211184</td>\n",
       "      <td>1</td>\n",
       "      <td>0</td>\n",
       "      <td>0</td>\n",
       "      <td>...</td>\n",
       "      <td>0</td>\n",
       "      <td>0</td>\n",
       "      <td>0</td>\n",
       "      <td>0</td>\n",
       "      <td>0</td>\n",
       "      <td>0</td>\n",
       "      <td>0</td>\n",
       "      <td>0</td>\n",
       "      <td>0</td>\n",
       "      <td>1</td>\n",
       "    </tr>\n",
       "  </tbody>\n",
       "</table>\n",
       "<p>1309 rows × 972 columns</p>\n",
       "</div>"
      ],
      "text/plain": [
       "      Survived    Pclass  Sex       Age  SibSp  Parch      Fare  Embarked_C  \\\n",
       "0          0.0  0.841916    0 -0.586313      1      0 -0.503291           0   \n",
       "1          1.0 -1.546098    1  0.589926      1      0  0.734744           1   \n",
       "2          1.0  0.841916    1 -0.292254      0      0 -0.490240           0   \n",
       "3          1.0 -1.546098    1  0.369381      1      0  0.383183           0   \n",
       "4          0.0  0.841916    0  0.369381      0      0 -0.487824           0   \n",
       "...        ...       ...  ...       ...    ...    ...       ...         ...   \n",
       "1304       NaN  0.841916    0 -0.145224      0      0 -0.487824           0   \n",
       "1305       NaN -1.546098    1  0.663441      0      0  1.462034           1   \n",
       "1306       NaN  0.841916    0  0.626683      0      0 -0.503291           0   \n",
       "1307       NaN  0.841916    0 -0.145224      0      0 -0.487824           0   \n",
       "1308       NaN  0.841916    0 -0.145224      1      1 -0.211184           1   \n",
       "\n",
       "      Embarked_Q  Embarked_S  ...  Family_name_size_de Messemaeker2  \\\n",
       "0              0           1  ...                                 0   \n",
       "1              0           0  ...                                 0   \n",
       "2              0           1  ...                                 0   \n",
       "3              0           1  ...                                 0   \n",
       "4              0           1  ...                                 0   \n",
       "...          ...         ...  ...                               ...   \n",
       "1304           0           1  ...                                 0   \n",
       "1305           0           0  ...                                 0   \n",
       "1306           0           1  ...                                 0   \n",
       "1307           0           1  ...                                 0   \n",
       "1308           0           0  ...                                 0   \n",
       "\n",
       "      Family_name_size_de Mulder1  Family_name_size_de Pelsmaeker1  \\\n",
       "0                               0                                0   \n",
       "1                               0                                0   \n",
       "2                               0                                0   \n",
       "3                               0                                0   \n",
       "4                               0                                0   \n",
       "...                           ...                              ...   \n",
       "1304                            0                                0   \n",
       "1305                            0                                0   \n",
       "1306                            0                                0   \n",
       "1307                            0                                0   \n",
       "1308                            0                                0   \n",
       "\n",
       "      Family_name_size_del Carlo2  Family_name_size_van Billiard3  \\\n",
       "0                               0                               0   \n",
       "1                               0                               0   \n",
       "2                               0                               0   \n",
       "3                               0                               0   \n",
       "4                               0                               0   \n",
       "...                           ...                             ...   \n",
       "1304                            0                               0   \n",
       "1305                            0                               0   \n",
       "1306                            0                               0   \n",
       "1307                            0                               0   \n",
       "1308                            0                               0   \n",
       "\n",
       "      Family_name_size_van Melkebeke1  Sex2_ Mr  Sex2_ Mrs  Sex2_ Miss  \\\n",
       "0                                   0         1          0           0   \n",
       "1                                   0         0          1           0   \n",
       "2                                   0         0          0           1   \n",
       "3                                   0         0          1           0   \n",
       "4                                   0         1          0           0   \n",
       "...                               ...       ...        ...         ...   \n",
       "1304                                0         1          0           0   \n",
       "1305                                0         0          0           0   \n",
       "1306                                0         1          0           0   \n",
       "1307                                0         1          0           0   \n",
       "1308                                0         0          0           0   \n",
       "\n",
       "      Sex2_ Master  \n",
       "0                0  \n",
       "1                0  \n",
       "2                0  \n",
       "3                0  \n",
       "4                0  \n",
       "...            ...  \n",
       "1304             0  \n",
       "1305             0  \n",
       "1306             0  \n",
       "1307             0  \n",
       "1308             1  \n",
       "\n",
       "[1309 rows x 972 columns]"
      ]
     },
     "execution_count": 9,
     "metadata": {},
     "output_type": "execute_result"
    }
   ],
   "source": [
    "sc = StandardScaler()\n",
    "sc.fit(data[[\"Age\",\"Fare\",\"familysize\",\"Pclass\"]])\n",
    "data_std = sc.transform(data[[\"Age\",\"Fare\",\"familysize\",\"Pclass\"]])\n",
    "data[[\"Age\",\"Fare\",\"familysize\",\"Pclass\"]] = pd.DataFrame(data_std)\n",
    "\n",
    "dummy_fam = pd.get_dummies(data[[\"Family_name_size\"]],dtype=int)\n",
    "data = data.join(dummy_fam)\n",
    "dummy_sex2 = pd.get_dummies(data[[\"Sex2\"]],dtype=int)\n",
    "data = data.join(dummy_sex2[[\"Sex2_ Mr\",\"Sex2_ Mrs\",\"Sex2_ Miss\",\"Sex2_ Master\"]])\n",
    "\n",
    "drop_col = [\"PassengerId\",\"Name\",'ticket_first_2',\n",
    "        'ticket_first_4', 'ticket_first_6', 'ticket_first_7',\n",
    "       'ticket_first_9', 'ticket_first_A', 'ticket_first_C', 'ticket_first_F',\n",
    "       'ticket_first_L', 'ticket_first_S', 'ticket_first_W',\"Sex2\",\"Family_name\",\"Family_name_size\",\"familysize\",\"Sex2\"]\n",
    "\n",
    "data = data.drop(drop_col,axis=1)\n",
    "data"
   ]
  },
  {
   "cell_type": "code",
   "execution_count": 10,
   "id": "c2226475",
   "metadata": {
    "execution": {
     "iopub.execute_input": "2024-05-16T14:32:58.329731Z",
     "iopub.status.busy": "2024-05-16T14:32:58.329212Z",
     "iopub.status.idle": "2024-05-16T14:33:01.635576Z",
     "shell.execute_reply": "2024-05-16T14:33:01.634567Z"
    },
    "papermill": {
     "duration": 3.322825,
     "end_time": "2024-05-16T14:33:01.638007",
     "exception": false,
     "start_time": "2024-05-16T14:32:58.315182",
     "status": "completed"
    },
    "tags": []
   },
   "outputs": [],
   "source": [
    "sur = data.corr()[\"Survived\"].abs()\n",
    "del_i = sur.loc[sur.sort_values()<0.02]\n",
    "del_i = del_i.index\n",
    "data = data.drop(del_i,axis=1)"
   ]
  },
  {
   "cell_type": "code",
   "execution_count": 11,
   "id": "d6e5281e",
   "metadata": {
    "execution": {
     "iopub.execute_input": "2024-05-16T14:33:01.666237Z",
     "iopub.status.busy": "2024-05-16T14:33:01.665858Z",
     "iopub.status.idle": "2024-05-16T14:33:01.680947Z",
     "shell.execute_reply": "2024-05-16T14:33:01.679977Z"
    },
    "papermill": {
     "duration": 0.031841,
     "end_time": "2024-05-16T14:33:01.683267",
     "exception": false,
     "start_time": "2024-05-16T14:33:01.651426",
     "status": "completed"
    },
    "tags": []
   },
   "outputs": [],
   "source": [
    "x_train = data.loc[data[\"Survived\"].notna()]\n",
    "x_train = x_train.drop(\"Survived\",axis=1)\n",
    "x_test = data.loc[data[\"Survived\"].isna()]\n",
    "x_test = x_test.drop(\"Survived\",axis=1)"
   ]
  },
  {
   "cell_type": "code",
   "execution_count": 12,
   "id": "355ecc43",
   "metadata": {
    "execution": {
     "iopub.execute_input": "2024-05-16T14:33:01.720869Z",
     "iopub.status.busy": "2024-05-16T14:33:01.720381Z",
     "iopub.status.idle": "2024-05-16T14:33:02.608342Z",
     "shell.execute_reply": "2024-05-16T14:33:02.606811Z"
    },
    "papermill": {
     "duration": 0.909925,
     "end_time": "2024-05-16T14:33:02.610718",
     "exception": false,
     "start_time": "2024-05-16T14:33:01.700793",
     "status": "completed"
    },
    "tags": []
   },
   "outputs": [
    {
     "name": "stdout",
     "output_type": "stream",
     "text": [
      "Training until validation scores don't improve for 100 rounds\n",
      "[100]\ttrain's binary_logloss: 0.137892\tvalid's binary_logloss: 0.409503\n",
      "Early stopping, best iteration is:\n",
      "[41]\ttrain's binary_logloss: 0.244301\tvalid's binary_logloss: 0.383733\n",
      "0.8268156424581006\n",
      "[0 0 0 0 0 0 1 0 1 0 0 0 1 0 1 1 0 0 0 0 0 1 1 0 1 0 1 0 1 0 0 0 0 0 0 0 0\n",
      " 0 0 0 0 1 0 1 1 0 0 0 1 0 0 0 1 1 0 0 0 0 0 1 0 0 0 1 1 1 1 0 0 1 1 0 0 0\n",
      " 1 1 0 1 0 1 0 0 0 0 0 0 1 1 1 1 0 0 1 0 0 0 1 0 1 0 1 0 0 0 1 0 0 0 0 0 0\n",
      " 1 1 1 1 0 0 1 1 1 1 0 1 0 0 0 0 1 0 0 0 1 0 0 0 0 0 0 0 0 0 1 0 0 1 0 0 0\n",
      " 1 0 1 0 0 0 0 0 1 1 1 0 1 1 1 0 0 0 0 0 1 0 0 0 0 0 0 1 1 0 1 1 0 1 1 0 1\n",
      " 0 1 0 0 0 0 0 1 0 1 0 1 1 0 0 1 0 1 1 0 0 1 0 1 0 0 0 0 1 0 0 1 0 1 0 1 0\n",
      " 1 0 1 1 0 1 0 0 0 1 0 0 0 0 0 0 1 1 1 1 1 0 0 0 1 0 1 0 1 0 1 0 0 0 0 0 1\n",
      " 0 0 0 1 1 0 0 0 0 0 0 0 0 1 1 0 1 0 0 0 0 0 1 1 0 0 0 0 0 0 0 0 1 0 1 0 0\n",
      " 1 0 0 0 0 0 0 0 1 1 0 1 0 0 0 0 0 1 1 1 0 0 1 0 0 0 0 1 1 0 1 0 0 0 1 0 0\n",
      " 1 0 0 0 0 0 1 0 0 0 1 0 1 0 1 0 1 1 0 0 0 1 0 1 0 0 0 0 1 1 0 1 0 0 0 1 0\n",
      " 0 1 0 0 1 1 0 0 0 0 0 0 0 0 0 1 0 0 0 0 0 1 1 0 0 1 0 1 0 0 1 0 1 0 1 0 0\n",
      " 0 1 1 1 1 0 0 1 0 0 1]\n"
     ]
    }
   ],
   "source": [
    "\n",
    "#categorical featureなし\n",
    "\n",
    "df_submit = pd.DataFrame()\n",
    "df_submit.to_csv(\"/kaggle/working/submission.csv\",index=False)\n",
    "\n",
    "x_train_lgb, x_valid_lgb, y_train_lgb, y_valid_lgb = train_test_split(x_train, y_train, test_size=0.2, random_state=0)\n",
    "#traintestsplitで2対8の割合で分割をする。\n",
    "\n",
    "params = {'objective': 'binary',\n",
    "          'metric': 'binary_logloss',\n",
    "          'boosting': 'gbdt',\n",
    "          'verbosity': -1,\n",
    "          'random_state': 1}\n",
    "\n",
    "\n",
    "lgb_train = lgb.Dataset(x_train_lgb,y_train_lgb)\n",
    "lgb_valid = lgb.Dataset(x_valid_lgb,y_valid_lgb)\n",
    "\n",
    "gbm=lgb.train(\n",
    "    params,\n",
    "    lgb_train,\n",
    "    valid_sets=[lgb_train, lgb_valid],\n",
    "    valid_names=['train', 'valid'],\n",
    "    num_boost_round=1000,\n",
    "    callbacks=[lgb.early_stopping(100),lgb.log_evaluation(period=100)])\n",
    "\n",
    "y_prob = gbm.predict(x_valid_lgb)\n",
    "y_pred = np.round(y_prob)\n",
    "print(accuracy_score(y_valid_lgb, y_pred))\n",
    "\n",
    "submit = gbm.predict(x_test)\n",
    "submit = np.round(submit)\n",
    "\n",
    "submit = submit.astype(int)\n",
    "print(submit)\n",
    "gender_submission[\"Survived\"]=submit\n",
    "df_submit = gender_submission\n",
    "df_submit.to_csv(\"/kaggle/working/submission.csv\",index=False)\n",
    "#df_submit.to_csv(\"/kaggle/working/0516lgb.csv\",index=False)\n",
    "\n",
    "#0.79425：categorical featureなし（onehotあり） / optunaなし\n",
    "#┗0.77033：名前の特徴量を追加。mr/missと家族の名前\n",
    "#0.78974：categorical featureあり（onehotなし） / optunaなし\n",
    "#0.77751：categorical featureなし（onehotあり） / optunaあり\n",
    "#┗0.76794：名前の特徴量を追加。mr/missと家族の名前\n",
    "#┗0.76794：名前+familysizeで家族の特徴量を追加\n",
    "#┗0.78229：Surivivedとの相関が低い（0.02以下）の列を減らした。\n"
   ]
  },
  {
   "cell_type": "code",
   "execution_count": 13,
   "id": "8e2177b7",
   "metadata": {
    "execution": {
     "iopub.execute_input": "2024-05-16T14:33:02.641384Z",
     "iopub.status.busy": "2024-05-16T14:33:02.640650Z",
     "iopub.status.idle": "2024-05-16T14:33:02.651183Z",
     "shell.execute_reply": "2024-05-16T14:33:02.650222Z"
    },
    "papermill": {
     "duration": 0.027861,
     "end_time": "2024-05-16T14:33:02.653285",
     "exception": false,
     "start_time": "2024-05-16T14:33:02.625424",
     "status": "completed"
    },
    "tags": []
   },
   "outputs": [
    {
     "data": {
      "text/plain": [
       "'\\ntrain = train_original\\n\\ntrain[\"Sex\"] = train[\"Sex\"].replace([\"male\",\"female\"],[0,1])\\ntrain[\"Embarked\"] = train[\"Embarked\"].fillna(\"S\")\\n\\ntrain_em = pd.get_dummies(train[[\"Embarked\"]],dtype=int)\\ntrain = train.join(train_em)\\ntrain = train.drop(\"Embarked\",axis=1)\\n\\nticket_first =[]\\nfor ticket_name in train[\"Ticket\"]:\\n    ticket_first.append(ticket_name[0])\\ntrain[\"ticket_first\"] = ticket_first\\ntrain_em = pd.get_dummies(train[[\"ticket_first\"]],dtype=int)\\ntrain = train.join(train_em)\\ntrain = train.drop(\"ticket_first\",axis=1)\\ntrain = train.drop(\"Ticket\",axis=1)\\n\\ntrain[\"Cabin\"] =train[\"Cabin\"].fillna(\"unknown\")\\ntrain[\"Cabin\"] = train[\"Cabin\"].str[0]\\ntrain_em = pd.get_dummies(train[[\"Cabin\"]],dtype=int)\\ntrain = train.join(train_em)\\ntrain = train.drop(\"Cabin\",axis=1)\\n\\nx_train = train\\nx_train[\"Age\"] = x_train[\"Age\"].fillna(x_train[\"Age\"].median())\\n\\nx_train[\"familysize\"] = x_train[\"Parch\"]+x_train[\"SibSp\"]+1\\nx_train[\"Alone\"]=0\\nx_train.loc[x_train[\"familysize\"]==1,\"Alone\"]=1\\n\\nsc = StandardScaler()\\nsc.fit(x_train[[\"Age\",\"Fare\",\"familysize\",\"Pclass\"]])\\ntrain_std = sc.transform(x_train[[\"Age\",\"Fare\",\"familysize\",\"Pclass\"]])\\nx_train[[\"Age\",\"Fare\",\"familysize\",\"Pclass\"]] = pd.DataFrame(train_std)\\n\\nfamilylist = x_train[\"Name\"].str.split(\",\").to_list()\\n#〇〇,Mr(Miss/Dr).△△.××：〇〇は姓、△△は名、××はミドルネームを表す\\nfamilymap = map(lambda x: x[0],familylist)\\nx_train[\"Family_name\"] = list(familymap)\\n\\nsex_list_origin = map(lambda x: x[1],familylist)\\nx_train[\"Sex2\"] = list(sex_list_origin)\\nSex2_list = x_train[\"Sex2\"].str.split(\".\").to_list()\\nSex2 = map(lambda x: x[0],Sex2_list)\\nx_train[\"Sex2\"] = list(Sex2)\\n\\ndummy_fam = pd.get_dummies(x_train[[\"Family_name\"]],dtype=int)\\nx_train = x_train.join(dummy_fam)\\n\\ndummy_sex2 = pd.get_dummies(x_train[[\"Sex2\"]],dtype=int)\\nx_train = x_train.join(dummy_sex2)\\n'"
      ]
     },
     "execution_count": 13,
     "metadata": {},
     "output_type": "execute_result"
    }
   ],
   "source": [
    "\n",
    "\"\"\"\n",
    "train = train_original\n",
    "\n",
    "train[\"Sex\"] = train[\"Sex\"].replace([\"male\",\"female\"],[0,1])\n",
    "train[\"Embarked\"] = train[\"Embarked\"].fillna(\"S\")\n",
    "\n",
    "train_em = pd.get_dummies(train[[\"Embarked\"]],dtype=int)\n",
    "train = train.join(train_em)\n",
    "train = train.drop(\"Embarked\",axis=1)\n",
    "\n",
    "ticket_first =[]\n",
    "for ticket_name in train[\"Ticket\"]:\n",
    "    ticket_first.append(ticket_name[0])\n",
    "train[\"ticket_first\"] = ticket_first\n",
    "train_em = pd.get_dummies(train[[\"ticket_first\"]],dtype=int)\n",
    "train = train.join(train_em)\n",
    "train = train.drop(\"ticket_first\",axis=1)\n",
    "train = train.drop(\"Ticket\",axis=1)\n",
    "\n",
    "train[\"Cabin\"] =train[\"Cabin\"].fillna(\"unknown\")\n",
    "train[\"Cabin\"] = train[\"Cabin\"].str[0]\n",
    "train_em = pd.get_dummies(train[[\"Cabin\"]],dtype=int)\n",
    "train = train.join(train_em)\n",
    "train = train.drop(\"Cabin\",axis=1)\n",
    "\n",
    "x_train = train\n",
    "x_train[\"Age\"] = x_train[\"Age\"].fillna(x_train[\"Age\"].median())\n",
    "\n",
    "x_train[\"familysize\"] = x_train[\"Parch\"]+x_train[\"SibSp\"]+1\n",
    "x_train[\"Alone\"]=0\n",
    "x_train.loc[x_train[\"familysize\"]==1,\"Alone\"]=1\n",
    "\n",
    "sc = StandardScaler()\n",
    "sc.fit(x_train[[\"Age\",\"Fare\",\"familysize\",\"Pclass\"]])\n",
    "train_std = sc.transform(x_train[[\"Age\",\"Fare\",\"familysize\",\"Pclass\"]])\n",
    "x_train[[\"Age\",\"Fare\",\"familysize\",\"Pclass\"]] = pd.DataFrame(train_std)\n",
    "\n",
    "familylist = x_train[\"Name\"].str.split(\",\").to_list()\n",
    "#〇〇,Mr(Miss/Dr).△△.××：〇〇は姓、△△は名、××はミドルネームを表す\n",
    "familymap = map(lambda x: x[0],familylist)\n",
    "x_train[\"Family_name\"] = list(familymap)\n",
    "\n",
    "sex_list_origin = map(lambda x: x[1],familylist)\n",
    "x_train[\"Sex2\"] = list(sex_list_origin)\n",
    "Sex2_list = x_train[\"Sex2\"].str.split(\".\").to_list()\n",
    "Sex2 = map(lambda x: x[0],Sex2_list)\n",
    "x_train[\"Sex2\"] = list(Sex2)\n",
    "\n",
    "dummy_fam = pd.get_dummies(x_train[[\"Family_name\"]],dtype=int)\n",
    "x_train = x_train.join(dummy_fam)\n",
    "\n",
    "dummy_sex2 = pd.get_dummies(x_train[[\"Sex2\"]],dtype=int)\n",
    "x_train = x_train.join(dummy_sex2)\n",
    "\"\"\""
   ]
  },
  {
   "cell_type": "code",
   "execution_count": 14,
   "id": "69fbbf91",
   "metadata": {
    "execution": {
     "iopub.execute_input": "2024-05-16T14:33:02.684467Z",
     "iopub.status.busy": "2024-05-16T14:33:02.683755Z",
     "iopub.status.idle": "2024-05-16T14:33:02.694097Z",
     "shell.execute_reply": "2024-05-16T14:33:02.693181Z"
    },
    "papermill": {
     "duration": 0.029176,
     "end_time": "2024-05-16T14:33:02.696154",
     "exception": false,
     "start_time": "2024-05-16T14:33:02.666978",
     "status": "completed"
    },
    "tags": []
   },
   "outputs": [
    {
     "data": {
      "text/plain": [
       "'\\ntest = test_original\\n\\ntest[\"Sex\"] = test[\"Sex\"].replace([\"male\",\"female\"],[0,1])\\ntest[\"Embarked\"] = test[\"Embarked\"].fillna(\"S\")\\n\\ntest_em = pd.get_dummies(test[[\"Embarked\"]],dtype=int)\\ntest = test.join(test_em)\\ntest = test.drop(\"Embarked\",axis=1)\\n\\nticket_first =[]\\nfor ticket_name in test[\"Ticket\"]:\\n    ticket_first.append(ticket_name[0])\\ntest[\"ticket_first\"] = ticket_first\\ntest_em = pd.get_dummies(test[[\"ticket_first\"]],dtype=int)\\ntest = test.join(test_em)\\ntest = test.drop(\"ticket_first\",axis=1)\\ntest = test.drop(\"Ticket\",axis=1)\\n\\ntest[\"Cabin\"] =test[\"Cabin\"].fillna(\"unknown\")\\ntest[\"Cabin\"] = test[\"Cabin\"].str[0]\\ntest_em = pd.get_dummies(test[[\"Cabin\"]],dtype=int)\\ntest = test.join(test_em)\\ntest = test.drop(\"Cabin\",axis=1)\\n\\nx_test = test\\nx_test[\"Age\"] = x_test[\"Age\"].fillna(x_test[\"Age\"].mean())\\nx_test[\"Fare\"] = x_test[\"Fare\"].fillna(x_test[\"Fare\"].median())\\n\\nx_test[\"familysize\"] = x_test[\"Parch\"]+x_test[\"SibSp\"]+1\\nx_test[\"Alone\"]=0\\nx_test.loc[x_test[\"familysize\"]==1,\"Alone\"]=1\\n\\nsc.fit(x_test[[\"Age\",\"Fare\",\"familysize\",\"Pclass\"]])\\ntest_std = sc.transform(x_test[[\"Age\",\"Fare\",\"familysize\",\"Pclass\"]])\\nx_test[[\"Age\",\"Fare\",\"familysize\",\"Pclass\"]] = pd.DataFrame(test_std)\\n\\nfamilylist = x_test[\"Name\"].str.split(\",\").to_list()\\n#〇〇,Mr(Miss/Dr).△△.××：〇〇は姓、△△は名、××はミドルネームを表す\\nfamilymap = map(lambda x: x[0],familylist)\\nx_test[\"Family_name\"] = list(familymap)\\n\\nsex_list_origin = map(lambda x: x[1],familylist)\\nx_test[\"Sex2\"] = list(sex_list_origin)\\nSex2_list = x_test[\"Sex2\"].str.split(\".\").to_list()\\nSex2 = map(lambda x: x[0],Sex2_list)\\nx_test[\"Sex2\"] = list(Sex2)\\n\\ndummy_fam = pd.get_dummies(x_test[[\"Family_name\"]],dtype=int)\\nx_test = x_test.join(dummy_fam)\\ndummy_sex2 = pd.get_dummies(x_test[[\"Sex2\"]],dtype=int)\\nx_test = x_test.join(dummy_sex2)\\n'"
      ]
     },
     "execution_count": 14,
     "metadata": {},
     "output_type": "execute_result"
    }
   ],
   "source": [
    "\"\"\"\n",
    "test = test_original\n",
    "\n",
    "test[\"Sex\"] = test[\"Sex\"].replace([\"male\",\"female\"],[0,1])\n",
    "test[\"Embarked\"] = test[\"Embarked\"].fillna(\"S\")\n",
    "\n",
    "test_em = pd.get_dummies(test[[\"Embarked\"]],dtype=int)\n",
    "test = test.join(test_em)\n",
    "test = test.drop(\"Embarked\",axis=1)\n",
    "\n",
    "ticket_first =[]\n",
    "for ticket_name in test[\"Ticket\"]:\n",
    "    ticket_first.append(ticket_name[0])\n",
    "test[\"ticket_first\"] = ticket_first\n",
    "test_em = pd.get_dummies(test[[\"ticket_first\"]],dtype=int)\n",
    "test = test.join(test_em)\n",
    "test = test.drop(\"ticket_first\",axis=1)\n",
    "test = test.drop(\"Ticket\",axis=1)\n",
    "\n",
    "test[\"Cabin\"] =test[\"Cabin\"].fillna(\"unknown\")\n",
    "test[\"Cabin\"] = test[\"Cabin\"].str[0]\n",
    "test_em = pd.get_dummies(test[[\"Cabin\"]],dtype=int)\n",
    "test = test.join(test_em)\n",
    "test = test.drop(\"Cabin\",axis=1)\n",
    "\n",
    "x_test = test\n",
    "x_test[\"Age\"] = x_test[\"Age\"].fillna(x_test[\"Age\"].mean())\n",
    "x_test[\"Fare\"] = x_test[\"Fare\"].fillna(x_test[\"Fare\"].median())\n",
    "\n",
    "x_test[\"familysize\"] = x_test[\"Parch\"]+x_test[\"SibSp\"]+1\n",
    "x_test[\"Alone\"]=0\n",
    "x_test.loc[x_test[\"familysize\"]==1,\"Alone\"]=1\n",
    "\n",
    "sc.fit(x_test[[\"Age\",\"Fare\",\"familysize\",\"Pclass\"]])\n",
    "test_std = sc.transform(x_test[[\"Age\",\"Fare\",\"familysize\",\"Pclass\"]])\n",
    "x_test[[\"Age\",\"Fare\",\"familysize\",\"Pclass\"]] = pd.DataFrame(test_std)\n",
    "\n",
    "familylist = x_test[\"Name\"].str.split(\",\").to_list()\n",
    "#〇〇,Mr(Miss/Dr).△△.××：〇〇は姓、△△は名、××はミドルネームを表す\n",
    "familymap = map(lambda x: x[0],familylist)\n",
    "x_test[\"Family_name\"] = list(familymap)\n",
    "\n",
    "sex_list_origin = map(lambda x: x[1],familylist)\n",
    "x_test[\"Sex2\"] = list(sex_list_origin)\n",
    "Sex2_list = x_test[\"Sex2\"].str.split(\".\").to_list()\n",
    "Sex2 = map(lambda x: x[0],Sex2_list)\n",
    "x_test[\"Sex2\"] = list(Sex2)\n",
    "\n",
    "dummy_fam = pd.get_dummies(x_test[[\"Family_name\"]],dtype=int)\n",
    "x_test = x_test.join(dummy_fam)\n",
    "dummy_sex2 = pd.get_dummies(x_test[[\"Sex2\"]],dtype=int)\n",
    "x_test = x_test.join(dummy_sex2)\n",
    "\"\"\""
   ]
  },
  {
   "cell_type": "code",
   "execution_count": 15,
   "id": "a430387e",
   "metadata": {
    "execution": {
     "iopub.execute_input": "2024-05-16T14:33:02.725733Z",
     "iopub.status.busy": "2024-05-16T14:33:02.724851Z",
     "iopub.status.idle": "2024-05-16T14:33:02.734201Z",
     "shell.execute_reply": "2024-05-16T14:33:02.733243Z"
    },
    "papermill": {
     "duration": 0.026203,
     "end_time": "2024-05-16T14:33:02.736422",
     "exception": false,
     "start_time": "2024-05-16T14:33:02.710219",
     "status": "completed"
    },
    "tags": []
   },
   "outputs": [
    {
     "data": {
      "text/plain": [
       "'\\nx_tra = list(x_train.columns)\\nx_tes = list(x_test.columns)\\n\\ntra_tes = [] # trainにはあるが、testにはない\\ntes_tra = [] # testにはあるが、trainにない\\n\\nfor i in x_tra:\\n    if i in x_tes:pass\\n    else:tra_tes.append(i)\\n\\nfor j in x_tes:\\n    if j in x_tra:pass\\n    else:tes_tra.append(j)\\n'"
      ]
     },
     "execution_count": 15,
     "metadata": {},
     "output_type": "execute_result"
    }
   ],
   "source": [
    "\"\"\"\n",
    "x_tra = list(x_train.columns)\n",
    "x_tes = list(x_test.columns)\n",
    "\n",
    "tra_tes = [] # trainにはあるが、testにはない\n",
    "tes_tra = [] # testにはあるが、trainにない\n",
    "\n",
    "for i in x_tra:\n",
    "    if i in x_tes:pass\n",
    "    else:tra_tes.append(i)\n",
    "\n",
    "for j in x_tes:\n",
    "    if j in x_tra:pass\n",
    "    else:tes_tra.append(j)\n",
    "\"\"\""
   ]
  },
  {
   "cell_type": "code",
   "execution_count": 16,
   "id": "85d59e2c",
   "metadata": {
    "execution": {
     "iopub.execute_input": "2024-05-16T14:33:02.768178Z",
     "iopub.status.busy": "2024-05-16T14:33:02.767157Z",
     "iopub.status.idle": "2024-05-16T14:33:02.773603Z",
     "shell.execute_reply": "2024-05-16T14:33:02.772645Z"
    },
    "papermill": {
     "duration": 0.023558,
     "end_time": "2024-05-16T14:33:02.775629",
     "exception": false,
     "start_time": "2024-05-16T14:33:02.752071",
     "status": "completed"
    },
    "tags": []
   },
   "outputs": [
    {
     "data": {
      "text/plain": [
       "'\\ndrop_col = [\"PassengerId\",\"Name\",\\'ticket_first_2\\',\\n        \\'ticket_first_4\\', \\'ticket_first_6\\', \\'ticket_first_7\\',\\n       \\'ticket_first_9\\', \\'ticket_first_A\\', \\'ticket_first_C\\', \\'ticket_first_F\\',\\n       \\'ticket_first_L\\', \\'ticket_first_S\\', \\'ticket_first_W\\',\"Sex2\",\"Family_name\"]\\nx_test = x_test.drop(drop_col,axis=1)\\nx_test = x_test.drop(tes_tra,axis=1)\\nx_test\\n'"
      ]
     },
     "execution_count": 16,
     "metadata": {},
     "output_type": "execute_result"
    }
   ],
   "source": [
    "\"\"\"\n",
    "drop_col = [\"PassengerId\",\"Name\",'ticket_first_2',\n",
    "        'ticket_first_4', 'ticket_first_6', 'ticket_first_7',\n",
    "       'ticket_first_9', 'ticket_first_A', 'ticket_first_C', 'ticket_first_F',\n",
    "       'ticket_first_L', 'ticket_first_S', 'ticket_first_W',\"Sex2\",\"Family_name\"]\n",
    "x_test = x_test.drop(drop_col,axis=1)\n",
    "x_test = x_test.drop(tes_tra,axis=1)\n",
    "x_test\n",
    "\"\"\""
   ]
  },
  {
   "cell_type": "code",
   "execution_count": 17,
   "id": "1e894f40",
   "metadata": {
    "execution": {
     "iopub.execute_input": "2024-05-16T14:33:02.805876Z",
     "iopub.status.busy": "2024-05-16T14:33:02.805413Z",
     "iopub.status.idle": "2024-05-16T14:33:02.811525Z",
     "shell.execute_reply": "2024-05-16T14:33:02.810673Z"
    },
    "papermill": {
     "duration": 0.023856,
     "end_time": "2024-05-16T14:33:02.813433",
     "exception": false,
     "start_time": "2024-05-16T14:33:02.789577",
     "status": "completed"
    },
    "tags": []
   },
   "outputs": [
    {
     "data": {
      "text/plain": [
       "'\\ndrop_col = [\"PassengerId\",\"Name\", \\'ticket_first_2\\',\\n        \\'ticket_first_4\\', \\'ticket_first_6\\', \\'ticket_first_7\\',\\n       \\'ticket_first_9\\', \\'ticket_first_A\\', \\'ticket_first_C\\', \\'ticket_first_F\\',\\n       \\'ticket_first_L\\', \\'ticket_first_S\\', \\'ticket_first_W\\',\"Sex2\",\"Family_name\"]\\nx_train = x_train.drop(drop_col,axis=1)\\nx_train = x_train.drop(tra_tes,axis=1)\\nx_train\\n'"
      ]
     },
     "execution_count": 17,
     "metadata": {},
     "output_type": "execute_result"
    }
   ],
   "source": [
    "\"\"\"\n",
    "drop_col = [\"PassengerId\",\"Name\", 'ticket_first_2',\n",
    "        'ticket_first_4', 'ticket_first_6', 'ticket_first_7',\n",
    "       'ticket_first_9', 'ticket_first_A', 'ticket_first_C', 'ticket_first_F',\n",
    "       'ticket_first_L', 'ticket_first_S', 'ticket_first_W',\"Sex2\",\"Family_name\"]\n",
    "x_train = x_train.drop(drop_col,axis=1)\n",
    "x_train = x_train.drop(tra_tes,axis=1)\n",
    "x_train\n",
    "\"\"\""
   ]
  },
  {
   "cell_type": "code",
   "execution_count": 18,
   "id": "cfbd2b53",
   "metadata": {
    "execution": {
     "iopub.execute_input": "2024-05-16T14:33:02.843192Z",
     "iopub.status.busy": "2024-05-16T14:33:02.842818Z",
     "iopub.status.idle": "2024-05-16T14:33:02.850156Z",
     "shell.execute_reply": "2024-05-16T14:33:02.849101Z"
    },
    "papermill": {
     "duration": 0.025072,
     "end_time": "2024-05-16T14:33:02.852394",
     "exception": false,
     "start_time": "2024-05-16T14:33:02.827322",
     "status": "completed"
    },
    "tags": []
   },
   "outputs": [
    {
     "data": {
      "text/plain": [
       "'\\n\\ndf_submit = pd.DataFrame()\\ndf_submit.to_csv(\"/kaggle/working/submission.csv\",index=False)\\n\\nknn = KNeighborsClassifier()\\n#K-nnの手法。これは求めたい値から周辺にいくつかの点をリストアップする。その周辺にある点が0か1のどちらかを推定し、多い方を利用する\\nparam_test = {\\'n_neighbors\\':list(range(1, 10, 1))} \\n#n_neighborsは周辺の何個の点を取得するかを表したもの。今回は1~50個のうち、どれが適切かをgridsearchで特定している\\ngrid = GridSearchCV(estimator = knn, param_grid = param_test, scoring=\\'accuracy\\', cv=10)\\ngrid.fit(x_train, y_train)\\nprint(grid.best_params_, grid.best_score_, sep=\"\\n\")\\n\\nsubmit = grid.predict(x_test)\\nPassengerId = pd.DataFrame(test[\"PassengerId\"])\\nprint(submit)\\n\\ndf_submit = pd.DataFrame(submit)\\ndf_submit = PassengerId.join(df_submit)\\ndf_submit.columns =[\"PassengerId\",\"Survived\"]\\n#df_submit.to_csv(\"/kaggle/working/submission.csv\",index=False)\\ndf_submit.to_csv(\"/kaggle/working/0504knn.csv\",index=False)\\n\\n#0.73205：ticketなし\\n#（0.79578）：ticketあり。1,3,Pのみ\\n'"
      ]
     },
     "execution_count": 18,
     "metadata": {},
     "output_type": "execute_result"
    }
   ],
   "source": [
    "#K近傍法：求めたい点の周辺の何個かの点を取る。その点が0か1のどちらかを特定する。0か1のどちらが多いか多数決で決めるモデル\n",
    "\"\"\"\n",
    "\n",
    "df_submit = pd.DataFrame()\n",
    "df_submit.to_csv(\"/kaggle/working/submission.csv\",index=False)\n",
    "\n",
    "knn = KNeighborsClassifier()\n",
    "#K-nnの手法。これは求めたい値から周辺にいくつかの点をリストアップする。その周辺にある点が0か1のどちらかを推定し、多い方を利用する\n",
    "param_test = {'n_neighbors':list(range(1, 10, 1))} \n",
    "#n_neighborsは周辺の何個の点を取得するかを表したもの。今回は1~50個のうち、どれが適切かをgridsearchで特定している\n",
    "grid = GridSearchCV(estimator = knn, param_grid = param_test, scoring='accuracy', cv=10)\n",
    "grid.fit(x_train, y_train)\n",
    "print(grid.best_params_, grid.best_score_, sep=\"\\n\")\n",
    "\n",
    "submit = grid.predict(x_test)\n",
    "PassengerId = pd.DataFrame(test[\"PassengerId\"])\n",
    "print(submit)\n",
    "\n",
    "df_submit = pd.DataFrame(submit)\n",
    "df_submit = PassengerId.join(df_submit)\n",
    "df_submit.columns =[\"PassengerId\",\"Survived\"]\n",
    "#df_submit.to_csv(\"/kaggle/working/submission.csv\",index=False)\n",
    "df_submit.to_csv(\"/kaggle/working/0504knn.csv\",index=False)\n",
    "\n",
    "#0.73205：ticketなし\n",
    "#（0.79578）：ticketあり。1,3,Pのみ\n",
    "\"\"\""
   ]
  },
  {
   "cell_type": "code",
   "execution_count": 19,
   "id": "c335d53f",
   "metadata": {
    "execution": {
     "iopub.execute_input": "2024-05-16T14:33:02.882832Z",
     "iopub.status.busy": "2024-05-16T14:33:02.882397Z",
     "iopub.status.idle": "2024-05-16T14:33:02.892802Z",
     "shell.execute_reply": "2024-05-16T14:33:02.891829Z"
    },
    "papermill": {
     "duration": 0.028459,
     "end_time": "2024-05-16T14:33:02.894880",
     "exception": false,
     "start_time": "2024-05-16T14:33:02.866421",
     "status": "completed"
    },
    "tags": []
   },
   "outputs": [
    {
     "data": {
      "text/plain": [
       "'\\n#ランダムフォレスト：決定木を複数作成をして、どちらに該当するかモデルを作ること。\\n#決定木と異なるのは、複数のサンプルをリストアップしてその複数の決定木を作り、その平均/多数決で決めること\\n\\n\\ndf_submit = pd.DataFrame()\\ndf_submit.to_csv(\"/kaggle/working/submission.csv\",index=False)\\n\\nrfc = RandomForestClassifier(random_state = 100, max_features=\\'sqrt\\')\\nparam_test = {\\'n_estimators\\':list(range(20, 30, 1)), #20～30を１刻みずつ試す\\n              \\'max_depth\\':list(range(3, 10, 1))} #3～10を１刻みずつ試す\\ngrid = GridSearchCV(estimator = rfc, param_grid = param_test, scoring=\\'accuracy\\', cv=10)\\ngrid.fit(x_train, y_train)\\nprint(grid.best_params_, grid.best_score_, sep=\"\\n\")\\n\\nsubmit = grid.predict(x_test)\\nPassengerId = pd.DataFrame(test[\"PassengerId\"])\\nprint(submit)\\n\\ngender_submission[\"Survived\"] = submit\\ndf_submit = gender_submission\\n#df_submit.to_csv(\"/kaggle/working/submission.csv\",index=False)\\ndf_submit.to_csv(\"/kaggle/working/0516rand.csv\",index=False)\\n\\n#0.77033：ticketなし\\n#0.76794（0.829）:ticketの特徴量あり \\n#0.77751（0.83059）：ticket特徴量あり。1,3,Pのみ\\n#0.78229：ticketの特徴量あり。名前+familysizeの特徴量がある\\n'"
      ]
     },
     "execution_count": 19,
     "metadata": {},
     "output_type": "execute_result"
    }
   ],
   "source": [
    "\"\"\"\n",
    "#ランダムフォレスト：決定木を複数作成をして、どちらに該当するかモデルを作ること。\n",
    "#決定木と異なるのは、複数のサンプルをリストアップしてその複数の決定木を作り、その平均/多数決で決めること\n",
    "\n",
    "\n",
    "df_submit = pd.DataFrame()\n",
    "df_submit.to_csv(\"/kaggle/working/submission.csv\",index=False)\n",
    "\n",
    "rfc = RandomForestClassifier(random_state = 100, max_features='sqrt')\n",
    "param_test = {'n_estimators':list(range(20, 30, 1)), #20～30を１刻みずつ試す\n",
    "              'max_depth':list(range(3, 10, 1))} #3～10を１刻みずつ試す\n",
    "grid = GridSearchCV(estimator = rfc, param_grid = param_test, scoring='accuracy', cv=10)\n",
    "grid.fit(x_train, y_train)\n",
    "print(grid.best_params_, grid.best_score_, sep=\"\\n\")\n",
    "\n",
    "submit = grid.predict(x_test)\n",
    "PassengerId = pd.DataFrame(test[\"PassengerId\"])\n",
    "print(submit)\n",
    "\n",
    "gender_submission[\"Survived\"] = submit\n",
    "df_submit = gender_submission\n",
    "#df_submit.to_csv(\"/kaggle/working/submission.csv\",index=False)\n",
    "df_submit.to_csv(\"/kaggle/working/0516rand.csv\",index=False)\n",
    "\n",
    "#0.77033：ticketなし\n",
    "#0.76794（0.829）:ticketの特徴量あり \n",
    "#0.77751（0.83059）：ticket特徴量あり。1,3,Pのみ\n",
    "#0.78229：ticketの特徴量あり。名前+familysizeの特徴量がある\n",
    "\"\"\""
   ]
  },
  {
   "cell_type": "markdown",
   "id": "6132616e",
   "metadata": {
    "papermill": {
     "duration": 0.013948,
     "end_time": "2024-05-16T14:33:02.923058",
     "exception": false,
     "start_time": "2024-05-16T14:33:02.909110",
     "status": "completed"
    },
    "tags": []
   },
   "source": [
    "clf\n",
    "ランダムフォレストを利用。ランダムフォレストとは、あるデータセットをいくつかに分けて、それぞれで決定木を作成していく。その作成したモデルを使い、数値を特定。その後は多数決で決める。\n",
    "random_stateは決定木の数のこと。増やせば、分類の精度が上がる。max_featuersは利用する特徴量の数のこと。多いと1つのデータの精度は上がるが、似たようなデータになる。基本は全特徴量の平方根、つまりsqrt。\n",
    "\n",
    "pipe\n",
    "パイプラインでモデルを作成できる。パイプラインとは、モデルを連続で反映させたいときに順番を指定して反映できる。これによりコードを書く量が圧倒的に減る。\n",
    "https://qiita.com/c60evaporator/items/7829d8d8322a407d54f1#:~:text=%E8%A7%A3%E8%AA%AC%E3%81%97%E3%81%BE%E3%81%99-,%E6%A9%9F%E6%A2%B0%E5%AD%A6%E7%BF%92%E3%81%A8%E5%89%8D%E5%87%A6%E7%90%86,%E3%81%82%E3%82%8B%E3%81%93%E3%81%A8%E3%81%8C%E5%A4%9A%E3%81%84%E3%81%A7%E3%81%99%E3%80%82&text=%E3%81%93%E3%81%AE%E4%B8%80%E9%80%A3%E3%81%AE%E5%87%A6%E7%90%86%E3%82%92,%E3%83%91%E3%82%A4%E3%83%97%E3%83%A9%E3%82%A4%E3%83%B3%E3%81%A8%E5%91%BC%E3%81%B3%E3%81%BE%E3%81%99%E3%80%82\n",
    "\n",
    "param_test\n",
    "パラメーターを指定するもの。n_estimatorsはその決定木の数のこと。max_depthは決定木を下になんこつなげるかを表したもの。今回はリストで複数のパラメーターを試せるようにしている\n",
    "https://tatsu-mk2.hatenablog.jp/entry/2019/05/04/185733\n",
    "\n",
    "grid\n",
    "グリッドサーチ。様々あるパラメーターのなかでどの組み合わせがもっとも効果が高いか推定するためのライブラリ。estimatorが適応するモデル。param gridはパラメーターのリスト。scoringは効果測定の方法。今回のaccuracyは正答率。その他にもF値など。cvはクロスバリデーションの数。\n",
    "https://di-acc2.com/programming/python/8465/\n",
    "\n",
    "クロスバリデーション\n",
    "練習データを1回だけ使ってしまうと、過学習になる可能性がある。そこで、練習データを何等分かして、練習データとテストデータに分けてモデルを作成。そこで作ったモデルをいくつか組み合わせて平均値を取る方法。cv=10であるため、10こにデータを分けている\n",
    "https://qiita.com/Takayoshi_Makabe/items/d35eed0c3064b495a08b\n"
   ]
  },
  {
   "cell_type": "code",
   "execution_count": 20,
   "id": "dd2e8cf4",
   "metadata": {
    "execution": {
     "iopub.execute_input": "2024-05-16T14:33:03.006083Z",
     "iopub.status.busy": "2024-05-16T14:33:03.005681Z",
     "iopub.status.idle": "2024-05-16T14:33:03.014518Z",
     "shell.execute_reply": "2024-05-16T14:33:03.013547Z"
    },
    "papermill": {
     "duration": 0.026258,
     "end_time": "2024-05-16T14:33:03.016526",
     "exception": false,
     "start_time": "2024-05-16T14:33:02.990268",
     "status": "completed"
    },
    "tags": []
   },
   "outputs": [
    {
     "data": {
      "text/plain": [
       "'\\ndf_submit = pd.DataFrame()\\ndf_submit.to_csv(\"/kaggle/working/submission.csv\",index=False)\\n\\nlre = LogisticRegression()\\nparam_test = {\\'C\\':[0.001,0.01,0.1,1,10,100,1000]}\\n#Cとは、「コストパラメーター」の略であり、誤分類を許容する指標のこと。Cが大きいと誤分類を許容しない（外れ値をいれて評価）ため、学習されやすくなる。Cが小さすぎると誤分類を許容する（外れ値をいれずに評価）ため、学習が進みにくい。基本は1である\\n\\ngrid = GridSearchCV(estimator = lre, param_grid = param_test, scoring=\\'accuracy\\', cv=10)\\ngrid.fit(x_train, y_train)\\nprint(grid.best_params_, grid.best_score_, sep=\"\\n\")\\n\\nsubmit = grid.predict(x_test)\\nprint(submit)\\n\\ngender_submission[\"Survived\"] = submit\\ndf_submit = gender_submission\\n#df_submit.to_csv(\"/kaggle/working/submission.csv\",index=False)\\ndf_submit.to_csv(\"/kaggle/working/0516lre.csv\",index=False)\\n\\n#0.77033：ticketなし\\n#（0.80474）：ticketあり。1,3,Pのみ\\n'"
      ]
     },
     "execution_count": 20,
     "metadata": {},
     "output_type": "execute_result"
    }
   ],
   "source": [
    "#ロジスティック回帰：複数の特徴量をもとにしたグラフを作成し、そのグラフの間に線を引く。そのどちらに所属しているかを0と1で判断。それをモデル化して判定している\n",
    "\n",
    "\"\"\"\n",
    "df_submit = pd.DataFrame()\n",
    "df_submit.to_csv(\"/kaggle/working/submission.csv\",index=False)\n",
    "\n",
    "lre = LogisticRegression()\n",
    "param_test = {'C':[0.001,0.01,0.1,1,10,100,1000]}\n",
    "#Cとは、「コストパラメーター」の略であり、誤分類を許容する指標のこと。Cが大きいと誤分類を許容しない（外れ値をいれて評価）ため、学習されやすくなる。Cが小さすぎると誤分類を許容する（外れ値をいれずに評価）ため、学習が進みにくい。基本は1である\n",
    "\n",
    "grid = GridSearchCV(estimator = lre, param_grid = param_test, scoring='accuracy', cv=10)\n",
    "grid.fit(x_train, y_train)\n",
    "print(grid.best_params_, grid.best_score_, sep=\"\\n\")\n",
    "\n",
    "submit = grid.predict(x_test)\n",
    "print(submit)\n",
    "\n",
    "gender_submission[\"Survived\"] = submit\n",
    "df_submit = gender_submission\n",
    "#df_submit.to_csv(\"/kaggle/working/submission.csv\",index=False)\n",
    "df_submit.to_csv(\"/kaggle/working/0516lre.csv\",index=False)\n",
    "\n",
    "#0.77033：ticketなし\n",
    "#（0.80474）：ticketあり。1,3,Pのみ\n",
    "\"\"\""
   ]
  },
  {
   "cell_type": "code",
   "execution_count": 21,
   "id": "d5b7dba0",
   "metadata": {
    "execution": {
     "iopub.execute_input": "2024-05-16T14:33:03.047731Z",
     "iopub.status.busy": "2024-05-16T14:33:03.047336Z",
     "iopub.status.idle": "2024-05-16T14:33:03.054265Z",
     "shell.execute_reply": "2024-05-16T14:33:03.053324Z"
    },
    "papermill": {
     "duration": 0.025144,
     "end_time": "2024-05-16T14:33:03.056270",
     "exception": false,
     "start_time": "2024-05-16T14:33:03.031126",
     "status": "completed"
    },
    "tags": []
   },
   "outputs": [
    {
     "data": {
      "text/plain": [
       "'\\ndf_submit = pd.DataFrame()\\ndf_submit.to_csv(\"/kaggle/working/submission.csv\",index=False)\\n\\nsvm = SVC()\\nparam_test = {\\'C\\':[0.001,0.01,0.1,1,10,100,1000],\"gamma\":[100,10,1,0.1,0.01,0.001]}\\n#Cとは、「コストパラメーター」の略であり、誤分類を許容する指標のこと。Cが大きいと誤分類を許容しない（外れ値をいれて評価）ため、学習されやすくなる。Cが小さすぎると誤分類を許容する（外れ値をいれずに評価）ため、学習が進みにくい。基本は1である\\n#gammaとは境界線の形を表す指標。この値が大きいほど曲がった線が多くなるなど、複雑な境界になる。一方で小さい場合には直線が多くなる。つまりgammaが大きいと過学習されやすくて、小さい場合は学習されにくい\\n\\ngrid = GridSearchCV(estimator = svm, param_grid = param_test, scoring=\\'accuracy\\', cv=10)\\ngrid.fit(x_train, y_train)\\nprint(grid.best_params_, grid.best_score_, sep=\"\\n\")\\n\\nsubmit = grid.predict(x_test)\\nPassengerId = pd.DataFrame(test[\"PassengerId\"])\\nprint(submit)\\n\\ndf_submit = pd.DataFrame(submit)\\ndf_submit = PassengerId.join(df_submit)\\ndf_submit.columns =[\"PassengerId\",\"Survived\"]\\n#df_submit.to_csv(\"/kaggle/working/submission.csv\",index=False)\\ndf_submit.to_csv(\"/kaggle/working/0504svm.csv\",index=False)\\n\\n#0.76555：ticketなし\\n#0.76315（0.83617）：ticket特徴量あり\\n#0.76794（0.82837）：ticket特徴量あり。1,3,Pのみ\\n'"
      ]
     },
     "execution_count": 21,
     "metadata": {},
     "output_type": "execute_result"
    }
   ],
   "source": [
    "#サポートベクターマシーン（SVM）：カテゴリを分ける特徴量を軸として境界線を作成。その2つの部分でtestのデータがどちらに入っているかを判定するモデル。\n",
    "\"\"\"\n",
    "df_submit = pd.DataFrame()\n",
    "df_submit.to_csv(\"/kaggle/working/submission.csv\",index=False)\n",
    "\n",
    "svm = SVC()\n",
    "param_test = {'C':[0.001,0.01,0.1,1,10,100,1000],\"gamma\":[100,10,1,0.1,0.01,0.001]}\n",
    "#Cとは、「コストパラメーター」の略であり、誤分類を許容する指標のこと。Cが大きいと誤分類を許容しない（外れ値をいれて評価）ため、学習されやすくなる。Cが小さすぎると誤分類を許容する（外れ値をいれずに評価）ため、学習が進みにくい。基本は1である\n",
    "#gammaとは境界線の形を表す指標。この値が大きいほど曲がった線が多くなるなど、複雑な境界になる。一方で小さい場合には直線が多くなる。つまりgammaが大きいと過学習されやすくて、小さい場合は学習されにくい\n",
    "\n",
    "grid = GridSearchCV(estimator = svm, param_grid = param_test, scoring='accuracy', cv=10)\n",
    "grid.fit(x_train, y_train)\n",
    "print(grid.best_params_, grid.best_score_, sep=\"\\n\")\n",
    "\n",
    "submit = grid.predict(x_test)\n",
    "PassengerId = pd.DataFrame(test[\"PassengerId\"])\n",
    "print(submit)\n",
    "\n",
    "df_submit = pd.DataFrame(submit)\n",
    "df_submit = PassengerId.join(df_submit)\n",
    "df_submit.columns =[\"PassengerId\",\"Survived\"]\n",
    "#df_submit.to_csv(\"/kaggle/working/submission.csv\",index=False)\n",
    "df_submit.to_csv(\"/kaggle/working/0504svm.csv\",index=False)\n",
    "\n",
    "#0.76555：ticketなし\n",
    "#0.76315（0.83617）：ticket特徴量あり\n",
    "#0.76794（0.82837）：ticket特徴量あり。1,3,Pのみ\n",
    "\"\"\""
   ]
  },
  {
   "cell_type": "code",
   "execution_count": 22,
   "id": "bba080e3",
   "metadata": {
    "execution": {
     "iopub.execute_input": "2024-05-16T14:33:03.088031Z",
     "iopub.status.busy": "2024-05-16T14:33:03.086862Z",
     "iopub.status.idle": "2024-05-16T14:33:03.093967Z",
     "shell.execute_reply": "2024-05-16T14:33:03.092735Z"
    },
    "papermill": {
     "duration": 0.025106,
     "end_time": "2024-05-16T14:33:03.095967",
     "exception": false,
     "start_time": "2024-05-16T14:33:03.070861",
     "status": "completed"
    },
    "tags": []
   },
   "outputs": [
    {
     "data": {
      "text/plain": [
       "'\\ntrain_original = pd.read_csv(\"../input/titanic/train.csv\")\\ntest_original = pd.read_csv(\"../input/titanic/test.csv\")\\ngender_submission = pd.read_csv(\"../input/titanic/gender_submission.csv\")\\ntrain = train_original\\ntest = test_original\\ny_train = train[\"Survived\"]\\n'"
      ]
     },
     "execution_count": 22,
     "metadata": {},
     "output_type": "execute_result"
    }
   ],
   "source": [
    "\"\"\"\n",
    "train_original = pd.read_csv(\"../input/titanic/train.csv\")\n",
    "test_original = pd.read_csv(\"../input/titanic/test.csv\")\n",
    "gender_submission = pd.read_csv(\"../input/titanic/gender_submission.csv\")\n",
    "train = train_original\n",
    "test = test_original\n",
    "y_train = train[\"Survived\"]\n",
    "\"\"\""
   ]
  },
  {
   "cell_type": "code",
   "execution_count": 23,
   "id": "65ca603f",
   "metadata": {
    "execution": {
     "iopub.execute_input": "2024-05-16T14:33:03.127187Z",
     "iopub.status.busy": "2024-05-16T14:33:03.126151Z",
     "iopub.status.idle": "2024-05-16T14:33:03.133929Z",
     "shell.execute_reply": "2024-05-16T14:33:03.132937Z"
    },
    "papermill": {
     "duration": 0.025474,
     "end_time": "2024-05-16T14:33:03.135894",
     "exception": false,
     "start_time": "2024-05-16T14:33:03.110420",
     "status": "completed"
    },
    "tags": []
   },
   "outputs": [
    {
     "data": {
      "text/plain": [
       "'\\ntrain = train_original\\n\\ntrain[\"Sex\"] = train[\"Sex\"].replace([\"male\",\"female\"],[0,1])\\ntrain[\"Embarked\"] = train[\"Embarked\"].fillna(\"S\")\\ntrain[\"Embarked\"] = train[\"Embarked\"].replace([\"C\",\"Q\",\"S\"],[0,1,2])\\n\\nticket_first =[]\\nfor ticket_name in train[\"Ticket\"]:\\n    ticket_first.append(ticket_name[0])\\ntrain[\"ticket_first\"] = ticket_first\\nti_list = train[\"ticket_first\"].unique().tolist()\\ntrain[\"ticket_first\"] = train[\"ticket_first\"].replace(ti_list,np.arange(len(ti_list)).tolist())\\ntrain = train.drop(\"Ticket\",axis=1)\\n\\ntrain[\"Cabin\"] =train[\"Cabin\"].fillna(\"unknown\")\\ntrain[\"Cabin\"] = train[\"Cabin\"].str[0]\\n\\ntrain[\"Cabin\"] = train[\"Cabin\"].replace(train[\"Cabin\"].unique().tolist(),np.arange(9).tolist())\\n\\nx_train = train\\nx_train[\"Age\"] = x_train[\"Age\"].fillna(x_train[\"Age\"].median())\\n\\nx_train[\"familysize\"] = x_train[\"Parch\"]+x_train[\"SibSp\"]+1\\nx_train[\"Alone\"]=0\\nx_train.loc[x_train[\"familysize\"]==1,\"Alone\"]=1\\n\\nsc = StandardScaler()\\nsc.fit(x_train[[\"Age\",\"Fare\",\"familysize\"]])\\ntrain_std = sc.transform(x_train[[\"Age\",\"Fare\",\"familysize\"]])\\nx_train[[\"Age\",\"Fare\",\"familysize\"]] = pd.DataFrame(train_std)\\n\\nfamilylist = x_train[\"Name\"].str.split(\",\").to_list()\\n#〇〇,Mr(Miss/Dr).△△.××：〇〇は姓、△△は名、××はミドルネームを表す\\nfamilymap = map(lambda x: x[0],familylist)\\nx_train[\"Family_name\"] = list(familymap)\\n\\nsex_list_origin = map(lambda x: x[1],familylist)\\nx_train[\"Sex2\"] = list(sex_list_origin)\\nSex2_list = x_train[\"Sex2\"].str.split(\".\").to_list()\\nSex2 = map(lambda x: x[0],Sex2_list)\\nx_train[\"Sex2\"] = list(Sex2)\\n\\ndrop_col = [\"PassengerId\",\"Survived\",\"Name\"]\\nx_train = x_train.drop(drop_col,axis=1)\\nx_train\\n'"
      ]
     },
     "execution_count": 23,
     "metadata": {},
     "output_type": "execute_result"
    }
   ],
   "source": [
    "\"\"\"\n",
    "train = train_original\n",
    "\n",
    "train[\"Sex\"] = train[\"Sex\"].replace([\"male\",\"female\"],[0,1])\n",
    "train[\"Embarked\"] = train[\"Embarked\"].fillna(\"S\")\n",
    "train[\"Embarked\"] = train[\"Embarked\"].replace([\"C\",\"Q\",\"S\"],[0,1,2])\n",
    "\n",
    "ticket_first =[]\n",
    "for ticket_name in train[\"Ticket\"]:\n",
    "    ticket_first.append(ticket_name[0])\n",
    "train[\"ticket_first\"] = ticket_first\n",
    "ti_list = train[\"ticket_first\"].unique().tolist()\n",
    "train[\"ticket_first\"] = train[\"ticket_first\"].replace(ti_list,np.arange(len(ti_list)).tolist())\n",
    "train = train.drop(\"Ticket\",axis=1)\n",
    "\n",
    "train[\"Cabin\"] =train[\"Cabin\"].fillna(\"unknown\")\n",
    "train[\"Cabin\"] = train[\"Cabin\"].str[0]\n",
    "\n",
    "train[\"Cabin\"] = train[\"Cabin\"].replace(train[\"Cabin\"].unique().tolist(),np.arange(9).tolist())\n",
    "\n",
    "x_train = train\n",
    "x_train[\"Age\"] = x_train[\"Age\"].fillna(x_train[\"Age\"].median())\n",
    "\n",
    "x_train[\"familysize\"] = x_train[\"Parch\"]+x_train[\"SibSp\"]+1\n",
    "x_train[\"Alone\"]=0\n",
    "x_train.loc[x_train[\"familysize\"]==1,\"Alone\"]=1\n",
    "\n",
    "sc = StandardScaler()\n",
    "sc.fit(x_train[[\"Age\",\"Fare\",\"familysize\"]])\n",
    "train_std = sc.transform(x_train[[\"Age\",\"Fare\",\"familysize\"]])\n",
    "x_train[[\"Age\",\"Fare\",\"familysize\"]] = pd.DataFrame(train_std)\n",
    "\n",
    "familylist = x_train[\"Name\"].str.split(\",\").to_list()\n",
    "#〇〇,Mr(Miss/Dr).△△.××：〇〇は姓、△△は名、××はミドルネームを表す\n",
    "familymap = map(lambda x: x[0],familylist)\n",
    "x_train[\"Family_name\"] = list(familymap)\n",
    "\n",
    "sex_list_origin = map(lambda x: x[1],familylist)\n",
    "x_train[\"Sex2\"] = list(sex_list_origin)\n",
    "Sex2_list = x_train[\"Sex2\"].str.split(\".\").to_list()\n",
    "Sex2 = map(lambda x: x[0],Sex2_list)\n",
    "x_train[\"Sex2\"] = list(Sex2)\n",
    "\n",
    "drop_col = [\"PassengerId\",\"Survived\",\"Name\"]\n",
    "x_train = x_train.drop(drop_col,axis=1)\n",
    "x_train\n",
    "\"\"\""
   ]
  },
  {
   "cell_type": "code",
   "execution_count": 24,
   "id": "beef87cc",
   "metadata": {
    "execution": {
     "iopub.execute_input": "2024-05-16T14:33:03.167582Z",
     "iopub.status.busy": "2024-05-16T14:33:03.166813Z",
     "iopub.status.idle": "2024-05-16T14:33:03.174440Z",
     "shell.execute_reply": "2024-05-16T14:33:03.173511Z"
    },
    "papermill": {
     "duration": 0.025689,
     "end_time": "2024-05-16T14:33:03.176603",
     "exception": false,
     "start_time": "2024-05-16T14:33:03.150914",
     "status": "completed"
    },
    "tags": []
   },
   "outputs": [
    {
     "data": {
      "text/plain": [
       "'\\ntest = test_original\\n\\ntest[\"Sex\"] = test[\"Sex\"].replace([\"male\",\"female\"],[0,1])\\ntest[\"Embarked\"] = test[\"Embarked\"].fillna(\"S\")\\ntest[\"Embarked\"] = test[\"Embarked\"].replace([\"C\",\"Q\",\"S\"],[0,1,2])\\n\\nticket_first =[]\\nfor ticket_name in test[\"Ticket\"]:\\n    ticket_first.append(ticket_name[0])\\ntest[\"ticket_first\"] = ticket_first\\nti_list = test[\"ticket_first\"].unique().tolist()\\ntest[\"ticket_first\"] = test[\"ticket_first\"].replace(ti_list,np.arange(len(ti_list)).tolist())\\ntest = test.drop(\"Ticket\",axis=1)\\n\\ntest[\"Cabin\"] =test[\"Cabin\"].fillna(\"unknown\")\\ntest[\"Cabin\"] = test[\"Cabin\"].str[0]\\ncabin_list = test[\"Cabin\"].unique().tolist()\\ntest[\"Cabin\"] = test[\"Cabin\"].replace(cabin_list,np.arange(len(cabin_list)).tolist())\\n\\nx_test = test\\nx_test[\"Age\"] = x_test[\"Age\"].fillna(x_test[\"Age\"].median())\\n\\nx_test[\"familysize\"] = x_test[\"Parch\"]+x_test[\"SibSp\"]+1\\nx_test[\"Alone\"]=0\\nx_test.loc[x_test[\"familysize\"]==1,\"Alone\"]=1\\n\\nsc = StandardScaler()\\nsc.fit(x_test[[\"Age\",\"Fare\",\"familysize\"]])\\ntest_std = sc.transform(x_test[[\"Age\",\"Fare\",\"familysize\"]])\\nx_test[[\"Age\",\"Fare\",\"familysize\"]] = pd.DataFrame(test_std)\\n\\nfamilylist = x_test[\"Name\"].str.split(\",\").to_list()\\n#〇〇,Mr(Miss/Dr).△△.××：〇〇は姓、△△は名、××はミドルネームを表す\\nfamilymap = map(lambda x: x[0],familylist)\\nx_test[\"Family_name\"] = list(familymap)\\n\\nsex_list_origin = map(lambda x: x[1],familylist)\\nx_test[\"Sex2\"] = list(sex_list_origin)\\nSex2_list = x_test[\"Sex2\"].str.split(\".\").to_list()\\nSex2 = map(lambda x: x[0],Sex2_list)\\nx_test[\"Sex2\"] = list(Sex2)\\n\\ndrop_col = [\"PassengerId\",\"Name\"]\\nx_test = x_test.drop(drop_col,axis=1)\\nx_test\\n'"
      ]
     },
     "execution_count": 24,
     "metadata": {},
     "output_type": "execute_result"
    }
   ],
   "source": [
    "\"\"\"\n",
    "test = test_original\n",
    "\n",
    "test[\"Sex\"] = test[\"Sex\"].replace([\"male\",\"female\"],[0,1])\n",
    "test[\"Embarked\"] = test[\"Embarked\"].fillna(\"S\")\n",
    "test[\"Embarked\"] = test[\"Embarked\"].replace([\"C\",\"Q\",\"S\"],[0,1,2])\n",
    "\n",
    "ticket_first =[]\n",
    "for ticket_name in test[\"Ticket\"]:\n",
    "    ticket_first.append(ticket_name[0])\n",
    "test[\"ticket_first\"] = ticket_first\n",
    "ti_list = test[\"ticket_first\"].unique().tolist()\n",
    "test[\"ticket_first\"] = test[\"ticket_first\"].replace(ti_list,np.arange(len(ti_list)).tolist())\n",
    "test = test.drop(\"Ticket\",axis=1)\n",
    "\n",
    "test[\"Cabin\"] =test[\"Cabin\"].fillna(\"unknown\")\n",
    "test[\"Cabin\"] = test[\"Cabin\"].str[0]\n",
    "cabin_list = test[\"Cabin\"].unique().tolist()\n",
    "test[\"Cabin\"] = test[\"Cabin\"].replace(cabin_list,np.arange(len(cabin_list)).tolist())\n",
    "\n",
    "x_test = test\n",
    "x_test[\"Age\"] = x_test[\"Age\"].fillna(x_test[\"Age\"].median())\n",
    "\n",
    "x_test[\"familysize\"] = x_test[\"Parch\"]+x_test[\"SibSp\"]+1\n",
    "x_test[\"Alone\"]=0\n",
    "x_test.loc[x_test[\"familysize\"]==1,\"Alone\"]=1\n",
    "\n",
    "sc = StandardScaler()\n",
    "sc.fit(x_test[[\"Age\",\"Fare\",\"familysize\"]])\n",
    "test_std = sc.transform(x_test[[\"Age\",\"Fare\",\"familysize\"]])\n",
    "x_test[[\"Age\",\"Fare\",\"familysize\"]] = pd.DataFrame(test_std)\n",
    "\n",
    "familylist = x_test[\"Name\"].str.split(\",\").to_list()\n",
    "#〇〇,Mr(Miss/Dr).△△.××：〇〇は姓、△△は名、××はミドルネームを表す\n",
    "familymap = map(lambda x: x[0],familylist)\n",
    "x_test[\"Family_name\"] = list(familymap)\n",
    "\n",
    "sex_list_origin = map(lambda x: x[1],familylist)\n",
    "x_test[\"Sex2\"] = list(sex_list_origin)\n",
    "Sex2_list = x_test[\"Sex2\"].str.split(\".\").to_list()\n",
    "Sex2 = map(lambda x: x[0],Sex2_list)\n",
    "x_test[\"Sex2\"] = list(Sex2)\n",
    "\n",
    "drop_col = [\"PassengerId\",\"Name\"]\n",
    "x_test = x_test.drop(drop_col,axis=1)\n",
    "x_test\n",
    "\"\"\""
   ]
  },
  {
   "cell_type": "code",
   "execution_count": null,
   "id": "03dd55c6",
   "metadata": {
    "papermill": {
     "duration": 0.014701,
     "end_time": "2024-05-16T14:33:03.206316",
     "exception": false,
     "start_time": "2024-05-16T14:33:03.191615",
     "status": "completed"
    },
    "tags": []
   },
   "outputs": [],
   "source": []
  },
  {
   "cell_type": "code",
   "execution_count": 25,
   "id": "f38ba745",
   "metadata": {
    "execution": {
     "iopub.execute_input": "2024-05-16T14:33:03.238522Z",
     "iopub.status.busy": "2024-05-16T14:33:03.237574Z",
     "iopub.status.idle": "2024-05-16T14:33:03.244893Z",
     "shell.execute_reply": "2024-05-16T14:33:03.243942Z"
    },
    "papermill": {
     "duration": 0.025541,
     "end_time": "2024-05-16T14:33:03.246869",
     "exception": false,
     "start_time": "2024-05-16T14:33:03.221328",
     "status": "completed"
    },
    "tags": []
   },
   "outputs": [
    {
     "data": {
      "text/plain": [
       "'\\n#categorical featureあり\\n\\ndf_submit = pd.DataFrame()\\ndf_submit.to_csv(\"/kaggle/working/submission.csv\",index=False)\\n\\nx_train_lgb, x_valid_lgb, y_train_lgb, y_valid_lgb = train_test_split(x_train, y_train, test_size=0.2, random_state=42)\\n#traintestsplitで2対8の割合で分割をする。\\n\\ncategorical_features=[\"Cabin\",\"ticket_first\"]\\n#よくわからないが、gmbを使うときにはdatasetを分けて作成する必要がある\\n\\nparams = {\\'objective\\': \\'binary\\',\\n          \\'metric\\': \\'binary_logloss\\',\\n          \\'boosting\\': \\'gbdt\\',\\n          \\'verbosity\\': -1,\\n          \\'random_state\\': 0}\\n\\n\\nlgb_train = lgb.Dataset(x_train_lgb,y_train_lgb,categorical_feature=categorical_features)\\nlgb_valid = lgb.Dataset(x_valid_lgb,y_valid_lgb,categorical_feature=categorical_features)\\n\\ngbm=lgb.train(\\n    params,\\n    lgb_train,\\n    valid_sets=[lgb_train, lgb_valid],\\n    valid_names=[\\'train\\', \\'valid\\'],\\n    num_boost_round=1000,\\n    callbacks=[lgb.early_stopping(100),lgb.log_evaluation(period=100)])\\n\\ny_prob = gbm.predict(x_valid_lgb)\\ny_pred = np.round(y_prob)\\nprint(accuracy_score(y_valid_lgb, y_pred))\\n\\nsubmit = gbm.predict(x_test)\\nsubmit = np.round(submit)\\n\\nsubmit = submit.astype(int)\\ngender_submission[\"Survived\"]=submit\\ndf_submit = gender_submission\\ndf_submit.to_csv(\"/kaggle/working/submission.csv\",index=False)\\n\\n#0.79425：categorical featureなし（onehotあり） / optunaなし\\n#0.78974：categorical featureあり（onehotなし） / optunaなし\\n#0.77751：categorical featureなし（onehotあり） / optunaあり\\n'"
      ]
     },
     "execution_count": 25,
     "metadata": {},
     "output_type": "execute_result"
    }
   ],
   "source": [
    "\"\"\"\n",
    "#categorical featureあり\n",
    "\n",
    "df_submit = pd.DataFrame()\n",
    "df_submit.to_csv(\"/kaggle/working/submission.csv\",index=False)\n",
    "\n",
    "x_train_lgb, x_valid_lgb, y_train_lgb, y_valid_lgb = train_test_split(x_train, y_train, test_size=0.2, random_state=42)\n",
    "#traintestsplitで2対8の割合で分割をする。\n",
    "\n",
    "categorical_features=[\"Cabin\",\"ticket_first\"]\n",
    "#よくわからないが、gmbを使うときにはdatasetを分けて作成する必要がある\n",
    "\n",
    "params = {'objective': 'binary',\n",
    "          'metric': 'binary_logloss',\n",
    "          'boosting': 'gbdt',\n",
    "          'verbosity': -1,\n",
    "          'random_state': 0}\n",
    "\n",
    "\n",
    "lgb_train = lgb.Dataset(x_train_lgb,y_train_lgb,categorical_feature=categorical_features)\n",
    "lgb_valid = lgb.Dataset(x_valid_lgb,y_valid_lgb,categorical_feature=categorical_features)\n",
    "\n",
    "gbm=lgb.train(\n",
    "    params,\n",
    "    lgb_train,\n",
    "    valid_sets=[lgb_train, lgb_valid],\n",
    "    valid_names=['train', 'valid'],\n",
    "    num_boost_round=1000,\n",
    "    callbacks=[lgb.early_stopping(100),lgb.log_evaluation(period=100)])\n",
    "\n",
    "y_prob = gbm.predict(x_valid_lgb)\n",
    "y_pred = np.round(y_prob)\n",
    "print(accuracy_score(y_valid_lgb, y_pred))\n",
    "\n",
    "submit = gbm.predict(x_test)\n",
    "submit = np.round(submit)\n",
    "\n",
    "submit = submit.astype(int)\n",
    "gender_submission[\"Survived\"]=submit\n",
    "df_submit = gender_submission\n",
    "df_submit.to_csv(\"/kaggle/working/submission.csv\",index=False)\n",
    "\n",
    "#0.79425：categorical featureなし（onehotあり） / optunaなし\n",
    "#0.78974：categorical featureあり（onehotなし） / optunaなし\n",
    "#0.77751：categorical featureなし（onehotあり） / optunaあり\n",
    "\"\"\""
   ]
  },
  {
   "cell_type": "markdown",
   "id": "baf5f3a9",
   "metadata": {
    "papermill": {
     "duration": 0.014904,
     "end_time": "2024-05-16T14:33:03.276943",
     "exception": false,
     "start_time": "2024-05-16T14:33:03.262039",
     "status": "completed"
    },
    "tags": []
   },
   "source": [
    "x_train_lgb, x_valid_lgb, y_train_lgb, y_valid_lgb = train_test_split(x_train, y_train, test_size=0.2, random_state=42)<br>\n",
    "練習データをtrainとvalidに分けて、LightGBMが使えるように加工している。\n",
    "\n",
    "def objective(trial):\n",
    "\n",
    "    params = {\n",
    "        'objective': 'binary',\n",
    "        #objectiveとは、「目的」の意味。今回のモデルを作成する意味は二項分類であるため、binaryを選択。他に回帰であればregressionになる\n",
    "        'metric': 'binary_logloss',\n",
    "        #metricはモデル構築の損失関数の指定。binaryの場合はbinaryloglossかaucでregressionの場合はrmseやmaeなどがある。\n",
    "        'boosting': 'gbdt',\n",
    "        #モデル選択。gbdt,rf,dart,gossの4種類ある\n",
    "        'max_depth':trial.suggest_int('max_depth', 1, 10),\n",
    "        #モデルの深さの最大値を設定。モデルの深さを設定することで、過学習になりにくくなる\n",
    "        'min_data_in_leaf':trial.suggest_int('min_data_in_leaf', 1, 80),\n",
    "        #モデルの葉の最小データ数を指定。\n",
    "        'learning_rate':trial.suggest_loguniform('learning_rate', 0.001, 0.1),\n",
    "        #学習率。前のモデルをどれくらい更新するかをしていする。\n",
    "        'lambda_l1': trial.suggest_loguniform('lambda_l1', 1e-8, 10.0),\n",
    "        'lambda_l2': trial.suggest_loguniform('lambda_l2', 1e-8, 10.0),\n",
    "        #lambdaとは正則化の意味。正則化とは、データが複雑になるほどペナルティを与えるもの\n",
    "        'num_leaves': trial.suggest_int('num_leaves', 2, 512),\n",
    "        # 1つのモデルあたりの葉の数のこと。\n",
    "        'feature_fraction': trial.suggest_uniform('feature_fraction', 0.4, 1.0),\n",
    "        #特徴量の何％を使うか指定する。\n",
    "        'bagging_fraction': trial.suggest_uniform('bagging_fraction', 0.4, 1.0),\n",
    "        #バギングの際に訓練データの何％を使うか指定する。\n",
    "        'bagging_freq': trial.suggest_int('bagging_freq', 0, 10),\n",
    "         #バギングを行う頻度を指定する。\n",
    "        'min_child_samples': trial.suggest_int('min_child_samples', 5, 100),\n",
    "        'verbosity': -1,\n",
    "        #学習途中の情報を表示するか否か\n",
    "        'random_state': 0,\n",
    "    }\n",
    "\n",
    "\n",
    "    lgb_train = lgb.Dataset(x_train_lgb,y_train_lgb)\n",
    "    lgb_valid = lgb.Dataset(x_valid_lgb,y_valid_lgb)\n",
    "\n",
    "    gbm=lgb.train(\n",
    "        params,\n",
    "        #パラメーター\n",
    "        lgb_train,\n",
    "        #トレーニングデータ\n",
    "        valid_sets=[lgb_train, lgb_valid],\n",
    "        valid_names=['train', 'valid'],\n",
    "        num_boost_round=1000,\n",
    "        callbacks=[lgb.early_stopping(100),lgb.log_evaluation(period=100)])\n",
    "        #early_stoppingは、指定した回数の学習を進めても改善が見られない場合には学習を打ち切るもの。\n",
    "        #log_evaluationを入れることで、それぞれのイテレーション時に評価指標を出力してくれる\n",
    "        #callbackについてはこちらが詳しい\n",
    "        https://qiita.com/c60evaporator/items/2b7a2820d575e212bcf4\n",
    "        https://datawokagaku.com/lightgbm/\n",
    "\n",
    "    y_prob = gbm.predict(x_valid_lgb)\n",
    "    y_pred = np.round(y_prob)\n",
    "    return(accuracy_score(y_valid_lgb, y_pred))\n",
    "\n",
    "study = optuna.create_study(direction=\"maximize\",sampler=optuna.samplers.TPESampler(seed=42))\n",
    "study.optimize(objective, n_trials=100)\n",
    "\n",
    "y_pred =gbm.predict(x_valid_lgb,num_iteration=gbm.best_iteration,predict_disable_shape_check=True)\n",
    "y_pred = (y_pred>0.5).astype(int)\n",
    "accuracy_score(y_valid_lgb, y_pred)"
   ]
  },
  {
   "cell_type": "code",
   "execution_count": 26,
   "id": "17ad240f",
   "metadata": {
    "execution": {
     "iopub.execute_input": "2024-05-16T14:33:03.309436Z",
     "iopub.status.busy": "2024-05-16T14:33:03.308517Z",
     "iopub.status.idle": "2024-05-16T14:33:03.316128Z",
     "shell.execute_reply": "2024-05-16T14:33:03.315186Z"
    },
    "papermill": {
     "duration": 0.026107,
     "end_time": "2024-05-16T14:33:03.318172",
     "exception": false,
     "start_time": "2024-05-16T14:33:03.292065",
     "status": "completed"
    },
    "tags": []
   },
   "outputs": [
    {
     "data": {
      "text/plain": [
       "'\\n#categorical featureなし / optunaあり\\n\\ndf_submit = pd.DataFrame()\\ndf_submit.to_csv(\"/kaggle/working/submission.csv\",index=False)\\n\\nx_train_lgb, x_valid_lgb, y_train_lgb, y_valid_lgb = train_test_split(x_train, y_train, test_size=0.2, random_state=42)\\n\\ndef objective(trial):\\n\\n    params = {\\n        \\'objective\\': \\'binary\\',\\n        \\'metric\\': \\'binary_logloss\\',\\n        \\'boosting\\': \\'gbdt\\',\\n        \\'max_depth\\':trial.suggest_int(\\'max_depth\\', 1, 10),\\n        \\'min_data_in_leaf\\':trial.suggest_int(\\'min_data_in_leaf\\', 1, 80),\\n        \\'learning_rate\\':trial.suggest_loguniform(\\'learning_rate\\', 0.001, 0.1),\\n        \\'lambda_l1\\': trial.suggest_loguniform(\\'lambda_l1\\', 1e-8, 10.0),\\n        \\'lambda_l2\\': trial.suggest_loguniform(\\'lambda_l2\\', 1e-8, 10.0),\\n        \\'num_leaves\\': trial.suggest_int(\\'num_leaves\\', 2, 512),\\n        \\'feature_fraction\\': trial.suggest_uniform(\\'feature_fraction\\', 0.4, 1.0),\\n        \\'bagging_fraction\\': trial.suggest_uniform(\\'bagging_fraction\\', 0.4, 1.0),\\n        \\'bagging_freq\\': trial.suggest_int(\\'bagging_freq\\', 0, 10),\\n        \\'min_child_samples\\': trial.suggest_int(\\'min_child_samples\\', 5, 100),\\n        \\'verbosity\\': -1,\\n        \\'random_state\\': 0,\\n    }\\n\\n\\n    lgb_train = lgb.Dataset(x_train_lgb,y_train_lgb)\\n    lgb_valid = lgb.Dataset(x_valid_lgb,y_valid_lgb)\\n\\n    gbm=lgb.train(\\n        params,\\n        lgb_train,\\n        valid_sets=[lgb_train, lgb_valid],\\n        valid_names=[\\'train\\', \\'valid\\'],\\n        num_boost_round=1000,\\n        callbacks=[lgb.early_stopping(100),lgb.log_evaluation(period=100)])\\n    \\n    y_prob = gbm.predict(x_valid_lgb)\\n    y_pred = np.round(y_prob)\\n    return accuracy_score(y_valid_lgb, y_pred)\\n\\nstudy = optuna.create_study(direction=\"maximize\",sampler=optuna.samplers.TPESampler(seed=42))\\nstudy.optimize(objective, n_trials=100)\\nstudy.best_params\\n'"
      ]
     },
     "execution_count": 26,
     "metadata": {},
     "output_type": "execute_result"
    }
   ],
   "source": [
    "\"\"\"\n",
    "#categorical featureなし / optunaあり\n",
    "\n",
    "df_submit = pd.DataFrame()\n",
    "df_submit.to_csv(\"/kaggle/working/submission.csv\",index=False)\n",
    "\n",
    "x_train_lgb, x_valid_lgb, y_train_lgb, y_valid_lgb = train_test_split(x_train, y_train, test_size=0.2, random_state=42)\n",
    "\n",
    "def objective(trial):\n",
    "\n",
    "    params = {\n",
    "        'objective': 'binary',\n",
    "        'metric': 'binary_logloss',\n",
    "        'boosting': 'gbdt',\n",
    "        'max_depth':trial.suggest_int('max_depth', 1, 10),\n",
    "        'min_data_in_leaf':trial.suggest_int('min_data_in_leaf', 1, 80),\n",
    "        'learning_rate':trial.suggest_loguniform('learning_rate', 0.001, 0.1),\n",
    "        'lambda_l1': trial.suggest_loguniform('lambda_l1', 1e-8, 10.0),\n",
    "        'lambda_l2': trial.suggest_loguniform('lambda_l2', 1e-8, 10.0),\n",
    "        'num_leaves': trial.suggest_int('num_leaves', 2, 512),\n",
    "        'feature_fraction': trial.suggest_uniform('feature_fraction', 0.4, 1.0),\n",
    "        'bagging_fraction': trial.suggest_uniform('bagging_fraction', 0.4, 1.0),\n",
    "        'bagging_freq': trial.suggest_int('bagging_freq', 0, 10),\n",
    "        'min_child_samples': trial.suggest_int('min_child_samples', 5, 100),\n",
    "        'verbosity': -1,\n",
    "        'random_state': 0,\n",
    "    }\n",
    "\n",
    "\n",
    "    lgb_train = lgb.Dataset(x_train_lgb,y_train_lgb)\n",
    "    lgb_valid = lgb.Dataset(x_valid_lgb,y_valid_lgb)\n",
    "\n",
    "    gbm=lgb.train(\n",
    "        params,\n",
    "        lgb_train,\n",
    "        valid_sets=[lgb_train, lgb_valid],\n",
    "        valid_names=['train', 'valid'],\n",
    "        num_boost_round=1000,\n",
    "        callbacks=[lgb.early_stopping(100),lgb.log_evaluation(period=100)])\n",
    "    \n",
    "    y_prob = gbm.predict(x_valid_lgb)\n",
    "    y_pred = np.round(y_prob)\n",
    "    return accuracy_score(y_valid_lgb, y_pred)\n",
    "\n",
    "study = optuna.create_study(direction=\"maximize\",sampler=optuna.samplers.TPESampler(seed=42))\n",
    "study.optimize(objective, n_trials=100)\n",
    "study.best_params\n",
    "\"\"\""
   ]
  },
  {
   "cell_type": "code",
   "execution_count": 27,
   "id": "4f9d77b5",
   "metadata": {
    "execution": {
     "iopub.execute_input": "2024-05-16T14:33:03.350750Z",
     "iopub.status.busy": "2024-05-16T14:33:03.349619Z",
     "iopub.status.idle": "2024-05-16T14:33:03.357332Z",
     "shell.execute_reply": "2024-05-16T14:33:03.356273Z"
    },
    "papermill": {
     "duration": 0.026162,
     "end_time": "2024-05-16T14:33:03.359551",
     "exception": false,
     "start_time": "2024-05-16T14:33:03.333389",
     "status": "completed"
    },
    "tags": []
   },
   "outputs": [
    {
     "data": {
      "text/plain": [
       "'\\ndf_submit = pd.DataFrame()\\ndf_submit.to_csv(\"/kaggle/working/submission.csv\",index=False)\\n\\nx_train_lgb, x_valid_lgb, y_train_lgb, y_valid_lgb = train_test_split(x_train, y_train, test_size=0.2, random_state=42)\\n\\nparams = {\\n    \\'objective\\': \\'binary\\',\\n    \\'metric\\': \\'binary_logloss\\',\\n    \\'boosting\\': \\'gbdt\\',\\n    \\'max_depth\\':study.best_params[\"max_depth\"],\\n    \\'min_data_in_leaf\\':study.best_params[\"min_data_in_leaf\"],\\n    \\'learning_rate\\':study.best_params[\"learning_rate\"],\\n    \\'lambda_l1\\': study.best_params[\"lambda_l1\"],\\n    \\'lambda_l2\\': study.best_params[\"lambda_l2\"],\\n    \\'num_leaves\\': study.best_params[\"num_leaves\"],\\n    \\'feature_fraction\\': study.best_params[\"feature_fraction\"],\\n    \\'bagging_fraction\\': study.best_params[\"bagging_fraction\"],\\n    \\'bagging_freq\\': study.best_params[\"bagging_freq\"],\\n    \\'min_child_samples\\': study.best_params[\"min_child_samples\"],\\n    \\'verbosity\\': -1,\\n    \\'random_state\\': 0,\\n}\\n\\n\\nlgb_train = lgb.Dataset(x_train_lgb,y_train_lgb)\\nlgb_valid = lgb.Dataset(x_valid_lgb,y_valid_lgb)\\n\\ngbm=lgb.train(\\n    params,\\n    lgb_train,\\n    valid_sets=[lgb_train, lgb_valid],\\n    valid_names=[\\'train\\', \\'valid\\'],\\n    num_boost_round=1000,\\n    callbacks=[lgb.early_stopping(100),lgb.log_evaluation(period=100)])\\n\\nsubmit = gbm.predict(x_test)\\nsubmit = np.round(submit).astype(int)\\n\\ngender_submission[\"Survived\"]=submit\\ndf_submit = gender_submission\\ndf_submit.to_csv(\"/kaggle/working/submission.csv\",index=False)\\n'"
      ]
     },
     "execution_count": 27,
     "metadata": {},
     "output_type": "execute_result"
    }
   ],
   "source": [
    "\"\"\"\n",
    "df_submit = pd.DataFrame()\n",
    "df_submit.to_csv(\"/kaggle/working/submission.csv\",index=False)\n",
    "\n",
    "x_train_lgb, x_valid_lgb, y_train_lgb, y_valid_lgb = train_test_split(x_train, y_train, test_size=0.2, random_state=42)\n",
    "\n",
    "params = {\n",
    "    'objective': 'binary',\n",
    "    'metric': 'binary_logloss',\n",
    "    'boosting': 'gbdt',\n",
    "    'max_depth':study.best_params[\"max_depth\"],\n",
    "    'min_data_in_leaf':study.best_params[\"min_data_in_leaf\"],\n",
    "    'learning_rate':study.best_params[\"learning_rate\"],\n",
    "    'lambda_l1': study.best_params[\"lambda_l1\"],\n",
    "    'lambda_l2': study.best_params[\"lambda_l2\"],\n",
    "    'num_leaves': study.best_params[\"num_leaves\"],\n",
    "    'feature_fraction': study.best_params[\"feature_fraction\"],\n",
    "    'bagging_fraction': study.best_params[\"bagging_fraction\"],\n",
    "    'bagging_freq': study.best_params[\"bagging_freq\"],\n",
    "    'min_child_samples': study.best_params[\"min_child_samples\"],\n",
    "    'verbosity': -1,\n",
    "    'random_state': 0,\n",
    "}\n",
    "\n",
    "\n",
    "lgb_train = lgb.Dataset(x_train_lgb,y_train_lgb)\n",
    "lgb_valid = lgb.Dataset(x_valid_lgb,y_valid_lgb)\n",
    "\n",
    "gbm=lgb.train(\n",
    "    params,\n",
    "    lgb_train,\n",
    "    valid_sets=[lgb_train, lgb_valid],\n",
    "    valid_names=['train', 'valid'],\n",
    "    num_boost_round=1000,\n",
    "    callbacks=[lgb.early_stopping(100),lgb.log_evaluation(period=100)])\n",
    "\n",
    "submit = gbm.predict(x_test)\n",
    "submit = np.round(submit).astype(int)\n",
    "\n",
    "gender_submission[\"Survived\"]=submit\n",
    "df_submit = gender_submission\n",
    "df_submit.to_csv(\"/kaggle/working/submission.csv\",index=False)\n",
    "\"\"\""
   ]
  },
  {
   "cell_type": "code",
   "execution_count": 28,
   "id": "a9c60bc5",
   "metadata": {
    "execution": {
     "iopub.execute_input": "2024-05-16T14:33:03.392255Z",
     "iopub.status.busy": "2024-05-16T14:33:03.391855Z",
     "iopub.status.idle": "2024-05-16T14:33:03.398795Z",
     "shell.execute_reply": "2024-05-16T14:33:03.397852Z"
    },
    "papermill": {
     "duration": 0.025827,
     "end_time": "2024-05-16T14:33:03.400826",
     "exception": false,
     "start_time": "2024-05-16T14:33:03.374999",
     "status": "completed"
    },
    "tags": []
   },
   "outputs": [
    {
     "data": {
      "text/plain": [
       "'\\ndf_submit = pd.DataFrame()\\ndf_submit.to_csv(\"/kaggle/working/submission.csv\",index=False)\\n\\nrandom = pd.read_csv(\"/kaggle/input/0516-1data/0516rand.csv\")\\nlogi = pd.read_csv(\"/kaggle/input/0516-1data/0516lre.csv\")\\nlgb = pd.read_csv(\"/kaggle/input/0516-1data/0516lgb.csv\")\\ndf_corr=pd.concat([random,logi,lgb],axis=1).drop(\"PassengerId\",axis=1)\\n\\ngender_submission[\"Survived\"]=((random[\"Survived\"]+logi[\"Survived\"]+lgb[\"Survived\"])/3).astype(int)\\ndf_submit=gender_submission\\n\\ndf_submit.to_csv(\"/kaggle/working/submission.csv\",index=False)\\n\\n#0.76794\\n#0.77033：ticket(1,3,Pのみ)\\n#0.79665：特徴量調整の後に、lgbとrandomとlreで実装\\n'"
      ]
     },
     "execution_count": 28,
     "metadata": {},
     "output_type": "execute_result"
    }
   ],
   "source": [
    "#アンサンブル\n",
    "\"\"\"\n",
    "knn = pd.read_csv(\"/kaggle/input/0504data/0504knn.csv\")\n",
    "svm = pd.read_csv(\"/kaggle/input/0504data/0504svm.csv\")\n",
    "\"\"\"\n",
    "\"\"\"\n",
    "df_submit = pd.DataFrame()\n",
    "df_submit.to_csv(\"/kaggle/working/submission.csv\",index=False)\n",
    "\n",
    "random = pd.read_csv(\"/kaggle/input/0516-1data/0516rand.csv\")\n",
    "logi = pd.read_csv(\"/kaggle/input/0516-1data/0516lre.csv\")\n",
    "lgb = pd.read_csv(\"/kaggle/input/0516-1data/0516lgb.csv\")\n",
    "df_corr=pd.concat([random,logi,lgb],axis=1).drop(\"PassengerId\",axis=1)\n",
    "\n",
    "gender_submission[\"Survived\"]=((random[\"Survived\"]+logi[\"Survived\"]+lgb[\"Survived\"])/3).astype(int)\n",
    "df_submit=gender_submission\n",
    "\n",
    "df_submit.to_csv(\"/kaggle/working/submission.csv\",index=False)\n",
    "\n",
    "#0.76794\n",
    "#0.77033：ticket(1,3,Pのみ)\n",
    "#0.79665：特徴量調整の後に、lgbとrandomとlreで実装\n",
    "\"\"\""
   ]
  },
  {
   "cell_type": "code",
   "execution_count": 29,
   "id": "a3dccf15",
   "metadata": {
    "execution": {
     "iopub.execute_input": "2024-05-16T14:33:03.433791Z",
     "iopub.status.busy": "2024-05-16T14:33:03.433054Z",
     "iopub.status.idle": "2024-05-16T14:33:03.786275Z",
     "shell.execute_reply": "2024-05-16T14:33:03.785228Z"
    },
    "papermill": {
     "duration": 0.371663,
     "end_time": "2024-05-16T14:33:03.788422",
     "exception": false,
     "start_time": "2024-05-16T14:33:03.416759",
     "status": "completed"
    },
    "tags": []
   },
   "outputs": [
    {
     "data": {
      "text/plain": [
       "<Axes: xlabel='Cabin', ylabel='count'>"
      ]
     },
     "execution_count": 29,
     "metadata": {},
     "output_type": "execute_result"
    },
    {
     "data": {
      "image/png": "[encoded data removed]",
      "text/plain": [
       "<Figure size 640x480 with 1 Axes>"
      ]
     },
     "metadata": {},
     "output_type": "display_data"
    }
   ],
   "source": [
    "train_original[\"Cabin\"] =train_original[\"Cabin\"].fillna(\"unknown\")\n",
    "train_original[\"Cabin\"] = train_original[\"Cabin\"].str[0]\n",
    "sns.countplot(x=\"Cabin\",hue=\"Survived\",data=train_original)"
   ]
  },
  {
   "cell_type": "code",
   "execution_count": null,
   "id": "1af66030",
   "metadata": {
    "papermill": {
     "duration": 0.016049,
     "end_time": "2024-05-16T14:33:03.821341",
     "exception": false,
     "start_time": "2024-05-16T14:33:03.805292",
     "status": "completed"
    },
    "tags": []
   },
   "outputs": [],
   "source": []
  },
  {
   "cell_type": "markdown",
   "id": "307b4d01",
   "metadata": {
    "papermill": {
     "duration": 0.015655,
     "end_time": "2024-05-16T14:33:03.853361",
     "exception": false,
     "start_time": "2024-05-16T14:33:03.837706",
     "status": "completed"
    },
    "tags": []
   },
   "source": [
    "分からない人は置いておいて、C,E,D,B,Fの人は生存率が高い"
   ]
  },
  {
   "cell_type": "code",
   "execution_count": 30,
   "id": "2f64bf01",
   "metadata": {
    "execution": {
     "iopub.execute_input": "2024-05-16T14:33:03.887244Z",
     "iopub.status.busy": "2024-05-16T14:33:03.886329Z",
     "iopub.status.idle": "2024-05-16T14:33:04.209555Z",
     "shell.execute_reply": "2024-05-16T14:33:04.208531Z"
    },
    "papermill": {
     "duration": 0.342612,
     "end_time": "2024-05-16T14:33:04.211852",
     "exception": false,
     "start_time": "2024-05-16T14:33:03.869240",
     "status": "completed"
    },
    "tags": []
   },
   "outputs": [
    {
     "data": {
      "text/plain": [
       "<Axes: xlabel='familysize', ylabel='count'>"
      ]
     },
     "execution_count": 30,
     "metadata": {},
     "output_type": "execute_result"
    },
    {
     "data": {
      "image/png": "[encoded data removed]",
      "text/plain": [
       "<Figure size 640x480 with 1 Axes>"
      ]
     },
     "metadata": {},
     "output_type": "display_data"
    }
   ],
   "source": [
    "train[\"familysize\"] = train[\"Parch\"]+train[\"SibSp\"]+1\n",
    "sns.countplot(x=\"familysize\",hue=\"Survived\",data=train)"
   ]
  },
  {
   "cell_type": "markdown",
   "id": "24b035ba",
   "metadata": {
    "papermill": {
     "duration": 0.016509,
     "end_time": "2024-05-16T14:33:04.245200",
     "exception": false,
     "start_time": "2024-05-16T14:33:04.228691",
     "status": "completed"
    },
    "tags": []
   },
   "source": [
    "familysizeが5以上か、1の場合には死亡率が高い"
   ]
  },
  {
   "cell_type": "code",
   "execution_count": 31,
   "id": "f2eda7e5",
   "metadata": {
    "execution": {
     "iopub.execute_input": "2024-05-16T14:33:04.280627Z",
     "iopub.status.busy": "2024-05-16T14:33:04.279679Z",
     "iopub.status.idle": "2024-05-16T14:33:04.530599Z",
     "shell.execute_reply": "2024-05-16T14:33:04.529535Z"
    },
    "papermill": {
     "duration": 0.271067,
     "end_time": "2024-05-16T14:33:04.532894",
     "exception": false,
     "start_time": "2024-05-16T14:33:04.261827",
     "status": "completed"
    },
    "tags": []
   },
   "outputs": [
    {
     "data": {
      "text/plain": [
       "<Axes: xlabel='Pclass', ylabel='count'>"
      ]
     },
     "execution_count": 31,
     "metadata": {},
     "output_type": "execute_result"
    },
    {
     "data": {
      "image/png": "[encoded data removed]",
      "text/plain": [
       "<Figure size 640x480 with 1 Axes>"
      ]
     },
     "metadata": {},
     "output_type": "display_data"
    }
   ],
   "source": [
    "sns.countplot(x=\"Pclass\",hue=\"Survived\",data=train)"
   ]
  },
  {
   "cell_type": "markdown",
   "id": "f738c3ff",
   "metadata": {
    "papermill": {
     "duration": 0.017398,
     "end_time": "2024-05-16T14:33:04.567382",
     "exception": false,
     "start_time": "2024-05-16T14:33:04.549984",
     "status": "completed"
    },
    "tags": []
   },
   "source": [
    "Pclassが大きくなればなるほど、死ぬ可能性が高くなる\n",
    "Pclassはticket classであり、大きくなるほどランクが下がる"
   ]
  },
  {
   "cell_type": "code",
   "execution_count": 32,
   "id": "04d9ae90",
   "metadata": {
    "execution": {
     "iopub.execute_input": "2024-05-16T14:33:04.602886Z",
     "iopub.status.busy": "2024-05-16T14:33:04.602456Z",
     "iopub.status.idle": "2024-05-16T14:33:04.837009Z",
     "shell.execute_reply": "2024-05-16T14:33:04.835949Z"
    },
    "papermill": {
     "duration": 0.25507,
     "end_time": "2024-05-16T14:33:04.839373",
     "exception": false,
     "start_time": "2024-05-16T14:33:04.584303",
     "status": "completed"
    },
    "tags": []
   },
   "outputs": [
    {
     "data": {
      "text/plain": [
       "<Axes: xlabel='Sex', ylabel='count'>"
      ]
     },
     "execution_count": 32,
     "metadata": {},
     "output_type": "execute_result"
    },
    {
     "data": {
      "image/png": "[encoded data removed]",
      "text/plain": [
       "<Figure size 640x480 with 1 Axes>"
      ]
     },
     "metadata": {},
     "output_type": "display_data"
    }
   ],
   "source": [
    "sns.countplot(x=\"Sex\",hue=\"Survived\",data=train)"
   ]
  },
  {
   "cell_type": "markdown",
   "id": "69ccb53f",
   "metadata": {
    "papermill": {
     "duration": 0.016926,
     "end_time": "2024-05-16T14:33:04.873805",
     "exception": false,
     "start_time": "2024-05-16T14:33:04.856879",
     "status": "completed"
    },
    "tags": []
   },
   "source": [
    "つまり、女性のほうが生き残りやすい"
   ]
  },
  {
   "cell_type": "code",
   "execution_count": 33,
   "id": "7d4d9ce3",
   "metadata": {
    "execution": {
     "iopub.execute_input": "2024-05-16T14:33:04.910167Z",
     "iopub.status.busy": "2024-05-16T14:33:04.909171Z",
     "iopub.status.idle": "2024-05-16T14:33:05.216887Z",
     "shell.execute_reply": "2024-05-16T14:33:05.216013Z"
    },
    "papermill": {
     "duration": 0.328318,
     "end_time": "2024-05-16T14:33:05.219186",
     "exception": false,
     "start_time": "2024-05-16T14:33:04.890868",
     "status": "completed"
    },
    "tags": []
   },
   "outputs": [
    {
     "data": {
      "text/plain": [
       "<matplotlib.legend.Legend at 0x7bcf004a3e20>"
      ]
     },
     "execution_count": 33,
     "metadata": {},
     "output_type": "execute_result"
    },
    {
     "data": {
      "image/png": "[encoded data removed]",
      "text/plain": [
       "<Figure size 640x480 with 1 Axes>"
      ]
     },
     "metadata": {},
     "output_type": "display_data"
    }
   ],
   "source": [
    "age_s = train[train[\"Survived\"]==1][\"Age\"]\n",
    "age_n = train[train[\"Survived\"]==0][\"Age\"]\n",
    "\n",
    "plt.hist(age_n,label=\"No Survived\")\n",
    "plt.hist(age_s,label=\"Survived\")\n",
    "plt.legend(title=\"Survived\")"
   ]
  },
  {
   "cell_type": "markdown",
   "id": "956e1f27",
   "metadata": {
    "papermill": {
     "duration": 0.017381,
     "end_time": "2024-05-16T14:33:05.254589",
     "exception": false,
     "start_time": "2024-05-16T14:33:05.237208",
     "status": "completed"
    },
    "tags": []
   },
   "source": [
    "つまり、若い人のほうが生き残りやすい。特に40代以降は死ぬ人が多い"
   ]
  },
  {
   "cell_type": "code",
   "execution_count": 34,
   "id": "cba8a56c",
   "metadata": {
    "execution": {
     "iopub.execute_input": "2024-05-16T14:33:05.291659Z",
     "iopub.status.busy": "2024-05-16T14:33:05.290823Z",
     "iopub.status.idle": "2024-05-16T14:33:05.597608Z",
     "shell.execute_reply": "2024-05-16T14:33:05.596535Z"
    },
    "papermill": {
     "duration": 0.327854,
     "end_time": "2024-05-16T14:33:05.600057",
     "exception": false,
     "start_time": "2024-05-16T14:33:05.272203",
     "status": "completed"
    },
    "tags": []
   },
   "outputs": [
    {
     "data": {
      "text/plain": [
       "<matplotlib.legend.Legend at 0x7bcf00543340>"
      ]
     },
     "execution_count": 34,
     "metadata": {},
     "output_type": "execute_result"
    },
    {
     "data": {
      "image/png": "[encoded data removed]",
      "text/plain": [
       "<Figure size 640x480 with 1 Axes>"
      ]
     },
     "metadata": {},
     "output_type": "display_data"
    }
   ],
   "source": [
    "age_s = train[train[\"Survived\"]==1][\"Fare\"]\n",
    "age_n = train[train[\"Survived\"]==0][\"Fare\"]\n",
    "\n",
    "plt.hist(age_n,label=\"No Survived\")\n",
    "plt.hist(age_s,label=\"Survived\")\n",
    "plt.legend(title=\"Survived\")"
   ]
  },
  {
   "cell_type": "markdown",
   "id": "ce81f8f8",
   "metadata": {
    "papermill": {
     "duration": 0.018033,
     "end_time": "2024-05-16T14:33:05.636701",
     "exception": false,
     "start_time": "2024-05-16T14:33:05.618668",
     "status": "completed"
    },
    "tags": []
   },
   "source": [
    "つまり、多くお金を払っている人のほうが生き残りやすい"
   ]
  },
  {
   "cell_type": "code",
   "execution_count": 35,
   "id": "ebc351df",
   "metadata": {
    "execution": {
     "iopub.execute_input": "2024-05-16T14:33:05.674709Z",
     "iopub.status.busy": "2024-05-16T14:33:05.674337Z",
     "iopub.status.idle": "2024-05-16T14:33:05.708545Z",
     "shell.execute_reply": "2024-05-16T14:33:05.707509Z"
    },
    "papermill": {
     "duration": 0.056215,
     "end_time": "2024-05-16T14:33:05.711027",
     "exception": false,
     "start_time": "2024-05-16T14:33:05.654812",
     "status": "completed"
    },
    "tags": []
   },
   "outputs": [
    {
     "name": "stdout",
     "output_type": "stream",
     "text": [
      "fare1 512.3292 0.0\n",
      "fare2 73.5 0.0\n",
      "fare3 69.55 0.0\n"
     ]
    },
    {
     "data": {
      "text/html": [
       "<div>\n",
       "<style scoped>\n",
       "    .dataframe tbody tr th:only-of-type {\n",
       "        vertical-align: middle;\n",
       "    }\n",
       "\n",
       "    .dataframe tbody tr th {\n",
       "        vertical-align: top;\n",
       "    }\n",
       "\n",
       "    .dataframe thead th {\n",
       "        text-align: right;\n",
       "    }\n",
       "</style>\n",
       "<table border=\"1\" class=\"dataframe\">\n",
       "  <thead>\n",
       "    <tr style=\"text-align: right;\">\n",
       "      <th></th>\n",
       "      <th>PassengerId</th>\n",
       "      <th>Survived</th>\n",
       "      <th>Pclass</th>\n",
       "      <th>Name</th>\n",
       "      <th>Sex</th>\n",
       "      <th>Age</th>\n",
       "      <th>SibSp</th>\n",
       "      <th>Parch</th>\n",
       "      <th>Fare</th>\n",
       "      <th>Embarked_C</th>\n",
       "      <th>...</th>\n",
       "      <th>TicketGroup</th>\n",
       "      <th>unknown-woman</th>\n",
       "      <th>unknown-man</th>\n",
       "      <th>unknown-high</th>\n",
       "      <th>unknown-middle</th>\n",
       "      <th>unknown-low</th>\n",
       "      <th>unknown-group0</th>\n",
       "      <th>unknown-group1</th>\n",
       "      <th>unknown-group2</th>\n",
       "      <th>Surname_Count</th>\n",
       "    </tr>\n",
       "  </thead>\n",
       "  <tbody>\n",
       "    <tr>\n",
       "      <th>179</th>\n",
       "      <td>180</td>\n",
       "      <td>0.0</td>\n",
       "      <td>3</td>\n",
       "      <td>Leonard, Mr. Lionel</td>\n",
       "      <td>0</td>\n",
       "      <td>36.0</td>\n",
       "      <td>0</td>\n",
       "      <td>0</td>\n",
       "      <td>0.0</td>\n",
       "      <td>0</td>\n",
       "      <td>...</td>\n",
       "      <td>2</td>\n",
       "      <td>1</td>\n",
       "      <td>1</td>\n",
       "      <td>1</td>\n",
       "      <td>0</td>\n",
       "      <td>0</td>\n",
       "      <td>1</td>\n",
       "      <td>1</td>\n",
       "      <td>1</td>\n",
       "      <td>1</td>\n",
       "    </tr>\n",
       "    <tr>\n",
       "      <th>263</th>\n",
       "      <td>264</td>\n",
       "      <td>0.0</td>\n",
       "      <td>1</td>\n",
       "      <td>Harrison, Mr. William</td>\n",
       "      <td>0</td>\n",
       "      <td>40.0</td>\n",
       "      <td>0</td>\n",
       "      <td>0</td>\n",
       "      <td>0.0</td>\n",
       "      <td>0</td>\n",
       "      <td>...</td>\n",
       "      <td>1</td>\n",
       "      <td>1</td>\n",
       "      <td>1</td>\n",
       "      <td>0</td>\n",
       "      <td>0</td>\n",
       "      <td>0</td>\n",
       "      <td>1</td>\n",
       "      <td>1</td>\n",
       "      <td>1</td>\n",
       "      <td>1</td>\n",
       "    </tr>\n",
       "    <tr>\n",
       "      <th>271</th>\n",
       "      <td>272</td>\n",
       "      <td>1.0</td>\n",
       "      <td>3</td>\n",
       "      <td>Tornquist, Mr. William Henry</td>\n",
       "      <td>0</td>\n",
       "      <td>25.0</td>\n",
       "      <td>0</td>\n",
       "      <td>0</td>\n",
       "      <td>0.0</td>\n",
       "      <td>0</td>\n",
       "      <td>...</td>\n",
       "      <td>2</td>\n",
       "      <td>1</td>\n",
       "      <td>1</td>\n",
       "      <td>1</td>\n",
       "      <td>0</td>\n",
       "      <td>0</td>\n",
       "      <td>1</td>\n",
       "      <td>1</td>\n",
       "      <td>1</td>\n",
       "      <td>1</td>\n",
       "    </tr>\n",
       "    <tr>\n",
       "      <th>277</th>\n",
       "      <td>278</td>\n",
       "      <td>0.0</td>\n",
       "      <td>2</td>\n",
       "      <td>Parkes, Mr. Francis \"Frank\"</td>\n",
       "      <td>0</td>\n",
       "      <td>28.0</td>\n",
       "      <td>0</td>\n",
       "      <td>0</td>\n",
       "      <td>0.0</td>\n",
       "      <td>0</td>\n",
       "      <td>...</td>\n",
       "      <td>2</td>\n",
       "      <td>1</td>\n",
       "      <td>1</td>\n",
       "      <td>0</td>\n",
       "      <td>1</td>\n",
       "      <td>0</td>\n",
       "      <td>1</td>\n",
       "      <td>1</td>\n",
       "      <td>1</td>\n",
       "      <td>1</td>\n",
       "    </tr>\n",
       "    <tr>\n",
       "      <th>302</th>\n",
       "      <td>303</td>\n",
       "      <td>0.0</td>\n",
       "      <td>3</td>\n",
       "      <td>Johnson, Mr. William Cahoone Jr</td>\n",
       "      <td>0</td>\n",
       "      <td>19.0</td>\n",
       "      <td>0</td>\n",
       "      <td>0</td>\n",
       "      <td>0.0</td>\n",
       "      <td>0</td>\n",
       "      <td>...</td>\n",
       "      <td>2</td>\n",
       "      <td>1</td>\n",
       "      <td>1</td>\n",
       "      <td>1</td>\n",
       "      <td>0</td>\n",
       "      <td>0</td>\n",
       "      <td>1</td>\n",
       "      <td>1</td>\n",
       "      <td>1</td>\n",
       "      <td>6</td>\n",
       "    </tr>\n",
       "    <tr>\n",
       "      <th>413</th>\n",
       "      <td>414</td>\n",
       "      <td>0.0</td>\n",
       "      <td>2</td>\n",
       "      <td>Cunningham, Mr. Alfred Fleming</td>\n",
       "      <td>0</td>\n",
       "      <td>28.0</td>\n",
       "      <td>0</td>\n",
       "      <td>0</td>\n",
       "      <td>0.0</td>\n",
       "      <td>0</td>\n",
       "      <td>...</td>\n",
       "      <td>2</td>\n",
       "      <td>1</td>\n",
       "      <td>1</td>\n",
       "      <td>0</td>\n",
       "      <td>1</td>\n",
       "      <td>0</td>\n",
       "      <td>1</td>\n",
       "      <td>1</td>\n",
       "      <td>1</td>\n",
       "      <td>1</td>\n",
       "    </tr>\n",
       "    <tr>\n",
       "      <th>466</th>\n",
       "      <td>467</td>\n",
       "      <td>0.0</td>\n",
       "      <td>2</td>\n",
       "      <td>Campbell, Mr. William</td>\n",
       "      <td>0</td>\n",
       "      <td>28.0</td>\n",
       "      <td>0</td>\n",
       "      <td>0</td>\n",
       "      <td>0.0</td>\n",
       "      <td>0</td>\n",
       "      <td>...</td>\n",
       "      <td>2</td>\n",
       "      <td>1</td>\n",
       "      <td>1</td>\n",
       "      <td>0</td>\n",
       "      <td>1</td>\n",
       "      <td>0</td>\n",
       "      <td>1</td>\n",
       "      <td>1</td>\n",
       "      <td>1</td>\n",
       "      <td>1</td>\n",
       "    </tr>\n",
       "    <tr>\n",
       "      <th>481</th>\n",
       "      <td>482</td>\n",
       "      <td>0.0</td>\n",
       "      <td>2</td>\n",
       "      <td>Frost, Mr. Anthony Wood \"Archie\"</td>\n",
       "      <td>0</td>\n",
       "      <td>28.0</td>\n",
       "      <td>0</td>\n",
       "      <td>0</td>\n",
       "      <td>0.0</td>\n",
       "      <td>0</td>\n",
       "      <td>...</td>\n",
       "      <td>1</td>\n",
       "      <td>1</td>\n",
       "      <td>1</td>\n",
       "      <td>0</td>\n",
       "      <td>1</td>\n",
       "      <td>0</td>\n",
       "      <td>1</td>\n",
       "      <td>1</td>\n",
       "      <td>1</td>\n",
       "      <td>1</td>\n",
       "    </tr>\n",
       "    <tr>\n",
       "      <th>597</th>\n",
       "      <td>598</td>\n",
       "      <td>0.0</td>\n",
       "      <td>3</td>\n",
       "      <td>Johnson, Mr. Alfred</td>\n",
       "      <td>0</td>\n",
       "      <td>49.0</td>\n",
       "      <td>0</td>\n",
       "      <td>0</td>\n",
       "      <td>0.0</td>\n",
       "      <td>0</td>\n",
       "      <td>...</td>\n",
       "      <td>2</td>\n",
       "      <td>1</td>\n",
       "      <td>1</td>\n",
       "      <td>1</td>\n",
       "      <td>0</td>\n",
       "      <td>0</td>\n",
       "      <td>1</td>\n",
       "      <td>1</td>\n",
       "      <td>1</td>\n",
       "      <td>6</td>\n",
       "    </tr>\n",
       "    <tr>\n",
       "      <th>633</th>\n",
       "      <td>634</td>\n",
       "      <td>0.0</td>\n",
       "      <td>1</td>\n",
       "      <td>Parr, Mr. William Henry Marsh</td>\n",
       "      <td>0</td>\n",
       "      <td>28.0</td>\n",
       "      <td>0</td>\n",
       "      <td>0</td>\n",
       "      <td>0.0</td>\n",
       "      <td>0</td>\n",
       "      <td>...</td>\n",
       "      <td>1</td>\n",
       "      <td>1</td>\n",
       "      <td>1</td>\n",
       "      <td>0</td>\n",
       "      <td>0</td>\n",
       "      <td>1</td>\n",
       "      <td>1</td>\n",
       "      <td>1</td>\n",
       "      <td>1</td>\n",
       "      <td>1</td>\n",
       "    </tr>\n",
       "    <tr>\n",
       "      <th>674</th>\n",
       "      <td>675</td>\n",
       "      <td>0.0</td>\n",
       "      <td>2</td>\n",
       "      <td>Watson, Mr. Ennis Hastings</td>\n",
       "      <td>0</td>\n",
       "      <td>28.0</td>\n",
       "      <td>0</td>\n",
       "      <td>0</td>\n",
       "      <td>0.0</td>\n",
       "      <td>0</td>\n",
       "      <td>...</td>\n",
       "      <td>1</td>\n",
       "      <td>1</td>\n",
       "      <td>1</td>\n",
       "      <td>0</td>\n",
       "      <td>1</td>\n",
       "      <td>0</td>\n",
       "      <td>1</td>\n",
       "      <td>1</td>\n",
       "      <td>1</td>\n",
       "      <td>1</td>\n",
       "    </tr>\n",
       "    <tr>\n",
       "      <th>732</th>\n",
       "      <td>733</td>\n",
       "      <td>0.0</td>\n",
       "      <td>2</td>\n",
       "      <td>Knight, Mr. Robert J</td>\n",
       "      <td>0</td>\n",
       "      <td>28.0</td>\n",
       "      <td>0</td>\n",
       "      <td>0</td>\n",
       "      <td>0.0</td>\n",
       "      <td>0</td>\n",
       "      <td>...</td>\n",
       "      <td>1</td>\n",
       "      <td>1</td>\n",
       "      <td>1</td>\n",
       "      <td>0</td>\n",
       "      <td>1</td>\n",
       "      <td>0</td>\n",
       "      <td>1</td>\n",
       "      <td>1</td>\n",
       "      <td>1</td>\n",
       "      <td>1</td>\n",
       "    </tr>\n",
       "    <tr>\n",
       "      <th>806</th>\n",
       "      <td>807</td>\n",
       "      <td>0.0</td>\n",
       "      <td>1</td>\n",
       "      <td>Andrews, Mr. Thomas Jr</td>\n",
       "      <td>0</td>\n",
       "      <td>39.0</td>\n",
       "      <td>0</td>\n",
       "      <td>0</td>\n",
       "      <td>0.0</td>\n",
       "      <td>0</td>\n",
       "      <td>...</td>\n",
       "      <td>1</td>\n",
       "      <td>1</td>\n",
       "      <td>1</td>\n",
       "      <td>0</td>\n",
       "      <td>0</td>\n",
       "      <td>0</td>\n",
       "      <td>1</td>\n",
       "      <td>1</td>\n",
       "      <td>1</td>\n",
       "      <td>2</td>\n",
       "    </tr>\n",
       "    <tr>\n",
       "      <th>815</th>\n",
       "      <td>816</td>\n",
       "      <td>0.0</td>\n",
       "      <td>1</td>\n",
       "      <td>Fry, Mr. Richard</td>\n",
       "      <td>0</td>\n",
       "      <td>28.0</td>\n",
       "      <td>0</td>\n",
       "      <td>0</td>\n",
       "      <td>0.0</td>\n",
       "      <td>0</td>\n",
       "      <td>...</td>\n",
       "      <td>2</td>\n",
       "      <td>1</td>\n",
       "      <td>1</td>\n",
       "      <td>0</td>\n",
       "      <td>0</td>\n",
       "      <td>0</td>\n",
       "      <td>1</td>\n",
       "      <td>1</td>\n",
       "      <td>1</td>\n",
       "      <td>1</td>\n",
       "    </tr>\n",
       "    <tr>\n",
       "      <th>822</th>\n",
       "      <td>823</td>\n",
       "      <td>0.0</td>\n",
       "      <td>1</td>\n",
       "      <td>Reuchlin, Jonkheer. John George</td>\n",
       "      <td>0</td>\n",
       "      <td>38.0</td>\n",
       "      <td>0</td>\n",
       "      <td>0</td>\n",
       "      <td>0.0</td>\n",
       "      <td>0</td>\n",
       "      <td>...</td>\n",
       "      <td>1</td>\n",
       "      <td>1</td>\n",
       "      <td>1</td>\n",
       "      <td>0</td>\n",
       "      <td>0</td>\n",
       "      <td>1</td>\n",
       "      <td>1</td>\n",
       "      <td>1</td>\n",
       "      <td>1</td>\n",
       "      <td>1</td>\n",
       "    </tr>\n",
       "  </tbody>\n",
       "</table>\n",
       "<p>15 rows × 58 columns</p>\n",
       "</div>"
      ],
      "text/plain": [
       "     PassengerId  Survived  Pclass                              Name  Sex  \\\n",
       "179          180       0.0       3               Leonard, Mr. Lionel    0   \n",
       "263          264       0.0       1             Harrison, Mr. William    0   \n",
       "271          272       1.0       3      Tornquist, Mr. William Henry    0   \n",
       "277          278       0.0       2       Parkes, Mr. Francis \"Frank\"    0   \n",
       "302          303       0.0       3   Johnson, Mr. William Cahoone Jr    0   \n",
       "413          414       0.0       2    Cunningham, Mr. Alfred Fleming    0   \n",
       "466          467       0.0       2             Campbell, Mr. William    0   \n",
       "481          482       0.0       2  Frost, Mr. Anthony Wood \"Archie\"    0   \n",
       "597          598       0.0       3               Johnson, Mr. Alfred    0   \n",
       "633          634       0.0       1     Parr, Mr. William Henry Marsh    0   \n",
       "674          675       0.0       2        Watson, Mr. Ennis Hastings    0   \n",
       "732          733       0.0       2              Knight, Mr. Robert J    0   \n",
       "806          807       0.0       1            Andrews, Mr. Thomas Jr    0   \n",
       "815          816       0.0       1                  Fry, Mr. Richard    0   \n",
       "822          823       0.0       1   Reuchlin, Jonkheer. John George    0   \n",
       "\n",
       "      Age  SibSp  Parch  Fare  Embarked_C  ...  TicketGroup  unknown-woman  \\\n",
       "179  36.0      0      0   0.0           0  ...            2              1   \n",
       "263  40.0      0      0   0.0           0  ...            1              1   \n",
       "271  25.0      0      0   0.0           0  ...            2              1   \n",
       "277  28.0      0      0   0.0           0  ...            2              1   \n",
       "302  19.0      0      0   0.0           0  ...            2              1   \n",
       "413  28.0      0      0   0.0           0  ...            2              1   \n",
       "466  28.0      0      0   0.0           0  ...            2              1   \n",
       "481  28.0      0      0   0.0           0  ...            1              1   \n",
       "597  49.0      0      0   0.0           0  ...            2              1   \n",
       "633  28.0      0      0   0.0           0  ...            1              1   \n",
       "674  28.0      0      0   0.0           0  ...            1              1   \n",
       "732  28.0      0      0   0.0           0  ...            1              1   \n",
       "806  39.0      0      0   0.0           0  ...            1              1   \n",
       "815  28.0      0      0   0.0           0  ...            2              1   \n",
       "822  38.0      0      0   0.0           0  ...            1              1   \n",
       "\n",
       "     unknown-man  unknown-high  unknown-middle  unknown-low  unknown-group0  \\\n",
       "179            1             1               0            0               1   \n",
       "263            1             0               0            0               1   \n",
       "271            1             1               0            0               1   \n",
       "277            1             0               1            0               1   \n",
       "302            1             1               0            0               1   \n",
       "413            1             0               1            0               1   \n",
       "466            1             0               1            0               1   \n",
       "481            1             0               1            0               1   \n",
       "597            1             1               0            0               1   \n",
       "633            1             0               0            1               1   \n",
       "674            1             0               1            0               1   \n",
       "732            1             0               1            0               1   \n",
       "806            1             0               0            0               1   \n",
       "815            1             0               0            0               1   \n",
       "822            1             0               0            1               1   \n",
       "\n",
       "     unknown-group1  unknown-group2  Surname_Count  \n",
       "179               1               1              1  \n",
       "263               1               1              1  \n",
       "271               1               1              1  \n",
       "277               1               1              1  \n",
       "302               1               1              6  \n",
       "413               1               1              1  \n",
       "466               1               1              1  \n",
       "481               1               1              1  \n",
       "597               1               1              6  \n",
       "633               1               1              1  \n",
       "674               1               1              1  \n",
       "732               1               1              1  \n",
       "806               1               1              2  \n",
       "815               1               1              1  \n",
       "822               1               1              1  \n",
       "\n",
       "[15 rows x 58 columns]"
      ]
     },
     "execution_count": 35,
     "metadata": {},
     "output_type": "execute_result"
    }
   ],
   "source": [
    "fare1= train[train[\"Pclass\"]==1][\"Fare\"]\n",
    "print(\"fare1\",fare1.max(),fare1.min())\n",
    "\n",
    "fare2= train[train[\"Pclass\"]==2][\"Fare\"]\n",
    "print(\"fare2\",fare2.max(),fare2.min())\n",
    "\n",
    "fare3= train[train[\"Pclass\"]==3][\"Fare\"]\n",
    "print(\"fare3\",fare3.max(),fare3.min())\n",
    "\n",
    "train[train[\"Fare\"]==0]"
   ]
  },
  {
   "cell_type": "markdown",
   "id": "eb95e5d3",
   "metadata": {
    "papermill": {
     "duration": 0.019203,
     "end_time": "2024-05-16T14:33:05.749003",
     "exception": false,
     "start_time": "2024-05-16T14:33:05.729800",
     "status": "completed"
    },
    "tags": []
   },
   "source": [
    "fareに関しては載っているのに「0」となっている人がいるため、逆に気にしすぎるとよくないかも"
   ]
  },
  {
   "cell_type": "code",
   "execution_count": 36,
   "id": "ff8a4c33",
   "metadata": {
    "execution": {
     "iopub.execute_input": "2024-05-16T14:33:05.790157Z",
     "iopub.status.busy": "2024-05-16T14:33:05.789023Z",
     "iopub.status.idle": "2024-05-16T14:33:06.050196Z",
     "shell.execute_reply": "2024-05-16T14:33:06.048989Z"
    },
    "papermill": {
     "duration": 0.283414,
     "end_time": "2024-05-16T14:33:06.052608",
     "exception": false,
     "start_time": "2024-05-16T14:33:05.769194",
     "status": "completed"
    },
    "tags": []
   },
   "outputs": [
    {
     "data": {
      "text/plain": [
       "<Axes: xlabel='Embarked', ylabel='count'>"
      ]
     },
     "execution_count": 36,
     "metadata": {},
     "output_type": "execute_result"
    },
    {
     "data": {
      "image/png": "[encoded data removed]",
      "text/plain": [
       "<Figure size 640x480 with 1 Axes>"
      ]
     },
     "metadata": {},
     "output_type": "display_data"
    }
   ],
   "source": [
    "sns.countplot(x=train_original[\"Embarked\"],hue=train_original[\"Survived\"],data=train_original)"
   ]
  },
  {
   "cell_type": "markdown",
   "id": "1d9fc22b",
   "metadata": {
    "papermill": {
     "duration": 0.019361,
     "end_time": "2024-05-16T14:33:06.091405",
     "exception": false,
     "start_time": "2024-05-16T14:33:06.072044",
     "status": "completed"
    },
    "tags": []
   },
   "source": [
    "出発地点が0の場合、つまりサウサンプトンの場合は死亡率が高い<br>\n",
    "[\"S\",\"C\",\"Q\"]→[0,1,2]"
   ]
  },
  {
   "cell_type": "code",
   "execution_count": 37,
   "id": "84c7573c",
   "metadata": {
    "execution": {
     "iopub.execute_input": "2024-05-16T14:33:06.131789Z",
     "iopub.status.busy": "2024-05-16T14:33:06.131379Z",
     "iopub.status.idle": "2024-05-16T14:33:06.436826Z",
     "shell.execute_reply": "2024-05-16T14:33:06.435786Z"
    },
    "papermill": {
     "duration": 0.328395,
     "end_time": "2024-05-16T14:33:06.439093",
     "exception": false,
     "start_time": "2024-05-16T14:33:06.110698",
     "status": "completed"
    },
    "tags": []
   },
   "outputs": [
    {
     "data": {
      "text/plain": [
       "<Axes: xlabel='SibSp', ylabel='count'>"
      ]
     },
     "execution_count": 37,
     "metadata": {},
     "output_type": "execute_result"
    },
    {
     "data": {
      "image/png": "[encoded data removed]",
      "text/plain": [
       "<Figure size 640x480 with 1 Axes>"
      ]
     },
     "metadata": {},
     "output_type": "display_data"
    }
   ],
   "source": [
    "sns.countplot(x=\"SibSp\",hue=\"Survived\",data=train)"
   ]
  },
  {
   "cell_type": "markdown",
   "id": "993ff743",
   "metadata": {
    "papermill": {
     "duration": 0.019768,
     "end_time": "2024-05-16T14:33:06.479332",
     "exception": false,
     "start_time": "2024-05-16T14:33:06.459564",
     "status": "completed"
    },
    "tags": []
   },
   "source": [
    "sibspとは配偶者か兄弟という意味。つまり配偶者がいない場合には、死亡率が高い。\n",
    "逆に他1名と載っている場合には生存率が高い"
   ]
  },
  {
   "cell_type": "code",
   "execution_count": 38,
   "id": "bc8e46cf",
   "metadata": {
    "execution": {
     "iopub.execute_input": "2024-05-16T14:33:06.521105Z",
     "iopub.status.busy": "2024-05-16T14:33:06.520537Z",
     "iopub.status.idle": "2024-05-16T14:33:06.802772Z",
     "shell.execute_reply": "2024-05-16T14:33:06.801762Z"
    },
    "papermill": {
     "duration": 0.306094,
     "end_time": "2024-05-16T14:33:06.805434",
     "exception": false,
     "start_time": "2024-05-16T14:33:06.499340",
     "status": "completed"
    },
    "tags": []
   },
   "outputs": [
    {
     "data": {
      "text/plain": [
       "<Axes: xlabel='Parch', ylabel='count'>"
      ]
     },
     "execution_count": 38,
     "metadata": {},
     "output_type": "execute_result"
    },
    {
     "data": {
      "image/png": "[encoded data removed]",
      "text/plain": [
       "<Figure size 640x480 with 1 Axes>"
      ]
     },
     "metadata": {},
     "output_type": "display_data"
    }
   ],
   "source": [
    "sns.countplot(x=\"Parch\",hue=\"Survived\",data=train)"
   ]
  },
  {
   "cell_type": "markdown",
   "id": "d7ec49d7",
   "metadata": {
    "papermill": {
     "duration": 0.020245,
     "end_time": "2024-05-16T14:33:06.846214",
     "exception": false,
     "start_time": "2024-05-16T14:33:06.825969",
     "status": "completed"
    },
    "tags": []
   },
   "source": [
    "parchとは子供の数。子供の数が0人だったら死亡率が高い。逆に1人の場合と3人の場合は高い"
   ]
  },
  {
   "cell_type": "code",
   "execution_count": 39,
   "id": "3d45d0b1",
   "metadata": {
    "execution": {
     "iopub.execute_input": "2024-05-16T14:33:06.889723Z",
     "iopub.status.busy": "2024-05-16T14:33:06.888951Z",
     "iopub.status.idle": "2024-05-16T14:33:06.895597Z",
     "shell.execute_reply": "2024-05-16T14:33:06.894506Z"
    },
    "papermill": {
     "duration": 0.030997,
     "end_time": "2024-05-16T14:33:06.897815",
     "exception": false,
     "start_time": "2024-05-16T14:33:06.866818",
     "status": "completed"
    },
    "tags": []
   },
   "outputs": [],
   "source": [
    "train = train_original\n",
    "\n",
    "ticket_last =[]\n",
    "for ticket_name in train_original[\"Ticket\"]:\n",
    "    ticket_last.append(ticket_name[0])\n",
    "train[\"ticket_last\"] = ticket_last"
   ]
  },
  {
   "cell_type": "code",
   "execution_count": 40,
   "id": "5f255160",
   "metadata": {
    "execution": {
     "iopub.execute_input": "2024-05-16T14:33:06.940628Z",
     "iopub.status.busy": "2024-05-16T14:33:06.939946Z",
     "iopub.status.idle": "2024-05-16T14:33:07.319698Z",
     "shell.execute_reply": "2024-05-16T14:33:07.318633Z"
    },
    "papermill": {
     "duration": 0.40356,
     "end_time": "2024-05-16T14:33:07.321966",
     "exception": false,
     "start_time": "2024-05-16T14:33:06.918406",
     "status": "completed"
    },
    "tags": []
   },
   "outputs": [
    {
     "data": {
      "text/plain": [
       "<Axes: xlabel='ticket_last', ylabel='count'>"
      ]
     },
     "execution_count": 40,
     "metadata": {},
     "output_type": "execute_result"
    },
    {
     "data": {
      "image/png": "[encoded data removed]",
      "text/plain": [
       "<Figure size 640x480 with 1 Axes>"
      ]
     },
     "metadata": {},
     "output_type": "display_data"
    }
   ],
   "source": [
    "sns.countplot(x=train[\"ticket_last\"],hue=\"Survived\",data=train)"
   ]
  },
  {
   "cell_type": "markdown",
   "id": "fcc5c9ad",
   "metadata": {
    "papermill": {
     "duration": 0.020311,
     "end_time": "2024-05-16T14:33:07.362951",
     "exception": false,
     "start_time": "2024-05-16T14:33:07.342640",
     "status": "completed"
    },
    "tags": []
   },
   "source": [
    "もしかしたら、P、1、Fが最初に貼っている場合には、Survivedになりやすいかも。"
   ]
  },
  {
   "cell_type": "code",
   "execution_count": null,
   "id": "297a44fd",
   "metadata": {
    "papermill": {
     "duration": 0.020308,
     "end_time": "2024-05-16T14:33:07.403806",
     "exception": false,
     "start_time": "2024-05-16T14:33:07.383498",
     "status": "completed"
    },
    "tags": []
   },
   "outputs": [],
   "source": []
  },
  {
   "cell_type": "code",
   "execution_count": null,
   "id": "6c3fb693",
   "metadata": {
    "papermill": {
     "duration": 0.020439,
     "end_time": "2024-05-16T14:33:07.444872",
     "exception": false,
     "start_time": "2024-05-16T14:33:07.424433",
     "status": "completed"
    },
    "tags": []
   },
   "outputs": [],
   "source": []
  }
 ],
 "metadata": {
  "kaggle": {
   "accelerator": "none",
   "dataSources": [
    {
     "databundleVersionId": 26502,
     "sourceId": 3136,
     "sourceType": "competition"
    },
    {
     "datasetId": 4902648,
     "sourceId": 8260305,
     "sourceType": "datasetVersion"
    },
    {
     "datasetId": 4930403,
     "sourceId": 8299395,
     "sourceType": "datasetVersion"
    },
    {
     "datasetId": 4936431,
     "sourceId": 8310097,
     "sourceType": "datasetVersion"
    },
    {
     "datasetId": 5021226,
     "sourceId": 8431389,
     "sourceType": "datasetVersion"
    },
    {
     "datasetId": 5021379,
     "sourceId": 8431574,
     "sourceType": "datasetVersion"
    }
   ],
   "dockerImageVersionId": 30698,
   "isGpuEnabled": false,
   "isInternetEnabled": true,
   "language": "python",
   "sourceType": "notebook"
  },
  "kernelspec": {
   "display_name": "Python 3",
   "language": "python",
   "name": "python3"
  },
  "language_info": {
   "codemirror_mode": {
    "name": "ipython",
    "version": 3
   },
   "file_extension": ".py",
   "mimetype": "text/x-python",
   "name": "python",
   "nbconvert_exporter": "python",
   "pygments_lexer": "ipython3",
   "version": "3.10.13"
  },
  "papermill": {
   "default_parameters": {},
   "duration": 16.450407,
   "end_time": "2024-05-16T14:33:08.186448",
   "environment_variables": {},
   "exception": null,
   "input_path": "__notebook__.ipynb",
   "output_path": "__notebook__.ipynb",
   "parameters": {},
   "start_time": "2024-05-16T14:32:51.736041",
   "version": "2.5.0"
  }
 },
 "nbformat": 4,
 "nbformat_minor": 5
}
