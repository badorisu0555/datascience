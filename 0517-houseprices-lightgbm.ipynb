{
 "cells": [
  {
   "cell_type": "code",
   "execution_count": 1,
   "id": "d3601eb8",
   "metadata": {
    "_cell_guid": "b1076dfc-b9ad-4769-8c92-a6c4dae69d19",
    "_uuid": "8f2839f25d086af736a60e9eeb907d3b93b6e0e5",
    "execution": {
     "iopub.execute_input": "2024-05-23T08:38:30.312232Z",
     "iopub.status.busy": "2024-05-23T08:38:30.311526Z",
     "iopub.status.idle": "2024-05-23T08:38:35.252996Z",
     "shell.execute_reply": "2024-05-23T08:38:35.251750Z"
    },
    "papermill": {
     "duration": 4.96548,
     "end_time": "2024-05-23T08:38:35.255918",
     "exception": false,
     "start_time": "2024-05-23T08:38:30.290438",
     "status": "completed"
    },
    "tags": []
   },
   "outputs": [],
   "source": [
    "import pandas as pd\n",
    "import numpy as np\n",
    "import matplotlib.pyplot as plt\n",
    "import seaborn as sns\n",
    "from sklearn.linear_model import LogisticRegression , LinearRegression, Ridge, Lasso\n",
    "from sklearn.preprocessing import StandardScaler\n",
    "from sklearn.model_selection import train_test_split\n",
    "from sklearn.ensemble import RandomForestClassifier\n",
    "from sklearn.ensemble import RandomForestRegressor\n",
    "\n",
    "from sklearn.metrics import accuracy_score\n",
    "import lightgbm as lgb\n",
    "from sklearn.model_selection import train_test_split\n",
    "import optuna\n",
    "from sklearn.metrics import log_loss\n",
    "from sklearn.pipeline import Pipeline,make_pipeline\n",
    "from sklearn.model_selection import GridSearchCV\n",
    "from sklearn.neighbors import KNeighborsClassifier\n",
    "from sklearn.svm import SVC\n",
    "from sklearn.metrics import log_loss\n",
    "from sklearn.metrics import make_scorer, mean_squared_error\n",
    "import xgboost as xgb\n",
    "\n",
    "from scipy.stats import skew\n",
    "from sklearn.svm import SVR\n",
    "\n",
    "import warnings\n",
    "warnings.simplefilter('ignore')\n",
    "#赤背景になっている警告を非表示に"
   ]
  },
  {
   "cell_type": "markdown",
   "id": "e1f6defb",
   "metadata": {
    "papermill": {
     "duration": 0.017062,
     "end_time": "2024-05-23T08:38:35.290286",
     "exception": false,
     "start_time": "2024-05-23T08:38:35.273224",
     "status": "completed"
    },
    "tags": []
   },
   "source": [
    "こちらの前処理のほうが効果が出るモデル\n",
    "* lightgbm：0.13275\n",
    "* ridge回帰：0.18965\n",
    "* Lasso回帰：0.18865"
   ]
  },
  {
   "cell_type": "code",
   "execution_count": 2,
   "id": "424666be",
   "metadata": {
    "execution": {
     "iopub.execute_input": "2024-05-23T08:38:35.339943Z",
     "iopub.status.busy": "2024-05-23T08:38:35.339086Z",
     "iopub.status.idle": "2024-05-23T08:38:35.449807Z",
     "shell.execute_reply": "2024-05-23T08:38:35.448533Z"
    },
    "papermill": {
     "duration": 0.140334,
     "end_time": "2024-05-23T08:38:35.452730",
     "exception": false,
     "start_time": "2024-05-23T08:38:35.312396",
     "status": "completed"
    },
    "tags": []
   },
   "outputs": [],
   "source": [
    "sample_submission = pd.read_csv(\"/kaggle/input/house-prices-advanced-regression-techniques/sample_submission.csv\")\n",
    "test_original = pd.read_csv(\"/kaggle/input/house-prices-advanced-regression-techniques/test.csv\")\n",
    "train_original = pd.read_csv(\"/kaggle/input/house-prices-advanced-regression-techniques/train.csv\")\n",
    "train = train_original\n",
    "test = test_original\n",
    "y_train = train_original[\"SalePrice\"]\n",
    "\n",
    "data_origin=pd.concat([train,test])\n",
    "data_origin.index = np.arange(1,2920)\n",
    "data = data_origin"
   ]
  },
  {
   "cell_type": "code",
   "execution_count": 3,
   "id": "2516a3cc",
   "metadata": {
    "execution": {
     "iopub.execute_input": "2024-05-23T08:38:35.493453Z",
     "iopub.status.busy": "2024-05-23T08:38:35.492854Z",
     "iopub.status.idle": "2024-05-23T08:38:35.506789Z",
     "shell.execute_reply": "2024-05-23T08:38:35.504570Z"
    },
    "papermill": {
     "duration": 0.040296,
     "end_time": "2024-05-23T08:38:35.511036",
     "exception": false,
     "start_time": "2024-05-23T08:38:35.470740",
     "status": "completed"
    },
    "tags": []
   },
   "outputs": [
    {
     "data": {
      "text/plain": [
       "'\\ndata_plot = data[[\"Condition1\",\"LotFrontage\"]]\\ndata_plot.boxplot(by=\"Condition1\",patch_artist=True)\\n'"
      ]
     },
     "execution_count": 3,
     "metadata": {},
     "output_type": "execute_result"
    }
   ],
   "source": [
    "\"\"\"\n",
    "data_plot = data[[\"Condition1\",\"LotFrontage\"]]\n",
    "data_plot.boxplot(by=\"Condition1\",patch_artist=True)\n",
    "\"\"\""
   ]
  },
  {
   "cell_type": "code",
   "execution_count": 4,
   "id": "f33a7e06",
   "metadata": {
    "execution": {
     "iopub.execute_input": "2024-05-23T08:38:35.561975Z",
     "iopub.status.busy": "2024-05-23T08:38:35.561473Z",
     "iopub.status.idle": "2024-05-23T08:38:35.736404Z",
     "shell.execute_reply": "2024-05-23T08:38:35.735018Z"
    },
    "papermill": {
     "duration": 0.203764,
     "end_time": "2024-05-23T08:38:35.739743",
     "exception": false,
     "start_time": "2024-05-23T08:38:35.535979",
     "status": "completed"
    },
    "tags": []
   },
   "outputs": [
    {
     "data": {
      "text/html": [
       "<div>\n",
       "<style scoped>\n",
       "    .dataframe tbody tr th:only-of-type {\n",
       "        vertical-align: middle;\n",
       "    }\n",
       "\n",
       "    .dataframe tbody tr th {\n",
       "        vertical-align: top;\n",
       "    }\n",
       "\n",
       "    .dataframe thead th {\n",
       "        text-align: right;\n",
       "    }\n",
       "</style>\n",
       "<table border=\"1\" class=\"dataframe\">\n",
       "  <thead>\n",
       "    <tr style=\"text-align: right;\">\n",
       "      <th></th>\n",
       "      <th>Id</th>\n",
       "      <th>MSSubClass</th>\n",
       "      <th>MSZoning</th>\n",
       "      <th>LotFrontage</th>\n",
       "      <th>LotArea</th>\n",
       "      <th>Street</th>\n",
       "      <th>Alley</th>\n",
       "      <th>LotShape</th>\n",
       "      <th>LandContour</th>\n",
       "      <th>Utilities</th>\n",
       "      <th>...</th>\n",
       "      <th>PoolArea</th>\n",
       "      <th>PoolQC</th>\n",
       "      <th>Fence</th>\n",
       "      <th>MiscFeature</th>\n",
       "      <th>MiscVal</th>\n",
       "      <th>MoSold</th>\n",
       "      <th>YrSold</th>\n",
       "      <th>SaleType</th>\n",
       "      <th>SaleCondition</th>\n",
       "      <th>SalePrice</th>\n",
       "    </tr>\n",
       "  </thead>\n",
       "  <tbody>\n",
       "    <tr>\n",
       "      <th>1</th>\n",
       "      <td>1</td>\n",
       "      <td>60</td>\n",
       "      <td>RL</td>\n",
       "      <td>65.0</td>\n",
       "      <td>8450</td>\n",
       "      <td>Pave</td>\n",
       "      <td>No</td>\n",
       "      <td>Reg</td>\n",
       "      <td>Lvl</td>\n",
       "      <td>AllPub</td>\n",
       "      <td>...</td>\n",
       "      <td>0</td>\n",
       "      <td>No</td>\n",
       "      <td>No</td>\n",
       "      <td>No</td>\n",
       "      <td>0</td>\n",
       "      <td>2</td>\n",
       "      <td>2008</td>\n",
       "      <td>WD</td>\n",
       "      <td>Normal</td>\n",
       "      <td>208500.0</td>\n",
       "    </tr>\n",
       "    <tr>\n",
       "      <th>2</th>\n",
       "      <td>2</td>\n",
       "      <td>20</td>\n",
       "      <td>RL</td>\n",
       "      <td>80.0</td>\n",
       "      <td>9600</td>\n",
       "      <td>Pave</td>\n",
       "      <td>No</td>\n",
       "      <td>Reg</td>\n",
       "      <td>Lvl</td>\n",
       "      <td>AllPub</td>\n",
       "      <td>...</td>\n",
       "      <td>0</td>\n",
       "      <td>No</td>\n",
       "      <td>No</td>\n",
       "      <td>No</td>\n",
       "      <td>0</td>\n",
       "      <td>5</td>\n",
       "      <td>2007</td>\n",
       "      <td>WD</td>\n",
       "      <td>Normal</td>\n",
       "      <td>181500.0</td>\n",
       "    </tr>\n",
       "    <tr>\n",
       "      <th>3</th>\n",
       "      <td>3</td>\n",
       "      <td>60</td>\n",
       "      <td>RL</td>\n",
       "      <td>68.0</td>\n",
       "      <td>11250</td>\n",
       "      <td>Pave</td>\n",
       "      <td>No</td>\n",
       "      <td>IR1</td>\n",
       "      <td>Lvl</td>\n",
       "      <td>AllPub</td>\n",
       "      <td>...</td>\n",
       "      <td>0</td>\n",
       "      <td>No</td>\n",
       "      <td>No</td>\n",
       "      <td>No</td>\n",
       "      <td>0</td>\n",
       "      <td>9</td>\n",
       "      <td>2008</td>\n",
       "      <td>WD</td>\n",
       "      <td>Normal</td>\n",
       "      <td>223500.0</td>\n",
       "    </tr>\n",
       "    <tr>\n",
       "      <th>4</th>\n",
       "      <td>4</td>\n",
       "      <td>70</td>\n",
       "      <td>RL</td>\n",
       "      <td>60.0</td>\n",
       "      <td>9550</td>\n",
       "      <td>Pave</td>\n",
       "      <td>No</td>\n",
       "      <td>IR1</td>\n",
       "      <td>Lvl</td>\n",
       "      <td>AllPub</td>\n",
       "      <td>...</td>\n",
       "      <td>0</td>\n",
       "      <td>No</td>\n",
       "      <td>No</td>\n",
       "      <td>No</td>\n",
       "      <td>0</td>\n",
       "      <td>2</td>\n",
       "      <td>2006</td>\n",
       "      <td>WD</td>\n",
       "      <td>Abnorml</td>\n",
       "      <td>140000.0</td>\n",
       "    </tr>\n",
       "    <tr>\n",
       "      <th>5</th>\n",
       "      <td>5</td>\n",
       "      <td>60</td>\n",
       "      <td>RL</td>\n",
       "      <td>84.0</td>\n",
       "      <td>14260</td>\n",
       "      <td>Pave</td>\n",
       "      <td>No</td>\n",
       "      <td>IR1</td>\n",
       "      <td>Lvl</td>\n",
       "      <td>AllPub</td>\n",
       "      <td>...</td>\n",
       "      <td>0</td>\n",
       "      <td>No</td>\n",
       "      <td>No</td>\n",
       "      <td>No</td>\n",
       "      <td>0</td>\n",
       "      <td>12</td>\n",
       "      <td>2008</td>\n",
       "      <td>WD</td>\n",
       "      <td>Normal</td>\n",
       "      <td>250000.0</td>\n",
       "    </tr>\n",
       "    <tr>\n",
       "      <th>...</th>\n",
       "      <td>...</td>\n",
       "      <td>...</td>\n",
       "      <td>...</td>\n",
       "      <td>...</td>\n",
       "      <td>...</td>\n",
       "      <td>...</td>\n",
       "      <td>...</td>\n",
       "      <td>...</td>\n",
       "      <td>...</td>\n",
       "      <td>...</td>\n",
       "      <td>...</td>\n",
       "      <td>...</td>\n",
       "      <td>...</td>\n",
       "      <td>...</td>\n",
       "      <td>...</td>\n",
       "      <td>...</td>\n",
       "      <td>...</td>\n",
       "      <td>...</td>\n",
       "      <td>...</td>\n",
       "      <td>...</td>\n",
       "      <td>...</td>\n",
       "    </tr>\n",
       "    <tr>\n",
       "      <th>2915</th>\n",
       "      <td>2915</td>\n",
       "      <td>160</td>\n",
       "      <td>RM</td>\n",
       "      <td>21.0</td>\n",
       "      <td>1936</td>\n",
       "      <td>Pave</td>\n",
       "      <td>No</td>\n",
       "      <td>Reg</td>\n",
       "      <td>Lvl</td>\n",
       "      <td>AllPub</td>\n",
       "      <td>...</td>\n",
       "      <td>0</td>\n",
       "      <td>No</td>\n",
       "      <td>No</td>\n",
       "      <td>No</td>\n",
       "      <td>0</td>\n",
       "      <td>6</td>\n",
       "      <td>2006</td>\n",
       "      <td>WD</td>\n",
       "      <td>Normal</td>\n",
       "      <td>NaN</td>\n",
       "    </tr>\n",
       "    <tr>\n",
       "      <th>2916</th>\n",
       "      <td>2916</td>\n",
       "      <td>160</td>\n",
       "      <td>RM</td>\n",
       "      <td>21.0</td>\n",
       "      <td>1894</td>\n",
       "      <td>Pave</td>\n",
       "      <td>No</td>\n",
       "      <td>Reg</td>\n",
       "      <td>Lvl</td>\n",
       "      <td>AllPub</td>\n",
       "      <td>...</td>\n",
       "      <td>0</td>\n",
       "      <td>No</td>\n",
       "      <td>No</td>\n",
       "      <td>No</td>\n",
       "      <td>0</td>\n",
       "      <td>4</td>\n",
       "      <td>2006</td>\n",
       "      <td>WD</td>\n",
       "      <td>Abnorml</td>\n",
       "      <td>NaN</td>\n",
       "    </tr>\n",
       "    <tr>\n",
       "      <th>2917</th>\n",
       "      <td>2917</td>\n",
       "      <td>20</td>\n",
       "      <td>RL</td>\n",
       "      <td>160.0</td>\n",
       "      <td>20000</td>\n",
       "      <td>Pave</td>\n",
       "      <td>No</td>\n",
       "      <td>Reg</td>\n",
       "      <td>Lvl</td>\n",
       "      <td>AllPub</td>\n",
       "      <td>...</td>\n",
       "      <td>0</td>\n",
       "      <td>No</td>\n",
       "      <td>No</td>\n",
       "      <td>No</td>\n",
       "      <td>0</td>\n",
       "      <td>9</td>\n",
       "      <td>2006</td>\n",
       "      <td>WD</td>\n",
       "      <td>Abnorml</td>\n",
       "      <td>NaN</td>\n",
       "    </tr>\n",
       "    <tr>\n",
       "      <th>2918</th>\n",
       "      <td>2918</td>\n",
       "      <td>85</td>\n",
       "      <td>RL</td>\n",
       "      <td>62.0</td>\n",
       "      <td>10441</td>\n",
       "      <td>Pave</td>\n",
       "      <td>No</td>\n",
       "      <td>Reg</td>\n",
       "      <td>Lvl</td>\n",
       "      <td>AllPub</td>\n",
       "      <td>...</td>\n",
       "      <td>0</td>\n",
       "      <td>No</td>\n",
       "      <td>MnPrv</td>\n",
       "      <td>Shed</td>\n",
       "      <td>700</td>\n",
       "      <td>7</td>\n",
       "      <td>2006</td>\n",
       "      <td>WD</td>\n",
       "      <td>Normal</td>\n",
       "      <td>NaN</td>\n",
       "    </tr>\n",
       "    <tr>\n",
       "      <th>2919</th>\n",
       "      <td>2919</td>\n",
       "      <td>60</td>\n",
       "      <td>RL</td>\n",
       "      <td>74.0</td>\n",
       "      <td>9627</td>\n",
       "      <td>Pave</td>\n",
       "      <td>No</td>\n",
       "      <td>Reg</td>\n",
       "      <td>Lvl</td>\n",
       "      <td>AllPub</td>\n",
       "      <td>...</td>\n",
       "      <td>0</td>\n",
       "      <td>No</td>\n",
       "      <td>No</td>\n",
       "      <td>No</td>\n",
       "      <td>0</td>\n",
       "      <td>11</td>\n",
       "      <td>2006</td>\n",
       "      <td>WD</td>\n",
       "      <td>Normal</td>\n",
       "      <td>NaN</td>\n",
       "    </tr>\n",
       "  </tbody>\n",
       "</table>\n",
       "<p>2919 rows × 81 columns</p>\n",
       "</div>"
      ],
      "text/plain": [
       "        Id  MSSubClass MSZoning  LotFrontage  LotArea Street Alley LotShape  \\\n",
       "1        1          60       RL         65.0     8450   Pave    No      Reg   \n",
       "2        2          20       RL         80.0     9600   Pave    No      Reg   \n",
       "3        3          60       RL         68.0    11250   Pave    No      IR1   \n",
       "4        4          70       RL         60.0     9550   Pave    No      IR1   \n",
       "5        5          60       RL         84.0    14260   Pave    No      IR1   \n",
       "...    ...         ...      ...          ...      ...    ...   ...      ...   \n",
       "2915  2915         160       RM         21.0     1936   Pave    No      Reg   \n",
       "2916  2916         160       RM         21.0     1894   Pave    No      Reg   \n",
       "2917  2917          20       RL        160.0    20000   Pave    No      Reg   \n",
       "2918  2918          85       RL         62.0    10441   Pave    No      Reg   \n",
       "2919  2919          60       RL         74.0     9627   Pave    No      Reg   \n",
       "\n",
       "     LandContour Utilities  ... PoolArea PoolQC  Fence MiscFeature MiscVal  \\\n",
       "1            Lvl    AllPub  ...        0     No     No          No       0   \n",
       "2            Lvl    AllPub  ...        0     No     No          No       0   \n",
       "3            Lvl    AllPub  ...        0     No     No          No       0   \n",
       "4            Lvl    AllPub  ...        0     No     No          No       0   \n",
       "5            Lvl    AllPub  ...        0     No     No          No       0   \n",
       "...          ...       ...  ...      ...    ...    ...         ...     ...   \n",
       "2915         Lvl    AllPub  ...        0     No     No          No       0   \n",
       "2916         Lvl    AllPub  ...        0     No     No          No       0   \n",
       "2917         Lvl    AllPub  ...        0     No     No          No       0   \n",
       "2918         Lvl    AllPub  ...        0     No  MnPrv        Shed     700   \n",
       "2919         Lvl    AllPub  ...        0     No     No          No       0   \n",
       "\n",
       "     MoSold YrSold  SaleType  SaleCondition  SalePrice  \n",
       "1         2   2008        WD         Normal   208500.0  \n",
       "2         5   2007        WD         Normal   181500.0  \n",
       "3         9   2008        WD         Normal   223500.0  \n",
       "4         2   2006        WD        Abnorml   140000.0  \n",
       "5        12   2008        WD         Normal   250000.0  \n",
       "...     ...    ...       ...            ...        ...  \n",
       "2915      6   2006        WD         Normal        NaN  \n",
       "2916      4   2006        WD        Abnorml        NaN  \n",
       "2917      9   2006        WD        Abnorml        NaN  \n",
       "2918      7   2006        WD         Normal        NaN  \n",
       "2919     11   2006        WD         Normal        NaN  \n",
       "\n",
       "[2919 rows x 81 columns]"
      ]
     },
     "execution_count": 4,
     "metadata": {},
     "output_type": "execute_result"
    }
   ],
   "source": [
    "\n",
    "null_No_list=[\"Alley\",'MasVnrType','BsmtQual', 'BsmtCond', 'BsmtExposure',\n",
    "              'BsmtFinType1', 'BsmtFinType2','FireplaceQu','GarageType','GarageFinish', \n",
    "              'GarageQual', 'GarageCond', 'PoolQC', 'Fence','MiscFeature']\n",
    "data[null_No_list] = data[null_No_list].fillna(\"No\")\n",
    "\n",
    "null_category_list = [\"MSZoning\",\"Utilities\",\"Exterior1st\",\"Exterior2nd\", 'Electrical',\n",
    "                      'KitchenQual', 'Functional', \"SaleType\"]\n",
    "data[null_category_list] = data[null_category_list].fillna(data.mode().iloc[0])\n",
    "\n",
    "null_float_list = [\"LotFrontage\",'MasVnrArea','BsmtFinSF1','BsmtFinSF2','BsmtUnfSF',\n",
    "                   'TotalBsmtSF', 'BsmtFullBath','BsmtHalfBath', 'GarageYrBlt', 'GarageCars','GarageArea']\n",
    "data[null_float_list] = data[null_float_list].fillna(data.median(numeric_only=True))\n",
    "data\n"
   ]
  },
  {
   "cell_type": "code",
   "execution_count": 5,
   "id": "dd0f481b",
   "metadata": {
    "execution": {
     "iopub.execute_input": "2024-05-23T08:38:35.789010Z",
     "iopub.status.busy": "2024-05-23T08:38:35.788234Z",
     "iopub.status.idle": "2024-05-23T08:38:35.910703Z",
     "shell.execute_reply": "2024-05-23T08:38:35.909560Z"
    },
    "papermill": {
     "duration": 0.153087,
     "end_time": "2024-05-23T08:38:35.913565",
     "exception": false,
     "start_time": "2024-05-23T08:38:35.760478",
     "status": "completed"
    },
    "tags": []
   },
   "outputs": [
    {
     "data": {
      "text/html": [
       "<div>\n",
       "<style scoped>\n",
       "    .dataframe tbody tr th:only-of-type {\n",
       "        vertical-align: middle;\n",
       "    }\n",
       "\n",
       "    .dataframe tbody tr th {\n",
       "        vertical-align: top;\n",
       "    }\n",
       "\n",
       "    .dataframe thead th {\n",
       "        text-align: right;\n",
       "    }\n",
       "</style>\n",
       "<table border=\"1\" class=\"dataframe\">\n",
       "  <thead>\n",
       "    <tr style=\"text-align: right;\">\n",
       "      <th></th>\n",
       "      <th>MSZoning_C (all)</th>\n",
       "      <th>MSZoning_FV</th>\n",
       "      <th>MSZoning_RH</th>\n",
       "      <th>MSZoning_RL</th>\n",
       "      <th>MSZoning_RM</th>\n",
       "      <th>Street_Grvl</th>\n",
       "      <th>Street_Pave</th>\n",
       "      <th>Alley_Grvl</th>\n",
       "      <th>Alley_No</th>\n",
       "      <th>Alley_Pave</th>\n",
       "      <th>...</th>\n",
       "      <th>GarageArea</th>\n",
       "      <th>WoodDeckSF</th>\n",
       "      <th>OpenPorchSF</th>\n",
       "      <th>EnclosedPorch</th>\n",
       "      <th>3SsnPorch</th>\n",
       "      <th>ScreenPorch</th>\n",
       "      <th>PoolArea</th>\n",
       "      <th>MiscVal</th>\n",
       "      <th>MoSold</th>\n",
       "      <th>YrSold</th>\n",
       "    </tr>\n",
       "  </thead>\n",
       "  <tbody>\n",
       "    <tr>\n",
       "      <th>1</th>\n",
       "      <td>0</td>\n",
       "      <td>0</td>\n",
       "      <td>0</td>\n",
       "      <td>1</td>\n",
       "      <td>0</td>\n",
       "      <td>0</td>\n",
       "      <td>1</td>\n",
       "      <td>0</td>\n",
       "      <td>1</td>\n",
       "      <td>0</td>\n",
       "      <td>...</td>\n",
       "      <td>548.0</td>\n",
       "      <td>0</td>\n",
       "      <td>61</td>\n",
       "      <td>0</td>\n",
       "      <td>0</td>\n",
       "      <td>0</td>\n",
       "      <td>0</td>\n",
       "      <td>0</td>\n",
       "      <td>2</td>\n",
       "      <td>2008</td>\n",
       "    </tr>\n",
       "    <tr>\n",
       "      <th>2</th>\n",
       "      <td>0</td>\n",
       "      <td>0</td>\n",
       "      <td>0</td>\n",
       "      <td>1</td>\n",
       "      <td>0</td>\n",
       "      <td>0</td>\n",
       "      <td>1</td>\n",
       "      <td>0</td>\n",
       "      <td>1</td>\n",
       "      <td>0</td>\n",
       "      <td>...</td>\n",
       "      <td>460.0</td>\n",
       "      <td>298</td>\n",
       "      <td>0</td>\n",
       "      <td>0</td>\n",
       "      <td>0</td>\n",
       "      <td>0</td>\n",
       "      <td>0</td>\n",
       "      <td>0</td>\n",
       "      <td>5</td>\n",
       "      <td>2007</td>\n",
       "    </tr>\n",
       "    <tr>\n",
       "      <th>3</th>\n",
       "      <td>0</td>\n",
       "      <td>0</td>\n",
       "      <td>0</td>\n",
       "      <td>1</td>\n",
       "      <td>0</td>\n",
       "      <td>0</td>\n",
       "      <td>1</td>\n",
       "      <td>0</td>\n",
       "      <td>1</td>\n",
       "      <td>0</td>\n",
       "      <td>...</td>\n",
       "      <td>608.0</td>\n",
       "      <td>0</td>\n",
       "      <td>42</td>\n",
       "      <td>0</td>\n",
       "      <td>0</td>\n",
       "      <td>0</td>\n",
       "      <td>0</td>\n",
       "      <td>0</td>\n",
       "      <td>9</td>\n",
       "      <td>2008</td>\n",
       "    </tr>\n",
       "    <tr>\n",
       "      <th>4</th>\n",
       "      <td>0</td>\n",
       "      <td>0</td>\n",
       "      <td>0</td>\n",
       "      <td>1</td>\n",
       "      <td>0</td>\n",
       "      <td>0</td>\n",
       "      <td>1</td>\n",
       "      <td>0</td>\n",
       "      <td>1</td>\n",
       "      <td>0</td>\n",
       "      <td>...</td>\n",
       "      <td>642.0</td>\n",
       "      <td>0</td>\n",
       "      <td>35</td>\n",
       "      <td>272</td>\n",
       "      <td>0</td>\n",
       "      <td>0</td>\n",
       "      <td>0</td>\n",
       "      <td>0</td>\n",
       "      <td>2</td>\n",
       "      <td>2006</td>\n",
       "    </tr>\n",
       "    <tr>\n",
       "      <th>5</th>\n",
       "      <td>0</td>\n",
       "      <td>0</td>\n",
       "      <td>0</td>\n",
       "      <td>1</td>\n",
       "      <td>0</td>\n",
       "      <td>0</td>\n",
       "      <td>1</td>\n",
       "      <td>0</td>\n",
       "      <td>1</td>\n",
       "      <td>0</td>\n",
       "      <td>...</td>\n",
       "      <td>836.0</td>\n",
       "      <td>192</td>\n",
       "      <td>84</td>\n",
       "      <td>0</td>\n",
       "      <td>0</td>\n",
       "      <td>0</td>\n",
       "      <td>0</td>\n",
       "      <td>0</td>\n",
       "      <td>12</td>\n",
       "      <td>2008</td>\n",
       "    </tr>\n",
       "    <tr>\n",
       "      <th>...</th>\n",
       "      <td>...</td>\n",
       "      <td>...</td>\n",
       "      <td>...</td>\n",
       "      <td>...</td>\n",
       "      <td>...</td>\n",
       "      <td>...</td>\n",
       "      <td>...</td>\n",
       "      <td>...</td>\n",
       "      <td>...</td>\n",
       "      <td>...</td>\n",
       "      <td>...</td>\n",
       "      <td>...</td>\n",
       "      <td>...</td>\n",
       "      <td>...</td>\n",
       "      <td>...</td>\n",
       "      <td>...</td>\n",
       "      <td>...</td>\n",
       "      <td>...</td>\n",
       "      <td>...</td>\n",
       "      <td>...</td>\n",
       "      <td>...</td>\n",
       "    </tr>\n",
       "    <tr>\n",
       "      <th>2915</th>\n",
       "      <td>0</td>\n",
       "      <td>0</td>\n",
       "      <td>0</td>\n",
       "      <td>0</td>\n",
       "      <td>1</td>\n",
       "      <td>0</td>\n",
       "      <td>1</td>\n",
       "      <td>0</td>\n",
       "      <td>1</td>\n",
       "      <td>0</td>\n",
       "      <td>...</td>\n",
       "      <td>0.0</td>\n",
       "      <td>0</td>\n",
       "      <td>0</td>\n",
       "      <td>0</td>\n",
       "      <td>0</td>\n",
       "      <td>0</td>\n",
       "      <td>0</td>\n",
       "      <td>0</td>\n",
       "      <td>6</td>\n",
       "      <td>2006</td>\n",
       "    </tr>\n",
       "    <tr>\n",
       "      <th>2916</th>\n",
       "      <td>0</td>\n",
       "      <td>0</td>\n",
       "      <td>0</td>\n",
       "      <td>0</td>\n",
       "      <td>1</td>\n",
       "      <td>0</td>\n",
       "      <td>1</td>\n",
       "      <td>0</td>\n",
       "      <td>1</td>\n",
       "      <td>0</td>\n",
       "      <td>...</td>\n",
       "      <td>286.0</td>\n",
       "      <td>0</td>\n",
       "      <td>24</td>\n",
       "      <td>0</td>\n",
       "      <td>0</td>\n",
       "      <td>0</td>\n",
       "      <td>0</td>\n",
       "      <td>0</td>\n",
       "      <td>4</td>\n",
       "      <td>2006</td>\n",
       "    </tr>\n",
       "    <tr>\n",
       "      <th>2917</th>\n",
       "      <td>0</td>\n",
       "      <td>0</td>\n",
       "      <td>0</td>\n",
       "      <td>1</td>\n",
       "      <td>0</td>\n",
       "      <td>0</td>\n",
       "      <td>1</td>\n",
       "      <td>0</td>\n",
       "      <td>1</td>\n",
       "      <td>0</td>\n",
       "      <td>...</td>\n",
       "      <td>576.0</td>\n",
       "      <td>474</td>\n",
       "      <td>0</td>\n",
       "      <td>0</td>\n",
       "      <td>0</td>\n",
       "      <td>0</td>\n",
       "      <td>0</td>\n",
       "      <td>0</td>\n",
       "      <td>9</td>\n",
       "      <td>2006</td>\n",
       "    </tr>\n",
       "    <tr>\n",
       "      <th>2918</th>\n",
       "      <td>0</td>\n",
       "      <td>0</td>\n",
       "      <td>0</td>\n",
       "      <td>1</td>\n",
       "      <td>0</td>\n",
       "      <td>0</td>\n",
       "      <td>1</td>\n",
       "      <td>0</td>\n",
       "      <td>1</td>\n",
       "      <td>0</td>\n",
       "      <td>...</td>\n",
       "      <td>0.0</td>\n",
       "      <td>80</td>\n",
       "      <td>32</td>\n",
       "      <td>0</td>\n",
       "      <td>0</td>\n",
       "      <td>0</td>\n",
       "      <td>0</td>\n",
       "      <td>700</td>\n",
       "      <td>7</td>\n",
       "      <td>2006</td>\n",
       "    </tr>\n",
       "    <tr>\n",
       "      <th>2919</th>\n",
       "      <td>0</td>\n",
       "      <td>0</td>\n",
       "      <td>0</td>\n",
       "      <td>1</td>\n",
       "      <td>0</td>\n",
       "      <td>0</td>\n",
       "      <td>1</td>\n",
       "      <td>0</td>\n",
       "      <td>1</td>\n",
       "      <td>0</td>\n",
       "      <td>...</td>\n",
       "      <td>650.0</td>\n",
       "      <td>190</td>\n",
       "      <td>48</td>\n",
       "      <td>0</td>\n",
       "      <td>0</td>\n",
       "      <td>0</td>\n",
       "      <td>0</td>\n",
       "      <td>0</td>\n",
       "      <td>11</td>\n",
       "      <td>2006</td>\n",
       "    </tr>\n",
       "  </tbody>\n",
       "</table>\n",
       "<p>2919 rows × 303 columns</p>\n",
       "</div>"
      ],
      "text/plain": [
       "      MSZoning_C (all)  MSZoning_FV  MSZoning_RH  MSZoning_RL  MSZoning_RM  \\\n",
       "1                    0            0            0            1            0   \n",
       "2                    0            0            0            1            0   \n",
       "3                    0            0            0            1            0   \n",
       "4                    0            0            0            1            0   \n",
       "5                    0            0            0            1            0   \n",
       "...                ...          ...          ...          ...          ...   \n",
       "2915                 0            0            0            0            1   \n",
       "2916                 0            0            0            0            1   \n",
       "2917                 0            0            0            1            0   \n",
       "2918                 0            0            0            1            0   \n",
       "2919                 0            0            0            1            0   \n",
       "\n",
       "      Street_Grvl  Street_Pave  Alley_Grvl  Alley_No  Alley_Pave  ...  \\\n",
       "1               0            1           0         1           0  ...   \n",
       "2               0            1           0         1           0  ...   \n",
       "3               0            1           0         1           0  ...   \n",
       "4               0            1           0         1           0  ...   \n",
       "5               0            1           0         1           0  ...   \n",
       "...           ...          ...         ...       ...         ...  ...   \n",
       "2915            0            1           0         1           0  ...   \n",
       "2916            0            1           0         1           0  ...   \n",
       "2917            0            1           0         1           0  ...   \n",
       "2918            0            1           0         1           0  ...   \n",
       "2919            0            1           0         1           0  ...   \n",
       "\n",
       "      GarageArea  WoodDeckSF  OpenPorchSF  EnclosedPorch  3SsnPorch  \\\n",
       "1          548.0           0           61              0          0   \n",
       "2          460.0         298            0              0          0   \n",
       "3          608.0           0           42              0          0   \n",
       "4          642.0           0           35            272          0   \n",
       "5          836.0         192           84              0          0   \n",
       "...          ...         ...          ...            ...        ...   \n",
       "2915         0.0           0            0              0          0   \n",
       "2916       286.0           0           24              0          0   \n",
       "2917       576.0         474            0              0          0   \n",
       "2918         0.0          80           32              0          0   \n",
       "2919       650.0         190           48              0          0   \n",
       "\n",
       "      ScreenPorch  PoolArea  MiscVal  MoSold  YrSold  \n",
       "1               0         0        0       2    2008  \n",
       "2               0         0        0       5    2007  \n",
       "3               0         0        0       9    2008  \n",
       "4               0         0        0       2    2006  \n",
       "5               0         0        0      12    2008  \n",
       "...           ...       ...      ...     ...     ...  \n",
       "2915            0         0        0       6    2006  \n",
       "2916            0         0        0       4    2006  \n",
       "2917            0         0        0       9    2006  \n",
       "2918            0         0      700       7    2006  \n",
       "2919            0         0        0      11    2006  \n",
       "\n",
       "[2919 rows x 303 columns]"
      ]
     },
     "execution_count": 5,
     "metadata": {},
     "output_type": "execute_result"
    }
   ],
   "source": [
    "data_price=data[\"SalePrice\"]\n",
    "\n",
    "data_obj = data.select_dtypes(include=object)\n",
    "data_obj_dummy = pd.get_dummies(data_obj,dtype=int)\n",
    "data_obj_dummy\n",
    "\n",
    "data_number = data.select_dtypes(include=\"number\")\n",
    "data_number = data_number.drop(\"SalePrice\",axis=1)\n",
    "\n",
    "data_train = data_obj_dummy.join(data_price)\n",
    "data_train = data_train.join(data_number)\n",
    "data_train"
   ]
  },
  {
   "cell_type": "code",
   "execution_count": 6,
   "id": "b0286426",
   "metadata": {
    "execution": {
     "iopub.execute_input": "2024-05-23T08:38:35.952646Z",
     "iopub.status.busy": "2024-05-23T08:38:35.952240Z",
     "iopub.status.idle": "2024-05-23T08:38:35.969164Z",
     "shell.execute_reply": "2024-05-23T08:38:35.967894Z"
    },
    "papermill": {
     "duration": 0.039969,
     "end_time": "2024-05-23T08:38:35.972181",
     "exception": false,
     "start_time": "2024-05-23T08:38:35.932212",
     "status": "completed"
    },
    "tags": []
   },
   "outputs": [],
   "source": [
    "area_list = [\"TotalBsmtSF\",\"GrLivArea\",\"GarageArea\",\"WoodDeckSF\",\"OpenPorchSF\",\"EnclosedPorch\",\"3SsnPorch\",\"ScreenPorch\",\"PoolArea\"]\n",
    "data_train[\"area\"] = data_train[area_list].sum(axis=1)\n",
    "\n",
    "qual_list_ta = [\"BsmtQual_TA\",\"ExterQual_TA\",\"KitchenQual_TA\",\"GarageQual_TA\"]\n",
    "data_train[\"qual\"] = data_train[qual_list_ta].sum(axis=1)\n",
    "\n",
    "qual_list_ex = [\"BsmtQual_Ex\",\"ExterQual_Ex\",\"KitchenQual_Ex\",\"GarageQual_Ex\"]\n",
    "data_train[\"qual_ex\"] = data_train[qual_list_ex].sum(axis=1)"
   ]
  },
  {
   "cell_type": "code",
   "execution_count": 7,
   "id": "aa172209",
   "metadata": {
    "execution": {
     "iopub.execute_input": "2024-05-23T08:38:36.010818Z",
     "iopub.status.busy": "2024-05-23T08:38:36.010420Z",
     "iopub.status.idle": "2024-05-23T08:38:36.019693Z",
     "shell.execute_reply": "2024-05-23T08:38:36.018158Z"
    },
    "papermill": {
     "duration": 0.031633,
     "end_time": "2024-05-23T08:38:36.022312",
     "exception": false,
     "start_time": "2024-05-23T08:38:35.990679",
     "status": "completed"
    },
    "tags": []
   },
   "outputs": [
    {
     "data": {
      "text/plain": [
       "'\\ndata_front = data_train\\nfront_train = data_front.loc[data_front[\"LotFrontage\"].notna()]\\nfront_test = data_front.loc[data_front[\"LotFrontage\"].isna()]\\nfront_train_y = front_train[\"LotFrontage\"]\\nfront_test_y = front_test[[\"LotFrontage\"]]\\n\\nfront_train = front_train.drop([\"LotFrontage\",\"SalePrice\"],axis=1)\\nfront_test = front_test.drop([\"LotFrontage\",\"SalePrice\"],axis=1)\\n\\nx_train_f, x_valid_f, y_train_f, y_valid_f = train_test_split(front_train, front_train_y, test_size=0.2, random_state=0)\\n#traintestsplitで0.5対0.95の割合で分割をする。\\n\\nparams = {\\'objective\\': \\'regression\\',\\n          \\'metric\\': \\'rmse\\',\\n          \\'boosting\\': \\'gbdt\\',\\n          \\'verbosity\\': -1,\\n          \\'random_state\\': 1}\\n\\nf_train = lgb.Dataset(x_train_f,y_train_f)\\nf_valid = lgb.Dataset(x_valid_f,y_valid_f)\\n\\ngbm=lgb.train(\\n    params,\\n    f_train,\\n    valid_sets=[f_train, f_valid],\\n    valid_names=[\\'train\\', \\'valid\\'],\\n    num_boost_round=5000,\\n    callbacks=[lgb.early_stopping(200),lgb.log_evaluation(period=100)])\\n\\ny_prob = gbm.predict(x_valid_f)\\nmse = mean_squared_error(y_valid_f,y_prob)\\nrmse = np.sqrt(mse)\\nprint(mse)\\n\\nsubmit_f = gbm.predict(front_test)\\n\\ndata_front_l = data_front[\"LotFrontage\"]\\ndata_front_l.loc[data_front_l.isnull()]=submit_f\\ndata_train[\"LotFrontage_N\"]=data_front_l\\ndata_train = data_train.drop(\"LotFrontage\",axis=1)\\ndata_train\\n'"
      ]
     },
     "execution_count": 7,
     "metadata": {},
     "output_type": "execute_result"
    }
   ],
   "source": [
    "#LotFrontageの欠損値処理\n",
    "\"\"\"\n",
    "data_front = data_train\n",
    "front_train = data_front.loc[data_front[\"LotFrontage\"].notna()]\n",
    "front_test = data_front.loc[data_front[\"LotFrontage\"].isna()]\n",
    "front_train_y = front_train[\"LotFrontage\"]\n",
    "front_test_y = front_test[[\"LotFrontage\"]]\n",
    "\n",
    "front_train = front_train.drop([\"LotFrontage\",\"SalePrice\"],axis=1)\n",
    "front_test = front_test.drop([\"LotFrontage\",\"SalePrice\"],axis=1)\n",
    "\n",
    "x_train_f, x_valid_f, y_train_f, y_valid_f = train_test_split(front_train, front_train_y, test_size=0.2, random_state=0)\n",
    "#traintestsplitで0.5対0.95の割合で分割をする。\n",
    "\n",
    "params = {'objective': 'regression',\n",
    "          'metric': 'rmse',\n",
    "          'boosting': 'gbdt',\n",
    "          'verbosity': -1,\n",
    "          'random_state': 1}\n",
    "\n",
    "f_train = lgb.Dataset(x_train_f,y_train_f)\n",
    "f_valid = lgb.Dataset(x_valid_f,y_valid_f)\n",
    "\n",
    "gbm=lgb.train(\n",
    "    params,\n",
    "    f_train,\n",
    "    valid_sets=[f_train, f_valid],\n",
    "    valid_names=['train', 'valid'],\n",
    "    num_boost_round=5000,\n",
    "    callbacks=[lgb.early_stopping(200),lgb.log_evaluation(period=100)])\n",
    "\n",
    "y_prob = gbm.predict(x_valid_f)\n",
    "mse = mean_squared_error(y_valid_f,y_prob)\n",
    "rmse = np.sqrt(mse)\n",
    "print(mse)\n",
    "\n",
    "submit_f = gbm.predict(front_test)\n",
    "\n",
    "data_front_l = data_front[\"LotFrontage\"]\n",
    "data_front_l.loc[data_front_l.isnull()]=submit_f\n",
    "data_train[\"LotFrontage_N\"]=data_front_l\n",
    "data_train = data_train.drop(\"LotFrontage\",axis=1)\n",
    "data_train\n",
    "\"\"\""
   ]
  },
  {
   "cell_type": "code",
   "execution_count": 8,
   "id": "5579aa61",
   "metadata": {
    "execution": {
     "iopub.execute_input": "2024-05-23T08:38:36.060872Z",
     "iopub.status.busy": "2024-05-23T08:38:36.060459Z",
     "iopub.status.idle": "2024-05-23T08:38:36.068074Z",
     "shell.execute_reply": "2024-05-23T08:38:36.066801Z"
    },
    "papermill": {
     "duration": 0.029901,
     "end_time": "2024-05-23T08:38:36.070640",
     "exception": false,
     "start_time": "2024-05-23T08:38:36.040739",
     "status": "completed"
    },
    "tags": []
   },
   "outputs": [
    {
     "data": {
      "text/plain": [
       "'\\nqual_list_gd = [\"ExterQual_Gd\",\"KitchenQual_Gd\",\"BsmtExposure_Gd\",\"FireplaceQu_Gd\"]\\ndata_train[\"qual_gd\"] = data_train[qual_list_gd].sum(axis=1)\\n\\nno_count = [\"FireplaceQu_No\",\"MasVnrType_No\",\"BsmtExposure_No\",\"GarageType_No\",\"BsmtCond_No\",\"BsmtFinType2_No\"]\\ndata_train[\"no_count\"] = data_train[no_count].sum(axis=1)\\n\\nbath_count = [\"FullBath\",\"HalfBath\",\"BsmtFullBath\",\"BsmtHalfBath\"]\\ndata_train[\"bath_count\"] = data_train[bath_count].sum(axis=1)\\n'"
      ]
     },
     "execution_count": 8,
     "metadata": {},
     "output_type": "execute_result"
    }
   ],
   "source": [
    "#特徴量の追加\n",
    "\"\"\"\n",
    "qual_list_gd = [\"ExterQual_Gd\",\"KitchenQual_Gd\",\"BsmtExposure_Gd\",\"FireplaceQu_Gd\"]\n",
    "data_train[\"qual_gd\"] = data_train[qual_list_gd].sum(axis=1)\n",
    "\n",
    "no_count = [\"FireplaceQu_No\",\"MasVnrType_No\",\"BsmtExposure_No\",\"GarageType_No\",\"BsmtCond_No\",\"BsmtFinType2_No\"]\n",
    "data_train[\"no_count\"] = data_train[no_count].sum(axis=1)\n",
    "\n",
    "bath_count = [\"FullBath\",\"HalfBath\",\"BsmtFullBath\",\"BsmtHalfBath\"]\n",
    "data_train[\"bath_count\"] = data_train[bath_count].sum(axis=1)\n",
    "\"\"\""
   ]
  },
  {
   "cell_type": "code",
   "execution_count": 9,
   "id": "0bfb8f97",
   "metadata": {
    "execution": {
     "iopub.execute_input": "2024-05-23T08:38:36.110075Z",
     "iopub.status.busy": "2024-05-23T08:38:36.109313Z",
     "iopub.status.idle": "2024-05-23T08:38:36.116874Z",
     "shell.execute_reply": "2024-05-23T08:38:36.115553Z"
    },
    "papermill": {
     "duration": 0.030316,
     "end_time": "2024-05-23T08:38:36.119251",
     "exception": false,
     "start_time": "2024-05-23T08:38:36.088935",
     "status": "completed"
    },
    "tags": []
   },
   "outputs": [
    {
     "data": {
      "text/plain": [
       "'\\nsur = data_train.corr()[\"SalePrice\"].abs()\\ndel_i = sur.loc[sur.sort_values()<0.02]\\ndel_i = del_i.index\\ndata = data.drop(del_i,axis=1)\\n'"
      ]
     },
     "execution_count": 9,
     "metadata": {},
     "output_type": "execute_result"
    }
   ],
   "source": [
    "\"\"\"\n",
    "sur = data_train.corr()[\"SalePrice\"].abs()\n",
    "del_i = sur.loc[sur.sort_values()<0.02]\n",
    "del_i = del_i.index\n",
    "data = data.drop(del_i,axis=1)\n",
    "\"\"\""
   ]
  },
  {
   "cell_type": "code",
   "execution_count": 10,
   "id": "73c72e47",
   "metadata": {
    "execution": {
     "iopub.execute_input": "2024-05-23T08:38:36.158071Z",
     "iopub.status.busy": "2024-05-23T08:38:36.157648Z",
     "iopub.status.idle": "2024-05-23T08:38:36.176477Z",
     "shell.execute_reply": "2024-05-23T08:38:36.175228Z"
    },
    "papermill": {
     "duration": 0.041588,
     "end_time": "2024-05-23T08:38:36.179325",
     "exception": false,
     "start_time": "2024-05-23T08:38:36.137737",
     "status": "completed"
    },
    "tags": []
   },
   "outputs": [],
   "source": [
    "x_train = data_train.loc[data_train[\"SalePrice\"].notna()]\n",
    "x_train = x_train.drop(\"SalePrice\",axis=1)\n",
    "x_test = data_train.loc[data_train[\"SalePrice\"].isna()]\n",
    "x_test = x_test.drop(\"SalePrice\",axis=1)"
   ]
  },
  {
   "cell_type": "code",
   "execution_count": 11,
   "id": "08928289",
   "metadata": {
    "execution": {
     "iopub.execute_input": "2024-05-23T08:38:36.221722Z",
     "iopub.status.busy": "2024-05-23T08:38:36.220932Z",
     "iopub.status.idle": "2024-05-23T08:38:36.230886Z",
     "shell.execute_reply": "2024-05-23T08:38:36.229565Z"
    },
    "papermill": {
     "duration": 0.034611,
     "end_time": "2024-05-23T08:38:36.233297",
     "exception": false,
     "start_time": "2024-05-23T08:38:36.198686",
     "status": "completed"
    },
    "tags": []
   },
   "outputs": [
    {
     "data": {
      "text/plain": [
       "'\\ndf_submit = pd.DataFrame()\\ndf_submit.to_csv(\"/kaggle/working/submission.csv\",index=False)\\n\\nx_train_lgb, x_valid_lgb, y_train_lgb, y_valid_lgb = train_test_split(x_train, y_train, test_size=0.05, random_state=0)\\n#traintestsplitで0.5対0.95の割合で分割をする。\\n\\nparams = {\\'objective\\': \\'regression\\',\\n          \\'metric\\': \\'rmse\\',\\n          \\'boosting\\': \\'gbdt\\',\\n          \\'verbosity\\': -1,\\n          \\'random_state\\': 1}\\n\\nlgb_train = lgb.Dataset(x_train_lgb,y_train_lgb)\\nlgb_valid = lgb.Dataset(x_valid_lgb,y_valid_lgb)\\n\\ngbm=lgb.train(\\n    params,\\n    lgb_train,\\n    valid_sets=[lgb_train, lgb_valid],\\n    valid_names=[\\'train\\', \\'valid\\'],\\n    num_boost_round=5000,\\n    callbacks=[lgb.early_stopping(200),lgb.log_evaluation(period=100)])\\n\\ny_prob = gbm.predict(x_valid_lgb)\\nmse = mean_squared_error(y_valid_lgb,y_prob)\\nrmse = np.sqrt(mse)\\nprint(mse)\\n\\nsubmit = gbm.predict(x_test)\\nprint(submit)\\nsample_submission[\"SalePrice\"]=submit\\n\\ndf_submit = sample_submission\\ndf_submit.to_csv(\"/kaggle/working/submission.csv\",index=False)\\n\\n#lgb = sample_submission\\n'"
      ]
     },
     "execution_count": 11,
     "metadata": {},
     "output_type": "execute_result"
    }
   ],
   "source": [
    "#categorical featureなし\n",
    "\"\"\"\n",
    "df_submit = pd.DataFrame()\n",
    "df_submit.to_csv(\"/kaggle/working/submission.csv\",index=False)\n",
    "\n",
    "x_train_lgb, x_valid_lgb, y_train_lgb, y_valid_lgb = train_test_split(x_train, y_train, test_size=0.05, random_state=0)\n",
    "#traintestsplitで0.5対0.95の割合で分割をする。\n",
    "\n",
    "params = {'objective': 'regression',\n",
    "          'metric': 'rmse',\n",
    "          'boosting': 'gbdt',\n",
    "          'verbosity': -1,\n",
    "          'random_state': 1}\n",
    "\n",
    "lgb_train = lgb.Dataset(x_train_lgb,y_train_lgb)\n",
    "lgb_valid = lgb.Dataset(x_valid_lgb,y_valid_lgb)\n",
    "\n",
    "gbm=lgb.train(\n",
    "    params,\n",
    "    lgb_train,\n",
    "    valid_sets=[lgb_train, lgb_valid],\n",
    "    valid_names=['train', 'valid'],\n",
    "    num_boost_round=5000,\n",
    "    callbacks=[lgb.early_stopping(200),lgb.log_evaluation(period=100)])\n",
    "\n",
    "y_prob = gbm.predict(x_valid_lgb)\n",
    "mse = mean_squared_error(y_valid_lgb,y_prob)\n",
    "rmse = np.sqrt(mse)\n",
    "print(mse)\n",
    "\n",
    "submit = gbm.predict(x_test)\n",
    "print(submit)\n",
    "sample_submission[\"SalePrice\"]=submit\n",
    "\n",
    "df_submit = sample_submission\n",
    "df_submit.to_csv(\"/kaggle/working/submission.csv\",index=False)\n",
    "\n",
    "#lgb = sample_submission\n",
    "\"\"\""
   ]
  },
  {
   "cell_type": "markdown",
   "id": "0662803f",
   "metadata": {
    "papermill": {
     "duration": 0.019006,
     "end_time": "2024-05-23T08:38:36.271265",
     "exception": false,
     "start_time": "2024-05-23T08:38:36.252259",
     "status": "completed"
    },
    "tags": []
   },
   "source": [
    "<h3>目標</h3>\n",
    "<strong>0.12437</strong>\n",
    "<h3>lightgbm</h3>\n",
    "886119260.0036006　:　0.13921<br>\n",
    "893909754.9908885　：　0.13950<br>\n",
    "1132178287.9169395　：　0.13770<br>\n",
    "1095363254.1501348　：　0.13434（広さとクオリティーの特徴量を追加）<br>\n",
    "759103312.6288346　：　0.14005（testsizeを0.4に）<br>\n",
    "849124077.1035788　：　0.13403（testsizeを0.1に）<br>\n",
    "1161676490.4071314　：　0.13275（testsizeを0.05に）<br>\n",
    "4117822698.11737　：　0.13423（testsizeを0.01に）<br>\n",
    "1264008630.0203445　：　0.13446（No / 風呂の数 / Gdの数の特徴量を追加）<br>\n",
    "1130424889.4157186　：　0.13423（クオリティーのTAとEXの種類を追加）<br>\n",
    "1212035297.1493454　：　0.13527（クオリティーのEXの種類を追加）<br>\n",
    "1163454385.9609742　：　0.13391（garageとLotFrontageの欠損値を追加処理）<br>\n",
    "1092838199.0245917　：　0.13394（garageの欠損値を追加処理）<br>\n",
    "1061246695.9633745　：　0.13547（LotFrontageの欠損値を追加処理）<br>\n",
    "1112683662.0306122　：　0.13365（HeatingQCの特徴量を追加）<br>\n",
    "1200477521.1618218　：　0.13411（地下室の欠損値を0に）<br>\n",
    "1131419328.9506612　：　0.13396（Gdの値を追加）<br>\n",
    "1196290116.160546　：　0.13537（風呂の数の値を追加）<br>\n",
    "1164945010.634817　：　0.13286（欠損値が多いカラムを削除）<br>\n",
    "1163124599.8802662　：　0.13659（area合計前のカラムを削除）<br>\n",
    "<br>\n",
    "<h3>randomforest</h3>\n",
    "56608.718734138645　： 0.16891（randomforest）<br>\n",
    "①28678.748072006438　：　0.15102（特徴量の追加/削除）<br>\n",
    "29577.432166396982　：　0.15772（poachと部屋面積の特徴量を追加）<br>\n",
    "28373.326023597376　：　0.15372（他の特徴量と相関が強い特徴量を削除）<br>\n",
    "28351.029477661796　：　0.15456（poolの特徴量を削除）<br>\n",
    "27672.772316713526　：　0.15675（相関が低い特徴量を残す / 外れ値の削除 / fullbathを追加）<br>\n",
    "：0.15698（正規化、歪度の調整、nocount、fullbathの数）<br>\n",
    "0.13630937329482193：0.15682（正規化、歪度の調整）<br>\n",
    "0.1389380289442152：0.15379（①から正規化、歪度の調整）<br>\n",
    "30031.59888911026：0.15850（①から正規化の調整）<br>\n",
    "0.1339074740660716：0.15268（①から歪度の調整）<br>\n",
    "29376.697689912136：0.15402（①からcolumの削除をなくした）<br>\n",
    "26126.318509814388：0.15640（①から外れ値を削除/ 一部をラベルエンコーディング）<br>\n",
    "28198.654973273875：0.15390（①からYrPsdBltとYrPsdRmdとyearcountを削除）<br>\n",
    "28150.86676976628：0.15851（①からimportanceを自動化した）<br>\n",
    "28479.259876686505：0.15308（①から他の特徴量と相関が強い特徴量を削除）<br>\n",
    "<br>\n",
    "<h3>other　model</h3>\n",
    "888336369.6521956　：　0.13973（gbm,相関関係が0.01以下）<br>\n",
    "56608.718734138645　： 0.29793（knn）<br>\n",
    "1222086473.3063476　： 0.14805（xgboost）<br>\n",
    "56170.05372242699　：　0.26823（lgb optuna）<br>\n",
    "0.18965（Lidge回帰）<br>\n",
    "0.18865（Lasso回帰）<br>"
   ]
  },
  {
   "cell_type": "markdown",
   "id": "c24ab639",
   "metadata": {
    "papermill": {
     "duration": 0.018464,
     "end_time": "2024-05-23T08:38:36.308778",
     "exception": false,
     "start_time": "2024-05-23T08:38:36.290314",
     "status": "completed"
    },
    "tags": []
   },
   "source": [
    "<li>garageの設立年をそろえる</li>\n",
    "<li>MasVnrAreaの欠損値調整</li>\n",
    "<li>アンサンブル</li>\n",
    "<li>その他の特徴量追加による変化の観察</li>"
   ]
  },
  {
   "cell_type": "code",
   "execution_count": 12,
   "id": "d7c99bb9",
   "metadata": {
    "execution": {
     "iopub.execute_input": "2024-05-23T08:38:36.349425Z",
     "iopub.status.busy": "2024-05-23T08:38:36.349000Z",
     "iopub.status.idle": "2024-05-23T08:38:37.099057Z",
     "shell.execute_reply": "2024-05-23T08:38:37.098187Z"
    },
    "papermill": {
     "duration": 0.773834,
     "end_time": "2024-05-23T08:38:37.101701",
     "exception": false,
     "start_time": "2024-05-23T08:38:36.327867",
     "status": "completed"
    },
    "tags": []
   },
   "outputs": [
    {
     "data": {
      "text/plain": [
       "ExterQual_TA           -0.589044\n",
       "qual                   -0.567076\n",
       "KitchenQual_TA         -0.519298\n",
       "FireplaceQu_No         -0.471908\n",
       "BsmtQual_TA            -0.452394\n",
       "GarageFinish_Unf       -0.410608\n",
       "MasVnrType_No          -0.367456\n",
       "GarageType_Detchd      -0.354141\n",
       "Foundation_CBlock      -0.343263\n",
       "BsmtExposure_No        -0.319990\n",
       "HeatingQC_TA           -0.312677\n",
       "MSZoning_RM            -0.288065\n",
       "LotShape_Reg           -0.267672\n",
       "CentralAir_N           -0.251328\n",
       "SaleType_WD            -0.242598\n",
       "GarageType_No          -0.236832\n",
       "GarageCond_No          -0.236832\n",
       "GarageQual_No          -0.236832\n",
       "GarageFinish_No        -0.236832\n",
       "RoofStyle_Gable        -0.224744\n",
       "PavedDrive_N           -0.212630\n",
       "Foundation_BrkTil      -0.204117\n",
       "Electrical_FuseA       -0.193978\n",
       "Neighborhood_OldTown   -0.192189\n",
       "Neighborhood_NAmes     -0.188513\n",
       "Neighborhood_Edwards   -0.179949\n",
       "Exterior1st_MetalSd    -0.167068\n",
       "Neighborhood_IDOTRR    -0.164056\n",
       "HouseStyle_1.5Fin      -0.163466\n",
       "Exterior2nd_MetalSd    -0.162389\n",
       "Exterior2nd_Wd Sdng    -0.161800\n",
       "Exterior1st_Wd Sdng    -0.158619\n",
       "KitchenQual_Fa         -0.157199\n",
       "SaleCondition_Normal   -0.153990\n",
       "BsmtCond_No            -0.152829\n",
       "BsmtFinType1_No        -0.152829\n",
       "BsmtQual_No            -0.152829\n",
       "BsmtFinType2_No        -0.145274\n",
       "Neighborhood_BrkSide   -0.143648\n",
       "Fence_MnPrv            -0.140613\n",
       "Alley_Grvl             -0.139195\n",
       "ExterCond_Fa           -0.137914\n",
       "KitchenAbvGr           -0.135907\n",
       "BsmtFinType1_Rec       -0.135667\n",
       "HeatingQC_Gd           -0.134722\n",
       "HeatingQC_Fa           -0.133758\n",
       "GarageQual_Fa          -0.133142\n",
       "BsmtFinType1_BLQ       -0.132914\n",
       "BsmtCond_Fa            -0.132739\n",
       "GarageCond_Fa          -0.130774\n",
       "Name: SalePrice, dtype: float64"
      ]
     },
     "execution_count": 12,
     "metadata": {},
     "output_type": "execute_result"
    }
   ],
   "source": [
    "sur = data_train.corr()[\"SalePrice\"]\n",
    "sur.sort_values(ascending=True).head(50)"
   ]
  },
  {
   "cell_type": "code",
   "execution_count": 13,
   "id": "6737710b",
   "metadata": {
    "execution": {
     "iopub.execute_input": "2024-05-23T08:38:37.142736Z",
     "iopub.status.busy": "2024-05-23T08:38:37.141968Z",
     "iopub.status.idle": "2024-05-23T08:38:37.886325Z",
     "shell.execute_reply": "2024-05-23T08:38:37.885137Z"
    },
    "papermill": {
     "duration": 0.767356,
     "end_time": "2024-05-23T08:38:37.888786",
     "exception": false,
     "start_time": "2024-05-23T08:38:37.121430",
     "status": "completed"
    },
    "tags": []
   },
   "outputs": [
    {
     "data": {
      "text/plain": [
       "SalePrice                1.000000\n",
       "area                     0.807704\n",
       "OverallQual              0.790982\n",
       "GrLivArea                0.708624\n",
       "GarageCars               0.640409\n",
       "GarageArea               0.623431\n",
       "TotalBsmtSF              0.613581\n",
       "qual_ex                  0.611682\n",
       "1stFlrSF                 0.605852\n",
       "FullBath                 0.560664\n",
       "BsmtQual_Ex              0.553105\n",
       "TotRmsAbvGrd             0.533723\n",
       "YearBuilt                0.522897\n",
       "YearRemodAdd             0.507101\n",
       "KitchenQual_Ex           0.504094\n",
       "Foundation_PConc         0.497734\n",
       "MasVnrArea               0.472614\n",
       "GarageYrBlt              0.469056\n",
       "Fireplaces               0.466929\n",
       "ExterQual_Gd             0.452466\n",
       "ExterQual_Ex             0.451164\n",
       "BsmtFinType1_GLQ         0.434597\n",
       "HeatingQC_Ex             0.434543\n",
       "GarageFinish_Fin         0.419678\n",
       "Neighborhood_NridgHt     0.402149\n",
       "BsmtFinSF1               0.386420\n",
       "SaleType_New             0.357509\n",
       "SaleCondition_Partial    0.352060\n",
       "FireplaceQu_Gd           0.339329\n",
       "GarageType_Attchd        0.335961\n",
       "LotFrontage              0.334544\n",
       "MasVnrType_Stone         0.330476\n",
       "Neighborhood_NoRidge     0.330424\n",
       "WoodDeckSF               0.324413\n",
       "KitchenQual_Gd           0.321641\n",
       "2ndFlrSF                 0.319334\n",
       "OpenPorchSF              0.315856\n",
       "BsmtExposure_Gd          0.307298\n",
       "Exterior2nd_VinylSd      0.306389\n",
       "Exterior1st_VinylSd      0.305009\n",
       "HalfBath                 0.284108\n",
       "GarageCond_TA            0.275872\n",
       "LotArea                  0.263843\n",
       "FireplaceQu_Ex           0.255239\n",
       "CentralAir_Y             0.251328\n",
       "GarageQual_TA            0.245346\n",
       "MSZoning_RL              0.245063\n",
       "HouseStyle_2Story        0.242880\n",
       "Electrical_SBrkr         0.242357\n",
       "RoofStyle_Hip            0.235897\n",
       "Name: SalePrice, dtype: float64"
      ]
     },
     "execution_count": 13,
     "metadata": {},
     "output_type": "execute_result"
    }
   ],
   "source": [
    "sur = data_train.corr()[\"SalePrice\"]\n",
    "sur.sort_values(ascending=False).head(50)"
   ]
  },
  {
   "cell_type": "code",
   "execution_count": 14,
   "id": "67c9b662",
   "metadata": {
    "execution": {
     "iopub.execute_input": "2024-05-23T08:38:37.929166Z",
     "iopub.status.busy": "2024-05-23T08:38:37.928497Z",
     "iopub.status.idle": "2024-05-23T08:38:37.957330Z",
     "shell.execute_reply": "2024-05-23T08:38:37.956164Z"
    },
    "papermill": {
     "duration": 0.052132,
     "end_time": "2024-05-23T08:38:37.959904",
     "exception": false,
     "start_time": "2024-05-23T08:38:37.907772",
     "status": "completed"
    },
    "tags": []
   },
   "outputs": [
    {
     "data": {
      "text/plain": [
       "SalePrice        1459\n",
       "CentralAir          0\n",
       "GarageYrBlt         0\n",
       "GarageType          0\n",
       "FireplaceQu         0\n",
       "Fireplaces          0\n",
       "Functional          0\n",
       "TotRmsAbvGrd        0\n",
       "KitchenQual         0\n",
       "KitchenAbvGr        0\n",
       "BedroomAbvGr        0\n",
       "HalfBath            0\n",
       "FullBath            0\n",
       "BsmtHalfBath        0\n",
       "BsmtFullBath        0\n",
       "GrLivArea           0\n",
       "LowQualFinSF        0\n",
       "2ndFlrSF            0\n",
       "1stFlrSF            0\n",
       "GarageFinish        0\n",
       "GarageCars          0\n",
       "GarageArea          0\n",
       "PoolQC              0\n",
       "SaleCondition       0\n",
       "SaleType            0\n",
       "YrSold              0\n",
       "MoSold              0\n",
       "MiscVal             0\n",
       "MiscFeature         0\n",
       "Fence               0\n",
       "PoolArea            0\n",
       "GarageQual          0\n",
       "ScreenPorch         0\n",
       "3SsnPorch           0\n",
       "EnclosedPorch       0\n",
       "OpenPorchSF         0\n",
       "WoodDeckSF          0\n",
       "PavedDrive          0\n",
       "GarageCond          0\n",
       "Electrical          0\n",
       "Id                  0\n",
       "MSSubClass          0\n",
       "Heating             0\n",
       "OverallCond         0\n",
       "OverallQual         0\n",
       "HouseStyle          0\n",
       "BldgType            0\n",
       "Condition2          0\n",
       "Condition1          0\n",
       "Neighborhood        0\n",
       "dtype: int64"
      ]
     },
     "execution_count": 14,
     "metadata": {},
     "output_type": "execute_result"
    }
   ],
   "source": [
    "data.isnull().sum().sort_values(ascending=False).head(50)"
   ]
  },
  {
   "cell_type": "code",
   "execution_count": 15,
   "id": "7a6fd06d",
   "metadata": {
    "execution": {
     "iopub.execute_input": "2024-05-23T08:38:38.001601Z",
     "iopub.status.busy": "2024-05-23T08:38:38.001201Z",
     "iopub.status.idle": "2024-05-23T08:38:38.009658Z",
     "shell.execute_reply": "2024-05-23T08:38:38.008484Z"
    },
    "papermill": {
     "duration": 0.032501,
     "end_time": "2024-05-23T08:38:38.012054",
     "exception": false,
     "start_time": "2024-05-23T08:38:37.979553",
     "status": "completed"
    },
    "tags": []
   },
   "outputs": [
    {
     "data": {
      "text/plain": [
       "'\\n#K近傍法：求めたい点の周辺の何個かの点を取る。その点が0か1のどちらかを特定する。0か1のどちらが多いか多数決で決めるモデル\\n\\ndf_submit = pd.DataFrame()\\ndf_submit.to_csv(\"/kaggle/working/submission.csv\",index=False)\\n\\nknn = KNeighborsClassifier()\\n#K-nnの手法。これは求めたい値から周辺にいくつかの点をリストアップする。その周辺にある点が0か1のどちらかを推定し、多い方を利用する\\nparam_test = {\\'n_neighbors\\':list(range(1, 10, 1))} \\n#n_neighborsは周辺の何個の点を取得するかを表したもの。今回は1~50個のうち、どれが適切かをgridsearchで特定している\\n\\ndef rmse(y_true, y_pred):\\n    return np.sqrt(mean_squared_error(y_true, y_pred))\\nrmse_scorer = make_scorer(rmse, greater_is_better=False)\\n\\ngrid = GridSearchCV(estimator = knn, param_grid = param_test, scoring=rmse_scorer, cv=10)\\ngrid.fit(x_train, y_train)\\nscore = grid.best_score_\\nscore = np.abs(score)\\nprint(grid.best_params_, score, sep=\"\\n\")\\n\\nsubmit = grid.predict(x_test)\\nprint(submit)\\n\\nsample_submission[\"SalePrice\"]=submit\\ndf_submit = sample_submission\\ndf_submit.to_csv(\"/kaggle/working/submission.csv\",index=False)\\n#df_submit.to_csv(\"/kaggle/working/0504knn.csv\",index=False)\\n'"
      ]
     },
     "execution_count": 15,
     "metadata": {},
     "output_type": "execute_result"
    }
   ],
   "source": [
    "\"\"\"\n",
    "#K近傍法：求めたい点の周辺の何個かの点を取る。その点が0か1のどちらかを特定する。0か1のどちらが多いか多数決で決めるモデル\n",
    "\n",
    "df_submit = pd.DataFrame()\n",
    "df_submit.to_csv(\"/kaggle/working/submission.csv\",index=False)\n",
    "\n",
    "knn = KNeighborsClassifier()\n",
    "#K-nnの手法。これは求めたい値から周辺にいくつかの点をリストアップする。その周辺にある点が0か1のどちらかを推定し、多い方を利用する\n",
    "param_test = {'n_neighbors':list(range(1, 10, 1))} \n",
    "#n_neighborsは周辺の何個の点を取得するかを表したもの。今回は1~50個のうち、どれが適切かをgridsearchで特定している\n",
    "\n",
    "def rmse(y_true, y_pred):\n",
    "    return np.sqrt(mean_squared_error(y_true, y_pred))\n",
    "rmse_scorer = make_scorer(rmse, greater_is_better=False)\n",
    "\n",
    "grid = GridSearchCV(estimator = knn, param_grid = param_test, scoring=rmse_scorer, cv=10)\n",
    "grid.fit(x_train, y_train)\n",
    "score = grid.best_score_\n",
    "score = np.abs(score)\n",
    "print(grid.best_params_, score, sep=\"\\n\")\n",
    "\n",
    "submit = grid.predict(x_test)\n",
    "print(submit)\n",
    "\n",
    "sample_submission[\"SalePrice\"]=submit\n",
    "df_submit = sample_submission\n",
    "df_submit.to_csv(\"/kaggle/working/submission.csv\",index=False)\n",
    "#df_submit.to_csv(\"/kaggle/working/0504knn.csv\",index=False)\n",
    "\"\"\""
   ]
  },
  {
   "cell_type": "code",
   "execution_count": 16,
   "id": "61d2d87a",
   "metadata": {
    "execution": {
     "iopub.execute_input": "2024-05-23T08:38:38.053451Z",
     "iopub.status.busy": "2024-05-23T08:38:38.052995Z",
     "iopub.status.idle": "2024-05-23T08:38:38.061925Z",
     "shell.execute_reply": "2024-05-23T08:38:38.060636Z"
    },
    "papermill": {
     "duration": 0.032555,
     "end_time": "2024-05-23T08:38:38.064354",
     "exception": false,
     "start_time": "2024-05-23T08:38:38.031799",
     "status": "completed"
    },
    "tags": []
   },
   "outputs": [
    {
     "data": {
      "text/plain": [
       "'\\n#ランダムフォレスト：決定木を複数作成をして、どちらに該当するかモデルを作ること。\\n#決定木と異なるのは、複数のサンプルをリストアップしてその複数の決定木を作り、その平均/多数決で決めること\\n\\n\\ndf_submit = pd.DataFrame()\\ndf_submit.to_csv(\"/kaggle/working/submission.csv\",index=False)\\n\\nrfr = RandomForestRegressor(random_state = 100, max_features=\\'sqrt\\')\\nparam_test = {\\'n_estimators\\':list(range(20, 30, 1)), #20～30を１刻みずつ試す\\n              \\'max_depth\\':list(range(3, 10, 1))} #3～10を１刻みずつ試す\\n\\ndef rmse(y_true, y_pred):\\n    return np.sqrt(mean_squared_error(y_true, y_pred))\\nrmse_scorer = make_scorer(rmse, greater_is_better=False)\\n\\ngrid = GridSearchCV(estimator = rfr, param_grid = param_test, scoring=rmse_scorer, cv=10)\\ngrid.fit(x_train, y_train)\\nscore = grid.best_score_\\nscore = np.abs(score)\\nprint(grid.best_params_, score, sep=\"\\n\")\\n\\nsubmit = grid.predict(x_test)\\nprint(submit)\\n\\nsample_submission[\"SalePrice\"]=submit\\n#df_submit = sample_submission\\n#df_submit.to_csv(\"/kaggle/working/submission.csv\",index=False)\\n\\nrand = sample_submission\\n'"
      ]
     },
     "execution_count": 16,
     "metadata": {},
     "output_type": "execute_result"
    }
   ],
   "source": [
    "\"\"\"\n",
    "#ランダムフォレスト：決定木を複数作成をして、どちらに該当するかモデルを作ること。\n",
    "#決定木と異なるのは、複数のサンプルをリストアップしてその複数の決定木を作り、その平均/多数決で決めること\n",
    "\n",
    "\n",
    "df_submit = pd.DataFrame()\n",
    "df_submit.to_csv(\"/kaggle/working/submission.csv\",index=False)\n",
    "\n",
    "rfr = RandomForestRegressor(random_state = 100, max_features='sqrt')\n",
    "param_test = {'n_estimators':list(range(20, 30, 1)), #20～30を１刻みずつ試す\n",
    "              'max_depth':list(range(3, 10, 1))} #3～10を１刻みずつ試す\n",
    "\n",
    "def rmse(y_true, y_pred):\n",
    "    return np.sqrt(mean_squared_error(y_true, y_pred))\n",
    "rmse_scorer = make_scorer(rmse, greater_is_better=False)\n",
    "\n",
    "grid = GridSearchCV(estimator = rfr, param_grid = param_test, scoring=rmse_scorer, cv=10)\n",
    "grid.fit(x_train, y_train)\n",
    "score = grid.best_score_\n",
    "score = np.abs(score)\n",
    "print(grid.best_params_, score, sep=\"\\n\")\n",
    "\n",
    "submit = grid.predict(x_test)\n",
    "print(submit)\n",
    "\n",
    "sample_submission[\"SalePrice\"]=submit\n",
    "#df_submit = sample_submission\n",
    "#df_submit.to_csv(\"/kaggle/working/submission.csv\",index=False)\n",
    "\n",
    "rand = sample_submission\n",
    "\"\"\""
   ]
  },
  {
   "cell_type": "code",
   "execution_count": 17,
   "id": "c43cb087",
   "metadata": {
    "execution": {
     "iopub.execute_input": "2024-05-23T08:38:38.107145Z",
     "iopub.status.busy": "2024-05-23T08:38:38.106398Z",
     "iopub.status.idle": "2024-05-23T08:38:38.115432Z",
     "shell.execute_reply": "2024-05-23T08:38:38.114333Z"
    },
    "papermill": {
     "duration": 0.033549,
     "end_time": "2024-05-23T08:38:38.118035",
     "exception": false,
     "start_time": "2024-05-23T08:38:38.084486",
     "status": "completed"
    },
    "tags": []
   },
   "outputs": [
    {
     "data": {
      "text/plain": [
       "'\\n#xgboost\\n\\ndf_submit = pd.DataFrame()\\ndf_submit.to_csv(\"/kaggle/working/submission.csv\",index=False)\\n\\nx_train_xgb, x_valid_xgb, y_train_xgb, y_valid_xgb = train_test_split(x_train, y_train, test_size=0.2, random_state=0)\\n#traintestsplitで2対8の割合で分割をする。\\n\\nparams = {\\'objective\\': \\'reg:squarederror\\',\\n          \\'metric\\': \\'eval_metric\\',\\n          \\'booster\\': \\'gbtree\\',\\n          \\'verbosity\\': 1,\\n          \\'seed\\': 1}\\n\\nxgb_train = xgb.DMatrix(data = x_train_xgb,label = y_train_xgb)\\nxgb_valid = xgb.DMatrix(data = x_valid_xgb,label = y_valid_xgb)\\n\\nmodel = xgb.train(\\n    params=params,\\n    dtrain=xgb_train,\\n    num_boost_round=1000,\\n    evals=[(xgb_train, \\'train\\'), (xgb_valid, \\'valid\\')],\\n    early_stopping_rounds=100,\\n    verbose_eval=100)\\n\\nx_valid_for_pred = xgb.DMatrix(data=x_valid_xgb)\\ny_prob = model.predict(x_valid_for_pred)\\n\\nmse = mean_squared_error(y_valid_xgb,y_prob)\\nrmse = np.sqrt(mse)\\nprint(mse)\\n\\nx_test_pred = xgb.DMatrix(data=x_test)\\nsubmit = model.predict(x_test_pred)\\nprint(submit)\\nsample_submission[\"SalePrice\"]=submit\\n\\ndf_submit = sample_submission\\ndf_submit.to_csv(\"/kaggle/working/submission.csv\",index=False)\\n\\nxgboost = sample_submission\\n'"
      ]
     },
     "execution_count": 17,
     "metadata": {},
     "output_type": "execute_result"
    }
   ],
   "source": [
    "\"\"\"\n",
    "#xgboost\n",
    "\n",
    "df_submit = pd.DataFrame()\n",
    "df_submit.to_csv(\"/kaggle/working/submission.csv\",index=False)\n",
    "\n",
    "x_train_xgb, x_valid_xgb, y_train_xgb, y_valid_xgb = train_test_split(x_train, y_train, test_size=0.2, random_state=0)\n",
    "#traintestsplitで2対8の割合で分割をする。\n",
    "\n",
    "params = {'objective': 'reg:squarederror',\n",
    "          'metric': 'eval_metric',\n",
    "          'booster': 'gbtree',\n",
    "          'verbosity': 1,\n",
    "          'seed': 1}\n",
    "\n",
    "xgb_train = xgb.DMatrix(data = x_train_xgb,label = y_train_xgb)\n",
    "xgb_valid = xgb.DMatrix(data = x_valid_xgb,label = y_valid_xgb)\n",
    "\n",
    "model = xgb.train(\n",
    "    params=params,\n",
    "    dtrain=xgb_train,\n",
    "    num_boost_round=1000,\n",
    "    evals=[(xgb_train, 'train'), (xgb_valid, 'valid')],\n",
    "    early_stopping_rounds=100,\n",
    "    verbose_eval=100)\n",
    "\n",
    "x_valid_for_pred = xgb.DMatrix(data=x_valid_xgb)\n",
    "y_prob = model.predict(x_valid_for_pred)\n",
    "\n",
    "mse = mean_squared_error(y_valid_xgb,y_prob)\n",
    "rmse = np.sqrt(mse)\n",
    "print(mse)\n",
    "\n",
    "x_test_pred = xgb.DMatrix(data=x_test)\n",
    "submit = model.predict(x_test_pred)\n",
    "print(submit)\n",
    "sample_submission[\"SalePrice\"]=submit\n",
    "\n",
    "df_submit = sample_submission\n",
    "df_submit.to_csv(\"/kaggle/working/submission.csv\",index=False)\n",
    "\n",
    "xgboost = sample_submission\n",
    "\"\"\""
   ]
  },
  {
   "cell_type": "code",
   "execution_count": 18,
   "id": "b0dfef74",
   "metadata": {
    "execution": {
     "iopub.execute_input": "2024-05-23T08:38:38.160416Z",
     "iopub.status.busy": "2024-05-23T08:38:38.159631Z",
     "iopub.status.idle": "2024-05-23T08:38:38.169591Z",
     "shell.execute_reply": "2024-05-23T08:38:38.168656Z"
    },
    "papermill": {
     "duration": 0.033675,
     "end_time": "2024-05-23T08:38:38.171822",
     "exception": false,
     "start_time": "2024-05-23T08:38:38.138147",
     "status": "completed"
    },
    "tags": []
   },
   "outputs": [
    {
     "data": {
      "text/plain": [
       "'\\n#categorical featureなし / optunaあり\\n\\ndf_submit = pd.DataFrame()\\ndf_submit.to_csv(\"/kaggle/working/submission.csv\",index=False)\\n\\nx_train_lgb, x_valid_lgb, y_train_lgb, y_valid_lgb = train_test_split(x_train, y_train, test_size=0.2, random_state=42)\\n\\ndef objective(trial):\\n\\n    params = {\\n        \\'objective\\': \\'regression\\',\\n        \\'metric\\': \\'rmse\\',\\n        \\'boosting\\': \\'gbdt\\',\\n        \\'max_depth\\':trial.suggest_int(\\'max_depth\\', 1, 10),\\n        \\'min_data_in_leaf\\':trial.suggest_int(\\'min_data_in_leaf\\', 1, 80),\\n        \\'learning_rate\\':trial.suggest_loguniform(\\'learning_rate\\', 0.001, 0.1),\\n        \\'lambda_l1\\': trial.suggest_loguniform(\\'lambda_l1\\', 1e-8, 10.0),\\n        \\'lambda_l2\\': trial.suggest_loguniform(\\'lambda_l2\\', 1e-8, 10.0),\\n        \\'num_leaves\\': trial.suggest_int(\\'num_leaves\\', 2, 512),\\n        \\'feature_fraction\\': trial.suggest_uniform(\\'feature_fraction\\', 0.4, 1.0),\\n        \\'bagging_fraction\\': trial.suggest_uniform(\\'bagging_fraction\\', 0.4, 1.0),\\n        \\'bagging_freq\\': trial.suggest_int(\\'bagging_freq\\', 0, 10),\\n        \\'min_child_samples\\': trial.suggest_int(\\'min_child_samples\\', 5, 100),\\n        \\'verbosity\\': -1,\\n        \\'random_state\\': 0,\\n    }\\n\\n\\n    lgb_train = lgb.Dataset(x_train_lgb,y_train_lgb)\\n    lgb_valid = lgb.Dataset(x_valid_lgb,y_valid_lgb)\\n\\n    gbm=lgb.train(\\n        params,\\n        lgb_train,\\n        valid_sets=[lgb_train, lgb_valid],\\n        valid_names=[\\'train\\', \\'valid\\'],\\n        num_boost_round=1000,\\n        callbacks=[lgb.early_stopping(100),lgb.log_evaluation(period=100)])\\n    \\n    y_prob = gbm.predict(x_valid_lgb)\\n    mse = mean_squared_error(y_valid_lgb,y_prob)\\n    rmse = np.sqrt(mse)\\n    return rmse\\n\\nstudy = optuna.create_study(direction=\"maximize\",sampler=optuna.samplers.TPESampler(seed=42))\\nstudy.optimize(objective, n_trials=100)\\nstudy.best_params\\n'"
      ]
     },
     "execution_count": 18,
     "metadata": {},
     "output_type": "execute_result"
    }
   ],
   "source": [
    "\"\"\"\n",
    "#categorical featureなし / optunaあり\n",
    "\n",
    "df_submit = pd.DataFrame()\n",
    "df_submit.to_csv(\"/kaggle/working/submission.csv\",index=False)\n",
    "\n",
    "x_train_lgb, x_valid_lgb, y_train_lgb, y_valid_lgb = train_test_split(x_train, y_train, test_size=0.2, random_state=42)\n",
    "\n",
    "def objective(trial):\n",
    "\n",
    "    params = {\n",
    "        'objective': 'regression',\n",
    "        'metric': 'rmse',\n",
    "        'boosting': 'gbdt',\n",
    "        'max_depth':trial.suggest_int('max_depth', 1, 10),\n",
    "        'min_data_in_leaf':trial.suggest_int('min_data_in_leaf', 1, 80),\n",
    "        'learning_rate':trial.suggest_loguniform('learning_rate', 0.001, 0.1),\n",
    "        'lambda_l1': trial.suggest_loguniform('lambda_l1', 1e-8, 10.0),\n",
    "        'lambda_l2': trial.suggest_loguniform('lambda_l2', 1e-8, 10.0),\n",
    "        'num_leaves': trial.suggest_int('num_leaves', 2, 512),\n",
    "        'feature_fraction': trial.suggest_uniform('feature_fraction', 0.4, 1.0),\n",
    "        'bagging_fraction': trial.suggest_uniform('bagging_fraction', 0.4, 1.0),\n",
    "        'bagging_freq': trial.suggest_int('bagging_freq', 0, 10),\n",
    "        'min_child_samples': trial.suggest_int('min_child_samples', 5, 100),\n",
    "        'verbosity': -1,\n",
    "        'random_state': 0,\n",
    "    }\n",
    "\n",
    "\n",
    "    lgb_train = lgb.Dataset(x_train_lgb,y_train_lgb)\n",
    "    lgb_valid = lgb.Dataset(x_valid_lgb,y_valid_lgb)\n",
    "\n",
    "    gbm=lgb.train(\n",
    "        params,\n",
    "        lgb_train,\n",
    "        valid_sets=[lgb_train, lgb_valid],\n",
    "        valid_names=['train', 'valid'],\n",
    "        num_boost_round=1000,\n",
    "        callbacks=[lgb.early_stopping(100),lgb.log_evaluation(period=100)])\n",
    "    \n",
    "    y_prob = gbm.predict(x_valid_lgb)\n",
    "    mse = mean_squared_error(y_valid_lgb,y_prob)\n",
    "    rmse = np.sqrt(mse)\n",
    "    return rmse\n",
    "\n",
    "study = optuna.create_study(direction=\"maximize\",sampler=optuna.samplers.TPESampler(seed=42))\n",
    "study.optimize(objective, n_trials=100)\n",
    "study.best_params\n",
    "\"\"\""
   ]
  },
  {
   "cell_type": "code",
   "execution_count": 19,
   "id": "66713a5b",
   "metadata": {
    "execution": {
     "iopub.execute_input": "2024-05-23T08:38:38.275301Z",
     "iopub.status.busy": "2024-05-23T08:38:38.274841Z",
     "iopub.status.idle": "2024-05-23T08:38:38.284277Z",
     "shell.execute_reply": "2024-05-23T08:38:38.282996Z"
    },
    "papermill": {
     "duration": 0.033391,
     "end_time": "2024-05-23T08:38:38.286726",
     "exception": false,
     "start_time": "2024-05-23T08:38:38.253335",
     "status": "completed"
    },
    "tags": []
   },
   "outputs": [
    {
     "data": {
      "text/plain": [
       "'\\n#optuna続き\\n\\ndf_submit = pd.DataFrame()\\ndf_submit.to_csv(\"/kaggle/working/submission.csv\",index=False)\\n\\nx_train_lgb, x_valid_lgb, y_train_lgb, y_valid_lgb = train_test_split(x_train, y_train, test_size=0.2, random_state=42)\\n\\nparams = {\\n    \\'objective\\': \\'regression\\',\\n    \\'metric\\': \\'rmse\\',\\n    \\'boosting\\': \\'gbdt\\',\\n    \\'max_depth\\':study.best_params[\"max_depth\"],\\n    \\'min_data_in_leaf\\':study.best_params[\"min_data_in_leaf\"],\\n    \\'learning_rate\\':study.best_params[\"learning_rate\"],\\n    \\'lambda_l1\\': study.best_params[\"lambda_l1\"],\\n    \\'lambda_l2\\': study.best_params[\"lambda_l2\"],\\n    \\'num_leaves\\': study.best_params[\"num_leaves\"],\\n    \\'feature_fraction\\': study.best_params[\"feature_fraction\"],\\n    \\'bagging_fraction\\': study.best_params[\"bagging_fraction\"],\\n    \\'bagging_freq\\': study.best_params[\"bagging_freq\"],\\n    \\'min_child_samples\\': study.best_params[\"min_child_samples\"],\\n    \\'verbosity\\': -1,\\n    \\'random_state\\': 0,\\n}\\n\\n\\nlgb_train = lgb.Dataset(x_train_lgb,y_train_lgb)\\nlgb_valid = lgb.Dataset(x_valid_lgb,y_valid_lgb)\\n\\ngbm=lgb.train(\\n    params,\\n    lgb_train,\\n    valid_sets=[lgb_train, lgb_valid],\\n    valid_names=[\\'train\\', \\'valid\\'],\\n    num_boost_round=1000,\\n    callbacks=[lgb.early_stopping(100),lgb.log_evaluation(period=100)])\\n\\ny_prob = gbm.predict(x_valid_lgb)\\nmse = mean_squared_error(y_valid_lgb,y_prob)\\nrmse = np.sqrt(mse)\\nprint(rmse)\\n\\nsubmit = gbm.predict(x_test)\\nprint(submit)\\nsample_submission[\"SalePrice\"]=submit\\ndf_submit = sample_submission\\ndf_submit.to_csv(\"/kaggle/working/submission.csv\",index=False)\\n'"
      ]
     },
     "execution_count": 19,
     "metadata": {},
     "output_type": "execute_result"
    }
   ],
   "source": [
    "\"\"\"\n",
    "#optuna続き\n",
    "\n",
    "df_submit = pd.DataFrame()\n",
    "df_submit.to_csv(\"/kaggle/working/submission.csv\",index=False)\n",
    "\n",
    "x_train_lgb, x_valid_lgb, y_train_lgb, y_valid_lgb = train_test_split(x_train, y_train, test_size=0.2, random_state=42)\n",
    "\n",
    "params = {\n",
    "    'objective': 'regression',\n",
    "    'metric': 'rmse',\n",
    "    'boosting': 'gbdt',\n",
    "    'max_depth':study.best_params[\"max_depth\"],\n",
    "    'min_data_in_leaf':study.best_params[\"min_data_in_leaf\"],\n",
    "    'learning_rate':study.best_params[\"learning_rate\"],\n",
    "    'lambda_l1': study.best_params[\"lambda_l1\"],\n",
    "    'lambda_l2': study.best_params[\"lambda_l2\"],\n",
    "    'num_leaves': study.best_params[\"num_leaves\"],\n",
    "    'feature_fraction': study.best_params[\"feature_fraction\"],\n",
    "    'bagging_fraction': study.best_params[\"bagging_fraction\"],\n",
    "    'bagging_freq': study.best_params[\"bagging_freq\"],\n",
    "    'min_child_samples': study.best_params[\"min_child_samples\"],\n",
    "    'verbosity': -1,\n",
    "    'random_state': 0,\n",
    "}\n",
    "\n",
    "\n",
    "lgb_train = lgb.Dataset(x_train_lgb,y_train_lgb)\n",
    "lgb_valid = lgb.Dataset(x_valid_lgb,y_valid_lgb)\n",
    "\n",
    "gbm=lgb.train(\n",
    "    params,\n",
    "    lgb_train,\n",
    "    valid_sets=[lgb_train, lgb_valid],\n",
    "    valid_names=['train', 'valid'],\n",
    "    num_boost_round=1000,\n",
    "    callbacks=[lgb.early_stopping(100),lgb.log_evaluation(period=100)])\n",
    "\n",
    "y_prob = gbm.predict(x_valid_lgb)\n",
    "mse = mean_squared_error(y_valid_lgb,y_prob)\n",
    "rmse = np.sqrt(mse)\n",
    "print(rmse)\n",
    "\n",
    "submit = gbm.predict(x_test)\n",
    "print(submit)\n",
    "sample_submission[\"SalePrice\"]=submit\n",
    "df_submit = sample_submission\n",
    "df_submit.to_csv(\"/kaggle/working/submission.csv\",index=False)\n",
    "\"\"\""
   ]
  },
  {
   "cell_type": "code",
   "execution_count": 20,
   "id": "5629b347",
   "metadata": {
    "execution": {
     "iopub.execute_input": "2024-05-23T08:38:38.331274Z",
     "iopub.status.busy": "2024-05-23T08:38:38.330817Z",
     "iopub.status.idle": "2024-05-23T08:38:38.339039Z",
     "shell.execute_reply": "2024-05-23T08:38:38.338143Z"
    },
    "papermill": {
     "duration": 0.033567,
     "end_time": "2024-05-23T08:38:38.341422",
     "exception": false,
     "start_time": "2024-05-23T08:38:38.307855",
     "status": "completed"
    },
    "tags": []
   },
   "outputs": [
    {
     "data": {
      "text/plain": [
       "'\\nsample_submission = pd.read_csv(\"/kaggle/input/house-prices-advanced-regression-techniques/sample_submission.csv\")\\n\\ndf_submit = pd.DataFrame()\\ndf_submit.to_csv(\"/kaggle/working/submission.csv\",index=False)\\n\\nsample_submission[\"SalePrice\"]=((rand[\"SalePrice\"]+xgboost[\"SalePrice\"]+lgb[\"SalePrice\"])/3)\\ndf_submit=sample_submission\\n\\ndf_submit.to_csv(\"/kaggle/working/submission.csv\",index=False)\\n'"
      ]
     },
     "execution_count": 20,
     "metadata": {},
     "output_type": "execute_result"
    }
   ],
   "source": [
    "\"\"\"\n",
    "sample_submission = pd.read_csv(\"/kaggle/input/house-prices-advanced-regression-techniques/sample_submission.csv\")\n",
    "\n",
    "df_submit = pd.DataFrame()\n",
    "df_submit.to_csv(\"/kaggle/working/submission.csv\",index=False)\n",
    "\n",
    "sample_submission[\"SalePrice\"]=((rand[\"SalePrice\"]+xgboost[\"SalePrice\"]+lgb[\"SalePrice\"])/3)\n",
    "df_submit=sample_submission\n",
    "\n",
    "df_submit.to_csv(\"/kaggle/working/submission.csv\",index=False)\n",
    "\"\"\""
   ]
  },
  {
   "cell_type": "code",
   "execution_count": 21,
   "id": "45f9fe82",
   "metadata": {
    "execution": {
     "iopub.execute_input": "2024-05-23T08:38:38.385624Z",
     "iopub.status.busy": "2024-05-23T08:38:38.385241Z",
     "iopub.status.idle": "2024-05-23T08:38:38.392517Z",
     "shell.execute_reply": "2024-05-23T08:38:38.391440Z"
    },
    "papermill": {
     "duration": 0.032374,
     "end_time": "2024-05-23T08:38:38.394862",
     "exception": false,
     "start_time": "2024-05-23T08:38:38.362488",
     "status": "completed"
    },
    "tags": []
   },
   "outputs": [
    {
     "data": {
      "text/plain": [
       "'\\n#Lidge回帰\\n\\n# 開始値（最小値）と終了値（最大値）を指定\\nstart_alpha = 0.000001\\nend_alpha = 100\\n\\n# 生成する値の個数を指定\\nnum_values = 20\\n\\n# 対数スケールでalphaの値を生成\\nalphas = np.logspace(np.log10(start_alpha), np.log10(end_alpha), num=num_values)\\n\\n# Ridge回帰モデルを作成\\nridge = Ridge()\\n\\n# グリッドサーチのパラメータグリッドを定義\\nparam_grid = {\\'alpha\\': alphas}\\n\\ndef rmse(y_true,y_pred):\\n    #RMSEを算出\\n    rmse = np.sqrt(mean_squared_error(y_true,y_pred))\\n    print(\\'rmse\\',rmse)\\n    return rmse\\n\\n# クロスバリデーションとグリッドサーチを組み合わせて最適なalphaを探索\\ngrid_search = GridSearchCV(ridge, param_grid, cv=5, scoring=rmse)\\ngrid_search.fit(x_train, y_train)\\n\\n# 最適なalphaを表示\\nbest_alpha = grid_search.best_params_[\\'alpha\\']\\nprint(f\"Best alpha: {best_alpha}\")\\n\\n# 最適なalphaでRidge回帰モデルを再訓練\\nmodel = Ridge(alpha=best_alpha).fit(x_train, y_train)\\n\\n# テストデータに対して予測を行い、exp(x) - 1を適用して元のスケールに戻す\\nsubmit = model.predict(x_test)\\nprint(submit)\\nsample_submission[\"SalePrice\"]=submit\\ndf_submit = sample_submission\\ndf_submit.to_csv(\"/kaggle/working/submission.csv\",index=False)\\n'"
      ]
     },
     "execution_count": 21,
     "metadata": {},
     "output_type": "execute_result"
    }
   ],
   "source": [
    "\"\"\"\n",
    "#Lidge回帰\n",
    "\n",
    "# 開始値（最小値）と終了値（最大値）を指定\n",
    "start_alpha = 0.000001\n",
    "end_alpha = 100\n",
    "\n",
    "# 生成する値の個数を指定\n",
    "num_values = 20\n",
    "\n",
    "# 対数スケールでalphaの値を生成\n",
    "alphas = np.logspace(np.log10(start_alpha), np.log10(end_alpha), num=num_values)\n",
    "\n",
    "# Ridge回帰モデルを作成\n",
    "ridge = Ridge()\n",
    "\n",
    "# グリッドサーチのパラメータグリッドを定義\n",
    "param_grid = {'alpha': alphas}\n",
    "\n",
    "def rmse(y_true,y_pred):\n",
    "    #RMSEを算出\n",
    "    rmse = np.sqrt(mean_squared_error(y_true,y_pred))\n",
    "    print('rmse',rmse)\n",
    "    return rmse\n",
    "\n",
    "# クロスバリデーションとグリッドサーチを組み合わせて最適なalphaを探索\n",
    "grid_search = GridSearchCV(ridge, param_grid, cv=5, scoring=rmse)\n",
    "grid_search.fit(x_train, y_train)\n",
    "\n",
    "# 最適なalphaを表示\n",
    "best_alpha = grid_search.best_params_['alpha']\n",
    "print(f\"Best alpha: {best_alpha}\")\n",
    "\n",
    "# 最適なalphaでRidge回帰モデルを再訓練\n",
    "model = Ridge(alpha=best_alpha).fit(x_train, y_train)\n",
    "\n",
    "# テストデータに対して予測を行い、exp(x) - 1を適用して元のスケールに戻す\n",
    "submit = model.predict(x_test)\n",
    "print(submit)\n",
    "sample_submission[\"SalePrice\"]=submit\n",
    "df_submit = sample_submission\n",
    "df_submit.to_csv(\"/kaggle/working/submission.csv\",index=False)\n",
    "\"\"\""
   ]
  },
  {
   "cell_type": "code",
   "execution_count": 22,
   "id": "4565b2ec",
   "metadata": {
    "execution": {
     "iopub.execute_input": "2024-05-23T08:38:38.439310Z",
     "iopub.status.busy": "2024-05-23T08:38:38.438862Z",
     "iopub.status.idle": "2024-05-23T08:38:38.447702Z",
     "shell.execute_reply": "2024-05-23T08:38:38.446491Z"
    },
    "papermill": {
     "duration": 0.034412,
     "end_time": "2024-05-23T08:38:38.450257",
     "exception": false,
     "start_time": "2024-05-23T08:38:38.415845",
     "status": "completed"
    },
    "tags": []
   },
   "outputs": [
    {
     "data": {
      "text/plain": [
       "'\\n#Lasso回帰\\n\\n# 開始値（最小値）と終了値（最大値）を指定\\nstart_alpha = 0.000001\\nend_alpha = 100\\n\\n# 生成する値の個数を指定\\nnum_values = 20\\n\\n# 対数スケールでalphaの値を生成\\nalphas = np.logspace(np.log10(start_alpha), np.log10(end_alpha), num=num_values)\\n\\n# Lasso回帰モデルを作成\\nlasso = Lasso()\\n\\n# グリッドサーチのパラメータグリッドを定義\\nparam_grid = {\\'alpha\\': alphas}\\n\\ndef rmse(y_true,y_pred):\\n    #RMSEを算出\\n    rmse = np.sqrt(mean_squared_error(y_true,y_pred))\\n    print(\\'rmse\\',rmse)\\n    return rmse\\n\\n# クロスバリデーションとグリッドサーチを組み合わせて最適なalphaを探索\\ngrid_search = GridSearchCV(lasso, param_grid, cv=5, scoring=rmse)\\ngrid_search.fit(x_train, y_train)\\n\\n# 最適なalphaを表示\\nbest_alpha = grid_search.best_params_[\\'alpha\\']\\nprint(f\"Best alpha: {best_alpha}\")\\n\\n# 最適なalphaでRidge回帰モデルを再訓練\\nmodel = Lasso(alpha=best_alpha).fit(x_train, y_train)\\n\\n# テストデータに対して予測を行い、exp(x) - 1を適用して元のスケールに戻す\\nsubmit = model.predict(x_test)\\nprint(submit)\\nsample_submission[\"SalePrice\"]=submit\\ndf_submit = sample_submission\\ndf_submit.to_csv(\"/kaggle/working/submission.csv\",index=False)\\n'"
      ]
     },
     "execution_count": 22,
     "metadata": {},
     "output_type": "execute_result"
    }
   ],
   "source": [
    "\"\"\"\n",
    "#Lasso回帰\n",
    "\n",
    "# 開始値（最小値）と終了値（最大値）を指定\n",
    "start_alpha = 0.000001\n",
    "end_alpha = 100\n",
    "\n",
    "# 生成する値の個数を指定\n",
    "num_values = 20\n",
    "\n",
    "# 対数スケールでalphaの値を生成\n",
    "alphas = np.logspace(np.log10(start_alpha), np.log10(end_alpha), num=num_values)\n",
    "\n",
    "# Lasso回帰モデルを作成\n",
    "lasso = Lasso()\n",
    "\n",
    "# グリッドサーチのパラメータグリッドを定義\n",
    "param_grid = {'alpha': alphas}\n",
    "\n",
    "def rmse(y_true,y_pred):\n",
    "    #RMSEを算出\n",
    "    rmse = np.sqrt(mean_squared_error(y_true,y_pred))\n",
    "    print('rmse',rmse)\n",
    "    return rmse\n",
    "\n",
    "# クロスバリデーションとグリッドサーチを組み合わせて最適なalphaを探索\n",
    "grid_search = GridSearchCV(lasso, param_grid, cv=5, scoring=rmse)\n",
    "grid_search.fit(x_train, y_train)\n",
    "\n",
    "# 最適なalphaを表示\n",
    "best_alpha = grid_search.best_params_['alpha']\n",
    "print(f\"Best alpha: {best_alpha}\")\n",
    "\n",
    "# 最適なalphaでRidge回帰モデルを再訓練\n",
    "model = Lasso(alpha=best_alpha).fit(x_train, y_train)\n",
    "\n",
    "# テストデータに対して予測を行い、exp(x) - 1を適用して元のスケールに戻す\n",
    "submit = model.predict(x_test)\n",
    "print(submit)\n",
    "sample_submission[\"SalePrice\"]=submit\n",
    "df_submit = sample_submission\n",
    "df_submit.to_csv(\"/kaggle/working/submission.csv\",index=False)\n",
    "\"\"\""
   ]
  },
  {
   "cell_type": "code",
   "execution_count": 23,
   "id": "f18d402b",
   "metadata": {
    "execution": {
     "iopub.execute_input": "2024-05-23T08:38:38.494508Z",
     "iopub.status.busy": "2024-05-23T08:38:38.494054Z",
     "iopub.status.idle": "2024-05-23T08:39:31.892054Z",
     "shell.execute_reply": "2024-05-23T08:39:31.890590Z"
    },
    "papermill": {
     "duration": 53.423617,
     "end_time": "2024-05-23T08:39:31.895056",
     "exception": false,
     "start_time": "2024-05-23T08:38:38.471439",
     "status": "completed"
    },
    "tags": []
   },
   "outputs": [
    {
     "name": "stdout",
     "output_type": "stream",
     "text": [
      "Fitting 5 folds for each of 108 candidates, totalling 540 fits\n",
      "Best parameters found:  {'C': 100, 'epsilon': 1, 'gamma': 'auto'}\n",
      "Root Mean Squared Error: 83450.23026614275\n",
      "[161028.11031314 161028.11031314 161028.11031314 ... 161028.11031314\n",
      " 161028.11031314 161028.11031314]\n"
     ]
    }
   ],
   "source": [
    "#svr\n",
    "\n",
    "df_submit = pd.DataFrame()\n",
    "df_submit.to_csv(\"/kaggle/working/submission.csv\",index=False)\n",
    "\n",
    "x_train_svr, x_valid_svr, y_train_svr, y_valid_svr = train_test_split(x_train, y_train, test_size=0.2, random_state=0)\n",
    "#traintestsplitで0.5対0.95の割合で分割をする。\n",
    "\n",
    "scaler = StandardScaler()\n",
    "x_train_svr = scaler.fit_transform(x_train_svr)\n",
    "x_valid_svr = scaler.transform(x_valid_svr)\n",
    "\n",
    "# SVR モデルのインスタンスを作成\n",
    "svr = SVR(kernel='rbf')\n",
    "\n",
    "param_grid = {\n",
    "    'C': [0.001,0.01,0.1, 1, 10, 100],\n",
    "    'epsilon': [0.01, 0.1, 1],\n",
    "    'gamma': ['scale', 'auto',0.001,0.01,0.1,1] \n",
    "}\n",
    "\n",
    "grid_search = GridSearchCV(estimator=svr, param_grid=param_grid, cv=5, scoring='neg_mean_squared_error', verbose=1, n_jobs=-1)\n",
    "grid_search.fit(x_train_svr, y_train_svr)\n",
    "\n",
    "\n",
    "# 最適なハイパーパラメータを表示\n",
    "print(\"Best parameters found: \", grid_search.best_params_)\n",
    "\n",
    "# 最適なモデルで予測\n",
    "best_svr = grid_search.best_estimator_\n",
    "y_pred = best_svr.predict(x_valid_svr)\n",
    "\n",
    "# モデルの評価\n",
    "mse = mean_squared_error(y_valid_svr, y_pred)\n",
    "rmse = np.sqrt(mse)\n",
    "\n",
    "print(f'Root Mean Squared Error: {rmse}')\n",
    "\n",
    "submit = best_svr.predict(x_test)\n",
    "print(submit)\n",
    "sample_submission[\"SalePrice\"]=submit\n",
    "df_submit = sample_submission\n",
    "df_submit.to_csv(\"/kaggle/working/submission.csv\",index=False)"
   ]
  },
  {
   "cell_type": "code",
   "execution_count": null,
   "id": "40357361",
   "metadata": {
    "papermill": {
     "duration": 0.022873,
     "end_time": "2024-05-23T08:39:31.940326",
     "exception": false,
     "start_time": "2024-05-23T08:39:31.917453",
     "status": "completed"
    },
    "tags": []
   },
   "outputs": [],
   "source": []
  },
  {
   "cell_type": "code",
   "execution_count": null,
   "id": "fee10a0f",
   "metadata": {
    "papermill": {
     "duration": 0.021102,
     "end_time": "2024-05-23T08:39:31.982965",
     "exception": false,
     "start_time": "2024-05-23T08:39:31.961863",
     "status": "completed"
    },
    "tags": []
   },
   "outputs": [],
   "source": []
  },
  {
   "cell_type": "code",
   "execution_count": null,
   "id": "3e320e7d",
   "metadata": {
    "papermill": {
     "duration": 0.021921,
     "end_time": "2024-05-23T08:39:32.027245",
     "exception": false,
     "start_time": "2024-05-23T08:39:32.005324",
     "status": "completed"
    },
    "tags": []
   },
   "outputs": [],
   "source": []
  },
  {
   "cell_type": "code",
   "execution_count": null,
   "id": "9067f1e0",
   "metadata": {
    "papermill": {
     "duration": 0.022195,
     "end_time": "2024-05-23T08:39:32.072890",
     "exception": false,
     "start_time": "2024-05-23T08:39:32.050695",
     "status": "completed"
    },
    "tags": []
   },
   "outputs": [],
   "source": []
  },
  {
   "cell_type": "code",
   "execution_count": null,
   "id": "02f2c41d",
   "metadata": {
    "papermill": {
     "duration": 0.021908,
     "end_time": "2024-05-23T08:39:32.117701",
     "exception": false,
     "start_time": "2024-05-23T08:39:32.095793",
     "status": "completed"
    },
    "tags": []
   },
   "outputs": [],
   "source": []
  },
  {
   "cell_type": "code",
   "execution_count": null,
   "id": "76bcf8e7",
   "metadata": {
    "papermill": {
     "duration": 0.021295,
     "end_time": "2024-05-23T08:39:32.161135",
     "exception": false,
     "start_time": "2024-05-23T08:39:32.139840",
     "status": "completed"
    },
    "tags": []
   },
   "outputs": [],
   "source": []
  },
  {
   "cell_type": "code",
   "execution_count": null,
   "id": "5e9540a4",
   "metadata": {
    "papermill": {
     "duration": 0.021708,
     "end_time": "2024-05-23T08:39:32.204693",
     "exception": false,
     "start_time": "2024-05-23T08:39:32.182985",
     "status": "completed"
    },
    "tags": []
   },
   "outputs": [],
   "source": []
  },
  {
   "cell_type": "code",
   "execution_count": null,
   "id": "79ab45f8",
   "metadata": {
    "papermill": {
     "duration": 0.022837,
     "end_time": "2024-05-23T08:39:32.250485",
     "exception": false,
     "start_time": "2024-05-23T08:39:32.227648",
     "status": "completed"
    },
    "tags": []
   },
   "outputs": [],
   "source": []
  },
  {
   "cell_type": "code",
   "execution_count": null,
   "id": "c0b5e0e2",
   "metadata": {
    "papermill": {
     "duration": 0.023135,
     "end_time": "2024-05-23T08:39:32.296428",
     "exception": false,
     "start_time": "2024-05-23T08:39:32.273293",
     "status": "completed"
    },
    "tags": []
   },
   "outputs": [],
   "source": []
  },
  {
   "cell_type": "code",
   "execution_count": 24,
   "id": "ac2cbb11",
   "metadata": {
    "execution": {
     "iopub.execute_input": "2024-05-23T08:39:32.342096Z",
     "iopub.status.busy": "2024-05-23T08:39:32.341632Z",
     "iopub.status.idle": "2024-05-23T08:39:32.765789Z",
     "shell.execute_reply": "2024-05-23T08:39:32.764563Z"
    },
    "papermill": {
     "duration": 0.450933,
     "end_time": "2024-05-23T08:39:32.768916",
     "exception": false,
     "start_time": "2024-05-23T08:39:32.317983",
     "status": "completed"
    },
    "tags": []
   },
   "outputs": [
    {
     "data": {
      "text/plain": [
       "<Axes: xlabel='Exterior2nd', ylabel='count'>"
      ]
     },
     "execution_count": 24,
     "metadata": {},
     "output_type": "execute_result"
    },
    {
     "data": {
      "image/png": "[encoded data removed]",
      "text/plain": [
       "<Figure size 640x480 with 1 Axes>"
      ]
     },
     "metadata": {},
     "output_type": "display_data"
    }
   ],
   "source": [
    "sns.countplot(x=\"Exterior2nd\",data=data)"
   ]
  },
  {
   "cell_type": "code",
   "execution_count": null,
   "id": "c3def19f",
   "metadata": {
    "papermill": {
     "duration": 0.021778,
     "end_time": "2024-05-23T08:39:32.813552",
     "exception": false,
     "start_time": "2024-05-23T08:39:32.791774",
     "status": "completed"
    },
    "tags": []
   },
   "outputs": [],
   "source": []
  },
  {
   "cell_type": "code",
   "execution_count": null,
   "id": "58598441",
   "metadata": {
    "papermill": {
     "duration": 0.022937,
     "end_time": "2024-05-23T08:39:32.859782",
     "exception": false,
     "start_time": "2024-05-23T08:39:32.836845",
     "status": "completed"
    },
    "tags": []
   },
   "outputs": [],
   "source": []
  },
  {
   "cell_type": "code",
   "execution_count": null,
   "id": "7246813e",
   "metadata": {
    "papermill": {
     "duration": 0.021696,
     "end_time": "2024-05-23T08:39:32.904261",
     "exception": false,
     "start_time": "2024-05-23T08:39:32.882565",
     "status": "completed"
    },
    "tags": []
   },
   "outputs": [],
   "source": []
  },
  {
   "cell_type": "code",
   "execution_count": null,
   "id": "bd7f8ed2",
   "metadata": {
    "papermill": {
     "duration": 0.021937,
     "end_time": "2024-05-23T08:39:32.948853",
     "exception": false,
     "start_time": "2024-05-23T08:39:32.926916",
     "status": "completed"
    },
    "tags": []
   },
   "outputs": [],
   "source": []
  },
  {
   "cell_type": "code",
   "execution_count": null,
   "id": "9f1ad984",
   "metadata": {
    "papermill": {
     "duration": 0.021852,
     "end_time": "2024-05-23T08:39:32.992794",
     "exception": false,
     "start_time": "2024-05-23T08:39:32.970942",
     "status": "completed"
    },
    "tags": []
   },
   "outputs": [],
   "source": []
  },
  {
   "cell_type": "code",
   "execution_count": null,
   "id": "a49153ad",
   "metadata": {
    "papermill": {
     "duration": 0.022982,
     "end_time": "2024-05-23T08:39:33.039264",
     "exception": false,
     "start_time": "2024-05-23T08:39:33.016282",
     "status": "completed"
    },
    "tags": []
   },
   "outputs": [],
   "source": []
  },
  {
   "cell_type": "code",
   "execution_count": null,
   "id": "3fae6423",
   "metadata": {
    "papermill": {
     "duration": 0.023408,
     "end_time": "2024-05-23T08:39:33.084874",
     "exception": false,
     "start_time": "2024-05-23T08:39:33.061466",
     "status": "completed"
    },
    "tags": []
   },
   "outputs": [],
   "source": []
  },
  {
   "cell_type": "code",
   "execution_count": null,
   "id": "e92a60fd",
   "metadata": {
    "papermill": {
     "duration": 0.021881,
     "end_time": "2024-05-23T08:39:33.128908",
     "exception": false,
     "start_time": "2024-05-23T08:39:33.107027",
     "status": "completed"
    },
    "tags": []
   },
   "outputs": [],
   "source": []
  },
  {
   "cell_type": "code",
   "execution_count": null,
   "id": "6cd86c80",
   "metadata": {
    "papermill": {
     "duration": 0.022781,
     "end_time": "2024-05-23T08:39:33.174012",
     "exception": false,
     "start_time": "2024-05-23T08:39:33.151231",
     "status": "completed"
    },
    "tags": []
   },
   "outputs": [],
   "source": []
  },
  {
   "cell_type": "code",
   "execution_count": null,
   "id": "5b7ff417",
   "metadata": {
    "papermill": {
     "duration": 0.023428,
     "end_time": "2024-05-23T08:39:33.220513",
     "exception": false,
     "start_time": "2024-05-23T08:39:33.197085",
     "status": "completed"
    },
    "tags": []
   },
   "outputs": [],
   "source": []
  },
  {
   "cell_type": "code",
   "execution_count": null,
   "id": "61ea49f4",
   "metadata": {
    "papermill": {
     "duration": 0.022632,
     "end_time": "2024-05-23T08:39:33.266497",
     "exception": false,
     "start_time": "2024-05-23T08:39:33.243865",
     "status": "completed"
    },
    "tags": []
   },
   "outputs": [],
   "source": []
  },
  {
   "cell_type": "code",
   "execution_count": null,
   "id": "e2979d95",
   "metadata": {
    "papermill": {
     "duration": 0.023848,
     "end_time": "2024-05-23T08:39:33.313649",
     "exception": false,
     "start_time": "2024-05-23T08:39:33.289801",
     "status": "completed"
    },
    "tags": []
   },
   "outputs": [],
   "source": []
  },
  {
   "cell_type": "code",
   "execution_count": null,
   "id": "ea6fd94e",
   "metadata": {
    "papermill": {
     "duration": 0.022003,
     "end_time": "2024-05-23T08:39:33.359643",
     "exception": false,
     "start_time": "2024-05-23T08:39:33.337640",
     "status": "completed"
    },
    "tags": []
   },
   "outputs": [],
   "source": []
  },
  {
   "cell_type": "code",
   "execution_count": null,
   "id": "734e3674",
   "metadata": {
    "papermill": {
     "duration": 0.021821,
     "end_time": "2024-05-23T08:39:33.403576",
     "exception": false,
     "start_time": "2024-05-23T08:39:33.381755",
     "status": "completed"
    },
    "tags": []
   },
   "outputs": [],
   "source": []
  },
  {
   "cell_type": "code",
   "execution_count": null,
   "id": "2da0cd0f",
   "metadata": {
    "papermill": {
     "duration": 0.022319,
     "end_time": "2024-05-23T08:39:33.448785",
     "exception": false,
     "start_time": "2024-05-23T08:39:33.426466",
     "status": "completed"
    },
    "tags": []
   },
   "outputs": [],
   "source": []
  },
  {
   "cell_type": "code",
   "execution_count": null,
   "id": "0cbd10c5",
   "metadata": {
    "papermill": {
     "duration": 0.021874,
     "end_time": "2024-05-23T08:39:33.492698",
     "exception": false,
     "start_time": "2024-05-23T08:39:33.470824",
     "status": "completed"
    },
    "tags": []
   },
   "outputs": [],
   "source": []
  },
  {
   "cell_type": "code",
   "execution_count": null,
   "id": "b57be5e1",
   "metadata": {
    "papermill": {
     "duration": 0.022987,
     "end_time": "2024-05-23T08:39:33.538442",
     "exception": false,
     "start_time": "2024-05-23T08:39:33.515455",
     "status": "completed"
    },
    "tags": []
   },
   "outputs": [],
   "source": []
  },
  {
   "cell_type": "code",
   "execution_count": null,
   "id": "c25d4c5a",
   "metadata": {
    "papermill": {
     "duration": 0.022179,
     "end_time": "2024-05-23T08:39:33.584573",
     "exception": false,
     "start_time": "2024-05-23T08:39:33.562394",
     "status": "completed"
    },
    "tags": []
   },
   "outputs": [],
   "source": []
  },
  {
   "cell_type": "code",
   "execution_count": null,
   "id": "c11c953a",
   "metadata": {
    "papermill": {
     "duration": 0.025886,
     "end_time": "2024-05-23T08:39:33.634077",
     "exception": false,
     "start_time": "2024-05-23T08:39:33.608191",
     "status": "completed"
    },
    "tags": []
   },
   "outputs": [],
   "source": []
  },
  {
   "cell_type": "code",
   "execution_count": null,
   "id": "3ace9027",
   "metadata": {
    "papermill": {
     "duration": 0.023591,
     "end_time": "2024-05-23T08:39:33.681261",
     "exception": false,
     "start_time": "2024-05-23T08:39:33.657670",
     "status": "completed"
    },
    "tags": []
   },
   "outputs": [],
   "source": []
  },
  {
   "cell_type": "code",
   "execution_count": null,
   "id": "11412183",
   "metadata": {
    "papermill": {
     "duration": 0.022781,
     "end_time": "2024-05-23T08:39:33.726856",
     "exception": false,
     "start_time": "2024-05-23T08:39:33.704075",
     "status": "completed"
    },
    "tags": []
   },
   "outputs": [],
   "source": []
  },
  {
   "cell_type": "code",
   "execution_count": null,
   "id": "0a6310bc",
   "metadata": {
    "papermill": {
     "duration": 0.021765,
     "end_time": "2024-05-23T08:39:33.771504",
     "exception": false,
     "start_time": "2024-05-23T08:39:33.749739",
     "status": "completed"
    },
    "tags": []
   },
   "outputs": [],
   "source": []
  },
  {
   "cell_type": "code",
   "execution_count": null,
   "id": "a23ec73d",
   "metadata": {
    "papermill": {
     "duration": 0.021723,
     "end_time": "2024-05-23T08:39:33.815398",
     "exception": false,
     "start_time": "2024-05-23T08:39:33.793675",
     "status": "completed"
    },
    "tags": []
   },
   "outputs": [],
   "source": []
  },
  {
   "cell_type": "code",
   "execution_count": null,
   "id": "ec4313a0",
   "metadata": {
    "papermill": {
     "duration": 0.021698,
     "end_time": "2024-05-23T08:39:33.859548",
     "exception": false,
     "start_time": "2024-05-23T08:39:33.837850",
     "status": "completed"
    },
    "tags": []
   },
   "outputs": [],
   "source": []
  },
  {
   "cell_type": "code",
   "execution_count": null,
   "id": "5a185236",
   "metadata": {
    "papermill": {
     "duration": 0.022068,
     "end_time": "2024-05-23T08:39:33.904307",
     "exception": false,
     "start_time": "2024-05-23T08:39:33.882239",
     "status": "completed"
    },
    "tags": []
   },
   "outputs": [],
   "source": []
  },
  {
   "cell_type": "code",
   "execution_count": null,
   "id": "129c006b",
   "metadata": {
    "papermill": {
     "duration": 0.021684,
     "end_time": "2024-05-23T08:39:33.948554",
     "exception": false,
     "start_time": "2024-05-23T08:39:33.926870",
     "status": "completed"
    },
    "tags": []
   },
   "outputs": [],
   "source": []
  },
  {
   "cell_type": "code",
   "execution_count": null,
   "id": "9dd5f1a6",
   "metadata": {
    "papermill": {
     "duration": 0.023018,
     "end_time": "2024-05-23T08:39:33.993506",
     "exception": false,
     "start_time": "2024-05-23T08:39:33.970488",
     "status": "completed"
    },
    "tags": []
   },
   "outputs": [],
   "source": []
  }
 ],
 "metadata": {
  "kaggle": {
   "accelerator": "none",
   "dataSources": [
    {
     "databundleVersionId": 868283,
     "sourceId": 5407,
     "sourceType": "competition"
    }
   ],
   "dockerImageVersionId": 30698,
   "isGpuEnabled": false,
   "isInternetEnabled": true,
   "language": "python",
   "sourceType": "notebook"
  },
  "kernelspec": {
   "display_name": "Python 3",
   "language": "python",
   "name": "python3"
  },
  "language_info": {
   "codemirror_mode": {
    "name": "ipython",
    "version": 3
   },
   "file_extension": ".py",
   "mimetype": "text/x-python",
   "name": "python",
   "nbconvert_exporter": "python",
   "pygments_lexer": "ipython3",
   "version": "3.10.13"
  },
  "papermill": {
   "default_parameters": {},
   "duration": 69.637501,
   "end_time": "2024-05-23T08:39:36.638031",
   "environment_variables": {},
   "exception": null,
   "input_path": "__notebook__.ipynb",
   "output_path": "__notebook__.ipynb",
   "parameters": {},
   "start_time": "2024-05-23T08:38:27.000530",
   "version": "2.5.0"
  }
 },
 "nbformat": 4,
 "nbformat_minor": 5
}
